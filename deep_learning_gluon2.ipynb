{
  "nbformat": 4,
  "nbformat_minor": 0,
  "metadata": {
    "colab": {
      "name": "deep_learning_gluon2.ipynb",
      "provenance": [],
      "collapsed_sections": []
    },
    "kernelspec": {
      "name": "python3",
      "display_name": "Python 3"
    }
  },
  "cells": [
    {
      "cell_type": "markdown",
      "metadata": {
        "id": "RO-RLGvJ59NX",
        "colab_type": "text"
      },
      "source": [
        "\n",
        "Installation of gluonts + other libraries\n"
      ]
    },
    {
      "cell_type": "code",
      "metadata": {
        "id": "RmOlKjR2UfQG",
        "colab_type": "code",
        "outputId": "e9990430-1f4c-4ab7-e11c-7b51dd5c56c6",
        "colab": {
          "base_uri": "https://localhost:8080/",
          "height": 534
        }
      },
      "source": [
        "#!pip install mxnet\n",
        "pip install gluonts"
      ],
      "execution_count": 4,
      "outputs": [
        {
          "output_type": "stream",
          "text": [
            "Collecting gluonts\n",
            "\u001b[?25l  Downloading https://files.pythonhosted.org/packages/c2/07/5a63f7d645761982743d375fc816120b680e0de13ac139829e509b3206fc/gluonts-0.5.0-py3-none-any.whl (419kB)\n",
            "\u001b[K     |████████████████████████████████| 419kB 2.7MB/s \n",
            "\u001b[?25hRequirement already satisfied: numpy~=1.16 in /usr/local/lib/python3.6/dist-packages (from gluonts) (1.18.4)\n",
            "Requirement already satisfied: matplotlib~=3.0 in /usr/local/lib/python3.6/dist-packages (from gluonts) (3.2.1)\n",
            "Collecting pydantic~=1.1\n",
            "\u001b[?25l  Downloading https://files.pythonhosted.org/packages/57/c9/7d664fbe54863b92cea790c7305915888c2f13a68a754893d8291bab0d0d/pydantic-1.5.1-cp36-cp36m-manylinux2014_x86_64.whl (7.4MB)\n",
            "\u001b[K     |████████████████████████████████| 7.4MB 8.9MB/s \n",
            "\u001b[?25hRequirement already satisfied: holidays<0.10,>=0.9 in /usr/local/lib/python3.6/dist-packages (from gluonts) (0.9.12)\n",
            "Collecting ujson~=1.35\n",
            "\u001b[?25l  Downloading https://files.pythonhosted.org/packages/16/c4/79f3409bc710559015464e5f49b9879430d8f87498ecdc335899732e5377/ujson-1.35.tar.gz (192kB)\n",
            "\u001b[K     |████████████████████████████████| 194kB 46.8MB/s \n",
            "\u001b[?25hRequirement already satisfied: tqdm~=4.23 in /usr/local/lib/python3.6/dist-packages (from gluonts) (4.41.1)\n",
            "Requirement already satisfied: pandas~=1.0 in /usr/local/lib/python3.6/dist-packages (from gluonts) (1.0.3)\n",
            "Requirement already satisfied: pyparsing!=2.0.4,!=2.1.2,!=2.1.6,>=2.0.1 in /usr/local/lib/python3.6/dist-packages (from matplotlib~=3.0->gluonts) (2.4.7)\n",
            "Requirement already satisfied: kiwisolver>=1.0.1 in /usr/local/lib/python3.6/dist-packages (from matplotlib~=3.0->gluonts) (1.2.0)\n",
            "Requirement already satisfied: cycler>=0.10 in /usr/local/lib/python3.6/dist-packages (from matplotlib~=3.0->gluonts) (0.10.0)\n",
            "Requirement already satisfied: python-dateutil>=2.1 in /usr/local/lib/python3.6/dist-packages (from matplotlib~=3.0->gluonts) (2.8.1)\n",
            "Requirement already satisfied: dataclasses>=0.6; python_version < \"3.7\" in /usr/local/lib/python3.6/dist-packages (from pydantic~=1.1->gluonts) (0.7)\n",
            "Requirement already satisfied: six in /usr/local/lib/python3.6/dist-packages (from holidays<0.10,>=0.9->gluonts) (1.12.0)\n",
            "Requirement already satisfied: pytz>=2017.2 in /usr/local/lib/python3.6/dist-packages (from pandas~=1.0->gluonts) (2018.9)\n",
            "Building wheels for collected packages: ujson\n",
            "  Building wheel for ujson (setup.py) ... \u001b[?25l\u001b[?25hdone\n",
            "  Created wheel for ujson: filename=ujson-1.35-cp36-cp36m-linux_x86_64.whl size=68028 sha256=7e09fe9bdfbbd7817526d65adb57fcd045128ae32f47fd76c8c13d516affbe5d\n",
            "  Stored in directory: /root/.cache/pip/wheels/28/77/e4/0311145b9c2e2f01470e744855131f9e34d6919687550f87d1\n",
            "Successfully built ujson\n",
            "Installing collected packages: pydantic, ujson, gluonts\n",
            "Successfully installed gluonts-0.5.0 pydantic-1.5.1 ujson-1.35\n"
          ],
          "name": "stdout"
        }
      ]
    },
    {
      "cell_type": "code",
      "metadata": {
        "id": "svkE7cUyRome",
        "colab_type": "code",
        "outputId": "200da029-03a0-4654-d6d2-b1279d2bd925",
        "colab": {
          "base_uri": "https://localhost:8080/",
          "height": 196
        }
      },
      "source": [
        "pip install pydantic==1.4 #pip install pydantic==1.4"
      ],
      "execution_count": 5,
      "outputs": [
        {
          "output_type": "stream",
          "text": [
            "Collecting pydantic==1.4\n",
            "\u001b[?25l  Downloading https://files.pythonhosted.org/packages/be/9a/a2d9613a70051615a84df6e9d697aad9787ba978bdeb4ad46c754457b3e1/pydantic-1.4-cp36-cp36m-manylinux2010_x86_64.whl (7.5MB)\n",
            "\u001b[K     |████████████████████████████████| 7.5MB 2.6MB/s \n",
            "\u001b[?25hRequirement already satisfied: dataclasses>=0.6; python_version < \"3.7\" in /usr/local/lib/python3.6/dist-packages (from pydantic==1.4) (0.7)\n",
            "Installing collected packages: pydantic\n",
            "  Found existing installation: pydantic 1.5.1\n",
            "    Uninstalling pydantic-1.5.1:\n",
            "      Successfully uninstalled pydantic-1.5.1\n",
            "Successfully installed pydantic-1.4\n"
          ],
          "name": "stdout"
        }
      ]
    },
    {
      "cell_type": "code",
      "metadata": {
        "id": "zOsQkEQqw9HK",
        "colab_type": "code",
        "outputId": "841e8ddb-9171-4419-fc44-2ddd1d2e6fb4",
        "colab": {
          "base_uri": "https://localhost:8080/",
          "height": 52
        }
      },
      "source": [
        "pip install python-dateutil==2.8.1"
      ],
      "execution_count": 6,
      "outputs": [
        {
          "output_type": "stream",
          "text": [
            "Requirement already satisfied: python-dateutil==2.8.1 in /usr/local/lib/python3.6/dist-packages (2.8.1)\n",
            "Requirement already satisfied: six>=1.5 in /usr/local/lib/python3.6/dist-packages (from python-dateutil==2.8.1) (1.12.0)\n"
          ],
          "name": "stdout"
        }
      ]
    },
    {
      "cell_type": "code",
      "metadata": {
        "id": "48TZIpOjh64v",
        "colab_type": "code",
        "colab": {}
      },
      "source": [
        "import gluonts\n",
        "import mxnet"
      ],
      "execution_count": 0,
      "outputs": []
    },
    {
      "cell_type": "code",
      "metadata": {
        "id": "r1fSU9E13fR5",
        "colab_type": "code",
        "outputId": "9ba4f089-6315-41b9-abd9-26c474da6300",
        "colab": {
          "base_uri": "https://localhost:8080/",
          "height": 125
        }
      },
      "source": [
        "from google.colab import drive\n",
        "drive.mount('/content/gdrive')"
      ],
      "execution_count": 8,
      "outputs": [
        {
          "output_type": "stream",
          "text": [
            "Go to this URL in a browser: https://accounts.google.com/o/oauth2/auth?client_id=947318989803-6bn6qk8qdgf4n4g3pfee6491hc0brc4i.apps.googleusercontent.com&redirect_uri=urn%3aietf%3awg%3aoauth%3a2.0%3aoob&response_type=code&scope=email%20https%3a%2f%2fwww.googleapis.com%2fauth%2fdocs.test%20https%3a%2f%2fwww.googleapis.com%2fauth%2fdrive%20https%3a%2f%2fwww.googleapis.com%2fauth%2fdrive.photos.readonly%20https%3a%2f%2fwww.googleapis.com%2fauth%2fpeopleapi.readonly\n",
            "\n",
            "Enter your authorization code:\n",
            "··········\n",
            "Mounted at /content/gdrive\n"
          ],
          "name": "stdout"
        }
      ]
    },
    {
      "cell_type": "code",
      "metadata": {
        "id": "5Vp7Bfqp336U",
        "colab_type": "code",
        "outputId": "4ac4d674-4683-410e-e00e-2fa337e2ec37",
        "colab": {
          "base_uri": "https://localhost:8080/",
          "height": 34
        }
      },
      "source": [
        "%cd '/content/gdrive/My Drive'\n"
      ],
      "execution_count": 117,
      "outputs": [
        {
          "output_type": "stream",
          "text": [
            "/content/gdrive/My Drive\n"
          ],
          "name": "stdout"
        }
      ]
    },
    {
      "cell_type": "code",
      "metadata": {
        "id": "G6qpSQU0kYsR",
        "colab_type": "code",
        "colab": {}
      },
      "source": [
        "tex = 'avgtexas_jan2020.csv'\n",
        "tex_dataset = pd.read_csv(tex)"
      ],
      "execution_count": 0,
      "outputs": []
    },
    {
      "cell_type": "code",
      "metadata": {
        "id": "ZZGWtx6OlKrk",
        "colab_type": "code",
        "colab": {}
      },
      "source": [
        "tex_dataset.head()\n",
        "tex_dataset= tex_dataset.rename(columns={\"realtime_lmp (avg) (ercot)\": \"iso\"})"
      ],
      "execution_count": 0,
      "outputs": []
    },
    {
      "cell_type": "code",
      "metadata": {
        "id": "g4BqstB3mdZp",
        "colab_type": "code",
        "colab": {}
      },
      "source": [
        "#normalize\n",
        "normalized_tex = tex_dataset\n",
        "texmax = tex_dataset['iso'].max()\n",
        "texmin = tex_dataset['iso'].min()\n",
        "\n",
        "normalized_tex['iso'] = (tex_dataset['iso'] - texmin)/(texmax - texmin)\n"
      ],
      "execution_count": 0,
      "outputs": []
    },
    {
      "cell_type": "code",
      "metadata": {
        "id": "-61FmVmqrSUT",
        "colab_type": "code",
        "colab": {}
      },
      "source": [
        ""
      ],
      "execution_count": 0,
      "outputs": []
    },
    {
      "cell_type": "code",
      "metadata": {
        "id": "WTmX69NMk3XE",
        "colab_type": "code",
        "colab": {}
      },
      "source": [
        "\"\"\"import pandas as pd\n",
        "caiso_url = 'https://raw.githubusercontent.com/sy2657/representation_learning/master/caiso_jan2020_systemloadresource_tacnorth.csv'\n",
        "caiso_dataset = pd.read_csv(caiso_url)\"\"\""
      ],
      "execution_count": 0,
      "outputs": []
    },
    {
      "cell_type": "code",
      "metadata": {
        "id": "j9tbzPgXlfGX",
        "colab_type": "code",
        "outputId": "73f6ced0-c2d2-4591-ffef-e80a2e7b9740",
        "colab": {
          "base_uri": "https://localhost:8080/",
          "height": 197
        }
      },
      "source": [
        "caiso_dataset.head()"
      ],
      "execution_count": 0,
      "outputs": [
        {
          "output_type": "execute_result",
          "data": {
            "text/html": [
              "<div>\n",
              "<style scoped>\n",
              "    .dataframe tbody tr th:only-of-type {\n",
              "        vertical-align: middle;\n",
              "    }\n",
              "\n",
              "    .dataframe tbody tr th {\n",
              "        vertical-align: top;\n",
              "    }\n",
              "\n",
              "    .dataframe thead th {\n",
              "        text-align: right;\n",
              "    }\n",
              "</style>\n",
              "<table border=\"1\" class=\"dataframe\">\n",
              "  <thead>\n",
              "    <tr style=\"text-align: right;\">\n",
              "      <th></th>\n",
              "      <th>DateTime</th>\n",
              "      <th>iso</th>\n",
              "    </tr>\n",
              "  </thead>\n",
              "  <tbody>\n",
              "    <tr>\n",
              "      <th>0</th>\n",
              "      <td>2020-01-01 00:00:00</td>\n",
              "      <td>9282</td>\n",
              "    </tr>\n",
              "    <tr>\n",
              "      <th>1</th>\n",
              "      <td>2020-01-01 01:00:00</td>\n",
              "      <td>8912</td>\n",
              "    </tr>\n",
              "    <tr>\n",
              "      <th>2</th>\n",
              "      <td>2020-01-01 02:00:00</td>\n",
              "      <td>8678</td>\n",
              "    </tr>\n",
              "    <tr>\n",
              "      <th>3</th>\n",
              "      <td>2020-01-01 03:00:00</td>\n",
              "      <td>8549</td>\n",
              "    </tr>\n",
              "    <tr>\n",
              "      <th>4</th>\n",
              "      <td>2020-01-01 04:00:00</td>\n",
              "      <td>8540</td>\n",
              "    </tr>\n",
              "  </tbody>\n",
              "</table>\n",
              "</div>"
            ],
            "text/plain": [
              "              DateTime   iso\n",
              "0  2020-01-01 00:00:00  9282\n",
              "1  2020-01-01 01:00:00  8912\n",
              "2  2020-01-01 02:00:00  8678\n",
              "3  2020-01-01 03:00:00  8549\n",
              "4  2020-01-01 04:00:00  8540"
            ]
          },
          "metadata": {
            "tags": []
          },
          "execution_count": 4
        }
      ]
    },
    {
      "cell_type": "code",
      "metadata": {
        "id": "7Fv1mwr9lZF9",
        "colab_type": "code",
        "outputId": "11e28483-bd33-4077-b5ed-7ae1b8da57aa",
        "colab": {
          "base_uri": "https://localhost:8080/",
          "height": 34
        }
      },
      "source": [
        "caiso_dataset['DateTime'][0]"
      ],
      "execution_count": 0,
      "outputs": [
        {
          "output_type": "execute_result",
          "data": {
            "text/plain": [
              "'2020-01-01 00:00:00'"
            ]
          },
          "metadata": {
            "tags": []
          },
          "execution_count": 4
        }
      ]
    },
    {
      "cell_type": "markdown",
      "metadata": {
        "id": "Um4nV-rG6EtK",
        "colab_type": "text"
      },
      "source": [
        "Australian smart city dataset: "
      ]
    },
    {
      "cell_type": "code",
      "metadata": {
        "id": "Xaqn7a_14Fja",
        "colab_type": "code",
        "colab": {}
      },
      "source": [
        "import csv\n",
        "row_num = 0\n",
        "\n",
        "watts = []\n",
        "time_stamps =[]\n",
        "\n",
        "with open('CD_INTERVAL_READING_ALL_NO_QUOTES.csv', newline='') as csvfile:\n",
        "  reader = csv.reader(csvfile, delimiter=' ')\n",
        "  for row in reader:\n",
        "    row_num = row_num+1\n",
        "    #print(row[0])\n",
        "    sdata = row[1]\n",
        "    tsplit = sdata.split(',')\n",
        "    if row_num==1:\n",
        "      continue\n",
        "    #print(row[1])\n",
        "    #print(tsplit[3])\n",
        "    ntsplit = float(tsplit[3])\n",
        "    watts.append(ntsplit)\n",
        "    time_stamps.append(tsplit[0])\n",
        "    #print(row[2])\n",
        "    #print(row[3])\n",
        "    #print(row[4])\n",
        "    if row_num > 80000:\n",
        "      break"
      ],
      "execution_count": 0,
      "outputs": []
    },
    {
      "cell_type": "markdown",
      "metadata": {
        "id": "xJRpz49Nkr9b",
        "colab_type": "text"
      },
      "source": [
        "Part A: hierarchical time series on hierarchy given by region (in CA) "
      ]
    },
    {
      "cell_type": "code",
      "metadata": {
        "id": "lSJmMeqcO6Ch",
        "colab_type": "code",
        "colab": {}
      },
      "source": [
        "import pandas as pd\n",
        "# multiple regions\n",
        "rfile = 'CaFeb2020DemandzonesCaNevpPace.csv'\n",
        "reg_dataset = pd.read_csv(rfile) "
      ],
      "execution_count": 0,
      "outputs": []
    },
    {
      "cell_type": "code",
      "metadata": {
        "id": "drSkX2idhSbl",
        "colab_type": "code",
        "colab": {}
      },
      "source": [
        "reg_dataset.head()\n",
        "\n",
        "reg_dataset = reg_dataset.rename(columns={\"demand_forecast (CA ISO-TAC) (california_iso)\": \"CAISOTAC\", \"demand_forecast (NEVP) (california_iso)\":\"NEVP\", \"demand_forecast (PACE) (california_iso)\":\"PACE\"})\n"
      ],
      "execution_count": 0,
      "outputs": []
    },
    {
      "cell_type": "code",
      "metadata": {
        "id": "tbK1jDmVRTPG",
        "colab_type": "code",
        "colab": {}
      },
      "source": [
        "# bottom up procedure"
      ],
      "execution_count": 0,
      "outputs": []
    },
    {
      "cell_type": "code",
      "metadata": {
        "id": "BzTIcIGxRVaP",
        "colab_type": "code",
        "colab": {}
      },
      "source": [
        "# top down procedure\n",
        "# proportions  : calculate avg proportion\n",
        "ratio1 = 1 # CAISO : NEVP\n",
        "ratio2 = 1 # CAISO: PACE\n",
        "arrayratio1 = []\n",
        "arrayratio2 = []\n",
        "\n",
        "# top down: column with sum of other columns\n",
        "columnsum=[]\n",
        "\n",
        "for index, row in reg_dataset.iterrows():\n",
        "  caisotac= row['CAISOTAC']\n",
        "  nevp = row['NEVP']\n",
        "  pace = row['PACE']\n",
        "  arrayratio1.append(float(caisotac/nevp))\n",
        "  arrayratio2.append(float(caisotac/pace))\n",
        "  allthree= float(caisotac)+ float(nevp) + float(pace)\n",
        "  columnsum.append(allthree)\n",
        "\n",
        "reg_dataset['allsum'] = columnsum\n",
        "\n",
        "#ratio1 = np.mean(arrayratio1)"
      ],
      "execution_count": 0,
      "outputs": []
    },
    {
      "cell_type": "code",
      "metadata": {
        "id": "EDNeAoNggCRq",
        "colab_type": "code",
        "colab": {}
      },
      "source": [
        "# ratio for top down\n",
        "import numpy as np\n",
        "ratio1 = np.mean(arrayratio1)\n",
        "ratio2 = np.mean(arrayratio2)"
      ],
      "execution_count": 0,
      "outputs": []
    },
    {
      "cell_type": "code",
      "metadata": {
        "id": "rDPUvzcvhweW",
        "colab_type": "code",
        "colab": {}
      },
      "source": [
        "from gluonts.dataset.common import ListDataset\n",
        "\n",
        "datetime0 = reg_dataset['DateTime'][0]\n",
        "# train data sets \n",
        "# for topdown\n",
        "regtraining = ListDataset(\n",
        "    [{\"start\": datetime0, \"target\": reg_dataset.allsum.values}], freq = \"1H\")\n",
        "\n",
        "# for bottom up \n",
        "caisotactraining = ListDataset(\n",
        "    [{\"start\": datetime0, \"target\": reg_dataset.CAISOTAC.values}], freq = \"1H\")\n",
        "nevptraining = ListDataset(\n",
        "    [{\"start\": datetime0, \"target\": reg_dataset.NEVP.values}], freq = \"1H\")\n",
        "\n",
        "pacetraining = ListDataset(\n",
        "    [{\"start\": datetime0, \"target\": reg_dataset.PACE.values}], freq = \"1H\")\n"
      ],
      "execution_count": 0,
      "outputs": []
    },
    {
      "cell_type": "code",
      "metadata": {
        "id": "w126qiYYkpde",
        "colab_type": "code",
        "colab": {}
      },
      "source": [
        "\n",
        "# test data sets \n",
        "# choose starting index and ending index\n",
        "test1 = 100\n",
        "test2 = 200\n",
        "regtestdata =reg_dataset[test1:test2]\n",
        "\n",
        "testdatetime0 = regtestdata['DateTime'][test1]\n",
        "\n",
        "regtesting = ListDataset([{\"start\": testdatetime0, \"target\":regtestdata.allsum.values}], freq=\"1H\")\n",
        "\n",
        "caisotactesting = ListDataset([{\"start\": testdatetime0, \"target\":regtestdata.CAISOTAC.values}], freq=\"1H\")\n",
        "nevptesting =ListDataset([{\"start\": testdatetime0, \"target\":regtestdata.NEVP.values}], freq=\"1H\")\n",
        "pacetesting = ListDataset([{\"start\": testdatetime0, \"target\":regtestdata.PACE.values}], freq=\"1H\")"
      ],
      "execution_count": 0,
      "outputs": []
    },
    {
      "cell_type": "code",
      "metadata": {
        "id": "nzgNn6XepZPx",
        "colab_type": "code",
        "colab": {
          "base_uri": "https://localhost:8080/",
          "height": 34
        },
        "outputId": "ff1b0993-4fa8-4322-cc86-a0b60952b795"
      },
      "source": [
        "ratio2"
      ],
      "execution_count": 25,
      "outputs": [
        {
          "output_type": "execute_result",
          "data": {
            "text/plain": [
              "4.2572290368151915"
            ]
          },
          "metadata": {
            "tags": []
          },
          "execution_count": 25
        }
      ]
    },
    {
      "cell_type": "code",
      "metadata": {
        "id": "wcVHUvE7f5TA",
        "colab_type": "code",
        "colab": {}
      },
      "source": [
        "# use model to predict and then aggregate (bottom up) / disaggregate (top down)\n",
        "\n",
        "from gluonts.model.simple_feedforward import SimpleFeedForwardEstimator\n",
        "from gluonts.trainer import Trainer\n",
        "\n",
        "estimator_simple = SimpleFeedForwardEstimator(\n",
        "    prediction_length = 30,\n",
        "    context_length = 100,\n",
        "    freq=\"1H\",\n",
        "    trainer= Trainer(ctx=\"cpu\", epochs=5, learning_rate=1e-3, hybridize=True, num_batches_per_epoch=50)\n",
        ")\n"
      ],
      "execution_count": 0,
      "outputs": []
    },
    {
      "cell_type": "code",
      "metadata": {
        "id": "6W2Dmmn9deiZ",
        "colab_type": "code",
        "colab": {
          "base_uri": "https://localhost:8080/",
          "height": 123
        },
        "outputId": "3f4b2c7e-6c91-48e8-c950-48988aa3b493"
      },
      "source": [
        "# top down\n",
        "# column with sum of other columns\n",
        "predictor_simple = estimator_simple.train(regtraining) # training_data_caiso\n"
      ],
      "execution_count": 26,
      "outputs": [
        {
          "output_type": "stream",
          "text": [
            "\r  0%|          | 0/50 [00:00<?, ?it/s]"
          ],
          "name": "stderr"
        },
        {
          "output_type": "stream",
          "text": [
            "learning rate from ``lr_scheduler`` has been overwritten by ``learning_rate`` in optimizer.\n"
          ],
          "name": "stdout"
        },
        {
          "output_type": "stream",
          "text": [
            "100%|██████████| 50/50 [00:00<00:00, 121.84it/s, epoch=1/5, avg_epoch_loss=10.5]\n",
            "100%|██████████| 50/50 [00:00<00:00, 140.45it/s, epoch=2/5, avg_epoch_loss=9.47]\n",
            "100%|██████████| 50/50 [00:00<00:00, 139.05it/s, epoch=3/5, avg_epoch_loss=9.39]\n",
            "100%|██████████| 50/50 [00:00<00:00, 142.39it/s, epoch=4/5, avg_epoch_loss=9.22]\n",
            "100%|██████████| 50/50 [00:00<00:00, 139.80it/s, epoch=5/5, avg_epoch_loss=9.17]\n"
          ],
          "name": "stderr"
        }
      ]
    },
    {
      "cell_type": "code",
      "metadata": {
        "id": "Jkr-kBi_dfde",
        "colab_type": "code",
        "colab": {
          "base_uri": "https://localhost:8080/",
          "height": 336
        },
        "outputId": "0c42ff06-c085-4ecc-9232-6f16da00a3db"
      },
      "source": [
        "# bottom up\n",
        "predictor_simple1 = estimator_simple.train(caisotactraining) # training_data_caiso\n",
        "predictor_simple2 = estimator_simple.train(nevptraining) # training_data_caiso\n",
        "\n",
        "predictor_simple3 = estimator_simple.train(pacetraining) # training_data_caiso\n"
      ],
      "execution_count": 27,
      "outputs": [
        {
          "output_type": "stream",
          "text": [
            "\r  0%|          | 0/50 [00:00<?, ?it/s]"
          ],
          "name": "stderr"
        },
        {
          "output_type": "stream",
          "text": [
            "learning rate from ``lr_scheduler`` has been overwritten by ``learning_rate`` in optimizer.\n"
          ],
          "name": "stdout"
        },
        {
          "output_type": "stream",
          "text": [
            "100%|██████████| 50/50 [00:00<00:00, 129.50it/s, epoch=1/5, avg_epoch_loss=10.1]\n",
            "100%|██████████| 50/50 [00:00<00:00, 143.50it/s, epoch=2/5, avg_epoch_loss=9.24]\n",
            "100%|██████████| 50/50 [00:00<00:00, 138.35it/s, epoch=3/5, avg_epoch_loss=9.05]\n",
            "100%|██████████| 50/50 [00:00<00:00, 143.11it/s, epoch=4/5, avg_epoch_loss=8.96]\n",
            "100%|██████████| 50/50 [00:00<00:00, 137.73it/s, epoch=5/5, avg_epoch_loss=8.85]\n",
            "  0%|          | 0/50 [00:00<?, ?it/s]"
          ],
          "name": "stderr"
        },
        {
          "output_type": "stream",
          "text": [
            "learning rate from ``lr_scheduler`` has been overwritten by ``learning_rate`` in optimizer.\n"
          ],
          "name": "stdout"
        },
        {
          "output_type": "stream",
          "text": [
            "100%|██████████| 50/50 [00:00<00:00, 132.16it/s, epoch=1/5, avg_epoch_loss=8.21]\n",
            "100%|██████████| 50/50 [00:00<00:00, 142.90it/s, epoch=2/5, avg_epoch_loss=7.03]\n",
            "100%|██████████| 50/50 [00:00<00:00, 147.70it/s, epoch=3/5, avg_epoch_loss=6.91]\n",
            "100%|██████████| 50/50 [00:00<00:00, 135.96it/s, epoch=4/5, avg_epoch_loss=6.83]\n",
            "100%|██████████| 50/50 [00:00<00:00, 139.23it/s, epoch=5/5, avg_epoch_loss=6.8]\n",
            "  0%|          | 0/50 [00:00<?, ?it/s]"
          ],
          "name": "stderr"
        },
        {
          "output_type": "stream",
          "text": [
            "learning rate from ``lr_scheduler`` has been overwritten by ``learning_rate`` in optimizer.\n"
          ],
          "name": "stdout"
        },
        {
          "output_type": "stream",
          "text": [
            "100%|██████████| 50/50 [00:00<00:00, 134.38it/s, epoch=1/5, avg_epoch_loss=8.74]\n",
            "100%|██████████| 50/50 [00:00<00:00, 142.06it/s, epoch=2/5, avg_epoch_loss=7.56]\n",
            "100%|██████████| 50/50 [00:00<00:00, 143.67it/s, epoch=3/5, avg_epoch_loss=7.41]\n",
            "100%|██████████| 50/50 [00:00<00:00, 145.05it/s, epoch=4/5, avg_epoch_loss=7.31]\n",
            "100%|██████████| 50/50 [00:00<00:00, 144.68it/s, epoch=5/5, avg_epoch_loss=7.22]\n"
          ],
          "name": "stderr"
        }
      ]
    },
    {
      "cell_type": "code",
      "metadata": {
        "id": "KkdBnj-6m_us",
        "colab_type": "code",
        "colab": {}
      },
      "source": [
        "from gluonts.evaluation.backtest import make_evaluation_predictions\n",
        "\n",
        "forecast_sim, ts_sim = make_evaluation_predictions(dataset=regtesting, predictor=predictor_simple, num_samples=10)"
      ],
      "execution_count": 0,
      "outputs": []
    },
    {
      "cell_type": "code",
      "metadata": {
        "id": "VYdp51NAwiY9",
        "colab_type": "code",
        "colab": {}
      },
      "source": [
        "# bottom up \n",
        "forecast_sim1, ts_sim1 = make_evaluation_predictions(dataset=caisotactesting, predictor=predictor_simple1, num_samples=10)\n",
        "\n",
        "forecast_sim2, ts_sim2 = make_evaluation_predictions(dataset=nevptesting, predictor=predictor_simple2, num_samples=10)\n",
        "\n",
        "forecast_sim3, ts_sim3 = make_evaluation_predictions(dataset=pacetesting, predictor=predictor_simple3, num_samples=10)\n"
      ],
      "execution_count": 0,
      "outputs": []
    },
    {
      "cell_type": "code",
      "metadata": {
        "id": "ts30zb6InPIt",
        "colab_type": "code",
        "colab": {
          "base_uri": "https://localhost:8080/",
          "height": 450
        },
        "outputId": "a21eb22f-79fb-47a7-f36d-484697ab84ae"
      },
      "source": [
        "# top down\n",
        "simforecasts= list(forecast_sim)\n",
        "simtss = list(ts_sim)\n",
        "\n",
        "sim_ts_entry = simtss[0]\n",
        "sim_forecast_entry= simforecasts[0]\n",
        "\n",
        "plot_prob_forecasts(sim_ts_entry, sim_forecast_entry)"
      ],
      "execution_count": 29,
      "outputs": [
        {
          "output_type": "display_data",
          "data": {
            "image/png": "[encoded data removed]",
            "text/plain": [
              "<Figure size 720x504 with 1 Axes>"
            ]
          },
          "metadata": {
            "tags": [],
            "needs_background": "light"
          }
        }
      ]
    },
    {
      "cell_type": "code",
      "metadata": {
        "id": "98nn8VqexgTj",
        "colab_type": "code",
        "colab": {
          "base_uri": "https://localhost:8080/",
          "height": 450
        },
        "outputId": "5437bc14-bc89-491b-b567-5ccbdf39664b"
      },
      "source": [
        "# bottom up\n",
        "\n",
        "simforecasts1= list(forecast_sim3)\n",
        "simtss1 = list(ts_sim3)\n",
        "\n",
        "sim_ts_entry1 = simtss1[0]\n",
        "sim_forecast_entry1 = simforecasts1[0]\n",
        "\n",
        "plot_prob_forecasts(sim_ts_entry1, sim_forecast_entry1)\n"
      ],
      "execution_count": 55,
      "outputs": [
        {
          "output_type": "display_data",
          "data": {
            "image/png": "[encoded data removed]",
            "text/plain": [
              "<Figure size 720x504 with 1 Axes>"
            ]
          },
          "metadata": {
            "tags": [],
            "needs_background": "light"
          }
        }
      ]
    },
    {
      "cell_type": "code",
      "metadata": {
        "id": "4gjtpx0BoNOB",
        "colab_type": "code",
        "colab": {}
      },
      "source": [
        "# top down: disaggregate using ratios\n",
        "\n",
        "predicted30 = sim_forecast_entry.mean # 30 predicted values for test window of len 30 \n",
        "\n",
        "# ratio for CAISOTAC\n",
        "ratiocaisotac = 1- (1/ratio1 + 1/ratio2)\n",
        "# ratio 1 -> CAISOTAC : NEVP\n",
        "ratioNEVP = 1/ratio1\n",
        "# ratio 2 -> CAISOTAC : PACE\n",
        "ratioPACE = 1/ratio2\n",
        "\n",
        "predicted30caisotac = predicted30*ratiocaisotac\n",
        "predicted30Nevp = predicted30*ratioNEVP\n",
        "predicted30Pace = predicted30*ratioPACE"
      ],
      "execution_count": 0,
      "outputs": []
    },
    {
      "cell_type": "markdown",
      "metadata": {
        "id": "3kcad6XEsyH3",
        "colab_type": "text"
      },
      "source": [
        "In the following plot, the red is the total top prediction,\n",
        "blue is the Caisotac prediction, green is the Nevp prediction, and orange is the Pace prediction. The Caisotac, Nevp, and Pace predictions were obtained using the top-down proportions calculated in the quantities ratio1, ratio2. \n"
      ]
    },
    {
      "cell_type": "code",
      "metadata": {
        "id": "V4eUnmfXrY4J",
        "colab_type": "code",
        "colab": {
          "base_uri": "https://localhost:8080/",
          "height": 264
        },
        "outputId": "a29d3973-1b24-45d0-a5f7-aba118456405"
      },
      "source": [
        "# plot \n",
        "import matplotlib.pyplot as plt\n",
        "x = a = list(range(30))\n",
        "plt.plot(x, predicted30caisotac)\n",
        "plt.plot(x, predicted30Nevp)\n",
        "plt.plot(x, predicted30Pace)\n",
        "plt.plot(x, predicted30)\n",
        "\n",
        "plt.show()"
      ],
      "execution_count": 45,
      "outputs": [
        {
          "output_type": "display_data",
          "data": {
            "image/png": "[encoded data removed]",
            "text/plain": [
              "<Figure size 432x288 with 1 Axes>"
            ]
          },
          "metadata": {
            "tags": [],
            "needs_background": "light"
          }
        }
      ]
    },
    {
      "cell_type": "markdown",
      "metadata": {
        "id": "vquJKe4s3-17",
        "colab_type": "text"
      },
      "source": [
        "\n",
        "The following part involves wind and solar energy time series data from California and New England. The energy values are labeled by \"iso\" (changed column name) for convenience. \n",
        "\n",
        "Here, I have implemented \n",
        "- DeepAR Estimator\n",
        "- simple feedforward network\n",
        "- custom models: huber loss model, sampling of xpos, xneg from hourly divided series, triplet loss model \n",
        "\n",
        "I mainly perform tasks on datasets\n",
        "- neweng_dataset \n",
        "- caiso_dataset \n"
      ]
    },
    {
      "cell_type": "code",
      "metadata": {
        "id": "ZAjODMJmAPt2",
        "colab_type": "code",
        "colab": {}
      },
      "source": [
        "# step 1\n",
        "import pandas as pd\n",
        "caisofile= 'CaisoJan19March19windsolarAvg.csv'\n",
        "caiso_dataset = pd.read_csv(caisofile)"
      ],
      "execution_count": 0,
      "outputs": []
    },
    {
      "cell_type": "code",
      "metadata": {
        "id": "FY139XcX_gi-",
        "colab_type": "code",
        "outputId": "b6dee39d-312c-4c71-dd9c-e385890a108d",
        "colab": {
          "base_uri": "https://localhost:8080/",
          "height": 197
        }
      },
      "source": [
        "caiso_dataset.head()"
      ],
      "execution_count": 0,
      "outputs": [
        {
          "output_type": "execute_result",
          "data": {
            "text/html": [
              "<div>\n",
              "<style scoped>\n",
              "    .dataframe tbody tr th:only-of-type {\n",
              "        vertical-align: middle;\n",
              "    }\n",
              "\n",
              "    .dataframe tbody tr th {\n",
              "        vertical-align: top;\n",
              "    }\n",
              "\n",
              "    .dataframe thead th {\n",
              "        text-align: right;\n",
              "    }\n",
              "</style>\n",
              "<table border=\"1\" class=\"dataframe\">\n",
              "  <thead>\n",
              "    <tr style=\"text-align: right;\">\n",
              "      <th></th>\n",
              "      <th>DateTime</th>\n",
              "      <th>ws_forecast (avg) (california_iso)</th>\n",
              "    </tr>\n",
              "  </thead>\n",
              "  <tbody>\n",
              "    <tr>\n",
              "      <th>0</th>\n",
              "      <td>2019-01-01 00:00:00</td>\n",
              "      <td>-2.333</td>\n",
              "    </tr>\n",
              "    <tr>\n",
              "      <th>1</th>\n",
              "      <td>2019-01-01 01:00:00</td>\n",
              "      <td>-2.333</td>\n",
              "    </tr>\n",
              "    <tr>\n",
              "      <th>2</th>\n",
              "      <td>2019-01-01 02:00:00</td>\n",
              "      <td>-2.333</td>\n",
              "    </tr>\n",
              "    <tr>\n",
              "      <th>3</th>\n",
              "      <td>2019-01-01 03:00:00</td>\n",
              "      <td>-2.667</td>\n",
              "    </tr>\n",
              "    <tr>\n",
              "      <th>4</th>\n",
              "      <td>2019-01-01 04:00:00</td>\n",
              "      <td>-3.000</td>\n",
              "    </tr>\n",
              "  </tbody>\n",
              "</table>\n",
              "</div>"
            ],
            "text/plain": [
              "              DateTime  ws_forecast (avg) (california_iso)\n",
              "0  2019-01-01 00:00:00                              -2.333\n",
              "1  2019-01-01 01:00:00                              -2.333\n",
              "2  2019-01-01 02:00:00                              -2.333\n",
              "3  2019-01-01 03:00:00                              -2.667\n",
              "4  2019-01-01 04:00:00                              -3.000"
            ]
          },
          "metadata": {
            "tags": []
          },
          "execution_count": 54
        }
      ]
    },
    {
      "cell_type": "code",
      "metadata": {
        "id": "CrRY7ry87ONq",
        "colab_type": "code",
        "colab": {}
      },
      "source": [
        "caiso_dataset2 = pd.read_csv('caiso_jan2020_systemloadresource_tacnorth.csv')\n"
      ],
      "execution_count": 0,
      "outputs": []
    },
    {
      "cell_type": "code",
      "metadata": {
        "id": "zyjvkm2SbtJG",
        "colab_type": "code",
        "colab": {}
      },
      "source": [
        "# ne step 1\n",
        "import pandas as pd \n",
        "newengland = 'NewEnglandNov19WindSolar.csv'\n",
        "neweng_dataset = pd.read_csv(newengland)"
      ],
      "execution_count": 0,
      "outputs": []
    },
    {
      "cell_type": "code",
      "metadata": {
        "id": "RfEXJw6pARN6",
        "colab_type": "code",
        "colab": {}
      },
      "source": [
        "# step 1 b\n",
        "caiso_dataset=caiso_dataset.rename(columns={\"ws_forecast (avg) (california_iso)\": \"iso\"})\n",
        "\n",
        "# ne step 1 b\n",
        "neweng_dataset =neweng_dataset.rename(columns={\"ws_forecast (sum) (california_iso)\": \"iso\"})\n"
      ],
      "execution_count": 0,
      "outputs": []
    },
    {
      "cell_type": "code",
      "metadata": {
        "id": "k0dk1to9_HZj",
        "colab_type": "code",
        "colab": {}
      },
      "source": [
        "# ne step 1c : normalize \n",
        "normalized_neweng = neweng_dataset\n",
        "# normalize new eng dataframe\n",
        "ne_max = neweng_dataset['iso'].max()\n",
        "#print(ne_max)\n",
        "ne_min = neweng_dataset['iso'].min()\n",
        "normalized_neweng['iso'] = (neweng_dataset['iso'] - ne_min)/(ne_max - ne_min)\n",
        "\n"
      ],
      "execution_count": 0,
      "outputs": []
    },
    {
      "cell_type": "code",
      "metadata": {
        "id": "fuAwcXa-BtRl",
        "colab_type": "code",
        "colab": {}
      },
      "source": [
        "# step 1 c\n",
        "from gluonts.dataset.common import ListDataset\n",
        "\n",
        "training_data_caiso = ListDataset(\n",
        "    [{\"start\": \"2019-01-01 00:00:00\" , \"target\": caiso_dataset.iso.values}],\n",
        "    freq = \"1H\"\n",
        ")\n",
        "\n",
        "# ne step 1 d: form training data\n",
        "\n",
        "training_data_neweng = ListDataset([{\"start\":\"2019-11-01 00:00:00\", \"target\": neweng_dataset.iso.values\n",
        "                                     }], freq = \"1H\")\n",
        "\n",
        "# ne step 1 d: form training data\n",
        "\n",
        "norm_training_data_neweng = ListDataset([{\"start\":\"2019-11-01 00:00:00\", \"target\": normalized_neweng.iso.values\n",
        "                                     }], freq = \"1H\")\n",
        "\n",
        "#norm_train_2_set = normalized_neweng[0:100]\n",
        "\n",
        "#norm_training_data_neweng_2 = ListDataset([{\"start\":\"2019-11-01 00:00:00\", \"target\": norm_train_2_set.iso.values\n",
        "#                                     }], freq = \"1H\")\n",
        "\n",
        "\n",
        "# REQ: set test start and end indices\n",
        "teststart = 100\n",
        "testend = 150 \n",
        "\n",
        "test_NE = neweng_dataset[teststart:testend]\n",
        "\n",
        "norm_test_NE = normalized_neweng[teststart:testend]"
      ],
      "execution_count": 0,
      "outputs": []
    },
    {
      "cell_type": "code",
      "metadata": {
        "id": "nNpQvqZgdQ3X",
        "colab_type": "code",
        "colab": {}
      },
      "source": [
        "# ADD TREND \n",
        "trend = np.zeros(len(neweng_dataset))\n",
        "\n",
        "training_data_neweng2 = ListDataset([{\"start\":\"2019-11-01 00:00:00\", \"target\": neweng_dataset.iso.values, \"feat_dynamic_real\":trend}], freq=\"1H\")\n"
      ],
      "execution_count": 0,
      "outputs": []
    },
    {
      "cell_type": "code",
      "metadata": {
        "id": "LXSAGXZFEVmh",
        "colab_type": "code",
        "colab": {}
      },
      "source": [
        "test_NE_dataset = ListDataset(\n",
        "    [{\"start\": \"2019-11-05 17:00:00\" , \"target\": test_NE.iso.values}],\n",
        "    freq = \"1H\"\n",
        ")\n",
        "\n",
        "norm_test_NE_dataset = ListDataset(\n",
        "    [{\"start\": \"2019-11-05 17:00:00\" , \"target\": norm_test_NE.iso.values}],\n",
        "    freq = \"1H\"\n",
        ")\n"
      ],
      "execution_count": 0,
      "outputs": []
    },
    {
      "cell_type": "code",
      "metadata": {
        "id": "caR4TeRQ7gP9",
        "colab_type": "code",
        "colab": {}
      },
      "source": [
        "# Not required \n",
        "\n",
        "caiso_dataset2 =caiso_dataset2.rename(columns={\"sys_load_rsrc (TAC_NORTH) (california_iso)\": \"iso\"})\n",
        "caiso_dataset2.head()\n",
        "training_caiso2 = ListDataset(\n",
        "    [{\"start\": \"2020-01-01 00:00:00\" , \"target\": caiso_dataset2.iso.values}],\n",
        "    freq = \"1H\"\n",
        ")\n",
        "\n",
        "caiso_test_dataset = ListDataset(\n",
        "    [{\"start\": \"2020-01-05 04:00:00\" , \"target\": test_caiso_3.iso.values}],\n",
        "    freq = \"1H\"\n",
        ")"
      ],
      "execution_count": 0,
      "outputs": []
    },
    {
      "cell_type": "markdown",
      "metadata": {
        "id": "f5I4adAvLT59",
        "colab_type": "text"
      },
      "source": [
        "pd random sampling rows: https://www.geeksforgeeks.org/how-to-randomly-select-rows-from-pandas-dataframe/\n"
      ]
    },
    {
      "cell_type": "code",
      "metadata": {
        "id": "t2Al0ntmHwLj",
        "colab_type": "code",
        "colab": {}
      },
      "source": [
        "# step 1 d\n",
        "\n",
        "# make a new dataframe for testing data ? \n",
        "\n",
        "# sample method 0: random; \n",
        "test_caiso_1 = caiso_dataset.sample(n = 30)  \n",
        "\n",
        "# sample method 1 : sample every k rows; sample n cons. rows every k rows\n",
        "k = 3\n",
        "test_caiso_2 = caiso_dataset.iloc[::k, :]\n",
        "\n",
        "test_caiso_3 = caiso_dataset[2:32]\n",
        "\n",
        "train_caiso_2 = caiso_dataset[10:100]\n",
        "\n",
        "# sample method 2: seasons / hour of day\n",
        "\n",
        "# sample method 3: based on paper\n",
        "\n",
        "# testing_data_caiso = ListDataset()\n",
        "\n",
        "# step 1 f \n",
        "test_caiso_1_dataset = ListDataset(\n",
        "    [{\"start\": \"2019-02-07 09:00:00\" , \"target\": test_caiso_1.iso.values}],\n",
        "    freq = \"1H\"\n",
        ")\n",
        "\n",
        "test_caiso_3_dataset = ListDataset(\n",
        "    [{\"start\": \"2019-01-01 02:00:00\" , \"target\": test_caiso_3.iso.values}],\n",
        "    freq = \"1H\"\n",
        ")\n",
        "test_caiso_1 = caiso_dataset.sample(n = 300)  \n",
        "test_caiso_1 "
      ],
      "execution_count": 0,
      "outputs": []
    },
    {
      "cell_type": "code",
      "metadata": {
        "id": "m5ayRf1wDbwH",
        "colab_type": "code",
        "colab": {}
      },
      "source": [
        "#import numpy as np\n",
        "#np.random.randint(1, 8)\n",
        "a = [1,2,3,4,5,6,7,8,9,0]\n",
        "a[3:3+2]\n",
        "\n",
        "# test the sampling\n",
        "\n",
        "xr, xp, xn = sampling1(caiso_array, 20, 5)\n",
        "\n",
        "# orig sampling method from unsupervised rep learning\n",
        "def sampling1(y, N, K): # sequence y_i for i in 1 to N\n",
        "  # size of y\n",
        "  for i in range(1,N):\n",
        "    yi = y[i]\n",
        "    ysize = len(yi)\n",
        "    # pick sizes s_pos and s_ref - unif at random \n",
        "    spos = np.random.randint(1, ysize)\n",
        "    sref = np.random.randint(spos, ysize) \n",
        "    # pick xref, xpos \n",
        "    # pick starting index among 0 to (ysize - sref)\n",
        "    startref = np.random.randint(0, ysize - sref)\n",
        "    startpos = np.random.randint(0, ysize - spos)\n",
        "    xref = yi[startref:startref+sref]\n",
        "    xpos = yi[startpos:startpos+spos]\n",
        "    xneg= []\n",
        "    for k in range(1, K): \n",
        "      ik = np.random.randint(1, N)\n",
        "      sneg = np.random.randint(1,len(y[ik]))\n",
        "      # pick xneg\n",
        "      startneg = np.random.randint(0, ysize-sneg)\n",
        "      yk = y[k]\n",
        "      xneg_k = yk[startneg:sneg]\n",
        "      xneg.append(xneg_k)\n",
        "    return( xref, xpos, xneg)\n",
        "\n",
        "# sampling method var. 1: use different dist. other than uniform dist. to pick \n"
      ],
      "execution_count": 0,
      "outputs": []
    },
    {
      "cell_type": "markdown",
      "metadata": {
        "id": "i3dECSWvGpxm",
        "colab_type": "text"
      },
      "source": [
        "Hour hierarchical organization"
      ]
    },
    {
      "cell_type": "code",
      "metadata": {
        "id": "O-3CvezCkOtT",
        "colab_type": "code",
        "colab": {}
      },
      "source": [
        "# step 1 g \n",
        "# ne step 1 g : hierarchical order dataframes creation\n",
        "\n",
        "# break the array into k sub-arrays : day of the week\n",
        "\n",
        "# hour of the day: morning 6 am to 12 pm, afternoon 12 pm to 6 pm, evening 6 pm to 12 am, early morning 12 am to 6 am \n",
        "\n",
        "colnames=[\"DateTime\", \"iso\"]\n",
        "# define empty dfs \n",
        "morningdf = pd.DataFrame(columns=colnames)\n",
        "afternoondf = pd.DataFrame(columns=colnames)\n",
        "eveningdf = pd.DataFrame(columns= colnames)\n",
        "earlymorningdf= pd.DataFrame(columns= colnames)\n",
        "\n",
        "morning_time = []\n",
        "morning_iso = []\n",
        "\n",
        "afternoon_time = []\n",
        "afternoon_iso = []\n",
        "\n",
        "evening_time = []\n",
        "evening_iso = []\n",
        "\n",
        "earlymorning_time = []\n",
        "earlymorning_iso = []\n",
        "\n",
        "for index, row in normalized_tex.iterrows(): # normalized_neweng\n",
        "    date_time = row['DateTime']\n",
        "    iso_val = row['iso']\n",
        "    split_date_time = date_time.split()\n",
        "    split_date_time1 = split_date_time[1]\n",
        "    hour_min_sec = split_date_time1.split(\":\")\n",
        "    #print(\"hour min sec\", hour_min_sec)\n",
        "    hour= hour_min_sec[0]\n",
        "    minute = hour_min_sec[1]   \n",
        "    #print(\"hour\", hour) \n",
        "    hour = float(hour)\n",
        "    # determine zone\n",
        "    if 0 <= hour <= 6:\n",
        "      earlymorning_time.append(date_time)\n",
        "      earlymorning_iso.append(iso_val)\n",
        "    if 6 <= hour <=12:\n",
        "      morning_time.append(date_time)\n",
        "      morning_iso.append(iso_val)\n",
        "    if 12 <= hour <= 18:\n",
        "      afternoon_time.append(date_time)\n",
        "      afternoon_iso.append(iso_val)\n",
        "    if 18 <= hour <= 24:\n",
        "      evening_time.append(date_time)\n",
        "      evening_iso.append(iso_val)\n",
        "\n",
        "# set dataframes\n",
        "\n",
        "morningdf[\"DateTime\"] = morning_time\n",
        "morningdf[\"iso\"] = morning_iso\n",
        "earlymorningdf[\"DateTime\"] = earlymorning_time\n",
        "earlymorningdf[\"iso\"]=earlymorning_iso\n",
        "afternoondf[\"DateTime\"] = afternoon_time\n",
        "afternoondf[\"iso\"] = afternoon_iso\n",
        "eveningdf[\"DateTime\"] = evening_time\n",
        "eveningdf[\"iso\"] = evening_iso\n",
        "\n",
        "# use these as different series to draw xneg \n"
      ],
      "execution_count": 0,
      "outputs": []
    },
    {
      "cell_type": "code",
      "metadata": {
        "id": "ZO4GM1GmTh1C",
        "colab_type": "code",
        "colab": {}
      },
      "source": [
        "mtest = morningdf[100:130]\n",
        "teststart = 36\n",
        "testend = 42\n",
        "\n",
        "mtest = morningdf[teststart:testend]\n",
        "atest = afternoondf[teststart:testend]\n",
        "\n",
        "etest = eveningdf[teststart:testend]\n",
        "\n",
        "emtest = earlymorningdf[teststart:testend]\n"
      ],
      "execution_count": 0,
      "outputs": []
    },
    {
      "cell_type": "code",
      "metadata": {
        "id": "iD_HVwOlfDXM",
        "colab_type": "code",
        "colab": {}
      },
      "source": [
        "teststart = 50\n",
        "testend = 70\n",
        "\n",
        "mtest = morningdf[teststart:testend]\n",
        "\n",
        "atest = afternoondf[teststart:testend]\n",
        "\n",
        "etest = eveningdf[teststart:testend]\n",
        "\n",
        "emtest = earlymorningdf[teststart:testend]\n"
      ],
      "execution_count": 0,
      "outputs": []
    },
    {
      "cell_type": "code",
      "metadata": {
        "id": "IcA9zLzBdEZ1",
        "colab_type": "code",
        "colab": {}
      },
      "source": [
        "# step 1 g 2 \n",
        "# extract the first timestamp from each series\n",
        "morning_first_ts = morning_time[0]\n",
        "earlymorning_first_ts= earlymorning_time[0]\n",
        "afternoon_first_ts = afternoon_time[0]\n",
        "evening_first_ts = evening_time[0]\n"
      ],
      "execution_count": 0,
      "outputs": []
    },
    {
      "cell_type": "code",
      "metadata": {
        "id": "wUshkUYDVUEO",
        "colab_type": "code",
        "colab": {}
      },
      "source": [
        "# step 1 g 3\n",
        "# convert x_neg into arrays\n",
        "\n",
        "#earlymorningarray =earlymorningdf[\"iso\"]\n",
        "\n",
        "# arrays are called:\n",
        "\n",
        "#earlymorning_iso\n",
        "#afternoon_iso\n",
        "#evening_iso\n",
        "\n",
        "# step 1 h: set x_pos as one of the time zones, make into a dataset \n",
        "\n",
        "morningpos = ListDataset(\n",
        "    [{\"start\":morning_first_ts , \"target\": morningdf.iso.values}],\n",
        "    freq = \"1H\"\n",
        ")\n",
        "\n",
        "morningtrain = ListDataset(\n",
        "    [{\"start\":morning_first_ts , \"target\": morningdf.iso.values}],\n",
        "    freq = \"1H\"\n",
        ")"
      ],
      "execution_count": 0,
      "outputs": []
    },
    {
      "cell_type": "code",
      "metadata": {
        "id": "H1UGaiZBMi4X",
        "colab_type": "code",
        "colab": {}
      },
      "source": [
        "afternoontrain = ListDataset(\n",
        "[{\"start\":afternoon_first_ts , \"target\": afternoondf.iso.values}],\n",
        "    freq = \"1H\"\n",
        ")\n",
        "\n",
        "earlymorningtrain = ListDataset(\n",
        "    [{\"start\":earlymorning_first_ts , \"target\": earlymorningdf.iso.values}],\n",
        "    freq = \"1H\"\n",
        ")"
      ],
      "execution_count": 0,
      "outputs": []
    },
    {
      "cell_type": "code",
      "metadata": {
        "id": "Un4KHqr2oLXh",
        "colab_type": "code",
        "colab": {}
      },
      "source": [
        "# separately for texas\n",
        "\n",
        "morningtrain = ListDataset(\n",
        "    [{\"start\":morning_first_ts , \"target\": morningdf.iso.values}],\n",
        "    freq = \"5min\"\n",
        ")\n",
        "\n",
        "afternoontrain = ListDataset(\n",
        "[{\"start\":afternoon_first_ts , \"target\": afternoondf.iso.values}],\n",
        "    freq = \"5min\"\n",
        ")\n",
        "\n",
        "earlymorningtrain = ListDataset(\n",
        "    [{\"start\":earlymorning_first_ts , \"target\": earlymorningdf.iso.values}],\n",
        "    freq = \"5min\"\n",
        ")\n",
        "\n",
        "eveningtrain = ListDataset([{\"start\":evening_first_ts , \"target\": eveningdf.iso.values}],\n",
        "    freq = \"5min\")\n"
      ],
      "execution_count": 0,
      "outputs": []
    },
    {
      "cell_type": "code",
      "metadata": {
        "id": "HTTydsJJb_Ke",
        "colab_type": "code",
        "colab": {}
      },
      "source": [
        "#morningtest = ListDataset([{\"start\":\"2019-11-16 06:00:00\", \"target\":mtest.iso.values}], freq = \"1H\") # only have 6 consecutive entries \n",
        "morningtest = ListDataset([{\"start\":mtest[\"DateTime\"][teststart], \"target\":mtest.iso.values}], freq = \"1H\")  \n",
        "\n",
        "afternoontest = ListDataset([{\"start\":atest[\"DateTime\"][teststart], \"target\": atest.iso.values}], freq=\"1H\")\n",
        "\n",
        "eveningtest = ListDataset([{\"start\":etest[\"DateTime\"][teststart], \"target\": etest.iso.values}], freq=\"1H\")\n",
        "earlymorningtest = ListDataset([{\"start\":emtest[\"DateTime\"][teststart], \"target\": emtest.iso.values}], freq=\"1H\")\n"
      ],
      "execution_count": 0,
      "outputs": []
    },
    {
      "cell_type": "code",
      "metadata": {
        "id": "yBeBI8FvodKX",
        "colab_type": "code",
        "colab": {}
      },
      "source": [
        "# texas test data\n",
        "\n",
        "morningtest =  ListDataset([{\"start\":mtest[\"DateTime\"][teststart], \"target\": mtest.iso.values}], freq=\"5min\")\n",
        "afternoontest = ListDataset([{\"start\":atest[\"DateTime\"][teststart], \"target\": atest.iso.values}], freq=\"5min\")\n",
        "\n",
        "eveningtest = ListDataset([{\"start\":etest[\"DateTime\"][teststart], \"target\": etest.iso.values}], freq=\"5min\")\n",
        "earlymorningtest = ListDataset([{\"start\":emtest[\"DateTime\"][teststart], \"target\": emtest.iso.values}], freq=\"5min\")\n",
        "\n"
      ],
      "execution_count": 0,
      "outputs": []
    },
    {
      "cell_type": "code",
      "metadata": {
        "id": "v0PV4mMHoALA",
        "colab_type": "code",
        "colab": {}
      },
      "source": [
        "# step 1h 2 : set as evening\n",
        "evening_train = ListDataset(\n",
        "    [{\"start\":evening_first_ts , \"target\": eveningdf.iso.values}],\n",
        "    freq = \"1H\"\n",
        ")"
      ],
      "execution_count": 0,
      "outputs": []
    },
    {
      "cell_type": "code",
      "metadata": {
        "id": "LVnTemFaOTz_",
        "colab_type": "code",
        "colab": {}
      },
      "source": [
        "import pandas as pd\n",
        "# dataframe that holds ref, pos, and neg\n",
        "\n",
        "# create df with col names\n",
        "column_names = [\"xref\",\"xpos\",\"xneg\"]\n",
        "triplet_dataframe = pd.DataFrame(columns = column_names)\n"
      ],
      "execution_count": 0,
      "outputs": []
    },
    {
      "cell_type": "code",
      "metadata": {
        "id": "K5Vx35aF4BVc",
        "colab_type": "code",
        "outputId": "a48aa4ae-8dbd-4ef8-a288-8dd89dffdad9",
        "colab": {
          "base_uri": "https://localhost:8080/",
          "height": 852
        }
      },
      "source": [
        "# deepare on new england dataset \n",
        "from gluonts.model.deepar import DeepAREstimator\n",
        "from gluonts.trainer import Trainer\n",
        "estimator = DeepAREstimator(freq=\"1H\", prediction_length=30, trainer=Trainer(epochs=10,batch_size=10))\n",
        "predictor = estimator.train(training_data= training_data_neweng ) # utraining, norm_training_data, norm_training_data_neweng"
      ],
      "execution_count": 0,
      "outputs": [
        {
          "output_type": "stream",
          "text": [
            "INFO:root:Using CPU\n",
            "INFO:root:Start model training\n",
            "INFO:root:Epoch[0] Learning rate is 0.001\n",
            "  0%|          | 0/50 [00:00<?, ?it/s]"
          ],
          "name": "stderr"
        },
        {
          "output_type": "stream",
          "text": [
            "learning rate from ``lr_scheduler`` has been overwritten by ``learning_rate`` in optimizer.\n"
          ],
          "name": "stdout"
        },
        {
          "output_type": "stream",
          "text": [
            "INFO:root:Number of parameters in DeepARTrainingNetwork: 27644\n",
            "100%|██████████| 50/50 [00:02<00:00, 19.50it/s, avg_epoch_loss=8.5]\n",
            "INFO:root:Epoch[0] Elapsed time 2.567 seconds\n",
            "INFO:root:Epoch[0] Evaluation metric 'epoch_loss'=8.502146\n",
            "INFO:root:Epoch[1] Learning rate is 0.001\n",
            "100%|██████████| 50/50 [00:02<00:00, 22.14it/s, avg_epoch_loss=7.59]\n",
            "INFO:root:Epoch[1] Elapsed time 2.264 seconds\n",
            "INFO:root:Epoch[1] Evaluation metric 'epoch_loss'=7.593466\n",
            "INFO:root:Epoch[2] Learning rate is 0.001\n",
            "100%|██████████| 50/50 [00:02<00:00, 21.56it/s, avg_epoch_loss=7.32]\n",
            "INFO:root:Epoch[2] Elapsed time 2.322 seconds\n",
            "INFO:root:Epoch[2] Evaluation metric 'epoch_loss'=7.320614\n",
            "INFO:root:Epoch[3] Learning rate is 0.001\n",
            "100%|██████████| 50/50 [00:02<00:00, 22.21it/s, avg_epoch_loss=7.12]\n",
            "INFO:root:Epoch[3] Elapsed time 2.255 seconds\n",
            "INFO:root:Epoch[3] Evaluation metric 'epoch_loss'=7.117959\n",
            "INFO:root:Epoch[4] Learning rate is 0.001\n",
            "100%|██████████| 50/50 [00:02<00:00, 22.34it/s, avg_epoch_loss=6.94]\n",
            "INFO:root:Epoch[4] Elapsed time 2.241 seconds\n",
            "INFO:root:Epoch[4] Evaluation metric 'epoch_loss'=6.935891\n",
            "INFO:root:Epoch[5] Learning rate is 0.001\n",
            "100%|██████████| 50/50 [00:02<00:00, 22.26it/s, avg_epoch_loss=6.79]\n",
            "INFO:root:Epoch[5] Elapsed time 2.250 seconds\n",
            "INFO:root:Epoch[5] Evaluation metric 'epoch_loss'=6.787207\n",
            "INFO:root:Epoch[6] Learning rate is 0.001\n",
            "100%|██████████| 50/50 [00:02<00:00, 22.35it/s, avg_epoch_loss=6.73]\n",
            "INFO:root:Epoch[6] Elapsed time 2.240 seconds\n",
            "INFO:root:Epoch[6] Evaluation metric 'epoch_loss'=6.725627\n",
            "INFO:root:Epoch[7] Learning rate is 0.001\n",
            "100%|██████████| 50/50 [00:02<00:00, 21.84it/s, avg_epoch_loss=6.87]\n",
            "INFO:root:Epoch[7] Elapsed time 2.293 seconds\n",
            "INFO:root:Epoch[7] Evaluation metric 'epoch_loss'=6.870406\n",
            "INFO:root:Epoch[8] Learning rate is 0.001\n",
            "100%|██████████| 50/50 [00:02<00:00, 22.13it/s, avg_epoch_loss=6.63]\n",
            "INFO:root:Epoch[8] Elapsed time 2.263 seconds\n",
            "INFO:root:Epoch[8] Evaluation metric 'epoch_loss'=6.626178\n",
            "INFO:root:Epoch[9] Learning rate is 0.001\n",
            "100%|██████████| 50/50 [00:02<00:00, 22.27it/s, avg_epoch_loss=6.5]\n",
            "INFO:root:Epoch[9] Elapsed time 2.249 seconds\n",
            "INFO:root:Epoch[9] Evaluation metric 'epoch_loss'=6.503423\n",
            "INFO:root:Loading parameters from best epoch (9)\n",
            "INFO:root:Final loss: 6.503423408508301 (occurred at epoch 9)\n",
            "INFO:root:End model training\n"
          ],
          "name": "stderr"
        }
      ]
    },
    {
      "cell_type": "code",
      "metadata": {
        "id": "LiFx9O4KZMQ4",
        "colab_type": "code",
        "colab": {
          "base_uri": "https://localhost:8080/",
          "height": 212
        },
        "outputId": "68cd300a-2d5d-4939-853d-fd0a3411672c"
      },
      "source": [
        "# deepare LSTM\n",
        "from gluonts.model.deepar import DeepAREstimator\n",
        "from gluonts.trainer import Trainer\n",
        "estimator = DeepAREstimator(freq=\"1H\", prediction_length=30, trainer=Trainer(epochs=10,batch_size=10), cell_type='lstm')\n",
        "predictor = estimator.train(training_data= training_data_neweng ) "
      ],
      "execution_count": 75,
      "outputs": [
        {
          "output_type": "stream",
          "text": [
            "\r  0%|          | 0/50 [00:00<?, ?it/s]"
          ],
          "name": "stderr"
        },
        {
          "output_type": "stream",
          "text": [
            "learning rate from ``lr_scheduler`` has been overwritten by ``learning_rate`` in optimizer.\n"
          ],
          "name": "stdout"
        },
        {
          "output_type": "stream",
          "text": [
            "100%|██████████| 50/50 [00:02<00:00, 19.78it/s, epoch=1/10, avg_epoch_loss=-.595]\n",
            "100%|██████████| 50/50 [00:02<00:00, 22.03it/s, epoch=2/10, avg_epoch_loss=-1.42]\n",
            "100%|██████████| 50/50 [00:02<00:00, 22.05it/s, epoch=3/10, avg_epoch_loss=-1.86]\n",
            "100%|██████████| 50/50 [00:02<00:00, 22.23it/s, epoch=4/10, avg_epoch_loss=-2.04]\n",
            "100%|██████████| 50/50 [00:02<00:00, 22.23it/s, epoch=5/10, avg_epoch_loss=-2.12]\n",
            "100%|██████████| 50/50 [00:02<00:00, 22.22it/s, epoch=6/10, avg_epoch_loss=-2.3]\n",
            "100%|██████████| 50/50 [00:02<00:00, 22.45it/s, epoch=7/10, avg_epoch_loss=-2.47]\n",
            "100%|██████████| 50/50 [00:02<00:00, 21.71it/s, epoch=8/10, avg_epoch_loss=-2.53]\n",
            "100%|██████████| 50/50 [00:02<00:00, 21.59it/s, epoch=9/10, avg_epoch_loss=-2.52]\n",
            "100%|██████████| 50/50 [00:02<00:00, 21.55it/s, epoch=10/10, avg_epoch_loss=-2.68]\n"
          ],
          "name": "stderr"
        }
      ]
    },
    {
      "cell_type": "code",
      "metadata": {
        "id": "xAbf6bOn_KXC",
        "colab_type": "code",
        "outputId": "b2b2a1e1-cd16-4f35-ec6a-40d111284646",
        "colab": {
          "base_uri": "https://localhost:8080/",
          "height": 852
        }
      },
      "source": [
        "from gluonts.model.deepar import DeepAREstimator\n",
        "from gluonts.trainer import Trainer\n",
        "estimator = DeepAREstimator(freq=\"1H\", prediction_length=30, trainer=Trainer(epochs=10,batch_size=10))\n",
        "predictor = estimator.train(training_data=training_caiso2 )"
      ],
      "execution_count": 0,
      "outputs": [
        {
          "output_type": "stream",
          "text": [
            "INFO:root:Using CPU\n",
            "INFO:root:Start model training\n",
            "INFO:root:Epoch[0] Learning rate is 0.001\n",
            "  0%|          | 0/50 [00:00<?, ?it/s]"
          ],
          "name": "stderr"
        },
        {
          "output_type": "stream",
          "text": [
            "learning rate from ``lr_scheduler`` has been overwritten by ``learning_rate`` in optimizer.\n"
          ],
          "name": "stdout"
        },
        {
          "output_type": "stream",
          "text": [
            "INFO:root:Number of parameters in DeepARTrainingNetwork: 27644\n",
            "100%|██████████| 50/50 [00:02<00:00, 19.78it/s, avg_epoch_loss=8.97]\n",
            "INFO:root:Epoch[0] Elapsed time 2.530 seconds\n",
            "INFO:root:Epoch[0] Evaluation metric 'epoch_loss'=8.973863\n",
            "INFO:root:Epoch[1] Learning rate is 0.001\n",
            "100%|██████████| 50/50 [00:02<00:00, 21.73it/s, avg_epoch_loss=7.93]\n",
            "INFO:root:Epoch[1] Elapsed time 2.302 seconds\n",
            "INFO:root:Epoch[1] Evaluation metric 'epoch_loss'=7.928071\n",
            "INFO:root:Epoch[2] Learning rate is 0.001\n",
            "100%|██████████| 50/50 [00:02<00:00, 21.40it/s, avg_epoch_loss=7.68]\n",
            "INFO:root:Epoch[2] Elapsed time 2.339 seconds\n",
            "INFO:root:Epoch[2] Evaluation metric 'epoch_loss'=7.678750\n",
            "INFO:root:Epoch[3] Learning rate is 0.001\n",
            "100%|██████████| 50/50 [00:02<00:00, 21.85it/s, avg_epoch_loss=7.58]\n",
            "INFO:root:Epoch[3] Elapsed time 2.293 seconds\n",
            "INFO:root:Epoch[3] Evaluation metric 'epoch_loss'=7.576628\n",
            "INFO:root:Epoch[4] Learning rate is 0.001\n",
            "100%|██████████| 50/50 [00:02<00:00, 21.74it/s, avg_epoch_loss=7.58]\n",
            "INFO:root:Epoch[4] Elapsed time 2.303 seconds\n",
            "INFO:root:Epoch[4] Evaluation metric 'epoch_loss'=7.580598\n",
            "INFO:root:Epoch[5] Learning rate is 0.001\n",
            "100%|██████████| 50/50 [00:02<00:00, 21.82it/s, avg_epoch_loss=7.38]\n",
            "INFO:root:Epoch[5] Elapsed time 2.295 seconds\n",
            "INFO:root:Epoch[5] Evaluation metric 'epoch_loss'=7.377721\n",
            "INFO:root:Epoch[6] Learning rate is 0.001\n",
            "100%|██████████| 50/50 [00:02<00:00, 21.85it/s, avg_epoch_loss=7.4]\n",
            "INFO:root:Epoch[6] Elapsed time 2.290 seconds\n",
            "INFO:root:Epoch[6] Evaluation metric 'epoch_loss'=7.398381\n",
            "INFO:root:Epoch[7] Learning rate is 0.001\n",
            "100%|██████████| 50/50 [00:02<00:00, 21.72it/s, avg_epoch_loss=7.22]\n",
            "INFO:root:Epoch[7] Elapsed time 2.305 seconds\n",
            "INFO:root:Epoch[7] Evaluation metric 'epoch_loss'=7.222334\n",
            "INFO:root:Epoch[8] Learning rate is 0.001\n",
            "100%|██████████| 50/50 [00:02<00:00, 21.96it/s, avg_epoch_loss=7.39]\n",
            "INFO:root:Epoch[8] Elapsed time 2.281 seconds\n",
            "INFO:root:Epoch[8] Evaluation metric 'epoch_loss'=7.390388\n",
            "INFO:root:Epoch[9] Learning rate is 0.001\n",
            "100%|██████████| 50/50 [00:02<00:00, 22.01it/s, avg_epoch_loss=7.07]\n",
            "INFO:root:Epoch[9] Elapsed time 2.279 seconds\n",
            "INFO:root:Epoch[9] Evaluation metric 'epoch_loss'=7.069021\n",
            "INFO:root:Loading parameters from best epoch (9)\n",
            "INFO:root:Final loss: 7.069020690917969 (occurred at epoch 9)\n",
            "INFO:root:End model training\n"
          ],
          "name": "stderr"
        }
      ]
    },
    {
      "cell_type": "code",
      "metadata": {
        "id": "Aouc9YbI6jjK",
        "colab_type": "code",
        "colab": {}
      },
      "source": [
        ""
      ],
      "execution_count": 0,
      "outputs": []
    },
    {
      "cell_type": "code",
      "metadata": {
        "id": "UpcvR4065FYK",
        "colab_type": "code",
        "colab": {}
      },
      "source": [
        "# accuracy of deeparest. \n",
        "from gluonts.evaluation.backtest import make_evaluation_predictions\n",
        "# caiso_test_dataset\n",
        "\n",
        "deepare_forecast_it, deepare_ts_it = make_evaluation_predictions(dataset=caiso_test_dataset, \n",
        "                                                                 predictor=predictor, num_samples=10) # utesting, norm_test_NE_dataset"
      ],
      "execution_count": 0,
      "outputs": []
    },
    {
      "cell_type": "code",
      "metadata": {
        "id": "5NH8q2_F6Ukr",
        "colab_type": "code",
        "colab": {}
      },
      "source": [
        "deepare_forecasts = list(deepare_forecast_it)\n",
        "deepare_tss = list(deepare_ts_it)"
      ],
      "execution_count": 0,
      "outputs": []
    },
    {
      "cell_type": "code",
      "metadata": {
        "id": "JQxlY9KiO78G",
        "colab_type": "code",
        "colab": {}
      },
      "source": [
        "# calc mean and quantiles \n",
        "\n",
        "dm = deepare_forecasts[0].mean\n",
        "\n",
        "df = deepare_forecasts[0].quantile(0.5) "
      ],
      "execution_count": 0,
      "outputs": []
    },
    {
      "cell_type": "code",
      "metadata": {
        "id": "vTaUfi4b1DEF",
        "colab_type": "code",
        "outputId": "5acb4c63-f1c4-4737-8a31-ad7f324161ea",
        "colab": {
          "base_uri": "https://localhost:8080/",
          "height": 158
        }
      },
      "source": [
        "dm"
      ],
      "execution_count": 0,
      "outputs": [
        {
          "output_type": "execute_result",
          "data": {
            "text/plain": [
              "array([ 1.31618353e-11, -1.27344163e-10, -6.77906203e-11, -4.78871456e-11,\n",
              "        1.34050228e-11, -3.06631387e-11, -1.52256228e-11, -3.41660485e-11,\n",
              "       -7.60765340e-11, -7.01921021e-11, -1.23744709e-10, -1.57837042e-11,\n",
              "       -3.42751522e-11, -5.61966931e-11, -9.18747439e-11, -1.12129653e-10,\n",
              "       -4.11164644e-11,  1.21453845e-11, -7.64645638e-11, -2.09412113e-10,\n",
              "       -8.81230505e-11, -6.54718640e-11, -3.97845958e-11, -5.55444787e-11,\n",
              "       -1.48360185e-10,  5.01942758e-11,  1.87052249e-11, -6.16118892e-11,\n",
              "       -1.55631202e-10, -8.42902553e-11], dtype=float32)"
            ]
          },
          "metadata": {
            "tags": []
          },
          "execution_count": 67
        }
      ]
    },
    {
      "cell_type": "code",
      "metadata": {
        "id": "LVVQPkUS3Bz4",
        "colab_type": "code",
        "outputId": "33c16003-46e5-4d8f-db99-ffcdb8891dc6",
        "colab": {
          "base_uri": "https://localhost:8080/",
          "height": 34
        }
      },
      "source": [
        "a = list(range(20,30))\n",
        "a"
      ],
      "execution_count": 0,
      "outputs": [
        {
          "output_type": "execute_result",
          "data": {
            "text/plain": [
              "[20, 21, 22, 23, 24, 25, 26, 27, 28, 29]"
            ]
          },
          "metadata": {
            "tags": []
          },
          "execution_count": 13
        }
      ]
    },
    {
      "cell_type": "code",
      "metadata": {
        "id": "1rVFmHd51XqQ",
        "colab_type": "code",
        "outputId": "ca4987d3-dbd8-4c08-8769-1cb3b2128998",
        "colab": {
          "base_uri": "https://localhost:8080/",
          "height": 275
        }
      },
      "source": [
        "import matplotlib.pyplot as plt\n",
        "\n",
        "a = list(range(30))\n",
        "plt.plot( a, dm)\n",
        "plt.show()"
      ],
      "execution_count": 0,
      "outputs": [
        {
          "output_type": "display_data",
          "data": {
            "image/png": "[encoded data removed]",
            "text/plain": [
              "<Figure size 432x288 with 1 Axes>"
            ]
          },
          "metadata": {
            "tags": [],
            "needs_background": "light"
          }
        }
      ]
    },
    {
      "cell_type": "code",
      "metadata": {
        "id": "qZ0fBUrfs8n3",
        "colab_type": "code",
        "colab": {}
      },
      "source": [
        "# record the time of test series \n",
        "\n",
        "# try to plot \n"
      ],
      "execution_count": 0,
      "outputs": []
    },
    {
      "cell_type": "code",
      "metadata": {
        "id": "BSg0xIa-689J",
        "colab_type": "code",
        "outputId": "4de0e1a1-40ee-473d-f347-6f8cc8f8e393",
        "colab": {
          "base_uri": "https://localhost:8080/",
          "height": 34
        }
      },
      "source": [
        "from gluonts.model.simple_feedforward import SimpleFeedForwardEstimator\n",
        "from gluonts.trainer import Trainer\n",
        "\n",
        "estimator_simple = SimpleFeedForwardEstimator(\n",
        "    prediction_length = 30,\n",
        "    context_length = 100,\n",
        "    freq=\"1H\",\n",
        "    trainer= Trainer(ctx=\"cpu\", epochs=5, learning_rate=1e-3, hybridize=True, num_batches_per_epoch=50)\n",
        ")"
      ],
      "execution_count": 0,
      "outputs": [
        {
          "output_type": "stream",
          "text": [
            "INFO:root:Using CPU\n"
          ],
          "name": "stderr"
        }
      ]
    },
    {
      "cell_type": "code",
      "metadata": {
        "id": "7FYKmrG07dfM",
        "colab_type": "code",
        "outputId": "93125561-d69b-4b98-d364-6cbe72f7ab18",
        "colab": {
          "base_uri": "https://localhost:8080/",
          "height": 478
        }
      },
      "source": [
        "predictor_simple = estimator_simple.train(training_data_neweng) # training_data_caiso"
      ],
      "execution_count": 0,
      "outputs": [
        {
          "output_type": "stream",
          "text": [
            "INFO:root:Start model training\n",
            "INFO:root:Epoch[0] Learning rate is 0.001\n",
            "  0%|          | 0/50 [00:00<?, ?it/s]INFO:root:Number of parameters in SimpleFeedForwardTrainingNetwork: 53363\n"
          ],
          "name": "stderr"
        },
        {
          "output_type": "stream",
          "text": [
            "learning rate from ``lr_scheduler`` has been overwritten by ``learning_rate`` in optimizer.\n"
          ],
          "name": "stdout"
        },
        {
          "output_type": "stream",
          "text": [
            "\r100%|██████████| 50/50 [00:00<00:00, 120.30it/s, avg_epoch_loss=9]\n",
            "INFO:root:Epoch[0] Elapsed time 0.420 seconds\n",
            "INFO:root:Epoch[0] Evaluation metric 'epoch_loss'=8.995470\n",
            "INFO:root:Epoch[1] Learning rate is 0.001\n",
            "100%|██████████| 50/50 [00:00<00:00, 142.54it/s, avg_epoch_loss=8.27]\n",
            "INFO:root:Epoch[1] Elapsed time 0.353 seconds\n",
            "INFO:root:Epoch[1] Evaluation metric 'epoch_loss'=8.268792\n",
            "INFO:root:Epoch[2] Learning rate is 0.001\n",
            "100%|██████████| 50/50 [00:00<00:00, 151.88it/s, avg_epoch_loss=8.01]\n",
            "INFO:root:Epoch[2] Elapsed time 0.334 seconds\n",
            "INFO:root:Epoch[2] Evaluation metric 'epoch_loss'=8.007603\n",
            "INFO:root:Epoch[3] Learning rate is 0.001\n",
            "100%|██████████| 50/50 [00:00<00:00, 114.66it/s, avg_epoch_loss=7.85]\n",
            "INFO:root:Epoch[3] Elapsed time 0.439 seconds\n",
            "INFO:root:Epoch[3] Evaluation metric 'epoch_loss'=7.852622\n",
            "INFO:root:Epoch[4] Learning rate is 0.001\n",
            "100%|██████████| 50/50 [00:00<00:00, 151.42it/s, avg_epoch_loss=7.75]\n",
            "INFO:root:Epoch[4] Elapsed time 0.333 seconds\n",
            "INFO:root:Epoch[4] Evaluation metric 'epoch_loss'=7.752839\n",
            "INFO:root:Loading parameters from best epoch (4)\n",
            "INFO:root:Final loss: 7.7528385829925535 (occurred at epoch 4)\n",
            "INFO:root:End model training\n"
          ],
          "name": "stderr"
        }
      ]
    },
    {
      "cell_type": "code",
      "metadata": {
        "id": "g1GLy_Fr7khf",
        "colab_type": "code",
        "colab": {}
      },
      "source": [
        "from gluonts.evaluation.backtest import make_evaluation_predictions\n",
        "forecast_sim, ts_sim = make_evaluation_predictions(dataset=test_NE_dataset, predictor=predictor_simple, num_samples=10) # caiso_test_dataset"
      ],
      "execution_count": 0,
      "outputs": []
    },
    {
      "cell_type": "code",
      "metadata": {
        "id": "EdlqOOr4-GEQ",
        "colab_type": "code",
        "colab": {}
      },
      "source": [
        "simforecasts= list(forecast_sim)\n",
        "simtss = list(ts_sim)"
      ],
      "execution_count": 0,
      "outputs": []
    },
    {
      "cell_type": "code",
      "metadata": {
        "id": "EE-UCh0bv8tB",
        "colab_type": "code",
        "colab": {}
      },
      "source": [
        "sim_ts_entry = simtss[0]\n",
        "sim_forecast_entry= simforecasts[0]"
      ],
      "execution_count": 0,
      "outputs": []
    },
    {
      "cell_type": "code",
      "metadata": {
        "id": "4ix8TC4lwGcf",
        "colab_type": "code",
        "outputId": "e4508509-ad26-4a2c-85bb-29aa3dbfcfd7",
        "colab": {
          "base_uri": "https://localhost:8080/",
          "height": 470
        }
      },
      "source": [
        "plot_prob_forecasts(sim_ts_entry, sim_forecast_entry)"
      ],
      "execution_count": 0,
      "outputs": [
        {
          "output_type": "stream",
          "text": [
            "INFO:numexpr.utils:NumExpr defaulting to 2 threads.\n"
          ],
          "name": "stderr"
        },
        {
          "output_type": "display_data",
          "data": {
            "image/png": "[encoded data removed]",
            "text/plain": [
              "<Figure size 720x504 with 1 Axes>"
            ]
          },
          "metadata": {
            "tags": [],
            "needs_background": "light"
          }
        }
      ]
    },
    {
      "cell_type": "code",
      "metadata": {
        "id": "DudUa2U4-QVU",
        "colab_type": "code",
        "colab": {}
      },
      "source": [
        "sm = simforecasts[0].mean"
      ],
      "execution_count": 0,
      "outputs": []
    },
    {
      "cell_type": "code",
      "metadata": {
        "id": "IrRCXy_3JMxW",
        "colab_type": "code",
        "outputId": "c98fb797-e860-4276-da5e-79e9bcf44274",
        "colab": {
          "base_uri": "https://localhost:8080/",
          "height": 158
        }
      },
      "source": [
        "sm"
      ],
      "execution_count": 0,
      "outputs": [
        {
          "output_type": "execute_result",
          "data": {
            "text/plain": [
              "array([-6.3711592e-12,  4.9477627e-11,  2.2857116e-11,  6.5569009e-11,\n",
              "        1.2326830e-10, -2.9853754e-12,  5.2458975e-11, -2.1367130e-11,\n",
              "        7.2202687e-12,  3.5247399e-11,  2.6024891e-11,  2.0814170e-11,\n",
              "        2.5721958e-11, -1.3999510e-12, -1.2954897e-11, -1.3925419e-11,\n",
              "        1.7035595e-11,  2.7604382e-11, -2.8879562e-11, -5.6246717e-12,\n",
              "       -1.9612503e-11,  7.4724454e-12, -4.7708136e-11, -4.9784499e-11,\n",
              "        6.4138354e-11,  7.0450049e-11, -1.4262825e-11,  2.2299105e-11,\n",
              "       -1.6318122e-11, -2.8550300e-12], dtype=float32)"
            ]
          },
          "metadata": {
            "tags": []
          },
          "execution_count": 17
        }
      ]
    },
    {
      "cell_type": "code",
      "metadata": {
        "id": "LZiZT-ma-UON",
        "colab_type": "code",
        "outputId": "06e1c0fe-f046-40bf-bed0-c0e01dd1cc6e",
        "colab": {
          "base_uri": "https://localhost:8080/",
          "height": 54
        }
      },
      "source": [
        "simforecasts[0]"
      ],
      "execution_count": 0,
      "outputs": [
        {
          "output_type": "execute_result",
          "data": {
            "text/plain": [
              "gluonts.model.forecast.SampleForecast(freq=\"1H\", info=None, item_id=None, samples=numpy.array([[-1.8359766831843594e-11, 7.899934179045331e-12, 2.6523162138802903e-11, -7.867351518517363e-13, 2.5193375163823362e-11, 5.051912013720461e-11, 4.862155469909091e-11, 4.302871947636788e-11, -3.660967709540053e-11, 7.924452066765397e-11, 6.703438498734116e-11, -1.5475283554611252e-10, -3.676703472926812e-12, 1.7206185087825787e-10, 2.705581036988036e-10, 1.2122129688929562e-10, -5.633246299985295e-11, -1.3077360375146618e-11, -1.1234397093162762e-11, 4.377575385516863e-11, -4.069867706735231e-11, 1.3058223946593728e-10, -1.2966458462493335e-10, 7.692396524448808e-13, 5.8832214273885075e-12, 1.1408407551982691e-10, 5.80261463878351e-11, -2.81768445381525e-12, 5.113006892876193e-11, 2.2835495647188786e-11], [-4.9098294874205806e-11, -3.259488165485713e-11, 1.5977640044351205e-10, -2.830121900720961e-11, 2.933064555121767e-11, -9.039887761963517e-12, 6.386441375738627e-11, 5.964848059925032e-11, 3.721066510475879e-11, 1.967075590955658e-12, 1.2237286184380025e-10, -1.1093244378646006e-11, 6.631632049058922e-11, 9.28691776258539e-11, 9.227252989463253e-11, 5.339815742355647e-11, -1.8774047594316556e-10, 2.8015447600671095e-11, 1.6716497630575589e-10, 4.671148884360932e-12, -3.7004423830699906e-11, 2.3787543115827425e-12, 1.8298496398672093e-11, 9.210920220992236e-11, -9.936981099079034e-11, -1.4500330623723467e-11, 9.213935864282874e-11, 1.7420861628258955e-11, 2.5280255319670708e-11, 1.0010495210543979e-10], [1.1630032353826536e-10, -2.4761494937797224e-11, 8.07427250060222e-11, -8.97250156117746e-12, -3.7109822159653305e-11, -1.6444257067149692e-10, 6.3842086998888714e-12, 7.351223102469717e-11, 4.493325503340806e-11, -7.14428100012654e-11, -4.555086169366618e-11, 1.2678380567621161e-10, -6.442182204358105e-11, 6.139885821987434e-11, -2.5744927023563235e-11, -1.1232236668545781e-10, 1.0332228995990622e-11, -3.2550649675666676e-11, 2.369581093841777e-12, 3.1215779960902523e-11, -7.824390441113493e-11, -2.5289051408527996e-10, 7.76613426345385e-11, 8.896543918224253e-11, 4.676237175260667e-11, 4.2205926253924275e-11, 1.744923476543203e-11, -3.045663027334555e-11, -6.669253344027126e-11, -1.6495266957905486e-11], [-8.666567463677666e-11, 6.991594109218013e-11, 9.25147181085606e-11, 6.956283639392158e-12, 6.268782021257024e-11, 4.272744658084804e-11, 5.392728624764587e-11, 1.5911930106859984e-10, 6.324201579088751e-11, 6.6106798854437265e-12, 8.737299772576534e-11, -4.341845286082169e-11, 7.153699160822313e-11, -8.192884738689177e-12, 5.7485878036944715e-12, 1.8085172248660797e-11, 3.482185373382407e-11, -3.9209538393869536e-11, 1.1463667515254627e-10, -9.784778889909695e-12, 1.9042531440582877e-11, 1.782557434992782e-10, 5.742523817575673e-11, -9.312203091971227e-11, 7.960939546469703e-11, 4.68295974914712e-12, 7.506116561639686e-11, 1.5934073505086133e-11, 7.100882382093943e-11, 5.4630400897481834e-11], [3.209255430847158e-11, 1.4882466786714232e-11, -2.8392177497948978e-11, -1.7376777100563956e-11, 8.572675555540421e-12, 8.310085952700774e-11, -9.49292450203032e-11, 2.6718616468607292e-12, 4.39320697875889e-11, 1.3534098841638809e-10, 1.060324189561257e-10, 1.4359789746176688e-10, 1.3050824310134601e-11, -1.9473242462986207e-11, 1.7512919933682092e-11, 4.2330420418901227e-11, -3.11792432150515e-11, -2.5277863135997336e-11, -6.652960127251362e-11, 5.730252383706613e-11, 4.038074562229266e-12, 8.254499514470659e-12, -1.0015695954893045e-12, -5.55726905465681e-13, -2.6942807360152976e-11, -4.403016493070844e-11, 1.4339143587782655e-11, 2.241353977416871e-11, -9.639186150656176e-12, 6.64633417746252e-11], [-2.950627797648764e-10, 9.502092862545553e-11, -1.5164515476673301e-10, 9.09220684852663e-11, 2.9071639193190002e-11, -5.119844131984408e-11, 3.4220009638430415e-12, 2.847842621445107e-11, 1.201599791889052e-10, 1.1611461792071509e-11, 8.085784125588802e-11, 3.3815712816714916e-12, 1.4864510664014396e-11, -7.248583677732512e-12, 6.388517492794676e-11, 7.278445901537367e-11, -5.281462767126044e-11, 6.964613608051451e-11, 1.350666245514276e-10, -1.6578242684889277e-12, 7.540198326827507e-11, -5.230036542736016e-11, 4.550619950305368e-11, 2.3228492046500904e-11, 6.470939062364067e-11, 9.839650622067708e-11, 1.169606772544185e-11, 1.60881655220102e-10, 6.115982720267255e-11, -1.659812391696658e-11], [2.3139758165147128e-10, 7.832354209647008e-11, 1.8024847239783703e-11, -1.1377158763703488e-11, 4.427981245558321e-11, 4.353134866463826e-11, 5.931982682838566e-11, 8.938549900250337e-11, 8.933866146865199e-11, 3.844911611317059e-10, 6.854374706710686e-12, -2.1054711793477843e-11, 7.16363912633966e-11, 6.025144272392424e-11, 2.1839859087879887e-10, 5.6955266891645095e-11, 1.8551395142285543e-10, -2.338511884136807e-10, 7.915500893629357e-11, 7.869008222805007e-11, -4.0733499906409065e-11, -1.0302557418295777e-11, -2.206043264729729e-10, -5.703327133482761e-12, 1.2961860751392607e-10, 2.6798621915319343e-12, -6.276479336264629e-12, 1.1633336655103577e-10, 6.450873168972748e-11, -2.6599854263675837e-11], [-6.852778067223397e-11, 1.472291732973474e-11, 1.885307361615407e-11, -1.007020231091893e-10, 9.266565292875839e-11, -4.759353328109839e-11, -7.528147376312244e-12, 1.9507391535444896e-10, 6.24339677179897e-11, 6.968864374456984e-11, -7.738089682907123e-12, 1.1900827545652248e-10, 2.2899597496017776e-10, 8.712868621030267e-11, -1.0371820069465798e-10, 3.3233986309472163e-12, -7.430035753319686e-11, 8.313209842736313e-11, -9.432030850797801e-11, -1.9980609181069475e-11, -5.227536112317743e-11, 2.829831334538735e-11, -1.332703114531597e-10, 6.22688151041828e-11, 5.244015638394828e-11, 8.618645380709111e-11, 6.442859700611647e-12, 1.6374674186026006e-11, -4.392796196239779e-11, -2.6476335013292385e-11], [1.0222839241791348e-10, 1.0245811837839014e-10, 5.6798756670195516e-11, 1.1431151858420918e-10, 7.990320904927017e-11, 3.064796680329884e-11, 6.700502652723372e-11, -5.744236683535853e-11, -1.76494763248769e-10, 9.650182562770393e-12, 1.0224287388949094e-10, 2.0281133716881783e-10, 1.2923623282645735e-10, 4.9986941669244445e-11, 1.34227004511267e-10, 2.0188909571894342e-11, 1.4295589711998957e-10, 1.033488503110469e-10, -6.018165826793265e-11, -1.5475443149171042e-10, 1.1127040261404986e-10, 4.3995373316674247e-11, 8.913077220729093e-11, -1.601799942685389e-10, 8.94215083924177e-12, 3.199217973870461e-11, 2.724682146570956e-10, -3.4059140924247444e-11, -1.862093465532233e-11, -3.360365111171326e-11], [7.197512724710364e-11, -2.837117043033577e-12, -3.042096088923252e-11, 7.101402105247345e-11, 4.766675942846632e-11, -5.697798829973344e-11, -2.2696345670925044e-12, 8.260499922974063e-11, 7.837909488106476e-11, 1.4463123754193674e-10, -1.4459675644340475e-11, 3.2953769921184595e-12, 4.758869340260041e-11, 2.259881864974389e-11, -8.194060707733541e-11, -1.6983246406421237e-11, 5.2214378654102944e-11, -2.6347737880350053e-10, 6.242238670406408e-11, -7.706973947918527e-11, 1.1847064995684775e-10, -3.805718587490681e-11, 1.0326014349137935e-11, 3.815170748766583e-11, -2.0716661025543814e-11, 1.7403820051775654e-10, -1.5286966137395552e-10, -4.3750718325963334e-11, 3.5635300266179115e-11, 5.416096043875385e-11]], numpy.dtype(\"float32\")), start_date=pandas.Timestamp(\"2020-01-01 02:00:00\", freq=\"H\"))"
            ]
          },
          "metadata": {
            "tags": []
          },
          "execution_count": 34
        }
      ]
    },
    {
      "cell_type": "code",
      "metadata": {
        "id": "70Ws2rEk_OPX",
        "colab_type": "code",
        "outputId": "4fafd215-bf4c-4290-f38f-49be09f79385",
        "colab": {
          "base_uri": "https://localhost:8080/",
          "height": 34
        }
      },
      "source": [
        "from gluonts.evaluation import Evaluator\n",
        "\n",
        "evaluator = Evaluator(quantiles=[0.1, 0.5, 0.9])\n",
        "agg_metrics, item_metrics = evaluator(iter(deepare_tss), iter(deepare_forecasts), num_series=len(norm_test_dataset))"
      ],
      "execution_count": 0,
      "outputs": [
        {
          "output_type": "stream",
          "text": [
            "Running evaluation: 100%|██████████| 1/1 [00:00<00:00, 63.50it/s]\n"
          ],
          "name": "stderr"
        }
      ]
    },
    {
      "cell_type": "code",
      "metadata": {
        "id": "mnHjwT3n6JcJ",
        "colab_type": "code",
        "outputId": "170b4c7e-5762-4158-853b-c5e4320b3a3d",
        "colab": {
          "base_uri": "https://localhost:8080/",
          "height": 97
        }
      },
      "source": [
        "item_metrics.head()"
      ],
      "execution_count": 0,
      "outputs": [
        {
          "output_type": "execute_result",
          "data": {
            "text/html": [
              "<div>\n",
              "<style scoped>\n",
              "    .dataframe tbody tr th:only-of-type {\n",
              "        vertical-align: middle;\n",
              "    }\n",
              "\n",
              "    .dataframe tbody tr th {\n",
              "        vertical-align: top;\n",
              "    }\n",
              "\n",
              "    .dataframe thead th {\n",
              "        text-align: right;\n",
              "    }\n",
              "</style>\n",
              "<table border=\"1\" class=\"dataframe\">\n",
              "  <thead>\n",
              "    <tr style=\"text-align: right;\">\n",
              "      <th></th>\n",
              "      <th>item_id</th>\n",
              "      <th>MSE</th>\n",
              "      <th>abs_error</th>\n",
              "      <th>abs_target_sum</th>\n",
              "      <th>abs_target_mean</th>\n",
              "      <th>seasonal_error</th>\n",
              "      <th>MASE</th>\n",
              "      <th>sMAPE</th>\n",
              "      <th>MSIS</th>\n",
              "      <th>QuantileLoss[0.1]</th>\n",
              "      <th>Coverage[0.1]</th>\n",
              "      <th>QuantileLoss[0.5]</th>\n",
              "      <th>Coverage[0.5]</th>\n",
              "      <th>QuantileLoss[0.9]</th>\n",
              "      <th>Coverage[0.9]</th>\n",
              "    </tr>\n",
              "  </thead>\n",
              "  <tbody>\n",
              "    <tr>\n",
              "      <th>0</th>\n",
              "      <td>NaN</td>\n",
              "      <td>0.199056</td>\n",
              "      <td>11.860371</td>\n",
              "      <td>11.860371</td>\n",
              "      <td>0.395346</td>\n",
              "      <td>NaN</td>\n",
              "      <td>NaN</td>\n",
              "      <td>2.0</td>\n",
              "      <td>NaN</td>\n",
              "      <td>2.372074</td>\n",
              "      <td>0.0</td>\n",
              "      <td>11.860371</td>\n",
              "      <td>0.0</td>\n",
              "      <td>21.348668</td>\n",
              "      <td>0.0</td>\n",
              "    </tr>\n",
              "  </tbody>\n",
              "</table>\n",
              "</div>"
            ],
            "text/plain": [
              "   item_id       MSE  ...  QuantileLoss[0.9]  Coverage[0.9]\n",
              "0      NaN  0.199056  ...          21.348668            0.0\n",
              "\n",
              "[1 rows x 15 columns]"
            ]
          },
          "metadata": {
            "tags": []
          },
          "execution_count": 20
        }
      ]
    },
    {
      "cell_type": "code",
      "metadata": {
        "id": "qAW1fCyg64R6",
        "colab_type": "code",
        "colab": {}
      },
      "source": [
        "import matplotlib.pyplot as plt\n",
        "\n",
        "def plot_prob_forecasts(ts_entry, forecast_entry):\n",
        "    plot_length = 150\n",
        "    prediction_intervals = (50.0, 90.0) # change the interval values \n",
        "    legend = [\"observations\", \"median prediction\"] + [f\"{k}% prediction interval\" for k in prediction_intervals][::-1]\n",
        "\n",
        "    fig, ax = plt.subplots(1, 1, figsize=(10, 7))\n",
        "    ts_entry[-plot_length:].plot(ax=ax)  # plot the time series\n",
        "    forecast_entry.plot(prediction_intervals=prediction_intervals, color='g')\n",
        "    plt.grid(which=\"both\")\n",
        "    plt.legend(legend, loc=\"upper left\")\n",
        "    plt.show()"
      ],
      "execution_count": 0,
      "outputs": []
    },
    {
      "cell_type": "code",
      "metadata": {
        "id": "-hnwBiuI6-NW",
        "colab_type": "code",
        "colab": {}
      },
      "source": [
        "d_ts_entry = deepare_tss[0]\n",
        "d_forecast_entry= deepare_forecasts[0]"
      ],
      "execution_count": 0,
      "outputs": []
    },
    {
      "cell_type": "code",
      "metadata": {
        "id": "9c4NhoMF13T6",
        "colab_type": "code",
        "colab": {}
      },
      "source": [
        ""
      ],
      "execution_count": 0,
      "outputs": []
    },
    {
      "cell_type": "code",
      "metadata": {
        "id": "F9HrP_q57Gjh",
        "colab_type": "code",
        "outputId": "940f203c-c562-4fed-ed74-849eb7634d5e",
        "colab": {
          "base_uri": "https://localhost:8080/",
          "height": 452
        }
      },
      "source": [
        "plot_prob_forecasts(d_ts_entry, d_forecast_entry)"
      ],
      "execution_count": 0,
      "outputs": [
        {
          "output_type": "display_data",
          "data": {
            "image/png": "[encoded data removed]",
            "text/plain": [
              "<Figure size 720x504 with 1 Axes>"
            ]
          },
          "metadata": {
            "tags": [],
            "needs_background": "light"
          }
        }
      ]
    },
    {
      "cell_type": "code",
      "metadata": {
        "id": "60elNczd-4fJ",
        "colab_type": "code",
        "outputId": "2b2694a3-3ce5-415d-8d5d-7c244c10e654",
        "colab": {
          "base_uri": "https://localhost:8080/",
          "height": 34
        }
      },
      "source": [
        "len(train_ds1)"
      ],
      "execution_count": 0,
      "outputs": [
        {
          "output_type": "execute_result",
          "data": {
            "text/plain": [
              "77000"
            ]
          },
          "metadata": {
            "tags": []
          },
          "execution_count": 33
        }
      ]
    },
    {
      "cell_type": "markdown",
      "metadata": {
        "id": "2lumWeQqzPut",
        "colab_type": "text"
      },
      "source": [
        "gluon loss various functions \n"
      ]
    },
    {
      "cell_type": "code",
      "metadata": {
        "id": "I9pxDGMhzRU-",
        "colab_type": "code",
        "outputId": "40e83c27-e846-4de4-e0ea-1b12fa0fa71c",
        "colab": {
          "base_uri": "https://localhost:8080/",
          "height": 70
        }
      },
      "source": [
        "import mxnet\n",
        "from mxnet.gluon import nn, loss as gloss\n",
        "\n",
        "import mxnet as mx\n",
        "import mxnet.ndarray as nd\n",
        "from mxnet import nd, autograd, gluon\n",
        "from mxnet.gluon.data.vision import transforms\n",
        "\n",
        "# L2 Loss\n",
        "loss2 = gloss.L2Loss()\n",
        "\n",
        "# sample data \n",
        "x = nd.ones((2,))\n",
        "y = nd.ones((2,)) * 2\n",
        "loss2(x, y)\n",
        "\n",
        "# Huber loss\n",
        "loss_huber = gloss.HuberLoss(rho=0.85) # threshold rho \n",
        "\n",
        "loss = gloss.SoftmaxCrossEntropyLoss()\n",
        "x = nd.array([[1, 10], [8, 2]])\n",
        "y = nd.array([0, 1])\n",
        "loss(x, y)"
      ],
      "execution_count": 0,
      "outputs": [
        {
          "output_type": "execute_result",
          "data": {
            "text/plain": [
              "\n",
              "[9.000123  6.0024757]\n",
              "<NDArray 2 @cpu(0)>"
            ]
          },
          "metadata": {
            "tags": []
          },
          "execution_count": 21
        }
      ]
    },
    {
      "cell_type": "code",
      "metadata": {
        "id": "WzFlFax4HuGt",
        "colab_type": "code",
        "outputId": "7f38c08b-b074-4e3d-b930-893b5571a865",
        "colab": {
          "base_uri": "https://localhost:8080/",
          "height": 70
        }
      },
      "source": [
        "xh = nd.array([1,2,3,4,5])\n",
        "yh = nd.array([2,2,3,4,5])\n",
        "loss_huber(xh, yh)"
      ],
      "execution_count": 0,
      "outputs": [
        {
          "output_type": "execute_result",
          "data": {
            "text/plain": [
              "\n",
              "[0.575 0.    0.    0.    0.   ]\n",
              "<NDArray 5 @cpu(0)>"
            ]
          },
          "metadata": {
            "tags": []
          },
          "execution_count": 14
        }
      ]
    },
    {
      "cell_type": "code",
      "metadata": {
        "id": "DKuoKodsLQMr",
        "colab_type": "code",
        "colab": {}
      },
      "source": [
        "# choose random x neg\n",
        "import random\n",
        "import numpy as np\n",
        "# procedure to choose xneg by sampling from other subseries \n",
        "\n",
        "\n",
        "other_subseries = [morningdf, earlymorningdf, afternoondf] # when evening_train\n",
        "other_subseries = [eveningdf, earlymorningdf, afternoondf] # when morning_train\n",
        "other_subseries = [morningdf, eveningdf, afternoondf] # when earlymorningtrain\n",
        "#other_subseries = [morningdf, earlymorningdf, eveningdf] # when afternoontrain\n",
        "\n",
        "# choose one subseries at random\n",
        "number_other = 3\n",
        "\n",
        "def choose_xneg(alength): # returns array of length alength\n",
        "    rand_num = random.randint(0, number_other-1)\n",
        "    target_neg_df = other_subseries[rand_num]\n",
        "    # sample of length alength\n",
        "    negarray = np.array(target_neg_df['iso'])\n",
        "    len_negarray = len(negarray)\n",
        "    start = np.random.randint(0, len_negarray - alength)\n",
        "    return negarray[start:start+alength]\n",
        "\n",
        "\n"
      ],
      "execution_count": 0,
      "outputs": []
    },
    {
      "cell_type": "code",
      "metadata": {
        "id": "FL36vZPFo3Ne",
        "colab_type": "code",
        "colab": {}
      },
      "source": [
        "# test above procedure\n",
        "aneg = choose_xneg(10)"
      ],
      "execution_count": 0,
      "outputs": []
    },
    {
      "cell_type": "code",
      "metadata": {
        "id": "bwC5Qp-tVFU5",
        "colab_type": "code",
        "colab": {}
      },
      "source": [
        "#from scipy.linalg import norm\n",
        "\n",
        "# triplet loss compute\n",
        "def compute_triplet_loss( xpos, xneg, pred):\n",
        "  margin = 1\n",
        "  array_len = len(xpos)\n",
        "  tot = 0\n",
        "  for i in range(0, array_len):\n",
        "\n",
        "    ppos = pow(xpos[i] - pred[i], 2)\n",
        "    pneg = pow(xneg[i]- pred[i], 2)\n",
        "    \n",
        "    addtotot= max(ppos - pneg + margin, 0)\n",
        "    \n",
        "    tot = tot+ max(ppos - pneg + margin, 0)\n",
        "\n",
        "  return tot\n",
        "\n"
      ],
      "execution_count": 0,
      "outputs": []
    },
    {
      "cell_type": "code",
      "metadata": {
        "id": "u4ryZMCl1ohR",
        "colab_type": "code",
        "outputId": "c582f582-acaa-4709-f90a-316707097e60",
        "colab": {
          "base_uri": "https://localhost:8080/",
          "height": 567
        }
      },
      "source": [
        "compute_triplet_loss(apos,aneg, apred)"
      ],
      "execution_count": 0,
      "outputs": [
        {
          "output_type": "stream",
          "text": [
            "ppos 4\n",
            "pneg 8.939782138254115\n",
            "25.060217861745883\n",
            "ppos 4\n",
            "pneg 15.919675829032945\n",
            "18.080324170967053\n",
            "ppos 4\n",
            "pneg 24.900722744822676\n",
            "9.099277255177324\n",
            "ppos 4\n",
            "pneg 35.88084754260405\n",
            "0\n",
            "ppos 4\n",
            "pneg 48.8125207866782\n",
            "0\n",
            "ppos 4\n",
            "pneg 63.80601733040808\n",
            "0\n",
            "ppos 4\n",
            "pneg 80.78175109514115\n",
            "0\n",
            "ppos 4\n",
            "pneg 99.7597931392038\n",
            "0\n",
            "ppos 4\n",
            "pneg 120.73829742397676\n",
            "0\n",
            "ppos 4\n",
            "pneg 143.71726394946006\n",
            "0\n"
          ],
          "name": "stdout"
        },
        {
          "output_type": "execute_result",
          "data": {
            "text/plain": [
              "52.239819287890256"
            ]
          },
          "metadata": {
            "tags": []
          },
          "execution_count": 54
        }
      ]
    },
    {
      "cell_type": "code",
      "metadata": {
        "id": "MsDk88d54B0C",
        "colab_type": "code",
        "colab": {}
      },
      "source": [
        "from mxnet.gluon.loss import TripletLoss\n",
        "\n",
        "tloss = TripletLoss(margin=30)\n",
        "\n",
        "from mxnet.gluon.loss import TripletLoss\n",
        "\n",
        "tloss = TripletLoss(margin=10)"
      ],
      "execution_count": 0,
      "outputs": []
    },
    {
      "cell_type": "code",
      "metadata": {
        "id": "fnUAQaD44R30",
        "colab_type": "code",
        "outputId": "77910c82-560c-4dbf-aabf-e065c93cb5c8",
        "colab": {
          "base_uri": "https://localhost:8080/",
          "height": 87
        }
      },
      "source": [
        "from mxnet import nd\n",
        "tloss(nd.array(apred), nd.array(apos), nd.array(aneg))"
      ],
      "execution_count": 0,
      "outputs": [
        {
          "output_type": "execute_result",
          "data": {
            "text/plain": [
              "\n",
              "[25.060219 18.080324  9.099279  0.        0.        0.        0.\n",
              "  0.        0.        0.      ]\n",
              "<NDArray 10 @cpu(0)>"
            ]
          },
          "metadata": {
            "tags": []
          },
          "execution_count": 58
        }
      ]
    },
    {
      "cell_type": "markdown",
      "metadata": {
        "id": "-_GicBV-BrpM",
        "colab_type": "text"
      },
      "source": [
        "custom_triplet_loss step 1"
      ]
    },
    {
      "cell_type": "code",
      "metadata": {
        "id": "kivh1Fynx9YE",
        "colab_type": "code",
        "colab": {}
      },
      "source": [
        "\n",
        "# custom step 1\n",
        "from gluonts.model.estimator import GluonEstimator\n",
        "from gluonts.model.predictor import Predictor, RepresentableBlockPredictor\n",
        "from gluonts.core.component import validated\n",
        "from gluonts.trainer import Trainer \n",
        "from gluonts.support.util import copy_parameters\n",
        "from gluonts.transform import ExpectedNumInstanceSampler, Transformation, InstanceSplitter\n",
        "from mxnet.gluon import HybridBlock \n",
        "from mxnet import gluon\n",
        "from gluonts.dataset.field_names import FieldName\n",
        "\n",
        "from mxnet.gluon import nn, loss as gloss\n",
        "import mxnet as mx\n",
        "import mxnet.ndarray as nd\n",
        "from mxnet import nd, autograd, gluon\n",
        "from mxnet.gluon.data.vision import transforms\n"
      ],
      "execution_count": 0,
      "outputs": []
    },
    {
      "cell_type": "code",
      "metadata": {
        "id": "J8E6sG39VtvR",
        "colab_type": "code",
        "colab": {}
      },
      "source": [
        "# custom step 1 b\n",
        "class MyNetwork(gluon.HybridBlock):\n",
        "    def __init__(self, prediction_length, num_cells, **kwargs):\n",
        "        super().__init__(**kwargs)\n",
        "        self.prediction_length = prediction_length\n",
        "        self.num_cells = num_cells\n",
        "    \n",
        "        with self.name_scope():\n",
        "            # Set up a 4 layer neural network that directly predicts the target values\n",
        "            self.nn = mx.gluon.nn.HybridSequential()\n",
        "            self.nn.add(mx.gluon.nn.Dense(units=self.num_cells, activation='relu'))\n",
        "            self.nn.add(mx.gluon.nn.Dense(units=self.num_cells, activation='relu'))\n",
        "            self.nn.add(mx.gluon.nn.Dense(units=self.num_cells, activation='relu'))\n",
        "            self.nn.add(mx.gluon.nn.Dense(units=self.prediction_length, activation='softrelu'))\n",
        "\n",
        "class MyTrainNetwork1(MyNetwork):    \n",
        "    def hybrid_forward(self, F, past_target, future_target): # add input \n",
        "        prediction = self.nn(past_target)\n",
        "        # calculate L1 loss with the future_target to learn the median\n",
        "\n",
        "        # change the loss \n",
        "        plen = len(prediction)\n",
        "\n",
        "        print(\"len prediction is,\", plen)\n",
        "        #print(\"prediction is,\", prediction)\n",
        "        #print(\"future target is,\", future_target)\n",
        "\n",
        "        # change loss \n",
        "        # L2 loss\n",
        "\n",
        "        loss2 = gloss.L2Loss()\n",
        "\n",
        "        # huber loss\n",
        "        \n",
        "        #loss_huber = gloss.HuberLoss(rho=0.85)\n",
        "        #hloss= loss_huber( nd.array(prediction), nd.array(future_target))\n",
        "\n",
        "        # randomly choose xneg\n",
        "\n",
        "\n",
        "        predlen = 20\n",
        "        xneg = choose_xneg(predlen)\n",
        "\n",
        "        # compare each sample with other (prediction and future target)\n",
        "        array_trip_loss =[]\n",
        "        for i in range(0, plen):\n",
        "          pred_i = prediction[i]\n",
        "          ft_i = future_target[i]\n",
        "          triploss_i = compute_triplet_loss(ft_i, xneg, pred_i)\n",
        "          array_trip_loss.append(triploss_i)\n",
        "\n",
        "        #triploss= tloss(nd.array(future_target), nd.array(xneg), nd.array(prediction))\n",
        "\n",
        "        #print(\"triplet loss:\", triploss)\n",
        "        \n",
        "        #return (prediction - future_target).abs().mean(axis=-1)\n",
        "        #print(\"hloss\", hloss)\n",
        "        #return hloss\n",
        "        return array_trip_loss\n",
        "\n",
        "class MyPredNetwork1(MyTrainNetwork1):\n",
        "    # The prediction network only receives past_target and returns predictions\n",
        "    def hybrid_forward(self, F, past_target):\n",
        "        prediction = self.nn(past_target)\n",
        "        return prediction.expand_dims(axis=1)\n",
        "\n",
        "class MyEstimator1(GluonEstimator):\n",
        "  @validated()\n",
        "  def __init__(\n",
        "      self,\n",
        "      prediction_length:int,\n",
        "      context_length:int,\n",
        "      freq:str,\n",
        "      num_cells:int,\n",
        "      trainer: Trainer=Trainer()\n",
        "  ) -> None:\n",
        "      super().__init__(trainer=trainer)\n",
        "      self.prediction_length = prediction_length\n",
        "      self.context_length = context_length\n",
        "      self.freq = freq\n",
        "      self.num_cells = num_cells\n",
        "  def create_transformation(self):\n",
        "    return InstanceSplitter(\n",
        "                    target_field=FieldName.TARGET,\n",
        "                    is_pad_field=FieldName.IS_PAD,\n",
        "                    start_field=FieldName.START,\n",
        "                    forecast_start_field=FieldName.FORECAST_START,\n",
        "                    train_sampler=ExpectedNumInstanceSampler(num_instances=1),\n",
        "                    past_length=self.context_length,\n",
        "                    future_length=self.prediction_length\n",
        "                )\n",
        "  def create_training_network(self) -> MyTrainNetwork1:\n",
        "    return MyTrainNetwork1(\n",
        "        prediction_length = self.prediction_length,\n",
        "        num_cells= self.num_cells\n",
        "    )\n",
        "  def create_predictor(self, transformation:Transformation, trained_network: HybridBlock) -> Predictor:\n",
        "    prediction_network = MyPredNetwork1(\n",
        "        prediction_length= self.prediction_length,\n",
        "        num_cells = self.num_cells\n",
        "    )\n",
        "\n",
        "    copy_parameters(trained_network, prediction_network)\n",
        "\n",
        "    return RepresentableBlockPredictor(\n",
        "        input_transform=transformation,\n",
        "        prediction_net=prediction_network,\n",
        "        batch_size = self.trainer.batch_size,\n",
        "        freq = self.freq,\n",
        "        prediction_length = self.prediction_length,\n",
        "        ctx=self.trainer.ctx\n",
        "    )"
      ],
      "execution_count": 0,
      "outputs": []
    },
    {
      "cell_type": "code",
      "metadata": {
        "id": "whiqgcKQGUkw",
        "colab_type": "code",
        "colab": {}
      },
      "source": [
        "# probabilistic rnn -> covariates into it"
      ],
      "execution_count": 0,
      "outputs": []
    },
    {
      "cell_type": "code",
      "metadata": {
        "id": "0ovOObWT5Kzv",
        "colab_type": "code",
        "outputId": "6f2e7cfa-fa0e-4110-ae91-1bf1bca069de",
        "colab": {
          "base_uri": "https://localhost:8080/",
          "height": 1000
        }
      },
      "source": [
        "# custom 1b -> next step \n",
        "# custom step 2 b\n",
        "\n",
        "import mxnet as mx\n",
        "pred_length = 20\n",
        "estimator1 = MyEstimator1(prediction_length= pred_length, context_length=2*pred_length, freq=\"1H\",num_cells=10, trainer=Trainer(ctx=\"cpu\", epochs=5, learning_rate=1e-3, hybridize=False, num_batches_per_epoch=20))\n",
        "\n",
        "predictor1 = estimator1.train(earlymorningtrain) # training_data_neweng"
      ],
      "execution_count": 141,
      "outputs": [
        {
          "output_type": "stream",
          "text": [
            "\r  0%|          | 0/20 [00:00<?, ?it/s]"
          ],
          "name": "stderr"
        },
        {
          "output_type": "stream",
          "text": [
            "learning rate from ``lr_scheduler`` has been overwritten by ``learning_rate`` in optimizer.\n",
            "len prediction is, 32\n",
            "len prediction is, 32\n",
            "len prediction is, 32\n",
            "len prediction is, 32\n",
            "len prediction is, 32\n",
            "len prediction is, 32\n",
            "len prediction is, 32\n",
            "len prediction is, 32\n",
            "len prediction is, 32\n",
            "len prediction is, 32\n",
            "len prediction is, 32\n",
            "len prediction is, 32\n",
            "len prediction is, 32\n",
            "len prediction is, 32\n",
            "len prediction is, 32\n",
            "len prediction is, 32\n"
          ],
          "name": "stdout"
        },
        {
          "output_type": "stream",
          "text": [
            "\r 80%|████████  | 16/20 [00:10<00:02,  1.54it/s, epoch=1/5, avg_epoch_loss=21.7]"
          ],
          "name": "stderr"
        },
        {
          "output_type": "stream",
          "text": [
            "len prediction is, 32\n",
            "len prediction is, 32\n",
            "len prediction is, 32\n",
            "len prediction is, 32\n"
          ],
          "name": "stdout"
        },
        {
          "output_type": "stream",
          "text": [
            "100%|██████████| 20/20 [00:12<00:00,  1.55it/s, epoch=1/5, avg_epoch_loss=21.5]\n",
            "  0%|          | 0/20 [00:00<?, ?it/s]"
          ],
          "name": "stderr"
        },
        {
          "output_type": "stream",
          "text": [
            "len prediction is, 32\n",
            "len prediction is, 32\n",
            "len prediction is, 32\n",
            "len prediction is, 32\n",
            "len prediction is, 32\n",
            "len prediction is, 32\n",
            "len prediction is, 32\n"
          ],
          "name": "stdout"
        },
        {
          "output_type": "stream",
          "text": [
            "Exception ignored in: <bound method ParallelDataLoader.__del__ of <gluonts.dataset.parallelized_loader.ParallelDataLoader object at 0x7fc8037f9b00>>\n",
            "Traceback (most recent call last):\n",
            "  File \"/usr/local/lib/python3.6/dist-packages/gluonts/dataset/parallelized_loader.py\", line 686, in __del__\n",
            "    if self.worker_pool:\n",
            "AttributeError: 'ParallelDataLoader' object has no attribute 'worker_pool'\n"
          ],
          "name": "stderr"
        },
        {
          "output_type": "stream",
          "text": [
            "len prediction is, 32\n",
            "len prediction is, 32\n",
            "len prediction is, 32\n",
            "len prediction is, 32\n",
            "len prediction is, 32\n",
            "len prediction is, 32\n",
            "len prediction is, 32\n",
            "len prediction is, 32\n",
            "len prediction is, 32\n"
          ],
          "name": "stdout"
        },
        {
          "output_type": "stream",
          "text": [
            "\r 80%|████████  | 16/20 [00:10<00:02,  1.58it/s, epoch=2/5, avg_epoch_loss=22.7]"
          ],
          "name": "stderr"
        },
        {
          "output_type": "stream",
          "text": [
            "len prediction is, 32\n",
            "len prediction is, 32\n",
            "len prediction is, 32\n",
            "len prediction is, 32\n"
          ],
          "name": "stdout"
        },
        {
          "output_type": "stream",
          "text": [
            "100%|██████████| 20/20 [00:12<00:00,  1.58it/s, epoch=2/5, avg_epoch_loss=22.3]\n",
            "  0%|          | 0/20 [00:00<?, ?it/s]"
          ],
          "name": "stderr"
        },
        {
          "output_type": "stream",
          "text": [
            "len prediction is, 32\n",
            "len prediction is, 32\n",
            "len prediction is, 32\n",
            "len prediction is, 32\n",
            "len prediction is, 32\n",
            "len prediction is, 32\n",
            "len prediction is, 32\n",
            "len prediction is, 32\n",
            "len prediction is, 32\n",
            "len prediction is, 32\n",
            "len prediction is, 32\n",
            "len prediction is, 32\n",
            "len prediction is, 32\n",
            "len prediction is, 32\n",
            "len prediction is, 32\n",
            "len prediction is, 32\n"
          ],
          "name": "stdout"
        },
        {
          "output_type": "stream",
          "text": [
            "\r 80%|████████  | 16/20 [00:10<00:02,  1.59it/s, epoch=3/5, avg_epoch_loss=23.3]"
          ],
          "name": "stderr"
        },
        {
          "output_type": "stream",
          "text": [
            "len prediction is, 32\n",
            "len prediction is, 32\n",
            "len prediction is, 32\n",
            "len prediction is, 32\n"
          ],
          "name": "stdout"
        },
        {
          "output_type": "stream",
          "text": [
            "100%|██████████| 20/20 [00:12<00:00,  1.59it/s, epoch=3/5, avg_epoch_loss=23]  \n",
            "  0%|          | 0/20 [00:00<?, ?it/s]"
          ],
          "name": "stderr"
        },
        {
          "output_type": "stream",
          "text": [
            "len prediction is, 32\n",
            "len prediction is, 32\n",
            "len prediction is, 32\n",
            "len prediction is, 32\n",
            "len prediction is, 32\n",
            "len prediction is, 32\n",
            "len prediction is, 32\n",
            "len prediction is, 32\n",
            "len prediction is, 32\n",
            "len prediction is, 32\n",
            "len prediction is, 32\n",
            "len prediction is, 32\n",
            "len prediction is, 32\n",
            "len prediction is, 32\n",
            "len prediction is, 32\n",
            "len prediction is, 32\n"
          ],
          "name": "stdout"
        },
        {
          "output_type": "stream",
          "text": [
            "\r 80%|████████  | 16/20 [00:10<00:02,  1.59it/s, epoch=4/5, avg_epoch_loss=23.8]"
          ],
          "name": "stderr"
        },
        {
          "output_type": "stream",
          "text": [
            "len prediction is, 32\n",
            "len prediction is, 32\n",
            "len prediction is, 32\n",
            "len prediction is, 32\n"
          ],
          "name": "stdout"
        },
        {
          "output_type": "stream",
          "text": [
            "100%|██████████| 20/20 [00:12<00:00,  1.58it/s, epoch=4/5, avg_epoch_loss=23.7]\n",
            "  0%|          | 0/20 [00:00<?, ?it/s]"
          ],
          "name": "stderr"
        },
        {
          "output_type": "stream",
          "text": [
            "len prediction is, 32\n",
            "len prediction is, 32\n",
            "len prediction is, 32\n",
            "len prediction is, 32\n",
            "len prediction is, 32\n",
            "len prediction is, 32\n",
            "len prediction is, 32\n",
            "len prediction is, 32\n",
            "len prediction is, 32\n",
            "len prediction is, 32\n",
            "len prediction is, 32\n",
            "len prediction is, 32\n",
            "len prediction is, 32\n",
            "len prediction is, 32\n",
            "len prediction is, 32\n",
            "len prediction is, 32\n"
          ],
          "name": "stdout"
        },
        {
          "output_type": "stream",
          "text": [
            "\r 80%|████████  | 16/20 [00:10<00:02,  1.59it/s, epoch=5/5, avg_epoch_loss=21.3]"
          ],
          "name": "stderr"
        },
        {
          "output_type": "stream",
          "text": [
            "len prediction is, 32\n",
            "len prediction is, 32\n",
            "len prediction is, 32\n",
            "len prediction is, 32\n"
          ],
          "name": "stdout"
        },
        {
          "output_type": "stream",
          "text": [
            "\r100%|██████████| 20/20 [00:12<00:00,  1.58it/s, epoch=5/5, avg_epoch_loss=21.3]\n"
          ],
          "name": "stderr"
        }
      ]
    },
    {
      "cell_type": "code",
      "metadata": {
        "id": "iBF05M5X_eHR",
        "colab_type": "code",
        "colab": {}
      },
      "source": [
        "# step 3 b\n",
        "\n",
        "from gluonts.evaluation.backtest import make_evaluation_predictions\n",
        "#change test set to evening test set / morning test set\n",
        "forecast_it, ts_it = make_evaluation_predictions(\n",
        "    dataset=earlymorningtest,  # test dataset  norm_test_NE_dataset, test_NE_dataset\n",
        "    predictor=predictor1,  # predictor\n",
        "    num_samples=30,  # number of sample paths we want for evaluation\n",
        ")"
      ],
      "execution_count": 0,
      "outputs": []
    },
    {
      "cell_type": "code",
      "metadata": {
        "id": "YK-6Rf1Om-Hg",
        "colab_type": "code",
        "colab": {}
      },
      "source": [
        "# step 3b new england\n",
        "\n",
        "from gluonts.evaluation.backtest import make_evaluation_predictions\n",
        "\n",
        "forecast_it, ts_it = make_evaluation_predictions(\n",
        "    dataset=norm_test_NE_dataset,  # test dataset; test_NE_dataset\n",
        "    predictor=predictor1,  # predictor\n",
        "    num_samples=30,  # number of sample paths we want for evaluation\n",
        ")\n",
        "\n"
      ],
      "execution_count": 0,
      "outputs": []
    },
    {
      "cell_type": "code",
      "metadata": {
        "id": "h-LqJj9__zuZ",
        "colab_type": "code",
        "colab": {}
      },
      "source": [
        "# step 3b\n",
        "forecasts = list(forecast_it)\n",
        "tss = list(ts_it)"
      ],
      "execution_count": 0,
      "outputs": []
    },
    {
      "cell_type": "code",
      "metadata": {
        "id": "vYoA7VRPou1Z",
        "colab_type": "code",
        "outputId": "6741ca51-e3ea-47da-dfc6-c598db9a2bcc",
        "colab": {
          "base_uri": "https://localhost:8080/",
          "height": 34
        }
      },
      "source": [
        "from gluonts.evaluation import Evaluator\n",
        "# step 3b 2 metrics\n",
        "evaluator = Evaluator(quantiles=[0.1, 0.5, 0.9])\n",
        "agg_metrics, item_metrics = evaluator(iter(tss), iter(forecasts), num_series=len(earlymorningtest))"
      ],
      "execution_count": 144,
      "outputs": [
        {
          "output_type": "stream",
          "text": [
            "Running evaluation: 100%|██████████| 1/1 [00:00<00:00, 27.50it/s]\n"
          ],
          "name": "stderr"
        }
      ]
    },
    {
      "cell_type": "code",
      "metadata": {
        "id": "pFgPuyTQo8cA",
        "colab_type": "code",
        "outputId": "f62bc87c-b584-4943-e3cc-1763ada94387",
        "colab": {
          "base_uri": "https://localhost:8080/",
          "height": 97
        }
      },
      "source": [
        "item_metrics.head()"
      ],
      "execution_count": 145,
      "outputs": [
        {
          "output_type": "execute_result",
          "data": {
            "text/html": [
              "<div>\n",
              "<style scoped>\n",
              "    .dataframe tbody tr th:only-of-type {\n",
              "        vertical-align: middle;\n",
              "    }\n",
              "\n",
              "    .dataframe tbody tr th {\n",
              "        vertical-align: top;\n",
              "    }\n",
              "\n",
              "    .dataframe thead th {\n",
              "        text-align: right;\n",
              "    }\n",
              "</style>\n",
              "<table border=\"1\" class=\"dataframe\">\n",
              "  <thead>\n",
              "    <tr style=\"text-align: right;\">\n",
              "      <th></th>\n",
              "      <th>item_id</th>\n",
              "      <th>MSE</th>\n",
              "      <th>abs_error</th>\n",
              "      <th>abs_target_sum</th>\n",
              "      <th>abs_target_mean</th>\n",
              "      <th>seasonal_error</th>\n",
              "      <th>MASE</th>\n",
              "      <th>MAPE</th>\n",
              "      <th>sMAPE</th>\n",
              "      <th>OWA</th>\n",
              "      <th>MSIS</th>\n",
              "      <th>QuantileLoss[0.1]</th>\n",
              "      <th>Coverage[0.1]</th>\n",
              "      <th>QuantileLoss[0.5]</th>\n",
              "      <th>Coverage[0.5]</th>\n",
              "      <th>QuantileLoss[0.9]</th>\n",
              "      <th>Coverage[0.9]</th>\n",
              "    </tr>\n",
              "  </thead>\n",
              "  <tbody>\n",
              "    <tr>\n",
              "      <th>0</th>\n",
              "      <td>NaN</td>\n",
              "      <td>0.384775</td>\n",
              "      <td>12.403088</td>\n",
              "      <td>0.726022</td>\n",
              "      <td>0.036301</td>\n",
              "      <td>NaN</td>\n",
              "      <td>NaN</td>\n",
              "      <td>17.092646</td>\n",
              "      <td>1.790344</td>\n",
              "      <td>NaN</td>\n",
              "      <td>NaN</td>\n",
              "      <td>22.32556</td>\n",
              "      <td>1.0</td>\n",
              "      <td>12.403089</td>\n",
              "      <td>1.0</td>\n",
              "      <td>2.480618</td>\n",
              "      <td>1.0</td>\n",
              "    </tr>\n",
              "  </tbody>\n",
              "</table>\n",
              "</div>"
            ],
            "text/plain": [
              "   item_id       MSE  ...  QuantileLoss[0.9]  Coverage[0.9]\n",
              "0      NaN  0.384775  ...           2.480618            1.0\n",
              "\n",
              "[1 rows x 17 columns]"
            ]
          },
          "metadata": {
            "tags": []
          },
          "execution_count": 145
        }
      ]
    },
    {
      "cell_type": "code",
      "metadata": {
        "id": "0SWq-IqNObmc",
        "colab_type": "code",
        "colab": {}
      },
      "source": [
        "d_triploss_ts_entry = tss[0]\n",
        "d_triploss_forecast_entry= forecasts[0]"
      ],
      "execution_count": 0,
      "outputs": []
    },
    {
      "cell_type": "code",
      "metadata": {
        "id": "Z9O-wuozlFAw",
        "colab_type": "code",
        "outputId": "1363b3f7-dd7d-4a5a-b991-574027c56736",
        "colab": {
          "base_uri": "https://localhost:8080/",
          "height": 412
        }
      },
      "source": [
        "plot_prob_forecasts(d_triploss_ts_entry, d_triploss_forecast_entry)"
      ],
      "execution_count": 147,
      "outputs": [
        {
          "output_type": "display_data",
          "data": {
            "image/png": "[encoded data removed]",
            "text/plain": [
              "<Figure size 720x504 with 1 Axes>"
            ]
          },
          "metadata": {
            "tags": [],
            "needs_background": "light"
          }
        }
      ]
    },
    {
      "cell_type": "code",
      "metadata": {
        "id": "i4D1WuSgpQSQ",
        "colab_type": "code",
        "colab": {}
      },
      "source": [
        "# step 4 \n",
        "# accuracy eval: MSE\n",
        "import numpy as np\n",
        "def root_mean_squared_error(y_true, y_pred):\n",
        "  return np.sqrt(np.mean(np.square(y_pred - y_true)))"
      ],
      "execution_count": 0,
      "outputs": []
    },
    {
      "cell_type": "code",
      "metadata": {
        "id": "lyBmyUo8rHLc",
        "colab_type": "code",
        "colab": {}
      },
      "source": [
        "# step 4b plot forecasts\n",
        "\n",
        "def plot_prob_forecasts(ts_entry, forecast_entry):\n",
        "    plot_length = 150\n",
        "    prediction_intervals = (50.0, 90.0)\n",
        "    legend = [\"observations\", \"median prediction\"] + [f\"{k}% prediction interval\" for k in prediction_intervals][::-1]\n",
        "\n",
        "    fig, ax = plt.subplots(1, 1, figsize=(10, 7))\n",
        "    ts_entry[-plot_length:].plot(ax=ax)  # plot the time series\n",
        "    forecast_entry.plot(prediction_intervals=prediction_intervals, color='g')\n",
        "    plt.grid(which=\"both\")\n",
        "    plt.legend(legend, loc=\"upper left\")\n",
        "    plt.show()"
      ],
      "execution_count": 0,
      "outputs": []
    },
    {
      "cell_type": "code",
      "metadata": {
        "id": "DYW_ZGUprWr6",
        "colab_type": "code",
        "colab": {}
      },
      "source": [
        "# step 4c \n",
        "# metrics\n",
        "from gluonts.evaluation import Evaluator\n",
        "\n",
        "evaluator = Evaluator(quantiles=[0.1, 0.5, 0.9])\n",
        "agg_metrics, item_metrics = evaluator(iter(tss), iter(forecasts), num_series=len(test_ds))\n"
      ],
      "execution_count": 0,
      "outputs": []
    },
    {
      "cell_type": "code",
      "metadata": {
        "id": "z-wophQGA2fL",
        "colab_type": "code",
        "outputId": "90f23277-b574-40a2-ab69-021649ad51a5",
        "colab": {
          "base_uri": "https://localhost:8080/",
          "height": 186
        }
      },
      "source": [
        "forecasts[0]\n",
        "ts_entry = tss[0]"
      ],
      "execution_count": 0,
      "outputs": [
        {
          "output_type": "error",
          "ename": "IndexError",
          "evalue": "ignored",
          "traceback": [
            "\u001b[0;31m---------------------------------------------------------------------------\u001b[0m",
            "\u001b[0;31mIndexError\u001b[0m                                Traceback (most recent call last)",
            "\u001b[0;32m<ipython-input-22-274d2df73a91>\u001b[0m in \u001b[0;36m<module>\u001b[0;34m()\u001b[0m\n\u001b[1;32m      1\u001b[0m \u001b[0mforecasts\u001b[0m\u001b[0;34m[\u001b[0m\u001b[0;36m0\u001b[0m\u001b[0;34m]\u001b[0m\u001b[0;34m\u001b[0m\u001b[0;34m\u001b[0m\u001b[0m\n\u001b[0;32m----> 2\u001b[0;31m \u001b[0mts_entry\u001b[0m \u001b[0;34m=\u001b[0m \u001b[0mtss\u001b[0m\u001b[0;34m[\u001b[0m\u001b[0;36m0\u001b[0m\u001b[0;34m]\u001b[0m\u001b[0;34m\u001b[0m\u001b[0;34m\u001b[0m\u001b[0m\n\u001b[0m",
            "\u001b[0;31mIndexError\u001b[0m: list index out of range"
          ]
        }
      ]
    },
    {
      "cell_type": "markdown",
      "metadata": {
        "id": "VpqINeOGWE9N",
        "colab_type": "text"
      },
      "source": [
        "After defining the training and prediction network, as well as the estimator class, we can follow exactly the same steps as with the existing models, i.e., we can specify our estimator by passing all the required hyperparameters to the estimator class, train the estimator by invoking its train method to create a predictor, and finally use the make_evaluation_predictions function to generate our forecasts."
      ]
    },
    {
      "cell_type": "code",
      "metadata": {
        "id": "FWrAnrSOUxyj",
        "colab_type": "code",
        "colab": {}
      },
      "source": [
        "from mxnet import gluon\n",
        "from gluonts.model.estimator import GluonEstimator\n",
        "from gluonts.model.predictor import Predictor, RepresentableBlockPredictor\n",
        "from gluonts.trainer import Trainer\n",
        "from gluonts.transform import InstanceSplitter, Transformation, ExpectedNumInstanceSampler\n",
        "from gluonts.core.component import validated\n",
        "from gluonts.support.util import copy_parameters \n",
        "\n",
        "#  gluonts.block.cnn.CausalConv1D 1D causal temporal convolution\n",
        "\n",
        "\n",
        "\n",
        "class MyTrainNetwork(gluon.HybridBlock):\n",
        "\n",
        "    def __init__(self, prediction_length, cells, act_type, **kwargs):\n",
        "\n",
        "        super().__init__(**kwargs)\n",
        "\n",
        "        self.prediction_length = prediction_length\n",
        "\n",
        "        \n",
        "\n",
        "        with self.name_scope():\n",
        "\n",
        "            # set up a network that predicts the target\n",
        "\n",
        "            #self.nn = mx.gluon.nn.HybridSequential()\n",
        "\n",
        "            self.nn = gluon.nn.HybridSequential()    \n",
        "            self.nn.add(gluon.nn.Dense(units=self.prediction_length, activation='relu'))\n",
        "            self.nn.add(gluon.nn.Dense(units= 40, activation=act_type))\n",
        "            self.nn.add(mx.gluon.nn.Dense(units=self.prediction_length, activation = 'softrelu'))    \n",
        "\n",
        "    def hybrid_forward(self, F, past_target, future_target):\n",
        "\n",
        "        prediction = self.nn(past_target)\n",
        "        # calc L1 loss -> learn median\n",
        "        return(prediction - future_target).abs().mean(axis=-1)\n",
        "\n",
        "class MyPredNetwork(MyTrainNetwork):\n",
        "    # The prediction network only receives past_target and returns predictions\n",
        "    def hybrid_forward(self, F, past_target):\n",
        "        prediction = self.nn(past_target)\n",
        "        return prediction.expand_dims(axis=1)"
      ],
      "execution_count": 0,
      "outputs": []
    },
    {
      "cell_type": "markdown",
      "metadata": {
        "id": "nsxSjqQHVBXv",
        "colab_type": "text"
      },
      "source": [
        "try to write new estimator\n"
      ]
    },
    {
      "cell_type": "code",
      "metadata": {
        "id": "BswPRWoUVCpC",
        "colab_type": "code",
        "colab": {}
      },
      "source": [
        "class MyEstimator1(GluonEstimator):\n",
        "    @validated()\n",
        "    \n",
        "    def __init__(\n",
        "        self,\n",
        "        freq: str,\n",
        "        context_length: int,\n",
        "        prediction_length: int,\n",
        "        trainer: Trainer = Trainer()\n",
        "    ) -> None:\n",
        "        super().__init__(trainer=trainer)\n",
        "        self.context_length = context_length\n",
        "        self.prediction_length = prediction_length\n",
        "        self.freq = freq\n",
        "\n",
        "\n",
        "    def create_transformation(self):\n",
        "        # Feature transformation that the model uses for input.\n",
        "        # Here we use a transformation that randomly select training samples from all time series.\n",
        "        return InstanceSplitter(\n",
        "                    target_field=FieldName.TARGET,\n",
        "                    is_pad_field=FieldName.IS_PAD,\n",
        "                    start_field=FieldName.START,\n",
        "                    forecast_start_field=FieldName.FORECAST_START,\n",
        "                    train_sampler=ExpectedNumInstanceSampler(num_instances=1),\n",
        "                    past_length=self.context_length,\n",
        "                    future_length=self.prediction_length,\n",
        "                )\n",
        "\n",
        "    def create_training_network(self) -> MyTrainNetwork:\n",
        "        return MyTrainNetwork(\n",
        "            prediction_length=self.prediction_length\n",
        "        )\n",
        "\n",
        "    def create_predictor(\n",
        "        self, transformation: Transformation, trained_network: HybridBlock\n",
        "    ) -> Predictor:\n",
        "        prediction_network = MyPredNetwork(\n",
        "            prediction_length=self.prediction_length\n",
        "        )\n",
        "\n",
        "        copy_parameters(trained_network, prediction_network)\n",
        "\n",
        "        return RepresentableBlockPredictor(\n",
        "            input_transform=transformation,\n",
        "            prediction_net=prediction_network,\n",
        "            batch_size=self.trainer.batch_size,\n",
        "            freq=self.freq,\n",
        "            prediction_length=self.prediction_length,\n",
        "            ctx=self.trainer.ctx,\n",
        "        )"
      ],
      "execution_count": 0,
      "outputs": []
    },
    {
      "cell_type": "markdown",
      "metadata": {
        "id": "05rrpvKHWiBr",
        "colab_type": "text"
      },
      "source": [
        "extended forecasting tutorial\n",
        "\n",
        "https://github.com/awslabs/gluon-ts/blob/master/docs/examples/extended_forecasting_tutorial/extended_tutorial.md\n"
      ]
    },
    {
      "cell_type": "code",
      "metadata": {
        "id": "AwniaowbWjwu",
        "colab_type": "code",
        "colab": {}
      },
      "source": [
        "\n",
        "# create artificial data sets\n",
        "\n",
        "from gluonts.dataset.artificial._base import ComplexSeasonalTimeSeries\n",
        "from gluonts.dataset.common import ListDataset\n",
        "\n",
        "artificial_dataset = ComplexSeasonalTimeSeries(\n",
        "    num_series=30,\n",
        "    prediction_length=20,\n",
        "    freq_str=\"H\",\n",
        "    length_low=30,\n",
        "    length_high=200,\n",
        "    min_val=-10,\n",
        "    max_val=10000,\n",
        "    is_integer=False,\n",
        "    proportion_missing_values=0,\n",
        "    is_noise=True,\n",
        "    is_scale=True,\n",
        "    percentage_unique_timestamps=1,\n",
        "    is_out_of_bounds_date=True,\n",
        ")"
      ],
      "execution_count": 0,
      "outputs": []
    },
    {
      "cell_type": "markdown",
      "metadata": {
        "id": "RCMuuvTF3wxr",
        "colab_type": "text"
      },
      "source": [
        "custom gluon model:\n",
        "\n",
        "https://mxnet.apache.org/api/python/docs/tutorials/packages/gluon/blocks/save_load_params.html\n",
        "\n",
        "https://beta.mxnet.io/api/gluon/_autogen/mxnet.gluon.loss.TripletLoss.html\n",
        "\n",
        "https://mxnet.apache.org/api/python/docs/tutorials/packages/gluon/loss/loss.html\n",
        "\n",
        "innovate : sampling algorithm "
      ]
    },
    {
      "cell_type": "code",
      "metadata": {
        "id": "A1PV8AR6uAIe",
        "colab_type": "code",
        "colab": {}
      },
      "source": [
        "from mxnet.gluon.loss import TripletLoss"
      ],
      "execution_count": 0,
      "outputs": []
    },
    {
      "cell_type": "code",
      "metadata": {
        "id": "Tjfg5YqbaqqL",
        "colab_type": "code",
        "outputId": "32c5e577-3d19-4b9b-fdc1-ed2a698da754",
        "colab": {
          "base_uri": "https://localhost:8080/",
          "height": 311
        }
      },
      "source": [
        "import mxnet as mx"
      ],
      "execution_count": 0,
      "outputs": [
        {
          "output_type": "error",
          "ename": "ModuleNotFoundError",
          "evalue": "ignored",
          "traceback": [
            "\u001b[0;31m---------------------------------------------------------------------------\u001b[0m",
            "\u001b[0;31mModuleNotFoundError\u001b[0m                       Traceback (most recent call last)",
            "\u001b[0;32m<ipython-input-2-265f02e9c062>\u001b[0m in \u001b[0;36m<module>\u001b[0;34m()\u001b[0m\n\u001b[0;32m----> 1\u001b[0;31m \u001b[0;32mimport\u001b[0m \u001b[0mmxnet\u001b[0m \u001b[0;32mas\u001b[0m \u001b[0mmx\u001b[0m\u001b[0;34m\u001b[0m\u001b[0;34m\u001b[0m\u001b[0m\n\u001b[0m",
            "\u001b[0;31mModuleNotFoundError\u001b[0m: No module named 'mxnet'",
            "",
            "\u001b[0;31m---------------------------------------------------------------------------\u001b[0;32m\nNOTE: If your import is failing due to a missing package, you can\nmanually install dependencies using either !pip or !apt.\n\nTo view examples of installing some common dependencies, click the\n\"Open Examples\" button below.\n\u001b[0;31m---------------------------------------------------------------------------\u001b[0m\n"
          ]
        }
      ]
    },
    {
      "cell_type": "code",
      "metadata": {
        "id": "1wGfwcD0N_Ek",
        "colab_type": "code",
        "outputId": "64070557-0844-483d-d4c8-8427c5810c95",
        "colab": {
          "base_uri": "https://localhost:8080/",
          "height": 240
        }
      },
      "source": [
        "x = mx.nd.array([1,0,1,0,1,0])\n",
        "y = mx.nd.array([0,1,0,1,0,1])\n",
        "z = mx.nd.array([2,1,2,1,2,1])\n",
        "x1 = [0,0,0,0]\n",
        "y1= [1,1,1,1]\n",
        "z1 = [2,1,2,1]\n",
        "label = mx.nd.array(-1)\n",
        "triplet_loss = TripletLoss\n",
        "print(triplet_loss(x1,y1,z1))\n",
        "print(triplet_loss.summary)"
      ],
      "execution_count": 0,
      "outputs": [
        {
          "output_type": "error",
          "ename": "NameError",
          "evalue": "ignored",
          "traceback": [
            "\u001b[0;31m---------------------------------------------------------------------------\u001b[0m",
            "\u001b[0;31mNameError\u001b[0m                                 Traceback (most recent call last)",
            "\u001b[0;32m<ipython-input-1-057e66fca135>\u001b[0m in \u001b[0;36m<module>\u001b[0;34m()\u001b[0m\n\u001b[0;32m----> 1\u001b[0;31m \u001b[0mx\u001b[0m \u001b[0;34m=\u001b[0m \u001b[0mmx\u001b[0m\u001b[0;34m.\u001b[0m\u001b[0mnd\u001b[0m\u001b[0;34m.\u001b[0m\u001b[0marray\u001b[0m\u001b[0;34m(\u001b[0m\u001b[0;34m[\u001b[0m\u001b[0;36m1\u001b[0m\u001b[0;34m,\u001b[0m\u001b[0;36m0\u001b[0m\u001b[0;34m,\u001b[0m\u001b[0;36m1\u001b[0m\u001b[0;34m,\u001b[0m\u001b[0;36m0\u001b[0m\u001b[0;34m,\u001b[0m\u001b[0;36m1\u001b[0m\u001b[0;34m,\u001b[0m\u001b[0;36m0\u001b[0m\u001b[0;34m]\u001b[0m\u001b[0;34m)\u001b[0m\u001b[0;34m\u001b[0m\u001b[0;34m\u001b[0m\u001b[0m\n\u001b[0m\u001b[1;32m      2\u001b[0m \u001b[0my\u001b[0m \u001b[0;34m=\u001b[0m \u001b[0mmx\u001b[0m\u001b[0;34m.\u001b[0m\u001b[0mnd\u001b[0m\u001b[0;34m.\u001b[0m\u001b[0marray\u001b[0m\u001b[0;34m(\u001b[0m\u001b[0;34m[\u001b[0m\u001b[0;36m0\u001b[0m\u001b[0;34m,\u001b[0m\u001b[0;36m1\u001b[0m\u001b[0;34m,\u001b[0m\u001b[0;36m0\u001b[0m\u001b[0;34m,\u001b[0m\u001b[0;36m1\u001b[0m\u001b[0;34m,\u001b[0m\u001b[0;36m0\u001b[0m\u001b[0;34m,\u001b[0m\u001b[0;36m1\u001b[0m\u001b[0;34m]\u001b[0m\u001b[0;34m)\u001b[0m\u001b[0;34m\u001b[0m\u001b[0;34m\u001b[0m\u001b[0m\n\u001b[1;32m      3\u001b[0m \u001b[0mz\u001b[0m \u001b[0;34m=\u001b[0m \u001b[0mmx\u001b[0m\u001b[0;34m.\u001b[0m\u001b[0mnd\u001b[0m\u001b[0;34m.\u001b[0m\u001b[0marray\u001b[0m\u001b[0;34m(\u001b[0m\u001b[0;34m[\u001b[0m\u001b[0;36m2\u001b[0m\u001b[0;34m,\u001b[0m\u001b[0;36m1\u001b[0m\u001b[0;34m,\u001b[0m\u001b[0;36m2\u001b[0m\u001b[0;34m,\u001b[0m\u001b[0;36m1\u001b[0m\u001b[0;34m,\u001b[0m\u001b[0;36m2\u001b[0m\u001b[0;34m,\u001b[0m\u001b[0;36m1\u001b[0m\u001b[0;34m]\u001b[0m\u001b[0;34m)\u001b[0m\u001b[0;34m\u001b[0m\u001b[0;34m\u001b[0m\u001b[0m\n\u001b[1;32m      4\u001b[0m \u001b[0mx1\u001b[0m \u001b[0;34m=\u001b[0m \u001b[0;34m[\u001b[0m\u001b[0;36m0\u001b[0m\u001b[0;34m,\u001b[0m\u001b[0;36m0\u001b[0m\u001b[0;34m,\u001b[0m\u001b[0;36m0\u001b[0m\u001b[0;34m,\u001b[0m\u001b[0;36m0\u001b[0m\u001b[0;34m]\u001b[0m\u001b[0;34m\u001b[0m\u001b[0;34m\u001b[0m\u001b[0m\n\u001b[1;32m      5\u001b[0m \u001b[0my1\u001b[0m\u001b[0;34m=\u001b[0m \u001b[0;34m[\u001b[0m\u001b[0;36m1\u001b[0m\u001b[0;34m,\u001b[0m\u001b[0;36m1\u001b[0m\u001b[0;34m,\u001b[0m\u001b[0;36m1\u001b[0m\u001b[0;34m,\u001b[0m\u001b[0;36m1\u001b[0m\u001b[0;34m]\u001b[0m\u001b[0;34m\u001b[0m\u001b[0;34m\u001b[0m\u001b[0m\n",
            "\u001b[0;31mNameError\u001b[0m: name 'mx' is not defined"
          ]
        }
      ]
    },
    {
      "cell_type": "code",
      "metadata": {
        "id": "Ldn10SkfaR_z",
        "colab_type": "code",
        "colab": {}
      },
      "source": [
        "import math\n",
        "\n",
        "def sigmoid(x):\n",
        "  return 1 / (1 + math.exp(-x))\n",
        "\n",
        "def sigmoid_array(x):                                        \n",
        "   return 1 / (1 + np.exp(-x))\n",
        "\n",
        "mult_ratio = self.negative_penalty / self.nb_random_samples\n",
        "#custom triplet loss\n",
        "\n",
        "# Negative loss: -logsigmoid of minus the dot product between\n",
        "# anchor and negative representations\n",
        "def triplet_loss_foward(xref, xpos, xneg):\n",
        "  # xneg has several samples \n",
        "  loss= - sigmoid(np.dot(xref, xpos))\n",
        "  for i in range(num_random_samples):\n",
        "    loss = loss+mult_ratio*np.mean(- sigmoid(np.dot(xref, xneg[i])))"
      ],
      "execution_count": 0,
      "outputs": []
    },
    {
      "cell_type": "code",
      "metadata": {
        "id": "X5iFXbxIaUBE",
        "colab_type": "code",
        "colab": {}
      },
      "source": [
        "#custom quadruplet loss "
      ],
      "execution_count": 0,
      "outputs": []
    },
    {
      "cell_type": "code",
      "metadata": {
        "id": "BLNXn3fdfpB7",
        "colab_type": "code",
        "colab": {}
      },
      "source": [
        "# custom triplet loss function : beyond triplet loss: https://www.zpascal.net/cvpr2017/Chen_Beyond_Triplet_Loss_CVPR_2017_paper.pdf\n",
        "\n",
        "# what does loss function do ? \n",
        "\n",
        "# choose loss function from : https://mxnet.apache.org/api/python/docs/tutorials/packages/gluon/loss/loss.html\n",
        "\n",
        "# incorporate hierarchical struct into triplet loss ? \n",
        "#http://openaccess.thecvf.com/content_ECCV_2018/papers/Ge_Deep_Metric_Learning_ECCV_2018_paper.pdf\n",
        "\n",
        "# hierarchical loss?"
      ],
      "execution_count": 0,
      "outputs": []
    },
    {
      "cell_type": "code",
      "metadata": {
        "id": "C6lyI0M6LnOJ",
        "colab_type": "code",
        "colab": {}
      },
      "source": [
        "import mxnet \n",
        "from mxnet.symbol.contrib import ctc_loss"
      ],
      "execution_count": 0,
      "outputs": []
    },
    {
      "cell_type": "code",
      "metadata": {
        "id": "e0ooNoBPNHhU",
        "colab_type": "code",
        "outputId": "179e78c3-15ce-4d2e-cbf5-031b9b23d91a",
        "colab": {
          "base_uri": "https://localhost:8080/",
          "height": 295
        }
      },
      "source": [
        "import mxnet as mx\n",
        "x = mx.nd.array([1,0,1,0,1,0])\n",
        "y = mx.nd.array([1,0,1,0,1,0])\n",
        "ctc_loss(x,y)"
      ],
      "execution_count": 0,
      "outputs": [
        {
          "output_type": "error",
          "ename": "AssertionError",
          "evalue": "ignored",
          "traceback": [
            "\u001b[0;31m---------------------------------------------------------------------------\u001b[0m",
            "\u001b[0;31mAssertionError\u001b[0m                            Traceback (most recent call last)",
            "\u001b[0;32m<ipython-input-6-ca67c1f79936>\u001b[0m in \u001b[0;36m<module>\u001b[0;34m()\u001b[0m\n\u001b[1;32m      2\u001b[0m \u001b[0mx\u001b[0m \u001b[0;34m=\u001b[0m \u001b[0mmx\u001b[0m\u001b[0;34m.\u001b[0m\u001b[0mnd\u001b[0m\u001b[0;34m.\u001b[0m\u001b[0marray\u001b[0m\u001b[0;34m(\u001b[0m\u001b[0;34m[\u001b[0m\u001b[0;36m1\u001b[0m\u001b[0;34m,\u001b[0m\u001b[0;36m0\u001b[0m\u001b[0;34m,\u001b[0m\u001b[0;36m1\u001b[0m\u001b[0;34m,\u001b[0m\u001b[0;36m0\u001b[0m\u001b[0;34m,\u001b[0m\u001b[0;36m1\u001b[0m\u001b[0;34m,\u001b[0m\u001b[0;36m0\u001b[0m\u001b[0;34m]\u001b[0m\u001b[0;34m)\u001b[0m\u001b[0;34m\u001b[0m\u001b[0;34m\u001b[0m\u001b[0m\n\u001b[1;32m      3\u001b[0m \u001b[0my\u001b[0m \u001b[0;34m=\u001b[0m \u001b[0mmx\u001b[0m\u001b[0;34m.\u001b[0m\u001b[0mnd\u001b[0m\u001b[0;34m.\u001b[0m\u001b[0marray\u001b[0m\u001b[0;34m(\u001b[0m\u001b[0;34m[\u001b[0m\u001b[0;36m1\u001b[0m\u001b[0;34m,\u001b[0m\u001b[0;36m0\u001b[0m\u001b[0;34m,\u001b[0m\u001b[0;36m1\u001b[0m\u001b[0;34m,\u001b[0m\u001b[0;36m0\u001b[0m\u001b[0;34m,\u001b[0m\u001b[0;36m1\u001b[0m\u001b[0;34m,\u001b[0m\u001b[0;36m0\u001b[0m\u001b[0;34m]\u001b[0m\u001b[0;34m)\u001b[0m\u001b[0;34m\u001b[0m\u001b[0;34m\u001b[0m\u001b[0m\n\u001b[0;32m----> 4\u001b[0;31m \u001b[0mctc_loss\u001b[0m\u001b[0;34m(\u001b[0m\u001b[0mx\u001b[0m\u001b[0;34m,\u001b[0m\u001b[0my\u001b[0m\u001b[0;34m)\u001b[0m\u001b[0;34m\u001b[0m\u001b[0;34m\u001b[0m\u001b[0m\n\u001b[0m",
            "\u001b[0;32m/usr/local/lib/python3.6/dist-packages/mxnet/symbol/register.py\u001b[0m in \u001b[0;36mctc_loss\u001b[0;34m(data, label, data_lengths, label_lengths, use_data_lengths, use_label_lengths, blank_label, name, attr, out, **kwargs)\u001b[0m\n",
            "\u001b[0;31mAssertionError\u001b[0m: Argument data must be Symbol instances, but got \n[1. 0. 1. 0. 1. 0.]\n<NDArray 6 @cpu(0)>"
          ]
        }
      ]
    },
    {
      "cell_type": "code",
      "metadata": {
        "id": "MxTwaHOCaCBW",
        "colab_type": "code",
        "outputId": "6b6748bb-155a-4daa-fd8f-9dbe763b0f07",
        "colab": {
          "base_uri": "https://localhost:8080/",
          "height": 70
        }
      },
      "source": [
        "\n",
        "# hybrid_forward(F, pred, positive, negative)\n",
        "#triplet_loss.hybrid_forward()\n",
        "from mxnet.gluon import nn, loss as gloss\n",
        "x = mx.nd.array([1,0,1,0,1,0])\n",
        "y = mx.nd.array([1,0,1,0,1,0])\n",
        "label = mx.nd.array(1)\n",
        "loss = gloss.CosineEmbeddingLoss()\n",
        "print(loss(x,y,label))"
      ],
      "execution_count": 0,
      "outputs": [
        {
          "output_type": "stream",
          "text": [
            "\n",
            "[[0.]]\n",
            "<NDArray 1x1 @cpu(0)>\n"
          ],
          "name": "stdout"
        }
      ]
    },
    {
      "cell_type": "markdown",
      "metadata": {
        "id": "kURZzO1RRPoW",
        "colab_type": "text"
      },
      "source": [
        "try plugging in this loss to gluonts\n"
      ]
    },
    {
      "cell_type": "code",
      "metadata": {
        "id": "lpab2MtkRTSG",
        "colab_type": "code",
        "colab": {}
      },
      "source": [
        ""
      ],
      "execution_count": 0,
      "outputs": []
    },
    {
      "cell_type": "code",
      "metadata": {
        "id": "hM_bSBgK3y5y",
        "colab_type": "code",
        "colab": {}
      },
      "source": [
        "import mxnet as mx\n",
        "import mxnet.ndarray as nd\n",
        "from mxnet import nd, autograd, gluon\n",
        "from mxnet.gluon.data.vision import transforms\n",
        "\n",
        "import numpy as np\n",
        "\n",
        "def train_model(model):\n",
        "  "
      ],
      "execution_count": 0,
      "outputs": []
    },
    {
      "cell_type": "code",
      "metadata": {
        "id": "RyXtmkIqRDyk",
        "colab_type": "code",
        "colab": {}
      },
      "source": [
        "\n",
        "# MNIST images are 28x28. Total pixels in input layer is 28x28 = 784\n",
        "num_inputs = 784\n",
        "# Clasify the images into one of the 10 digits\n",
        "num_outputs = 10\n",
        "# 64 images in a batch\n",
        "batch_size = 64\n",
        "\n",
        "# Load the training data\n",
        "train_data = gluon.data.DataLoader(gluon.data.vision.MNIST(train=True).transform_first(transforms.ToTensor()),\n",
        "                                   batch_size, shuffle=True)\n",
        "\n",
        "# Build a simple convolutional network\n",
        "def build_lenet(net):\n",
        "    with net.name_scope():\n",
        "        # First convolution\n",
        "        net.add(gluon.nn.Conv2D(channels=20, kernel_size=5, activation='relu'))\n",
        "        net.add(gluon.nn.MaxPool2D(pool_size=2, strides=2))\n",
        "        # Second convolution\n",
        "        net.add(gluon.nn.Conv2D(channels=50, kernel_size=5, activation='relu'))\n",
        "        net.add(gluon.nn.MaxPool2D(pool_size=2, strides=2))\n",
        "        # Flatten the output before the fully connected layers\n",
        "        net.add(gluon.nn.Flatten())\n",
        "        # First fully connected layers with 512 neurons\n",
        "        net.add(gluon.nn.Dense(512, activation=\"relu\"))\n",
        "        # Second fully connected layer with as many neurons as the number of classes\n",
        "        net.add(gluon.nn.Dense(num_outputs))\n",
        "\n",
        "        return net\n",
        "\n",
        "# Train a given model using MNIST data\n",
        "def train_model(model):\n",
        "    # Initialize the parameters with Xavier initializer\n",
        "    model.collect_params().initialize(mx.init.Xavier(), ctx=ctx)\n",
        "    # Use cross entropy loss\n",
        "    softmax_cross_entropy = gluon.loss.SoftmaxCrossEntropyLoss()\n",
        "    # Use Adam optimizer\n",
        "    trainer = gluon.Trainer(model.collect_params(), 'adam', {'learning_rate': .001})\n",
        "\n",
        "    # Train for one epoch\n",
        "    for epoch in range(1):\n",
        "        # Iterate through the images and labels in the training data\n",
        "        for batch_num, (data, label) in enumerate(train_data):\n",
        "            # get the images and labels\n",
        "            data = data.as_in_context(ctx)\n",
        "            label = label.as_in_context(ctx)\n",
        "            # Ask autograd to record the forward pass\n",
        "            with autograd.record():\n",
        "                # Run the forward pass\n",
        "                output = model(data)\n",
        "                # Compute the loss\n",
        "                loss = softmax_cross_entropy(output, label)\n",
        "            # Compute gradients\n",
        "            loss.backward()\n",
        "            # Update parameters\n",
        "            trainer.step(data.shape[0])\n",
        "\n",
        "            # Print loss once in a while\n",
        "            if batch_num % 50 == 0:\n",
        "                curr_loss = nd.mean(loss).asscalar()\n",
        "                print(\"Epoch: %d; Batch %d; Loss %f\" % (epoch, batch_num, curr_loss))"
      ],
      "execution_count": 0,
      "outputs": []
    },
    {
      "cell_type": "code",
      "metadata": {
        "id": "RJGwnm-g7Qb4",
        "colab_type": "code",
        "colab": {}
      },
      "source": [
        ""
      ],
      "execution_count": 0,
      "outputs": []
    },
    {
      "cell_type": "code",
      "metadata": {
        "id": "I50Czybrgf05",
        "colab_type": "code",
        "outputId": "3649492a-b14b-4cd5-cedd-49e434e1c444",
        "colab": {
          "base_uri": "https://localhost:8080/",
          "height": 34
        }
      },
      "source": [
        "# custom step 1 c\n",
        "\n",
        "from gluonts.distribution.distribution_output import DistributionOutput\n",
        "from gluonts.distribution.gaussian import GaussianOutput\n",
        "\n",
        "\n",
        "\n",
        "class MyProbNetwork(gluon.HybridBlock):\n",
        "    def __init__(self,\n",
        "                 prediction_length,\n",
        "                 distr_output,\n",
        "                 num_cells,\n",
        "                 num_sample_paths=10,\n",
        "                 **kwargs\n",
        "    ) -> None:\n",
        "        super().__init__(**kwargs)\n",
        "        self.prediction_length = prediction_length\n",
        "        self.distr_output = distr_output\n",
        "        self.num_cells = num_cells\n",
        "        self.num_sample_paths = num_sample_paths\n",
        "        self.proj_distr_args = distr_output.get_args_proj()\n",
        "\n",
        "        with self.name_scope():\n",
        "            # Set up a 3 layer neural network that its ouput will be projected to the distribution parameters\n",
        "            self.nn = mx.gluon.nn.HybridSequential()\n",
        "            self.nn.add(mx.gluon.nn.Dense(units=self.num_cells, activation='relu'))\n",
        "            self.nn.add(mx.gluon.nn.Dense(units=self.num_cells, activation='relu'))\n",
        "            self.nn.add(mx.gluon.nn.Dense(units=self.prediction_length * self.num_cells, activation='relu'))\n",
        "\n",
        "\n",
        "class MyProbTrainNetwork(MyProbNetwork):\n",
        "    def hybrid_forward(self, F, past_target, future_target):\n",
        "        # compute network output\n",
        "        net_output = self.nn(past_target)\n",
        "\n",
        "        # (batch, prediction_length * nn_features)  ->  (batch, prediction_length, nn_features)\n",
        "        net_output = net_output.reshape(0, self.prediction_length, -1)\n",
        "\n",
        "        # project network output to distribution parameters domain\n",
        "        distr_args = self.proj_distr_args(net_output)\n",
        "\n",
        "        #print(\"dist args,\", distr_args)\n",
        "        # compute distribution\n",
        "        distr = self.distr_output.distribution(distr_args)\n",
        "\n",
        "        # print dist\n",
        "        #print(\"dist,\", distr)\n",
        "        # negative log-likelihood\n",
        "        \n",
        "        loss = distr.loss(future_target)\n",
        "        #print(\"loss\",loss)\n",
        "        \n",
        "        #xdistr = distr.\n",
        "\n",
        "        # another loss \n",
        "        smloss = gloss.SoftmaxCrossEntropyLoss()\n",
        "        sloss = smloss(loss, future_target)\n",
        "\n",
        "        print(\"smlss\", sloss)\n",
        "        \n",
        "        print(\"loss\",loss)\n",
        "\n",
        "        # KL div\n",
        "\n",
        "        return loss\n",
        "\n",
        "\n",
        "class MyProbPredNetwork(MyProbTrainNetwork):\n",
        "    # The prediction network only receives past_target and returns predictions\n",
        "    def hybrid_forward(self, F, past_target):\n",
        "        # repeat past target: from (batch_size, past_target_length) to\n",
        "        # (batch_size * num_sample_paths, past_target_length)\n",
        "        repeated_past_target = past_target.repeat(\n",
        "            repeats=self.num_sample_paths, axis=0\n",
        "        )\n",
        "\n",
        "        # compute network output\n",
        "        net_output = self.nn(repeated_past_target)\n",
        "\n",
        "        # (batch * num_sample_paths, prediction_length * nn_features)  ->  (batch * num_sample_paths, prediction_length, nn_features)\n",
        "        net_output = net_output.reshape(0, self.prediction_length, -1)\n",
        "\n",
        "        # project network output to distribution parameters domain\n",
        "        distr_args = self.proj_distr_args(net_output)\n",
        "\n",
        "        # compute distribution\n",
        "        distr = self.distr_output.distribution(distr_args)\n",
        "\n",
        "        # get (batch_size * num_sample_paths, prediction_length) samples\n",
        "        samples = distr.sample()\n",
        "\n",
        "        # reshape from (batch_size * num_sample_paths, prediction_length) to\n",
        "        # (batch_size, num_sample_paths, prediction_length)\n",
        "        return samples.reshape(shape=(-1, self.num_sample_paths, self.prediction_length))\n",
        "\n",
        "class MyProbEstimator(GluonEstimator):\n",
        "    @validated()\n",
        "    def __init__(\n",
        "            self,\n",
        "            prediction_length: int,\n",
        "            context_length: int,\n",
        "            freq: str,\n",
        "            distr_output: DistributionOutput,\n",
        "            num_cells: int,\n",
        "            num_sample_paths: int = 100,\n",
        "            trainer: Trainer = Trainer()\n",
        "    ) -> None:\n",
        "        super().__init__(trainer=trainer)\n",
        "        self.prediction_length = prediction_length\n",
        "        self.context_length = context_length\n",
        "        self.freq = freq\n",
        "        self.distr_output = distr_output\n",
        "        self.num_cells = num_cells\n",
        "        self.num_sample_paths = num_sample_paths\n",
        "\n",
        "    def create_transformation(self):\n",
        "        return InstanceSplitter(\n",
        "            target_field=FieldName.TARGET,\n",
        "            is_pad_field=FieldName.IS_PAD,\n",
        "            start_field=FieldName.START,\n",
        "            forecast_start_field=FieldName.FORECAST_START,\n",
        "            train_sampler=ExpectedNumInstanceSampler(num_instances=1),\n",
        "            past_length=self.context_length,\n",
        "            future_length=self.prediction_length,\n",
        "        )\n",
        "\n",
        "    def create_training_network(self) -> MyProbTrainNetwork:\n",
        "        return MyProbTrainNetwork(\n",
        "            prediction_length=self.prediction_length,\n",
        "            distr_output=self.distr_output,\n",
        "            num_cells=self.num_cells,\n",
        "            num_sample_paths=self.num_sample_paths\n",
        "        )\n",
        "\n",
        "    def create_predictor(\n",
        "            self, transformation: Transformation, trained_network: HybridBlock\n",
        "    ) -> Predictor:\n",
        "        prediction_network = MyProbPredNetwork(\n",
        "            prediction_length=self.prediction_length,\n",
        "            distr_output=self.distr_output,\n",
        "            num_cells=self.num_cells,\n",
        "            num_sample_paths=self.num_sample_paths\n",
        "        )\n",
        "\n",
        "        copy_parameters(trained_network, prediction_network)\n",
        "\n",
        "        return RepresentableBlockPredictor(\n",
        "            input_transform=transformation,\n",
        "            prediction_net=prediction_network,\n",
        "            batch_size=self.trainer.batch_size,\n",
        "            freq=self.freq,\n",
        "            prediction_length=self.prediction_length,\n",
        "            ctx=self.trainer.ctx,\n",
        "        )"
      ],
      "execution_count": 0,
      "outputs": [
        {
          "output_type": "stream",
          "text": [
            "INFO:root:Using CPU\n"
          ],
          "name": "stderr"
        }
      ]
    }
  ]
}
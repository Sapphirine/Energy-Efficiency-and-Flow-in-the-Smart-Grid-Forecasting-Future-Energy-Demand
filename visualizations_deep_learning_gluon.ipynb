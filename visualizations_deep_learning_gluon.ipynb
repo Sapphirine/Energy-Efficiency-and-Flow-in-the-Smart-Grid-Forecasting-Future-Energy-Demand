{
  "nbformat": 4,
  "nbformat_minor": 0,
  "metadata": {
    "colab": {
      "name": "visualizations_deep_learning_gluon.ipynb",
      "provenance": [],
      "collapsed_sections": []
    },
    "kernelspec": {
      "name": "python3",
      "display_name": "Python 3"
    }
  },
  "cells": [
    {
      "cell_type": "markdown",
      "metadata": {
        "id": "IvNH_FtCCGc8",
        "colab_type": "text"
      },
      "source": [
        "This notebook contains code for visualization of time series models and their predictions (such as visualizing the subseries based on hour of day, and visualizing the calculated trend), and my demo is saved as my_app7 at the end of this notebook. \n",
        "\n",
        "\n"
      ]
    },
    {
      "cell_type": "code",
      "metadata": {
        "id": "V3kw20X_XFyN",
        "colab_type": "code",
        "colab": {}
      },
      "source": [
        "import gluonts"
      ],
      "execution_count": 0,
      "outputs": []
    },
    {
      "cell_type": "code",
      "metadata": {
        "id": "_hf93aWCKlWq",
        "colab_type": "code",
        "outputId": "ac2bd7dd-446b-4ce0-d36e-9ee8ce91b9c5",
        "colab": {
          "base_uri": "https://localhost:8080/",
          "height": 33
        }
      },
      "source": [
        "import pydantic; print(pydantic.VERSION)"
      ],
      "execution_count": 0,
      "outputs": [
        {
          "output_type": "stream",
          "text": [
            "1.5\n"
          ],
          "name": "stdout"
        }
      ]
    },
    {
      "cell_type": "code",
      "metadata": {
        "id": "JeJCbCUvKo-N",
        "colab_type": "code",
        "outputId": "29ed7314-636d-4589-db39-5c0114fc5bcb",
        "colab": {
          "base_uri": "https://localhost:8080/",
          "height": 52
        }
      },
      "source": [
        "pip install python-dateutil==2.8.1"
      ],
      "execution_count": 5,
      "outputs": [
        {
          "output_type": "stream",
          "text": [
            "Requirement already satisfied: python-dateutil==2.8.1 in /usr/local/lib/python3.6/dist-packages (2.8.1)\n",
            "Requirement already satisfied: six>=1.5 in /usr/local/lib/python3.6/dist-packages (from python-dateutil==2.8.1) (1.12.0)\n"
          ],
          "name": "stdout"
        }
      ]
    },
    {
      "cell_type": "code",
      "metadata": {
        "id": "mInYwRMpKvmy",
        "colab_type": "code",
        "outputId": "b4099595-145f-4abd-ae71-aa89872372ef",
        "colab": {
          "base_uri": "https://localhost:8080/",
          "height": 196
        }
      },
      "source": [
        "pip install pydantic==1.4"
      ],
      "execution_count": 4,
      "outputs": [
        {
          "output_type": "stream",
          "text": [
            "Collecting pydantic==1.4\n",
            "\u001b[?25l  Downloading https://files.pythonhosted.org/packages/be/9a/a2d9613a70051615a84df6e9d697aad9787ba978bdeb4ad46c754457b3e1/pydantic-1.4-cp36-cp36m-manylinux2010_x86_64.whl (7.5MB)\n",
            "\u001b[K     |████████████████████████████████| 7.5MB 2.3MB/s \n",
            "\u001b[?25hRequirement already satisfied: dataclasses>=0.6; python_version < \"3.7\" in /usr/local/lib/python3.6/dist-packages (from pydantic==1.4) (0.7)\n",
            "Installing collected packages: pydantic\n",
            "  Found existing installation: pydantic 1.5.1\n",
            "    Uninstalling pydantic-1.5.1:\n",
            "      Successfully uninstalled pydantic-1.5.1\n",
            "Successfully installed pydantic-1.4\n"
          ],
          "name": "stdout"
        }
      ]
    },
    {
      "cell_type": "code",
      "metadata": {
        "id": "ZI4-VipdXJ3q",
        "colab_type": "code",
        "colab": {}
      },
      "source": [
        "import gluonts\n",
        "from gluonts.dataset.common import ListDataset"
      ],
      "execution_count": 0,
      "outputs": []
    },
    {
      "cell_type": "code",
      "metadata": {
        "id": "l__b-kIjAwro",
        "colab_type": "code",
        "colab": {
          "base_uri": "https://localhost:8080/",
          "height": 534
        },
        "outputId": "82fe9104-8586-407a-c9c2-1f5d2f3b498c"
      },
      "source": [
        "pip install gluonts"
      ],
      "execution_count": 3,
      "outputs": [
        {
          "output_type": "stream",
          "text": [
            "Collecting gluonts\n",
            "\u001b[?25l  Downloading https://files.pythonhosted.org/packages/c2/07/5a63f7d645761982743d375fc816120b680e0de13ac139829e509b3206fc/gluonts-0.5.0-py3-none-any.whl (419kB)\n",
            "\u001b[K     |████████████████████████████████| 419kB 2.7MB/s \n",
            "\u001b[?25hRequirement already satisfied: matplotlib~=3.0 in /usr/local/lib/python3.6/dist-packages (from gluonts) (3.2.1)\n",
            "Requirement already satisfied: pandas~=1.0 in /usr/local/lib/python3.6/dist-packages (from gluonts) (1.0.3)\n",
            "Requirement already satisfied: numpy~=1.16 in /usr/local/lib/python3.6/dist-packages (from gluonts) (1.18.4)\n",
            "Collecting ujson~=1.35\n",
            "\u001b[?25l  Downloading https://files.pythonhosted.org/packages/16/c4/79f3409bc710559015464e5f49b9879430d8f87498ecdc335899732e5377/ujson-1.35.tar.gz (192kB)\n",
            "\u001b[K     |████████████████████████████████| 194kB 8.1MB/s \n",
            "\u001b[?25hCollecting pydantic~=1.1\n",
            "\u001b[?25l  Downloading https://files.pythonhosted.org/packages/57/c9/7d664fbe54863b92cea790c7305915888c2f13a68a754893d8291bab0d0d/pydantic-1.5.1-cp36-cp36m-manylinux2014_x86_64.whl (7.4MB)\n",
            "\u001b[K     |████████████████████████████████| 7.4MB 11.3MB/s \n",
            "\u001b[?25hRequirement already satisfied: tqdm~=4.23 in /usr/local/lib/python3.6/dist-packages (from gluonts) (4.41.1)\n",
            "Requirement already satisfied: holidays<0.10,>=0.9 in /usr/local/lib/python3.6/dist-packages (from gluonts) (0.9.12)\n",
            "Requirement already satisfied: cycler>=0.10 in /usr/local/lib/python3.6/dist-packages (from matplotlib~=3.0->gluonts) (0.10.0)\n",
            "Requirement already satisfied: pyparsing!=2.0.4,!=2.1.2,!=2.1.6,>=2.0.1 in /usr/local/lib/python3.6/dist-packages (from matplotlib~=3.0->gluonts) (2.4.7)\n",
            "Requirement already satisfied: python-dateutil>=2.1 in /usr/local/lib/python3.6/dist-packages (from matplotlib~=3.0->gluonts) (2.8.1)\n",
            "Requirement already satisfied: kiwisolver>=1.0.1 in /usr/local/lib/python3.6/dist-packages (from matplotlib~=3.0->gluonts) (1.2.0)\n",
            "Requirement already satisfied: pytz>=2017.2 in /usr/local/lib/python3.6/dist-packages (from pandas~=1.0->gluonts) (2018.9)\n",
            "Requirement already satisfied: dataclasses>=0.6; python_version < \"3.7\" in /usr/local/lib/python3.6/dist-packages (from pydantic~=1.1->gluonts) (0.7)\n",
            "Requirement already satisfied: six in /usr/local/lib/python3.6/dist-packages (from holidays<0.10,>=0.9->gluonts) (1.12.0)\n",
            "Building wheels for collected packages: ujson\n",
            "  Building wheel for ujson (setup.py) ... \u001b[?25l\u001b[?25hdone\n",
            "  Created wheel for ujson: filename=ujson-1.35-cp36-cp36m-linux_x86_64.whl size=68019 sha256=47e057480740d38699aa3ced3b4ab45e9cae9dc03d43d94dff4f52ab2ea660f9\n",
            "  Stored in directory: /root/.cache/pip/wheels/28/77/e4/0311145b9c2e2f01470e744855131f9e34d6919687550f87d1\n",
            "Successfully built ujson\n",
            "Installing collected packages: ujson, pydantic, gluonts\n",
            "Successfully installed gluonts-0.5.0 pydantic-1.5.1 ujson-1.35\n"
          ],
          "name": "stdout"
        }
      ]
    },
    {
      "cell_type": "code",
      "metadata": {
        "id": "G8fJHgYNX_gs",
        "colab_type": "code",
        "outputId": "cbc437c1-67e9-434e-9c7f-f525c16e8117",
        "colab": {
          "base_uri": "https://localhost:8080/",
          "height": 133
        }
      },
      "source": [
        "#!pip install mxnet\n",
        "pip install gluonts"
      ],
      "execution_count": 2,
      "outputs": [
        {
          "output_type": "error",
          "ename": "SyntaxError",
          "evalue": "ignored",
          "traceback": [
            "\u001b[0;36m  File \u001b[0;32m\"<ipython-input-2-4d5458788bcf>\"\u001b[0;36m, line \u001b[0;32m2\u001b[0m\n\u001b[0;31m    pip install gluonts\u001b[0m\n\u001b[0m              ^\u001b[0m\n\u001b[0;31mSyntaxError\u001b[0m\u001b[0;31m:\u001b[0m invalid syntax\n"
          ]
        }
      ]
    },
    {
      "cell_type": "code",
      "metadata": {
        "id": "gaL0tesRYBEs",
        "colab_type": "code",
        "outputId": "6071b2b8-0e1b-4d75-bd5e-121a240b9db7",
        "colab": {
          "base_uri": "https://localhost:8080/",
          "height": 125
        }
      },
      "source": [
        "# step 1 \n",
        "from google.colab import drive\n",
        "drive.mount('/content/gdrive')\n"
      ],
      "execution_count": 0,
      "outputs": [
        {
          "output_type": "stream",
          "text": [
            "Go to this URL in a browser: https://accounts.google.com/o/oauth2/auth?client_id=947318989803-6bn6qk8qdgf4n4g3pfee6491hc0brc4i.apps.googleusercontent.com&redirect_uri=urn%3aietf%3awg%3aoauth%3a2.0%3aoob&response_type=code&scope=email%20https%3a%2f%2fwww.googleapis.com%2fauth%2fdocs.test%20https%3a%2f%2fwww.googleapis.com%2fauth%2fdrive%20https%3a%2f%2fwww.googleapis.com%2fauth%2fdrive.photos.readonly%20https%3a%2f%2fwww.googleapis.com%2fauth%2fpeopleapi.readonly\n",
            "\n",
            "Enter your authorization code:\n",
            "··········\n",
            "Mounted at /content/gdrive\n"
          ],
          "name": "stdout"
        }
      ]
    },
    {
      "cell_type": "code",
      "metadata": {
        "id": "_kLgz3peYK4A",
        "colab_type": "code",
        "outputId": "6607a527-ff65-47b5-a8d3-a2a4d70b5a8b",
        "colab": {
          "base_uri": "https://localhost:8080/",
          "height": 34
        }
      },
      "source": [
        "# step 2\n",
        "%cd '/content/gdrive/My Drive'"
      ],
      "execution_count": 0,
      "outputs": [
        {
          "output_type": "stream",
          "text": [
            "/content/gdrive/My Drive\n"
          ],
          "name": "stdout"
        }
      ]
    },
    {
      "cell_type": "code",
      "metadata": {
        "id": "tFWPxdcu4Aio",
        "colab_type": "code",
        "colab": {}
      },
      "source": [
        "import pandas as pd\n",
        "caisofile= 'CaisoJan19March19windsolarAvg.csv'\n",
        "caiso_dataset = pd.read_csv(caisofile)"
      ],
      "execution_count": 0,
      "outputs": []
    },
    {
      "cell_type": "code",
      "metadata": {
        "id": "sextFZ-z5WO9",
        "colab_type": "code",
        "colab": {}
      },
      "source": [
        "caiso_dataset=caiso_dataset.rename(columns={\"ws_forecast (avg) (california_iso)\": \"iso\"})\n",
        "# Independent System Operator"
      ],
      "execution_count": 0,
      "outputs": []
    },
    {
      "cell_type": "code",
      "metadata": {
        "id": "bt4JXwVLl30C",
        "colab_type": "code",
        "colab": {}
      },
      "source": [
        "caiso_arr = caiso_dataset['iso']"
      ],
      "execution_count": 0,
      "outputs": []
    },
    {
      "cell_type": "code",
      "metadata": {
        "id": "9asKUsBa6AsT",
        "colab_type": "code",
        "outputId": "cbe5e5d9-234c-4a85-d62f-b2aa57b4c2af",
        "colab": {
          "base_uri": "https://localhost:8080/",
          "height": 197
        }
      },
      "source": [
        "caiso_dataset.head()"
      ],
      "execution_count": 0,
      "outputs": [
        {
          "output_type": "execute_result",
          "data": {
            "text/html": [
              "<div>\n",
              "<style scoped>\n",
              "    .dataframe tbody tr th:only-of-type {\n",
              "        vertical-align: middle;\n",
              "    }\n",
              "\n",
              "    .dataframe tbody tr th {\n",
              "        vertical-align: top;\n",
              "    }\n",
              "\n",
              "    .dataframe thead th {\n",
              "        text-align: right;\n",
              "    }\n",
              "</style>\n",
              "<table border=\"1\" class=\"dataframe\">\n",
              "  <thead>\n",
              "    <tr style=\"text-align: right;\">\n",
              "      <th></th>\n",
              "      <th>DateTime</th>\n",
              "      <th>iso</th>\n",
              "    </tr>\n",
              "  </thead>\n",
              "  <tbody>\n",
              "    <tr>\n",
              "      <th>0</th>\n",
              "      <td>2019-01-01 00:00:00</td>\n",
              "      <td>-2.333</td>\n",
              "    </tr>\n",
              "    <tr>\n",
              "      <th>1</th>\n",
              "      <td>2019-01-01 01:00:00</td>\n",
              "      <td>-2.333</td>\n",
              "    </tr>\n",
              "    <tr>\n",
              "      <th>2</th>\n",
              "      <td>2019-01-01 02:00:00</td>\n",
              "      <td>-2.333</td>\n",
              "    </tr>\n",
              "    <tr>\n",
              "      <th>3</th>\n",
              "      <td>2019-01-01 03:00:00</td>\n",
              "      <td>-2.667</td>\n",
              "    </tr>\n",
              "    <tr>\n",
              "      <th>4</th>\n",
              "      <td>2019-01-01 04:00:00</td>\n",
              "      <td>-3.000</td>\n",
              "    </tr>\n",
              "  </tbody>\n",
              "</table>\n",
              "</div>"
            ],
            "text/plain": [
              "              DateTime    iso\n",
              "0  2019-01-01 00:00:00 -2.333\n",
              "1  2019-01-01 01:00:00 -2.333\n",
              "2  2019-01-01 02:00:00 -2.333\n",
              "3  2019-01-01 03:00:00 -2.667\n",
              "4  2019-01-01 04:00:00 -3.000"
            ]
          },
          "metadata": {
            "tags": []
          },
          "execution_count": 6
        }
      ]
    },
    {
      "cell_type": "code",
      "metadata": {
        "id": "x0pcQwxjAlKN",
        "colab_type": "code",
        "colab": {}
      },
      "source": [
        "# step 1 g \n",
        "# ne step 1 g : hierarchical order dataframes creation\n",
        "\n",
        "# break the array into k sub-arrays : day of the week\n",
        "\n",
        "# hour of the day: morning 6 am to 12 pm, afternoon 12 pm to 6 pm, evening 6 pm to 12 am, early morning 12 am to 6 am \n",
        "\n",
        "colnames=[\"DateTime\", \"iso\"]\n",
        "# define empty dfs \n",
        "morningdf = pd.DataFrame(columns=colnames)\n",
        "afternoondf = pd.DataFrame(columns=colnames)\n",
        "eveningdf = pd.DataFrame(columns= colnames)\n",
        "earlymorningdf= pd.DataFrame(columns= colnames)\n",
        "\n",
        "morning_time = []\n",
        "morning_iso = []\n",
        "\n",
        "afternoon_time = []\n",
        "afternoon_iso = []\n",
        "\n",
        "evening_time = []\n",
        "evening_iso = []\n",
        "\n",
        "earlymorning_time = []\n",
        "earlymorning_iso = []\n",
        "\n",
        "for index, row in caiso_dataset.iterrows():\n",
        "    date_time = row['DateTime']\n",
        "    iso_val = row['iso']\n",
        "    split_date_time = date_time.split()\n",
        "    split_date_time1 = split_date_time[1]\n",
        "    hour_min_sec = split_date_time1.split(\":\")\n",
        "    #print(\"hour min sec\", hour_min_sec)\n",
        "    hour= hour_min_sec[0]\n",
        "    minute = hour_min_sec[1]   \n",
        "    #print(\"hour\", hour) \n",
        "    hour = float(hour)\n",
        "    # determine zone\n",
        "    if 0 <= hour <= 6:\n",
        "      earlymorning_time.append(date_time)\n",
        "      earlymorning_iso.append(iso_val)\n",
        "    if 6 <= hour <=12:\n",
        "      morning_time.append(date_time)\n",
        "      morning_iso.append(iso_val)\n",
        "    if 12 <= hour <= 18:\n",
        "      afternoon_time.append(date_time)\n",
        "      afternoon_iso.append(iso_val)\n",
        "    if 18 <= hour <= 24:\n",
        "      evening_time.append(date_time)\n",
        "      evening_iso.append(iso_val)\n",
        "\n",
        "# set dataframes\n",
        "\n",
        "morningdf[\"DateTime\"] = morning_time\n",
        "morningdf[\"iso\"] = morning_iso\n",
        "earlymorningdf[\"DateTime\"] = earlymorning_time\n",
        "earlymorningdf[\"iso\"]=earlymorning_iso\n",
        "afternoondf[\"DateTime\"] = afternoon_time\n",
        "afternoondf[\"iso\"] = afternoon_iso\n",
        "eveningdf[\"DateTime\"] = evening_time\n",
        "eveningdf[\"iso\"] = evening_iso\n",
        "\n",
        "# use these as different series to draw xneg \n"
      ],
      "execution_count": 0,
      "outputs": []
    },
    {
      "cell_type": "code",
      "metadata": {
        "id": "hrNwkDTaMA2S",
        "colab_type": "code",
        "colab": {}
      },
      "source": [
        "# make new df with diff columns where iso value is 0 if not in the right time \n",
        "\n",
        "column_names = [\"DateTime\", \"morning\",\"afternoon\",\"evening\", \"earlymorning\"]\n",
        "hour_dataframe = pd.DataFrame(columns = column_names)\n",
        "\n"
      ],
      "execution_count": 0,
      "outputs": []
    },
    {
      "cell_type": "code",
      "metadata": {
        "id": "ONEcIgk0Mp50",
        "colab_type": "code",
        "colab": {}
      },
      "source": [
        "morning_iso = []\n",
        "\n",
        "afternoon_iso = []\n",
        "\n",
        "evening_iso = []\n",
        "\n",
        "earlymorning_iso = []\n",
        "\n",
        "dtime = []\n",
        "\n",
        "for index, row in caiso_dataset.iterrows():\n",
        "    date_time = row['DateTime']\n",
        "    iso_val = row['iso']\n",
        "    split_date_time = date_time.split()\n",
        "    split_date_time1 = split_date_time[1]\n",
        "    hour_min_sec = split_date_time1.split(\":\")\n",
        "    #print(\"hour min sec\", hour_min_sec)\n",
        "    hour= hour_min_sec[0]\n",
        "    minute = hour_min_sec[1]   \n",
        "    #print(\"hour\", hour) \n",
        "    hour = float(hour)\n",
        "    # append time \n",
        "    dtime.append(date_time)\n",
        "\n",
        "    # determine zone\n",
        "    if 0 <= hour < 6:\n",
        "      earlymorning_iso.append(iso_val)\n",
        "      morning_iso.append(float('nan'))\n",
        "      afternoon_iso.append(float('nan'))\n",
        "      evening_iso.append(float('nan'))\n",
        "    if 6 <= hour <12:\n",
        "      morning_iso.append(iso_val)\n",
        "      afternoon_iso.append(float('nan'))\n",
        "      evening_iso.append(float('nan'))\n",
        "      earlymorning_iso.append(float('nan'))\n",
        "    if 12 <= hour < 18:\n",
        "      afternoon_iso.append(iso_val)\n",
        "      morning_iso.append(float('nan'))\n",
        "      evening_iso.append(float('nan'))\n",
        "      earlymorning_iso.append(float('nan'))\n",
        "    if 18 <= hour < 24:\n",
        "      evening_iso.append(iso_val)\n",
        "      afternoon_iso.append(float('nan'))\n",
        "      morning_iso.append(float('nan'))\n",
        "      earlymorning_iso.append(float('nan'))\n"
      ],
      "execution_count": 0,
      "outputs": []
    },
    {
      "cell_type": "code",
      "metadata": {
        "id": "ZID1_X7GPAvf",
        "colab_type": "code",
        "outputId": "03798a44-d7aa-41ed-93ec-011aaeb09304",
        "colab": {
          "base_uri": "https://localhost:8080/",
          "height": 34
        }
      },
      "source": [
        "len(earlymorning_iso)"
      ],
      "execution_count": 0,
      "outputs": [
        {
          "output_type": "execute_result",
          "data": {
            "text/plain": [
              "1415"
            ]
          },
          "metadata": {
            "tags": []
          },
          "execution_count": 24
        }
      ]
    },
    {
      "cell_type": "code",
      "metadata": {
        "id": "lc0eFNN1PDC7",
        "colab_type": "code",
        "outputId": "63eef3d7-4976-424e-bcfe-b61dc171c2aa",
        "colab": {
          "base_uri": "https://localhost:8080/",
          "height": 34
        }
      },
      "source": [
        "len(dtime)"
      ],
      "execution_count": 0,
      "outputs": [
        {
          "output_type": "execute_result",
          "data": {
            "text/plain": [
              "1415"
            ]
          },
          "metadata": {
            "tags": []
          },
          "execution_count": 21
        }
      ]
    },
    {
      "cell_type": "code",
      "metadata": {
        "id": "Mtj0H9iWOsaz",
        "colab_type": "code",
        "colab": {}
      },
      "source": [
        "hour_dataframe['DateTime'] = dtime\n",
        "hour_dataframe['morning'] = morning_iso\n",
        "hour_dataframe['earlymorning'] = earlymorning_iso\n",
        "hour_dataframe['afternoon'] = afternoon_iso\n",
        "hour_dataframe['evening'] = evening_iso"
      ],
      "execution_count": 0,
      "outputs": []
    },
    {
      "cell_type": "code",
      "metadata": {
        "id": "bjYPwozsQbW3",
        "colab_type": "code",
        "outputId": "db0ec4d7-acb4-421c-ecd7-9fa4044c4595",
        "colab": {
          "base_uri": "https://localhost:8080/",
          "height": 264
        }
      },
      "source": [
        "fig = plt.figure()\n",
        "\n",
        "max_lim = 200\n",
        "\n",
        "plt.plot(hour_dataframe['DateTime'][1:max_lim], hour_dataframe['earlymorning'][1:max_lim] )\n",
        "plt.plot(hour_dataframe['DateTime'][1:max_lim], hour_dataframe['morning'][1:max_lim])\n",
        "plt.plot(hour_dataframe['DateTime'][1:max_lim], hour_dataframe['afternoon'][1:max_lim])\n",
        "plt.plot(hour_dataframe['DateTime'][1:max_lim], hour_dataframe['evening'][1:max_lim])\n",
        "\n",
        "#plt.ylim(-30, 500) Note: Add legend to id. colors \n",
        "plt.show()"
      ],
      "execution_count": 0,
      "outputs": [
        {
          "output_type": "display_data",
          "data": {
            "image/png": "[encoded data removed]",
            "text/plain": [
              "<Figure size 432x288 with 1 Axes>"
            ]
          },
          "metadata": {
            "tags": [],
            "needs_background": "light"
          }
        }
      ]
    },
    {
      "cell_type": "code",
      "metadata": {
        "id": "KlU7tFksRj8p",
        "colab_type": "code",
        "outputId": "ae190572-7173-4d6e-b744-b2d7676e445a",
        "colab": {
          "base_uri": "https://localhost:8080/",
          "height": 168
        }
      },
      "source": [
        "float('nan')"
      ],
      "execution_count": 0,
      "outputs": [
        {
          "output_type": "error",
          "ename": "ValueError",
          "evalue": "ignored",
          "traceback": [
            "\u001b[0;31m---------------------------------------------------------------------------\u001b[0m",
            "\u001b[0;31mValueError\u001b[0m                                Traceback (most recent call last)",
            "\u001b[0;32m<ipython-input-31-acc173ecbba9>\u001b[0m in \u001b[0;36m<module>\u001b[0;34m()\u001b[0m\n\u001b[0;32m----> 1\u001b[0;31m \u001b[0mfloat\u001b[0m\u001b[0;34m(\u001b[0m\u001b[0;34m'nann'\u001b[0m\u001b[0;34m)\u001b[0m\u001b[0;34m\u001b[0m\u001b[0;34m\u001b[0m\u001b[0m\n\u001b[0m",
            "\u001b[0;31mValueError\u001b[0m: could not convert string to float: 'nann'"
          ]
        }
      ]
    },
    {
      "cell_type": "code",
      "metadata": {
        "id": "-9evnqDNYFkq",
        "colab_type": "code",
        "colab": {}
      },
      "source": [
        "import matplotlib.pyplot as plt\n",
        "\n",
        "def plot_prob_forecasts(ts_entry, forecast_entry):\n",
        "    plot_length = 150\n",
        "    prediction_intervals = (50.0, 75.0, 90.0) # change the interval values \n",
        "    legend = [\"observations\", \"median prediction\"] + [f\"{k}% prediction interval\" for k in prediction_intervals][::-1]\n",
        "\n",
        "    fig, ax = plt.subplots(1, 1, figsize=(10, 7))\n",
        "    ts_entry[-plot_length:].plot(ax=ax)  # plot the time series\n",
        "    forecast_entry.plot(prediction_intervals=prediction_intervals, color='g')\n",
        "    plt.grid(which=\"both\")\n",
        "    plt.legend(legend, loc=\"upper left\")\n",
        "    plt.show()"
      ],
      "execution_count": 0,
      "outputs": []
    },
    {
      "cell_type": "code",
      "metadata": {
        "id": "61Z2dhY4SEOY",
        "colab_type": "code",
        "outputId": "fb342f15-014f-49c5-cca6-8796284cf27a",
        "colab": {
          "base_uri": "https://localhost:8080/",
          "height": 230
        }
      },
      "source": [
        "hour_dataframe['DateTime']"
      ],
      "execution_count": 0,
      "outputs": [
        {
          "output_type": "execute_result",
          "data": {
            "text/plain": [
              "0       2019-01-01 00:00:00\n",
              "1       2019-01-01 01:00:00\n",
              "2       2019-01-01 02:00:00\n",
              "3       2019-01-01 03:00:00\n",
              "4       2019-01-01 04:00:00\n",
              "               ...         \n",
              "1410    2019-02-28 19:00:00\n",
              "1411    2019-02-28 20:00:00\n",
              "1412    2019-02-28 21:00:00\n",
              "1413    2019-02-28 22:00:00\n",
              "1414    2019-02-28 23:00:00\n",
              "Name: DateTime, Length: 1415, dtype: object"
            ]
          },
          "metadata": {
            "tags": []
          },
          "execution_count": 37
        }
      ]
    },
    {
      "cell_type": "code",
      "metadata": {
        "id": "isg8GuW0PTxi",
        "colab_type": "code",
        "colab": {}
      },
      "source": [
        "hour_dataframe.iplot(kind='scatter', )"
      ],
      "execution_count": 0,
      "outputs": []
    },
    {
      "cell_type": "code",
      "metadata": {
        "id": "Ur9S-KjcfpNd",
        "colab_type": "code",
        "colab": {}
      },
      "source": [
        "# other hier. plots\n",
        "\n",
        "# plot diff months\n",
        "\n",
        "# plot diff aggreg / iso table:  Real Time LMP, Day Ahead LMP, Real Time Load\n",
        "# zone\n",
        "\n",
        "# make hierarchy based on trend ? : calculate trend of various intervals and evaluate on smoothness of the line \n"
      ],
      "execution_count": 0,
      "outputs": []
    },
    {
      "cell_type": "code",
      "metadata": {
        "id": "gef5ZEEft0X4",
        "colab_type": "code",
        "colab": {}
      },
      "source": [
        "# calculate trend with rolling mean "
      ],
      "execution_count": 0,
      "outputs": []
    },
    {
      "cell_type": "code",
      "metadata": {
        "id": "qZkTK8_jlxqq",
        "colab_type": "code",
        "cellView": "both",
        "colab": {}
      },
      "source": [
        "#@title trend with tsa decompose\n",
        "# find the trend \n",
        "\n",
        "from statsmodels.tsa.seasonal import seasonal_decompose\n",
        "\n",
        "# remove 0 and neg values\n",
        "caiso_nonneg = caiso_dataset[caiso_dataset['iso']>0]\n",
        "\n",
        "caiso_nonneg.head()\n",
        "\n",
        "seas_result = seasonal_decompose(caiso_nonneg.iso, freq=5, model='multiplicative')\n",
        "seas_result.plot()"
      ],
      "execution_count": 0,
      "outputs": []
    },
    {
      "cell_type": "code",
      "metadata": {
        "id": "MS0Ni4IWC8mG",
        "colab_type": "code",
        "outputId": "f110c607-6489-4f87-da11-705118254f48",
        "colab": {
          "base_uri": "https://localhost:8080/",
          "height": 265
        }
      },
      "source": [
        "import pandas as pd\n",
        "# dataframe that holds different hours\n",
        "# create df with col names\n",
        "#column_names = [\"morning\",\"afternoon\",\"evening\", \"earlymorning\"]\n",
        "#hour_dataframe = pd.DataFrame(columns = column_names)\n",
        "#hour_dataframe[]\n",
        "\n",
        "# plot multiple dataframes \n",
        "import matplotlib.pyplot as plt\n",
        "\n",
        "fig = plt.figure()\n",
        "\n",
        "#for frame in [morningdf]: #, afternoondf, eveningdf\n",
        "#  plt.plot(frame['DateTime'], frame['iso'])\n",
        "\n",
        "#plt.plot(morningdf['DateTime'], morningdf['iso'])\n",
        "plt.plot(afternoondf['DateTime'], afternoondf['iso'])\n",
        "\n",
        "\n",
        "plt.show()"
      ],
      "execution_count": 0,
      "outputs": [
        {
          "output_type": "display_data",
          "data": {
            "image/png": "[encoded data removed]",
            "text/plain": [
              "<Figure size 432x288 with 1 Axes>"
            ]
          },
          "metadata": {
            "tags": [],
            "needs_background": "light"
          }
        }
      ]
    },
    {
      "cell_type": "code",
      "metadata": {
        "id": "P3NNbyKv7luq",
        "colab_type": "code",
        "colab": {}
      },
      "source": [
        "energy_series = caiso_dataset.loc[:, ('iso')]"
      ],
      "execution_count": 0,
      "outputs": []
    },
    {
      "cell_type": "code",
      "metadata": {
        "id": "VKF6B3HF7vBv",
        "colab_type": "code",
        "outputId": "608a1ed5-0992-46a7-89ed-e2abe365c507",
        "colab": {
          "base_uri": "https://localhost:8080/",
          "height": 281
        }
      },
      "source": [
        "energy_series.plot()"
      ],
      "execution_count": 0,
      "outputs": [
        {
          "output_type": "execute_result",
          "data": {
            "text/plain": [
              "<matplotlib.axes._subplots.AxesSubplot at 0x7f11d5526048>"
            ]
          },
          "metadata": {
            "tags": []
          },
          "execution_count": 10
        },
        {
          "output_type": "display_data",
          "data": {
            "image/png": "[encoded data removed]",
            "text/plain": [
              "<Figure size 432x288 with 1 Axes>"
            ]
          },
          "metadata": {
            "tags": [],
            "needs_background": "light"
          }
        }
      ]
    },
    {
      "cell_type": "code",
      "metadata": {
        "id": "eWZezH5j-dum",
        "colab_type": "code",
        "colab": {}
      },
      "source": [
        "import plotly"
      ],
      "execution_count": 0,
      "outputs": []
    },
    {
      "cell_type": "code",
      "metadata": {
        "id": "b2Zva0jX_9b8",
        "colab_type": "code",
        "outputId": "ea8ddf0d-ef30-4840-bda3-8b231b55ab33",
        "colab": {
          "base_uri": "https://localhost:8080/",
          "height": 508
        }
      },
      "source": [
        "pip install plotly==3.10.0"
      ],
      "execution_count": 0,
      "outputs": [
        {
          "output_type": "stream",
          "text": [
            "Collecting plotly==3.10.0\n",
            "\u001b[?25l  Downloading https://files.pythonhosted.org/packages/ff/75/3982bac5076d0ce6d23103c03840fcaec90c533409f9d82c19f54512a38a/plotly-3.10.0-py2.py3-none-any.whl (41.5MB)\n",
            "\u001b[K     |████████████████████████████████| 41.5MB 114kB/s \n",
            "\u001b[?25hRequirement already satisfied: requests in /usr/local/lib/python3.6/dist-packages (from plotly==3.10.0) (2.21.0)\n",
            "Requirement already satisfied: six in /usr/local/lib/python3.6/dist-packages (from plotly==3.10.0) (1.12.0)\n",
            "Requirement already satisfied: nbformat>=4.2 in /usr/local/lib/python3.6/dist-packages (from plotly==3.10.0) (5.0.6)\n",
            "Requirement already satisfied: decorator>=4.0.6 in /usr/local/lib/python3.6/dist-packages (from plotly==3.10.0) (4.4.2)\n",
            "Requirement already satisfied: retrying>=1.3.3 in /usr/local/lib/python3.6/dist-packages (from plotly==3.10.0) (1.3.3)\n",
            "Requirement already satisfied: pytz in /usr/local/lib/python3.6/dist-packages (from plotly==3.10.0) (2018.9)\n",
            "Requirement already satisfied: chardet<3.1.0,>=3.0.2 in /usr/local/lib/python3.6/dist-packages (from requests->plotly==3.10.0) (3.0.4)\n",
            "Requirement already satisfied: urllib3<1.25,>=1.21.1 in /usr/local/lib/python3.6/dist-packages (from requests->plotly==3.10.0) (1.24.3)\n",
            "Requirement already satisfied: idna<2.9,>=2.5 in /usr/local/lib/python3.6/dist-packages (from requests->plotly==3.10.0) (2.8)\n",
            "Requirement already satisfied: certifi>=2017.4.17 in /usr/local/lib/python3.6/dist-packages (from requests->plotly==3.10.0) (2020.4.5.1)\n",
            "Requirement already satisfied: ipython-genutils in /usr/local/lib/python3.6/dist-packages (from nbformat>=4.2->plotly==3.10.0) (0.2.0)\n",
            "Requirement already satisfied: jsonschema!=2.5.0,>=2.4 in /usr/local/lib/python3.6/dist-packages (from nbformat>=4.2->plotly==3.10.0) (2.6.0)\n",
            "Requirement already satisfied: traitlets>=4.1 in /usr/local/lib/python3.6/dist-packages (from nbformat>=4.2->plotly==3.10.0) (4.3.3)\n",
            "Requirement already satisfied: jupyter-core in /usr/local/lib/python3.6/dist-packages (from nbformat>=4.2->plotly==3.10.0) (4.6.3)\n",
            "\u001b[31mERROR: cufflinks 0.17.3 has requirement plotly>=4.1.1, but you'll have plotly 3.10.0 which is incompatible.\u001b[0m\n",
            "Installing collected packages: plotly\n",
            "  Found existing installation: plotly 4.4.1\n",
            "    Uninstalling plotly-4.4.1:\n",
            "      Successfully uninstalled plotly-4.4.1\n",
            "Successfully installed plotly-3.10.0\n"
          ],
          "name": "stdout"
        },
        {
          "output_type": "display_data",
          "data": {
            "application/vnd.colab-display-data+json": {
              "pip_warning": {
                "packages": [
                  "_plotly_future_",
                  "_plotly_utils",
                  "plotly"
                ]
              }
            }
          },
          "metadata": {
            "tags": []
          }
        }
      ]
    },
    {
      "cell_type": "code",
      "metadata": {
        "id": "3SFmrOWH-g64",
        "colab_type": "code",
        "outputId": "47698ed7-9d1e-4903-e7db-e571dbf7ef71",
        "colab": {
          "base_uri": "https://localhost:8080/",
          "height": 16
        }
      },
      "source": [
        "import plotly.plotly as py\n",
        "import plotly.graph_objs as go\n",
        "# Offline mode\n",
        "from plotly.offline import init_notebook_mode, iplot\n",
        "init_notebook_mode(connected=True)"
      ],
      "execution_count": 0,
      "outputs": [
        {
          "output_type": "display_data",
          "data": {
            "text/html": [
              "        <script type=\"text/javascript\">\n",
              "        window.PlotlyConfig = {MathJaxConfig: 'local'};\n",
              "        if (window.MathJax) {MathJax.Hub.Config({SVG: {font: \"STIX-Web\"}});}\n",
              "        if (typeof require !== 'undefined') {\n",
              "        require.undef(\"plotly\");\n",
              "        requirejs.config({\n",
              "            paths: {\n",
              "                'plotly': ['https://cdn.plot.ly/plotly-latest.min']\n",
              "            }\n",
              "        });\n",
              "        require(['plotly'], function(Plotly) {\n",
              "            window._Plotly = Plotly;\n",
              "        });\n",
              "        }\n",
              "        </script>\n",
              "        "
            ]
          },
          "metadata": {
            "tags": []
          }
        }
      ]
    },
    {
      "cell_type": "code",
      "metadata": {
        "id": "mklB1NntCeQn",
        "colab_type": "code",
        "outputId": "3d6e2551-946c-4e97-8142-9ce93e9e8612",
        "colab": {
          "base_uri": "https://localhost:8080/",
          "height": 33
        }
      },
      "source": [
        "energy_series.values"
      ],
      "execution_count": 0,
      "outputs": [
        {
          "output_type": "execute_result",
          "data": {
            "text/plain": [
              "array([-2.333, -2.333, -2.333, ..., -4.667, -5.   , -5.333])"
            ]
          },
          "metadata": {
            "tags": []
          },
          "execution_count": 20
        }
      ]
    },
    {
      "cell_type": "code",
      "metadata": {
        "id": "Nh9-dzha-Vql",
        "colab_type": "code",
        "colab": {}
      },
      "source": [
        "energy_data = go.Scatter(x=energy_series.index,\n",
        "                         y=energy_series.values)"
      ],
      "execution_count": 0,
      "outputs": []
    },
    {
      "cell_type": "code",
      "metadata": {
        "id": "XtoLSfFqDBEX",
        "colab_type": "code",
        "colab": {}
      },
      "source": [
        "layout = go.Layout(title='Energy Plot', xaxis=dict(title='Date'),\n",
        "                   yaxis=dict(title='(kWh)'))"
      ],
      "execution_count": 0,
      "outputs": []
    },
    {
      "cell_type": "code",
      "metadata": {
        "id": "JI4ohPfNIsx2",
        "colab_type": "code",
        "colab": {}
      },
      "source": [
        "import plotly"
      ],
      "execution_count": 0,
      "outputs": []
    },
    {
      "cell_type": "code",
      "metadata": {
        "id": "BsZ8w2inINnO",
        "colab_type": "code",
        "colab": {}
      },
      "source": [
        "plotly.tools.set_credentials_file(username='sy2657',                                              \n",
        "                                  api_key='565mDD9ygRWTlWKfXuDb')"
      ],
      "execution_count": 0,
      "outputs": []
    },
    {
      "cell_type": "code",
      "metadata": {
        "id": "s_EIndJ0FGnZ",
        "colab_type": "code",
        "outputId": "df962ab5-2771-44d6-8548-eda78940a3d0",
        "colab": {
          "base_uri": "https://localhost:8080/",
          "height": 582
        }
      },
      "source": [
        "fig = go.Figure(data=[energy_data], layout=layout)\n",
        "py.iplot(fig, sharing='public')"
      ],
      "execution_count": 0,
      "outputs": [
        {
          "output_type": "stream",
          "text": [
            "High five! You successfully sent some data to your account on plotly. View your plot in your browser at https://plot.ly/~sy2657/0 or inside your Plotly account where it is named 'plot from API'\n"
          ],
          "name": "stdout"
        },
        {
          "output_type": "execute_result",
          "data": {
            "text/html": [
              "<iframe id=\"igraph\" scrolling=\"no\" style=\"border:none;\" seamless=\"seamless\" src=\"https://plot.ly/~sy2657/0.embed\" height=\"525px\" width=\"100%\"></iframe>"
            ],
            "text/plain": [
              "<chart_studio.tools.PlotlyDisplay object>"
            ]
          },
          "metadata": {
            "tags": []
          },
          "execution_count": 16
        }
      ]
    },
    {
      "cell_type": "code",
      "metadata": {
        "id": "fY5mhk-tLgJQ",
        "colab_type": "code",
        "colab": {}
      },
      "source": [
        ""
      ],
      "execution_count": 0,
      "outputs": []
    },
    {
      "cell_type": "code",
      "metadata": {
        "id": "tx2ObcyLL7Du",
        "colab_type": "code",
        "colab": {}
      },
      "source": [
        "#https://towardsdatascience.com/introduction-to-interactive-time-series-visualizations-with-plotly-in-python-d3219eb7a7af\n"
      ],
      "execution_count": 0,
      "outputs": []
    },
    {
      "cell_type": "code",
      "metadata": {
        "id": "AKk34I97R_YT",
        "colab_type": "code",
        "colab": {}
      },
      "source": [
        "# step 1 c\n",
        "from gluonts.dataset.common import ListDataset\n",
        "\n",
        "training_data_caiso = ListDataset(\n",
        "    [{\"start\": \"2019-01-01 00:00:00\" , \"target\": caiso_dataset.iso.values}],\n",
        "    freq = \"1H\"\n",
        ")"
      ],
      "execution_count": 0,
      "outputs": []
    },
    {
      "cell_type": "code",
      "metadata": {
        "id": "GxT7C6crYbFf",
        "colab_type": "code",
        "colab": {}
      },
      "source": [
        "# step 3- load into arrays 'watts' and 'time_stamps'\n",
        "import csv\n",
        "row_num = 0\n",
        "\n",
        "watts = []\n",
        "time_stamps =[]\n",
        "\n",
        "with open('CD_INTERVAL_READING_ALL_NO_QUOTES.csv', newline='') as csvfile:\n",
        "  reader = csv.reader(csvfile, delimiter=' ')\n",
        "  for row in reader:\n",
        "    row_num = row_num+1\n",
        "    #print(row[0])\n",
        "    sdata = row[1]\n",
        "    tsplit = sdata.split(',')\n",
        "    if row_num==1:\n",
        "      continue\n",
        "    #print(row[1])\n",
        "    #print(tsplit[3])\n",
        "    ntsplit = float(tsplit[3])\n",
        "    watts.append(ntsplit)\n",
        "    time_stamps.append(tsplit[0])\n",
        "    #print(row[2])\n",
        "    #print(row[3])\n",
        "    #print(row[4])\n",
        "    if row_num > 80000:\n",
        "      break\n"
      ],
      "execution_count": 0,
      "outputs": []
    },
    {
      "cell_type": "code",
      "metadata": {
        "id": "hhtsxr2YJ0nE",
        "colab_type": "code",
        "outputId": "fc1973d5-cea0-48aa-8a9f-8d6304531640",
        "colab": {
          "base_uri": "https://localhost:8080/",
          "height": 34
        }
      },
      "source": [
        "watts[0]"
      ],
      "execution_count": 0,
      "outputs": [
        {
          "output_type": "execute_result",
          "data": {
            "text/plain": [
              "0.141"
            ]
          },
          "metadata": {
            "tags": []
          },
          "execution_count": 9
        }
      ]
    },
    {
      "cell_type": "code",
      "metadata": {
        "id": "vbJtxxbdYunb",
        "colab_type": "code",
        "colab": {}
      },
      "source": [
        "# step 4\n",
        "import numpy as np\n",
        "awatts = np.array(watts)"
      ],
      "execution_count": 0,
      "outputs": []
    },
    {
      "cell_type": "code",
      "metadata": {
        "id": "HyySZ971YyT5",
        "colab_type": "code",
        "colab": {}
      },
      "source": [
        "# step 5\n",
        "import pandas as pd\n",
        "#import numpy as np\n",
        "pred_length = 10\n"
      ],
      "execution_count": 0,
      "outputs": []
    },
    {
      "cell_type": "code",
      "metadata": {
        "id": "NwUAt9gfZBsq",
        "colab_type": "code",
        "outputId": "2c2fa7ea-1049-48af-c367-0ba6d6e80304",
        "cellView": "form",
        "colab": {
          "base_uri": "https://localhost:8080/",
          "height": 477
        }
      },
      "source": [
        "#@title\n",
        "# step 6\n",
        "from gluonts.dataset.common import ListDataset\n",
        "start = pd.Timestamp(time_stamps[0], freq=\"0.5H\")"
      ],
      "execution_count": 0,
      "outputs": [
        {
          "output_type": "error",
          "ename": "ModuleNotFoundError",
          "evalue": "ignored",
          "traceback": [
            "\u001b[0;31m---------------------------------------------------------------------------\u001b[0m",
            "\u001b[0;31mModuleNotFoundError\u001b[0m                       Traceback (most recent call last)",
            "\u001b[0;32m<ipython-input-11-31b64d39eec2>\u001b[0m in \u001b[0;36m<module>\u001b[0;34m()\u001b[0m\n\u001b[0;32m----> 1\u001b[0;31m \u001b[0;32mfrom\u001b[0m \u001b[0mgluonts\u001b[0m\u001b[0;34m.\u001b[0m\u001b[0mdataset\u001b[0m\u001b[0;34m.\u001b[0m\u001b[0mcommon\u001b[0m \u001b[0;32mimport\u001b[0m \u001b[0mListDataset\u001b[0m\u001b[0;34m\u001b[0m\u001b[0;34m\u001b[0m\u001b[0m\n\u001b[0m\u001b[1;32m      2\u001b[0m \u001b[0mstart\u001b[0m \u001b[0;34m=\u001b[0m \u001b[0mpd\u001b[0m\u001b[0;34m.\u001b[0m\u001b[0mTimestamp\u001b[0m\u001b[0;34m(\u001b[0m\u001b[0mtime_stamps\u001b[0m\u001b[0;34m[\u001b[0m\u001b[0;36m0\u001b[0m\u001b[0;34m]\u001b[0m\u001b[0;34m,\u001b[0m \u001b[0mfreq\u001b[0m\u001b[0;34m=\u001b[0m\u001b[0;34m\"0.5H\"\u001b[0m\u001b[0;34m)\u001b[0m\u001b[0;34m\u001b[0m\u001b[0;34m\u001b[0m\u001b[0m\n",
            "\u001b[0;32m/usr/local/lib/python3.6/dist-packages/gluonts/dataset/common.py\u001b[0m in \u001b[0;36m<module>\u001b[0;34m()\u001b[0m\n\u001b[1;32m     40\u001b[0m \u001b[0;32mfrom\u001b[0m \u001b[0mgluonts\u001b[0m\u001b[0;34m.\u001b[0m\u001b[0mcore\u001b[0m\u001b[0;34m.\u001b[0m\u001b[0mexception\u001b[0m \u001b[0;32mimport\u001b[0m \u001b[0mGluonTSDataError\u001b[0m\u001b[0;34m\u001b[0m\u001b[0;34m\u001b[0m\u001b[0m\n\u001b[1;32m     41\u001b[0m \u001b[0;32mfrom\u001b[0m \u001b[0mgluonts\u001b[0m\u001b[0;34m.\u001b[0m\u001b[0mdataset\u001b[0m \u001b[0;32mimport\u001b[0m \u001b[0mjsonl\u001b[0m\u001b[0;34m,\u001b[0m \u001b[0mutil\u001b[0m\u001b[0;34m\u001b[0m\u001b[0;34m\u001b[0m\u001b[0m\n\u001b[0;32m---> 42\u001b[0;31m from gluonts.dataset.stat import (\n\u001b[0m\u001b[1;32m     43\u001b[0m     \u001b[0mDatasetStatistics\u001b[0m\u001b[0;34m,\u001b[0m\u001b[0;34m\u001b[0m\u001b[0;34m\u001b[0m\u001b[0m\n\u001b[1;32m     44\u001b[0m     \u001b[0mcalculate_dataset_statistics\u001b[0m\u001b[0;34m,\u001b[0m\u001b[0;34m\u001b[0m\u001b[0;34m\u001b[0m\u001b[0m\n",
            "\u001b[0;32m/usr/local/lib/python3.6/dist-packages/gluonts/dataset/stat.py\u001b[0m in \u001b[0;36m<module>\u001b[0;34m()\u001b[0m\n\u001b[1;32m     21\u001b[0m \u001b[0;34m\u001b[0m\u001b[0m\n\u001b[1;32m     22\u001b[0m \u001b[0;31m# First-party imports\u001b[0m\u001b[0;34m\u001b[0m\u001b[0;34m\u001b[0m\u001b[0;34m\u001b[0m\u001b[0m\n\u001b[0;32m---> 23\u001b[0;31m \u001b[0;32mfrom\u001b[0m \u001b[0mgluonts\u001b[0m\u001b[0;34m.\u001b[0m\u001b[0mcore\u001b[0m\u001b[0;34m.\u001b[0m\u001b[0mcomponent\u001b[0m \u001b[0;32mimport\u001b[0m \u001b[0mvalidated\u001b[0m\u001b[0;34m\u001b[0m\u001b[0;34m\u001b[0m\u001b[0m\n\u001b[0m\u001b[1;32m     24\u001b[0m \u001b[0;32mfrom\u001b[0m \u001b[0mgluonts\u001b[0m\u001b[0;34m.\u001b[0m\u001b[0mcore\u001b[0m\u001b[0;34m.\u001b[0m\u001b[0mexception\u001b[0m \u001b[0;32mimport\u001b[0m \u001b[0massert_data_error\u001b[0m\u001b[0;34m\u001b[0m\u001b[0;34m\u001b[0m\u001b[0m\n\u001b[1;32m     25\u001b[0m \u001b[0;32mfrom\u001b[0m \u001b[0mgluonts\u001b[0m\u001b[0;34m.\u001b[0m\u001b[0mgluonts_tqdm\u001b[0m \u001b[0;32mimport\u001b[0m \u001b[0mtqdm\u001b[0m\u001b[0;34m\u001b[0m\u001b[0;34m\u001b[0m\u001b[0m\n",
            "\u001b[0;32m/usr/local/lib/python3.6/dist-packages/gluonts/core/component.py\u001b[0m in \u001b[0;36m<module>\u001b[0;34m()\u001b[0m\n\u001b[1;32m     24\u001b[0m \u001b[0;34m\u001b[0m\u001b[0m\n\u001b[1;32m     25\u001b[0m \u001b[0;31m# Third-party imports\u001b[0m\u001b[0;34m\u001b[0m\u001b[0;34m\u001b[0m\u001b[0;34m\u001b[0m\u001b[0m\n\u001b[0;32m---> 26\u001b[0;31m \u001b[0;32mimport\u001b[0m \u001b[0mmxnet\u001b[0m \u001b[0;32mas\u001b[0m \u001b[0mmx\u001b[0m\u001b[0;34m\u001b[0m\u001b[0;34m\u001b[0m\u001b[0m\n\u001b[0m\u001b[1;32m     27\u001b[0m \u001b[0;32mimport\u001b[0m \u001b[0mnumpy\u001b[0m \u001b[0;32mas\u001b[0m \u001b[0mnp\u001b[0m\u001b[0;34m\u001b[0m\u001b[0;34m\u001b[0m\u001b[0m\n\u001b[1;32m     28\u001b[0m \u001b[0;32mfrom\u001b[0m \u001b[0mpydantic\u001b[0m \u001b[0;32mimport\u001b[0m \u001b[0mBaseConfig\u001b[0m\u001b[0;34m,\u001b[0m \u001b[0mBaseModel\u001b[0m\u001b[0;34m,\u001b[0m \u001b[0mValidationError\u001b[0m\u001b[0;34m,\u001b[0m \u001b[0mcreate_model\u001b[0m\u001b[0;34m\u001b[0m\u001b[0;34m\u001b[0m\u001b[0m\n",
            "\u001b[0;31mModuleNotFoundError\u001b[0m: No module named 'mxnet'",
            "",
            "\u001b[0;31m---------------------------------------------------------------------------\u001b[0;32m\nNOTE: If your import is failing due to a missing package, you can\nmanually install dependencies using either !pip or !apt.\n\nTo view examples of installing some common dependencies, click the\n\"Open Examples\" button below.\n\u001b[0;31m---------------------------------------------------------------------------\u001b[0m\n"
          ]
        }
      ]
    },
    {
      "cell_type": "code",
      "metadata": {
        "id": "SAzgKrtLZKzk",
        "colab_type": "code",
        "cellView": "form",
        "colab": {}
      },
      "source": [
        "#@title\n",
        "# step 7\n",
        "#freq=\"0.5H\"\n",
        "\n",
        "pred_length = 3000\n",
        "freq=\"0.5H\"\n",
        "\n",
        "train_ds1 = ListDataset([{'target': x, 'start': start} for x in awatts[:-pred_length]], freq = freq)\n",
        "\n",
        "test_ds1 = ListDataset([{'target':x, 'start':start} for x in awatts], freq= freq)"
      ],
      "execution_count": 0,
      "outputs": []
    },
    {
      "cell_type": "code",
      "metadata": {
        "id": "fnIm-uEsbAF6",
        "colab_type": "code",
        "outputId": "37e2072b-9ec8-45e4-f099-6caca9cbdb9d",
        "colab": {
          "base_uri": "https://localhost:8080/",
          "height": 70
        }
      },
      "source": [
        "#from gluonts.dataset.repository.datasets import get_dataset, dataset_recipes\n",
        "#dataset = get_dataset(\"m4_hourly\", regenerate= False)"
      ],
      "execution_count": 0,
      "outputs": [
        {
          "output_type": "stream",
          "text": [
            "INFO:root:downloading and processing m4_hourly\n"
          ],
          "name": "stderr"
        },
        {
          "output_type": "stream",
          "text": [
            "saving time-series into /root/.mxnet/gluon-ts/datasets/m4_hourly/train/data.json\n",
            "saving time-series into /root/.mxnet/gluon-ts/datasets/m4_hourly/test/data.json\n"
          ],
          "name": "stdout"
        }
      ]
    },
    {
      "cell_type": "code",
      "metadata": {
        "id": "edT8BoLibG_I",
        "colab_type": "code",
        "outputId": "19235751-257e-4829-ceca-4958639c7825",
        "colab": {
          "base_uri": "https://localhost:8080/",
          "height": 34
        }
      },
      "source": [
        "freq"
      ],
      "execution_count": 0,
      "outputs": [
        {
          "output_type": "execute_result",
          "data": {
            "text/plain": [
              "'0.5H'"
            ]
          },
          "metadata": {
            "tags": []
          },
          "execution_count": 18
        }
      ]
    },
    {
      "cell_type": "code",
      "metadata": {
        "id": "DwhQJSczZM_s",
        "colab_type": "code",
        "cellView": "form",
        "colab": {}
      },
      "source": [
        "#@title\n",
        "# step 8\n",
        "from gluonts.model.simple_feedforward import SimpleFeedForwardEstimator\n",
        "from gluonts.trainer import Trainer\n",
        "\n",
        "estimator1 = SimpleFeedForwardEstimator(\n",
        "    num_hidden_dimensions=[10],\n",
        "    prediction_length = pred_length,\n",
        "    context_length = 100,\n",
        "    freq= freq,\n",
        "    trainer = Trainer(ctx=\"cpu\",\n",
        "                      epochs=5,\n",
        "                      learning_rate=1e-3,\n",
        "                      num_batches_per_epoch= 100)\n",
        ")\n",
        "\n",
        "\n",
        "predictor1 = estimator1.train(train_ds1)\n",
        "\n",
        "from gluonts.evaluation.backtest import make_evaluation_predictions\n",
        "\n",
        "forecast_it, ts_it = make_evaluation_predictions(\n",
        "    dataset=test_ds1,  # test dataset\n",
        "    predictor=predictor1,  # predictor\n",
        "    num_samples=100,  # number of sample paths we want for evaluation\n",
        ")\n"
      ],
      "execution_count": 0,
      "outputs": []
    },
    {
      "cell_type": "markdown",
      "metadata": {
        "id": "GkzAPv07e0MM",
        "colab_type": "text"
      },
      "source": [
        "Create your own model:\n",
        "\n",
        "1. define training + prediction network\n",
        "2. define a new estimator that specifies any data processing and uses the networks\n",
        "\n",
        "Rules (training and pred networks follow):\n",
        "\n",
        "1. Both have a hybrid_forward method that defines what should happen when the network is called\n",
        "2. training network's hybrid forward returns a loss based on prediction and true values\n",
        "3. prediction network's hybrid_forward returns predictions\n",
        "\n",
        "Rules (estimator follows):\n",
        "1. include a create_transformation method that defines all possible feature transformations & how data is split during training\n",
        "2. include a create_training_network method that returns training network configured with necessary hyperparameters\n",
        "3. Include a create_predictor method that creates prediction network and returns Predictor object\n",
        "\n",
        "A Predictor defines the predictor.predict method of a given predictor. This method takes the test dataset, it passes it through the prediction network to take the predictions, and yields the predictions. You can think of the Predictor object as a wrapper of the prediction network that defines its predict method."
      ]
    },
    {
      "cell_type": "markdown",
      "metadata": {
        "id": "iDeLwBKZULaX",
        "colab_type": "text"
      },
      "source": [
        "Time Series model building (Sec. 2.6) \n",
        "A new model can be implemented using Estimator/Predictor API\n",
        "In most cases, can create new model with GluonForecastEstimator, and implement/ configure the members and methods:\n",
        "1. train_network_cls: NN that returns training loss for model, called during training\n",
        "2. pred_network_cls: NN that uses same parameters as training network but instead of returning loss, returns forecast samp.s\n",
        "3. create_transformation: method that returns transformation pipeline\n",
        "4. forecast_cls: Forecast class that will be wrapped around output of the forecast network \n"
      ]
    },
    {
      "cell_type": "code",
      "metadata": {
        "id": "aqTJJu74dn1V",
        "colab_type": "code",
        "outputId": "09d89cb2-51bf-4ec4-903f-ac9127afca47",
        "cellView": "form",
        "colab": {
          "base_uri": "https://localhost:8080/",
          "height": 382
        }
      },
      "source": [
        "#@title\n",
        "# step 8a \n",
        "# hybrid block\n",
        "from mxnet import gluon\n",
        "from gluonts.model.estimator import GluonEstimator\n",
        "from gluonts.model.predictor import Predictor, RepresentableBlockPredictor\n",
        "from gluonts.trainer import Trainer\n",
        "from gluonts.transform import InstanceSplitter, FieldName, Transformation, ExpectedNumInstanceSampler\n",
        "from gluonts.core.component import validated\n",
        "from gluonts.support.util import copy_parameters \n",
        "\n",
        "#  gluonts.block.cnn.CausalConv1D 1D causal temporal convolution\n",
        "\n",
        "\n",
        "\n",
        "class MyTrainNetwork(gluon.HybridBlock):\n",
        "\n",
        "    def __init__(self, prediction_length, cells, act_type, **kwargs):\n",
        "\n",
        "        super().__init__(**kwargs)\n",
        "\n",
        "        self.prediction_length = prediction_length\n",
        "\n",
        "        \n",
        "\n",
        "        with self.name_scope():\n",
        "\n",
        "            # set up a network that predicts the target\n",
        "\n",
        "            #self.nn = mx.gluon.nn.HybridSequential()\n",
        "\n",
        "            self.nn = gluon.nn.HybridSequential()    \n",
        "            self.nn.add(gluon.nn.Dense(units=self.prediction_length, activation='relu'))\n",
        "            self.nn.add(gluon.nn.Dense(units= 40, activation=act_type))\n",
        "            self.nn.add(mx.gluon.nn.Dense(units=self.prediction_length, activation = 'softrelu'))    \n",
        "\n",
        "    def hybrid_forward(self, F, past_target, future_target):\n",
        "\n",
        "        prediction = self.nn(past_target)\n",
        "        # calc L1 loss -> learn median\n",
        "        return(prediction - future_target).abs().mean(axis=-1)\n",
        "\n",
        "class MyPredNetwork(MyTrainNetwork):\n",
        "    # The prediction network only receives past_target and returns predictions\n",
        "    def hybrid_forward(self, F, past_target):\n",
        "        prediction = self.nn(past_target)\n",
        "        return prediction.expand_dims(axis=1)\n",
        "\n",
        "\n",
        "\n",
        "        "
      ],
      "execution_count": 0,
      "outputs": [
        {
          "output_type": "error",
          "ename": "ModuleNotFoundError",
          "evalue": "ignored",
          "traceback": [
            "\u001b[0;31m---------------------------------------------------------------------------\u001b[0m",
            "\u001b[0;31mModuleNotFoundError\u001b[0m                       Traceback (most recent call last)",
            "\u001b[0;32m<ipython-input-3-717285f66ca7>\u001b[0m in \u001b[0;36m<module>\u001b[0;34m()\u001b[0m\n\u001b[0;32m----> 1\u001b[0;31m \u001b[0;32mfrom\u001b[0m \u001b[0mmxnet\u001b[0m \u001b[0;32mimport\u001b[0m \u001b[0mgluon\u001b[0m\u001b[0;34m\u001b[0m\u001b[0;34m\u001b[0m\u001b[0m\n\u001b[0m\u001b[1;32m      2\u001b[0m \u001b[0;32mfrom\u001b[0m \u001b[0mgluonts\u001b[0m\u001b[0;34m.\u001b[0m\u001b[0mmodel\u001b[0m\u001b[0;34m.\u001b[0m\u001b[0mestimator\u001b[0m \u001b[0;32mimport\u001b[0m \u001b[0mGluonEstimator\u001b[0m\u001b[0;34m\u001b[0m\u001b[0;34m\u001b[0m\u001b[0m\n\u001b[1;32m      3\u001b[0m \u001b[0;32mfrom\u001b[0m \u001b[0mgluonts\u001b[0m\u001b[0;34m.\u001b[0m\u001b[0mmodel\u001b[0m\u001b[0;34m.\u001b[0m\u001b[0mpredictor\u001b[0m \u001b[0;32mimport\u001b[0m \u001b[0mPredictor\u001b[0m\u001b[0;34m,\u001b[0m \u001b[0mRepresentableBlockPredictor\u001b[0m\u001b[0;34m\u001b[0m\u001b[0;34m\u001b[0m\u001b[0m\n\u001b[1;32m      4\u001b[0m \u001b[0;32mfrom\u001b[0m \u001b[0mgluonts\u001b[0m\u001b[0;34m.\u001b[0m\u001b[0mtrainer\u001b[0m \u001b[0;32mimport\u001b[0m \u001b[0mTrainer\u001b[0m\u001b[0;34m\u001b[0m\u001b[0;34m\u001b[0m\u001b[0m\n\u001b[1;32m      5\u001b[0m \u001b[0;32mfrom\u001b[0m \u001b[0mgluonts\u001b[0m\u001b[0;34m.\u001b[0m\u001b[0mtransform\u001b[0m \u001b[0;32mimport\u001b[0m \u001b[0mInstanceSplitter\u001b[0m\u001b[0;34m,\u001b[0m \u001b[0mFieldName\u001b[0m\u001b[0;34m,\u001b[0m \u001b[0mTransformation\u001b[0m\u001b[0;34m,\u001b[0m \u001b[0mExpectedNumInstanceSampler\u001b[0m\u001b[0;34m\u001b[0m\u001b[0;34m\u001b[0m\u001b[0m\n",
            "\u001b[0;31mModuleNotFoundError\u001b[0m: No module named 'mxnet'",
            "",
            "\u001b[0;31m---------------------------------------------------------------------------\u001b[0;32m\nNOTE: If your import is failing due to a missing package, you can\nmanually install dependencies using either !pip or !apt.\n\nTo view examples of installing some common dependencies, click the\n\"Open Examples\" button below.\n\u001b[0;31m---------------------------------------------------------------------------\u001b[0m\n"
          ]
        }
      ]
    },
    {
      "cell_type": "code",
      "metadata": {
        "id": "WaMMGjZZapmA",
        "colab_type": "code",
        "cellView": "form",
        "colab": {}
      },
      "source": [
        "#@title\n",
        "# estimator 1 (from tutorial)\n",
        "class MyEstimator(GluonEstimator):\n",
        "  @validated()\n",
        "  def __init__(\n",
        "      self,\n",
        "      prediction_length:int,\n",
        "      context_length:int,\n",
        "      freq:str,\n",
        "      num_cells:int,\n",
        "      trainer:Trainer=Trainer()\n",
        "  ) -> None:\n",
        "    super().__init__(trainer=trainer)\n",
        "    self.prediction_length = prediction_length\n",
        "    self.context_length= context_length\n",
        "    self.freq = freq\n",
        "    self.num_cells= num_cells"
      ],
      "execution_count": 0,
      "outputs": []
    },
    {
      "cell_type": "code",
      "metadata": {
        "id": "-ba09dYtZD0b",
        "colab_type": "code",
        "cellView": "form",
        "colab": {}
      },
      "source": [
        "#@title\n",
        "# estimator 2 (from paper)\n",
        "\n",
        "class MyEstimator(GluonEstimator):\n",
        "  @validated()\n",
        "  def __init__(\n",
        "      self,\n",
        "      freq:str,\n",
        "      prediction_length:int,\n",
        "      act_type:str= 'relu',\n",
        "      context_length=int=20,\n",
        "      cells: List[int]=[40,40,40],\n",
        "      trainer:Trainer =Trainer(epochs=10)\n",
        "  )-> None:\n",
        "    super().__init__(trainer=trainer)\n",
        "    self.freq = freq\n",
        "    self.prediction_length = prediction_length\n",
        "    self.act_type=act_type\n",
        "    self.context_length= context_length\n",
        "    self.cells=cells\n",
        "\n",
        "# must transform features to date time features\n",
        "  def create_transformation(self):\n",
        "    # defines how train and test windows are cut\n",
        "    # randomly select training samples from all series \n",
        "    return InstanceSplitter(\n",
        "      target_field=FieldName.TARGET,\n",
        "      is_pad_field=FieldName.IS_PAD,\n",
        "      start_field=FieldName.START,\n",
        "      forecast_start_field=FieldName.FORECAST_START,\n",
        "      train_sampler=ExpectedNumInstanceSampler(num_instances=1),\n",
        "      past_length=self.context_length,\n",
        "      future_length=self.prediction_length,\n",
        ")\n",
        "    \n",
        "  def create_training_network(self)->MyTrainNetwork:\n",
        "    return MyTrainNetwork(\n",
        "        prediction_length = self.prediction_length,\n",
        "        cells=self.cells,\n",
        "        act_type= self.act_type\n",
        "    )\n",
        "  \n",
        "  def create_predictor(self, transformation: Transformation, trained_network: HybridBlock\n",
        "    ) -> Predictor:\n",
        "    prediction_network = MyPredNetwork(\n",
        "        prediction_length = self.prediction_length,\n",
        "        cells= self.cells,\n",
        "        act_type = self.act_type\n",
        "    )\n",
        "\n",
        "    copy_parameters(trained_network, prediction_network)\n",
        "\n",
        "    return RepresentableBlockPredictor(input_transform=transformation, \n",
        "                                       prediction_net =prediction_network,\n",
        "                                       batch_size= self.trainer.batch_size,\n",
        "                                       freq= self.freq,\n",
        "                                       prediction_length=self.prediction_length,\n",
        "                                       ctx=self.trainer.ctx)\n"
      ],
      "execution_count": 0,
      "outputs": []
    },
    {
      "cell_type": "code",
      "metadata": {
        "id": "ge_TC_69aHCX",
        "colab_type": "code",
        "colab": {}
      },
      "source": [
        "# step 8b \n",
        "#custom estimator\n",
        "class myEstimator1(GluonEstimator):\n",
        "  "
      ],
      "execution_count": 0,
      "outputs": []
    },
    {
      "cell_type": "code",
      "metadata": {
        "id": "4ndPlZvDb_Yu",
        "colab_type": "code",
        "outputId": "d7bf47d6-502e-4788-f9d4-0c3300defb57",
        "colab": {
          "base_uri": "https://localhost:8080/",
          "height": 462
        }
      },
      "source": [
        "#step 9\n",
        "predictor = estimator1.train(dataset.train)\n"
      ],
      "execution_count": 0,
      "outputs": [
        {
          "output_type": "stream",
          "text": [
            "INFO:root:Start model training\n",
            "INFO:root:Epoch[0] Learning rate is 0.001\n",
            "  0%|          | 0/100 [00:00<?, ?it/s]"
          ],
          "name": "stderr"
        },
        {
          "output_type": "stream",
          "text": [
            "learning rate from ``lr_scheduler`` has been overwritten by ``learning_rate`` in optimizer.\n"
          ],
          "name": "stdout"
        },
        {
          "output_type": "stream",
          "text": [
            "\n"
          ],
          "name": "stderr"
        },
        {
          "output_type": "error",
          "ename": "Exception",
          "evalue": "ignored",
          "traceback": [
            "\u001b[0;31m---------------------------------------------------------------------------\u001b[0m",
            "\u001b[0;31mException\u001b[0m                                 Traceback (most recent call last)",
            "\u001b[0;32m<ipython-input-21-152dddeec58a>\u001b[0m in \u001b[0;36m<module>\u001b[0;34m()\u001b[0m\n\u001b[0;32m----> 1\u001b[0;31m \u001b[0mpredictor\u001b[0m \u001b[0;34m=\u001b[0m \u001b[0mestimator1\u001b[0m\u001b[0;34m.\u001b[0m\u001b[0mtrain\u001b[0m\u001b[0;34m(\u001b[0m\u001b[0mdataset\u001b[0m\u001b[0;34m.\u001b[0m\u001b[0mtrain\u001b[0m\u001b[0;34m)\u001b[0m\u001b[0;34m\u001b[0m\u001b[0;34m\u001b[0m\u001b[0m\n\u001b[0m",
            "\u001b[0;32m/usr/local/lib/python3.6/dist-packages/gluonts/model/estimator.py\u001b[0m in \u001b[0;36mtrain\u001b[0;34m(self, training_data, validation_data)\u001b[0m\n\u001b[1;32m    221\u001b[0m         \u001b[0mself\u001b[0m\u001b[0;34m,\u001b[0m \u001b[0mtraining_data\u001b[0m\u001b[0;34m:\u001b[0m \u001b[0mDataset\u001b[0m\u001b[0;34m,\u001b[0m \u001b[0mvalidation_data\u001b[0m\u001b[0;34m:\u001b[0m \u001b[0mOptional\u001b[0m\u001b[0;34m[\u001b[0m\u001b[0mDataset\u001b[0m\u001b[0;34m]\u001b[0m \u001b[0;34m=\u001b[0m \u001b[0;32mNone\u001b[0m\u001b[0;34m\u001b[0m\u001b[0;34m\u001b[0m\u001b[0m\n\u001b[1;32m    222\u001b[0m     ) -> Predictor:\n\u001b[0;32m--> 223\u001b[0;31m         \u001b[0;32mreturn\u001b[0m \u001b[0mself\u001b[0m\u001b[0;34m.\u001b[0m\u001b[0mtrain_model\u001b[0m\u001b[0;34m(\u001b[0m\u001b[0mtraining_data\u001b[0m\u001b[0;34m,\u001b[0m \u001b[0mvalidation_data\u001b[0m\u001b[0;34m)\u001b[0m\u001b[0;34m.\u001b[0m\u001b[0mpredictor\u001b[0m\u001b[0;34m\u001b[0m\u001b[0;34m\u001b[0m\u001b[0m\n\u001b[0m",
            "\u001b[0;32m/usr/local/lib/python3.6/dist-packages/gluonts/model/estimator.py\u001b[0m in \u001b[0;36mtrain_model\u001b[0;34m(self, training_data, validation_data)\u001b[0m\n\u001b[1;32m    206\u001b[0m             \u001b[0minput_names\u001b[0m\u001b[0;34m=\u001b[0m\u001b[0mget_hybrid_forward_input_names\u001b[0m\u001b[0;34m(\u001b[0m\u001b[0mtrained_net\u001b[0m\u001b[0;34m)\u001b[0m\u001b[0;34m,\u001b[0m\u001b[0;34m\u001b[0m\u001b[0;34m\u001b[0m\u001b[0m\n\u001b[1;32m    207\u001b[0m             \u001b[0mtrain_iter\u001b[0m\u001b[0;34m=\u001b[0m\u001b[0mtraining_data_loader\u001b[0m\u001b[0;34m,\u001b[0m\u001b[0;34m\u001b[0m\u001b[0;34m\u001b[0m\u001b[0m\n\u001b[0;32m--> 208\u001b[0;31m             \u001b[0mvalidation_iter\u001b[0m\u001b[0;34m=\u001b[0m\u001b[0mvalidation_data_loader\u001b[0m\u001b[0;34m,\u001b[0m\u001b[0;34m\u001b[0m\u001b[0;34m\u001b[0m\u001b[0m\n\u001b[0m\u001b[1;32m    209\u001b[0m         )\n\u001b[1;32m    210\u001b[0m \u001b[0;34m\u001b[0m\u001b[0m\n",
            "\u001b[0;32m/usr/local/lib/python3.6/dist-packages/gluonts/trainer/_base.py\u001b[0m in \u001b[0;36m__call__\u001b[0;34m(self, net, input_names, train_iter, validation_iter)\u001b[0m\n\u001b[1;32m    295\u001b[0m                     )\n\u001b[1;32m    296\u001b[0m \u001b[0;34m\u001b[0m\u001b[0m\n\u001b[0;32m--> 297\u001b[0;31m                     \u001b[0mepoch_loss\u001b[0m \u001b[0;34m=\u001b[0m \u001b[0mloop\u001b[0m\u001b[0;34m(\u001b[0m\u001b[0mepoch_no\u001b[0m\u001b[0;34m,\u001b[0m \u001b[0mtrain_iter\u001b[0m\u001b[0;34m)\u001b[0m\u001b[0;34m\u001b[0m\u001b[0;34m\u001b[0m\u001b[0m\n\u001b[0m\u001b[1;32m    298\u001b[0m                     \u001b[0;32mif\u001b[0m \u001b[0mis_validation_available\u001b[0m\u001b[0;34m:\u001b[0m\u001b[0;34m\u001b[0m\u001b[0;34m\u001b[0m\u001b[0m\n\u001b[1;32m    299\u001b[0m                         epoch_loss = loop(\n",
            "\u001b[0;32m/usr/local/lib/python3.6/dist-packages/gluonts/trainer/_base.py\u001b[0m in \u001b[0;36mloop\u001b[0;34m(epoch_no, batch_iter, is_training)\u001b[0m\n\u001b[1;32m    228\u001b[0m \u001b[0;34m\u001b[0m\u001b[0m\n\u001b[1;32m    229\u001b[0m                     \u001b[0;32mwith\u001b[0m \u001b[0mtqdm\u001b[0m\u001b[0;34m(\u001b[0m\u001b[0mbatch_iter\u001b[0m\u001b[0;34m)\u001b[0m \u001b[0;32mas\u001b[0m \u001b[0mit\u001b[0m\u001b[0;34m:\u001b[0m\u001b[0;34m\u001b[0m\u001b[0;34m\u001b[0m\u001b[0m\n\u001b[0;32m--> 230\u001b[0;31m                         \u001b[0;32mfor\u001b[0m \u001b[0mbatch_no\u001b[0m\u001b[0;34m,\u001b[0m \u001b[0mdata_entry\u001b[0m \u001b[0;32min\u001b[0m \u001b[0menumerate\u001b[0m\u001b[0;34m(\u001b[0m\u001b[0mit\u001b[0m\u001b[0;34m,\u001b[0m \u001b[0mstart\u001b[0m\u001b[0;34m=\u001b[0m\u001b[0;36m1\u001b[0m\u001b[0;34m)\u001b[0m\u001b[0;34m:\u001b[0m\u001b[0;34m\u001b[0m\u001b[0;34m\u001b[0m\u001b[0m\n\u001b[0m\u001b[1;32m    231\u001b[0m                             \u001b[0;32mif\u001b[0m \u001b[0mself\u001b[0m\u001b[0;34m.\u001b[0m\u001b[0mhalt\u001b[0m\u001b[0;34m:\u001b[0m\u001b[0;34m\u001b[0m\u001b[0;34m\u001b[0m\u001b[0m\n\u001b[1;32m    232\u001b[0m                                 \u001b[0;32mbreak\u001b[0m\u001b[0;34m\u001b[0m\u001b[0;34m\u001b[0m\u001b[0m\n",
            "\u001b[0;32m/usr/local/lib/python3.6/dist-packages/tqdm/_tqdm.py\u001b[0m in \u001b[0;36m__iter__\u001b[0;34m(self)\u001b[0m\n\u001b[1;32m    977\u001b[0m \"\"\", fp_write=getattr(self.fp, 'write', sys.stderr.write))\n\u001b[1;32m    978\u001b[0m \u001b[0;34m\u001b[0m\u001b[0m\n\u001b[0;32m--> 979\u001b[0;31m             \u001b[0;32mfor\u001b[0m \u001b[0mobj\u001b[0m \u001b[0;32min\u001b[0m \u001b[0miterable\u001b[0m\u001b[0;34m:\u001b[0m\u001b[0;34m\u001b[0m\u001b[0;34m\u001b[0m\u001b[0m\n\u001b[0m\u001b[1;32m    980\u001b[0m                 \u001b[0;32myield\u001b[0m \u001b[0mobj\u001b[0m\u001b[0;34m\u001b[0m\u001b[0;34m\u001b[0m\u001b[0m\n\u001b[1;32m    981\u001b[0m                 \u001b[0;31m# Update and possibly print the progressbar.\u001b[0m\u001b[0;34m\u001b[0m\u001b[0;34m\u001b[0m\u001b[0;34m\u001b[0m\u001b[0m\n",
            "\u001b[0;32m/usr/local/lib/python3.6/dist-packages/gluonts/dataset/loader.py\u001b[0m in \u001b[0;36m__iter__\u001b[0;34m(self)\u001b[0m\n\u001b[1;32m    190\u001b[0m         \u001b[0;32massert\u001b[0m \u001b[0mself\u001b[0m\u001b[0;34m.\u001b[0m\u001b[0m_cur_iter\u001b[0m \u001b[0;32mis\u001b[0m \u001b[0;32mnot\u001b[0m \u001b[0;32mNone\u001b[0m\u001b[0;34m\u001b[0m\u001b[0;34m\u001b[0m\u001b[0m\n\u001b[1;32m    191\u001b[0m         \u001b[0;32mwhile\u001b[0m \u001b[0;32mTrue\u001b[0m\u001b[0;34m:\u001b[0m\u001b[0;34m\u001b[0m\u001b[0;34m\u001b[0m\u001b[0m\n\u001b[0;32m--> 192\u001b[0;31m             \u001b[0mdata_entry\u001b[0m \u001b[0;34m=\u001b[0m \u001b[0mnext\u001b[0m\u001b[0;34m(\u001b[0m\u001b[0mself\u001b[0m\u001b[0;34m.\u001b[0m\u001b[0m_cur_iter\u001b[0m\u001b[0;34m)\u001b[0m\u001b[0;34m\u001b[0m\u001b[0;34m\u001b[0m\u001b[0m\n\u001b[0m\u001b[1;32m    193\u001b[0m             \u001b[0mself\u001b[0m\u001b[0;34m.\u001b[0m\u001b[0m_buffer\u001b[0m\u001b[0;34m.\u001b[0m\u001b[0madd\u001b[0m\u001b[0;34m(\u001b[0m\u001b[0mdata_entry\u001b[0m\u001b[0;34m)\u001b[0m\u001b[0;34m\u001b[0m\u001b[0;34m\u001b[0m\u001b[0m\n\u001b[1;32m    194\u001b[0m             if (\n",
            "\u001b[0;32m/usr/local/lib/python3.6/dist-packages/gluonts/transform.py\u001b[0m in \u001b[0;36m__call__\u001b[0;34m(self, data_it, is_train)\u001b[0m\n\u001b[1;32m    334\u001b[0m             \u001b[0;32mif\u001b[0m \u001b[0mnum_idle_transforms\u001b[0m \u001b[0;34m>\u001b[0m \u001b[0mGLUONTS_MAX_IDLE_TRANSFORMS\u001b[0m\u001b[0;34m:\u001b[0m\u001b[0;34m\u001b[0m\u001b[0;34m\u001b[0m\u001b[0m\n\u001b[1;32m    335\u001b[0m                 raise Exception(\n\u001b[0;32m--> 336\u001b[0;31m                     \u001b[0;34mf\"Reached maximum number of idle transformation calls.\\n\"\u001b[0m\u001b[0;34m\u001b[0m\u001b[0;34m\u001b[0m\u001b[0m\n\u001b[0m\u001b[1;32m    337\u001b[0m                     \u001b[0;34mf\"This means the transformation looped over \"\u001b[0m\u001b[0;34m\u001b[0m\u001b[0;34m\u001b[0m\u001b[0m\n\u001b[1;32m    338\u001b[0m                     \u001b[0;34mf\"GLUONTS_MAX_IDLE_TRANSFORMS={GLUONTS_MAX_IDLE_TRANSFORMS} \"\u001b[0m\u001b[0;34m\u001b[0m\u001b[0;34m\u001b[0m\u001b[0m\n",
            "\u001b[0;31mException\u001b[0m: Reached maximum number of idle transformation calls.\nThis means the transformation looped over GLUONTS_MAX_IDLE_TRANSFORMS=100 inputs without returning any output.\nThis occurred in the following transformation:\ngluonts.transform.InstanceSplitter(forecast_start_field=\"forecast_start\", future_length=3000, is_pad_field=\"is_pad\", output_NTC=True, past_length=100, pick_incomplete=True, start_field=\"start\", target_field=\"target\", time_series_fields=[], train_sampler=gluonts.transform.ExpectedNumInstanceSampler(num_instances=1.0))"
          ]
        }
      ]
    },
    {
      "cell_type": "code",
      "metadata": {
        "id": "IE7Ow5TbcEK4",
        "colab_type": "code",
        "colab": {}
      },
      "source": [
        "from mxnet.gluon.loss import TripletLoss"
      ],
      "execution_count": 0,
      "outputs": []
    },
    {
      "cell_type": "markdown",
      "metadata": {
        "id": "hPTtNkhrsvLm",
        "colab_type": "text"
      },
      "source": [
        "interactive plot\n"
      ]
    },
    {
      "cell_type": "code",
      "metadata": {
        "id": "ItgvZ6Wm1Ijh",
        "colab_type": "code",
        "colab": {}
      },
      "source": [
        "import plotly\n",
        "# Authenticate with your account\n",
        "\n",
        "#plotly.tools.set_credentials_file(username='########',                                              \n",
        "#                                  api_key='******')\n"
      ],
      "execution_count": 0,
      "outputs": []
    },
    {
      "cell_type": "code",
      "metadata": {
        "id": "KX73I4ecswsJ",
        "colab_type": "code",
        "colab": {}
      },
      "source": [
        "import plotly.plotly as py\n",
        "import plotly.graph_objs as go\n",
        "# Offline mode\n",
        "from plotly.offline import init_notebook_mode, iplot\n",
        "init_notebook_mode(connected=True)"
      ],
      "execution_count": 0,
      "outputs": []
    },
    {
      "cell_type": "code",
      "metadata": {
        "id": "yirdQ7PyAby_",
        "colab_type": "code",
        "colab": {}
      },
      "source": [
        "layout = go.Layout(title='Energy Plot', xaxis=dict(title='Date'),\n",
        "                   yaxis=dict(title='(kWh)'))"
      ],
      "execution_count": 0,
      "outputs": []
    },
    {
      "cell_type": "code",
      "metadata": {
        "id": "lRt9_W0v6CYV",
        "colab_type": "code",
        "colab": {}
      },
      "source": [
        " Get the steam data\n",
        "steam_series = df.loc[:, (\"Steam\", \"4\")]\n",
        "# Create the steam data object\n",
        "steam_data = go.Scatter(x=steam_series.index,\n",
        "                        y=steam_series.values,\n",
        "                        # Specify axis\n",
        "                        yaxis='y2')\n"
      ],
      "execution_count": 0,
      "outputs": []
    },
    {
      "cell_type": "markdown",
      "metadata": {
        "id": "ZW-LaDZBrDIN",
        "colab_type": "text"
      },
      "source": [
        "graphics summary\n",
        "\n",
        "\n",
        "jupyter-flex\n",
        "\n",
        "voila \n",
        "\n",
        "dash, plotly \n",
        "\n",
        "matplotlib \n"
      ]
    },
    {
      "cell_type": "code",
      "metadata": {
        "id": "ugBsqEOAm3HD",
        "colab_type": "code",
        "outputId": "98cf36aa-f2fe-4f43-f40c-090760c9be26",
        "colab": {
          "base_uri": "https://localhost:8080/",
          "height": 1000
        }
      },
      "source": [
        "pip install jupyter-flex"
      ],
      "execution_count": 0,
      "outputs": [
        {
          "output_type": "stream",
          "text": [
            "Collecting jupyter-flex\n",
            "\u001b[?25l  Downloading https://files.pythonhosted.org/packages/d9/76/50e5ff39965e49e5469d086fdcc0777b75d9f170d8e99a91b129802ac500/jupyter-flex-0.5.0.tar.gz (2.8MB)\n",
            "\u001b[K     |████████████████████████████████| 2.8MB 3.5MB/s \n",
            "\u001b[?25hCollecting voila>=0.1.11\n",
            "\u001b[?25l  Downloading https://files.pythonhosted.org/packages/12/a8/5e66cee652565a9de65f2b227ce30f334ab372fd762afa5b4987499ea8a8/voila-0.1.21-py3-none-any.whl (5.9MB)\n",
            "\u001b[K     |████████████████████████████████| 5.9MB 20.9MB/s \n",
            "\u001b[?25hRequirement already satisfied: nbconvert>=4.2 in /usr/local/lib/python3.6/dist-packages (from jupyter-flex) (5.6.1)\n",
            "Collecting pygments<3,>=2.4.1\n",
            "\u001b[?25l  Downloading https://files.pythonhosted.org/packages/2d/68/106af3ae51daf807e9cdcba6a90e518954eb8b70341cee52995540a53ead/Pygments-2.6.1-py3-none-any.whl (914kB)\n",
            "\u001b[K     |████████████████████████████████| 921kB 50.5MB/s \n",
            "\u001b[?25hCollecting jupyter-server<0.2.0,>=0.1.0\n",
            "\u001b[?25l  Downloading https://files.pythonhosted.org/packages/0f/9e/4b5bddfbab2f56b561b672d04c300d6c2d4b3f2c7c99e7935892104f2efa/jupyter_server-0.1.1-py2.py3-none-any.whl (183kB)\n",
            "\u001b[K     |████████████████████████████████| 184kB 41.6MB/s \n",
            "\u001b[?25hCollecting async-generator\n",
            "  Downloading https://files.pythonhosted.org/packages/71/52/39d20e03abd0ac9159c162ec24b93fbcaa111e8400308f2465432495ca2b/async_generator-1.10-py3-none-any.whl\n",
            "Collecting jupyterlab-pygments<0.2,>=0.1.0\n",
            "  Downloading https://files.pythonhosted.org/packages/1f/4c/905faabb03f56ba92b1b9049436afead02bc09aae7e8f0d1107ebb46b151/jupyterlab_pygments-0.1.1-py2.py3-none-any.whl\n",
            "Requirement already satisfied: jupyter-core in /usr/local/lib/python3.6/dist-packages (from nbconvert>=4.2->jupyter-flex) (4.6.3)\n",
            "Requirement already satisfied: jinja2>=2.4 in /usr/local/lib/python3.6/dist-packages (from nbconvert>=4.2->jupyter-flex) (2.11.2)\n",
            "Requirement already satisfied: nbformat>=4.4 in /usr/local/lib/python3.6/dist-packages (from nbconvert>=4.2->jupyter-flex) (5.0.6)\n",
            "Requirement already satisfied: mistune<2,>=0.8.1 in /usr/local/lib/python3.6/dist-packages (from nbconvert>=4.2->jupyter-flex) (0.8.4)\n",
            "Requirement already satisfied: entrypoints>=0.2.2 in /usr/local/lib/python3.6/dist-packages (from nbconvert>=4.2->jupyter-flex) (0.3)\n",
            "Requirement already satisfied: bleach in /usr/local/lib/python3.6/dist-packages (from nbconvert>=4.2->jupyter-flex) (3.1.4)\n",
            "Requirement already satisfied: testpath in /usr/local/lib/python3.6/dist-packages (from nbconvert>=4.2->jupyter-flex) (0.4.4)\n",
            "Requirement already satisfied: pandocfilters>=1.4.1 in /usr/local/lib/python3.6/dist-packages (from nbconvert>=4.2->jupyter-flex) (1.4.2)\n",
            "Requirement already satisfied: traitlets>=4.2 in /usr/local/lib/python3.6/dist-packages (from nbconvert>=4.2->jupyter-flex) (4.3.3)\n",
            "Requirement already satisfied: defusedxml in /usr/local/lib/python3.6/dist-packages (from nbconvert>=4.2->jupyter-flex) (0.6.0)\n",
            "Requirement already satisfied: pyzmq>=17 in /usr/local/lib/python3.6/dist-packages (from jupyter-server<0.2.0,>=0.1.0->voila>=0.1.11->jupyter-flex) (19.0.0)\n",
            "Requirement already satisfied: jupyter-client>=5.3.1 in /usr/local/lib/python3.6/dist-packages (from jupyter-server<0.2.0,>=0.1.0->voila>=0.1.11->jupyter-flex) (5.3.4)\n",
            "Requirement already satisfied: tornado>=4 in /usr/local/lib/python3.6/dist-packages (from jupyter-server<0.2.0,>=0.1.0->voila>=0.1.11->jupyter-flex) (4.5.3)\n",
            "Requirement already satisfied: ipython-genutils in /usr/local/lib/python3.6/dist-packages (from jupyter-server<0.2.0,>=0.1.0->voila>=0.1.11->jupyter-flex) (0.2.0)\n",
            "Requirement already satisfied: terminado>=0.8.1 in /usr/local/lib/python3.6/dist-packages (from jupyter-server<0.2.0,>=0.1.0->voila>=0.1.11->jupyter-flex) (0.8.3)\n",
            "Requirement already satisfied: Send2Trash in /usr/local/lib/python3.6/dist-packages (from jupyter-server<0.2.0,>=0.1.0->voila>=0.1.11->jupyter-flex) (1.5.0)\n",
            "Requirement already satisfied: prometheus-client in /usr/local/lib/python3.6/dist-packages (from jupyter-server<0.2.0,>=0.1.0->voila>=0.1.11->jupyter-flex) (0.7.1)\n",
            "Requirement already satisfied: ipykernel in /usr/local/lib/python3.6/dist-packages (from jupyter-server<0.2.0,>=0.1.0->voila>=0.1.11->jupyter-flex) (4.10.1)\n",
            "Requirement already satisfied: MarkupSafe>=0.23 in /usr/local/lib/python3.6/dist-packages (from jinja2>=2.4->nbconvert>=4.2->jupyter-flex) (1.1.1)\n",
            "Requirement already satisfied: jsonschema!=2.5.0,>=2.4 in /usr/local/lib/python3.6/dist-packages (from nbformat>=4.4->nbconvert>=4.2->jupyter-flex) (2.6.0)\n",
            "Requirement already satisfied: six>=1.9.0 in /usr/local/lib/python3.6/dist-packages (from bleach->nbconvert>=4.2->jupyter-flex) (1.12.0)\n",
            "Requirement already satisfied: webencodings in /usr/local/lib/python3.6/dist-packages (from bleach->nbconvert>=4.2->jupyter-flex) (0.5.1)\n",
            "Requirement already satisfied: decorator in /usr/local/lib/python3.6/dist-packages (from traitlets>=4.2->nbconvert>=4.2->jupyter-flex) (4.4.2)\n",
            "Requirement already satisfied: python-dateutil>=2.1 in /usr/local/lib/python3.6/dist-packages (from jupyter-client>=5.3.1->jupyter-server<0.2.0,>=0.1.0->voila>=0.1.11->jupyter-flex) (2.8.1)\n",
            "Requirement already satisfied: ptyprocess; os_name != \"nt\" in /usr/local/lib/python3.6/dist-packages (from terminado>=0.8.1->jupyter-server<0.2.0,>=0.1.0->voila>=0.1.11->jupyter-flex) (0.6.0)\n",
            "Requirement already satisfied: ipython>=4.0.0 in /usr/local/lib/python3.6/dist-packages (from ipykernel->jupyter-server<0.2.0,>=0.1.0->voila>=0.1.11->jupyter-flex) (5.5.0)\n",
            "Requirement already satisfied: simplegeneric>0.8 in /usr/local/lib/python3.6/dist-packages (from ipython>=4.0.0->ipykernel->jupyter-server<0.2.0,>=0.1.0->voila>=0.1.11->jupyter-flex) (0.8.1)\n",
            "Requirement already satisfied: pickleshare in /usr/local/lib/python3.6/dist-packages (from ipython>=4.0.0->ipykernel->jupyter-server<0.2.0,>=0.1.0->voila>=0.1.11->jupyter-flex) (0.7.5)\n",
            "Requirement already satisfied: setuptools>=18.5 in /usr/local/lib/python3.6/dist-packages (from ipython>=4.0.0->ipykernel->jupyter-server<0.2.0,>=0.1.0->voila>=0.1.11->jupyter-flex) (46.1.3)\n",
            "Requirement already satisfied: prompt-toolkit<2.0.0,>=1.0.4 in /usr/local/lib/python3.6/dist-packages (from ipython>=4.0.0->ipykernel->jupyter-server<0.2.0,>=0.1.0->voila>=0.1.11->jupyter-flex) (1.0.18)\n",
            "Requirement already satisfied: pexpect; sys_platform != \"win32\" in /usr/local/lib/python3.6/dist-packages (from ipython>=4.0.0->ipykernel->jupyter-server<0.2.0,>=0.1.0->voila>=0.1.11->jupyter-flex) (4.8.0)\n",
            "Requirement already satisfied: wcwidth in /usr/local/lib/python3.6/dist-packages (from prompt-toolkit<2.0.0,>=1.0.4->ipython>=4.0.0->ipykernel->jupyter-server<0.2.0,>=0.1.0->voila>=0.1.11->jupyter-flex) (0.1.9)\n",
            "Building wheels for collected packages: jupyter-flex\n",
            "  Building wheel for jupyter-flex (setup.py) ... \u001b[?25l\u001b[?25hdone\n",
            "  Created wheel for jupyter-flex: filename=jupyter_flex-0.5.0-py2.py3-none-any.whl size=2828957 sha256=bde4066afa8ed4c9b1295bfa7e081e0947b394976bc809fd0d8bd65cecda888f\n",
            "  Stored in directory: /root/.cache/pip/wheels/36/8a/1a/6f4873ad0d59dc2a78d9fb07120d44242ff310822fd700a9b9\n",
            "Successfully built jupyter-flex\n",
            "\u001b[31mERROR: datascience 0.10.6 has requirement folium==0.2.1, but you'll have folium 0.8.3 which is incompatible.\u001b[0m\n",
            "Installing collected packages: pygments, jupyter-server, async-generator, jupyterlab-pygments, voila, jupyter-flex\n",
            "  Found existing installation: Pygments 2.1.3\n",
            "    Uninstalling Pygments-2.1.3:\n",
            "      Successfully uninstalled Pygments-2.1.3\n",
            "Successfully installed async-generator-1.10 jupyter-flex-0.5.0 jupyter-server-0.1.1 jupyterlab-pygments-0.1.1 pygments-2.6.1 voila-0.1.21\n"
          ],
          "name": "stdout"
        },
        {
          "output_type": "display_data",
          "data": {
            "application/vnd.colab-display-data+json": {
              "pip_warning": {
                "packages": [
                  "pygments"
                ]
              }
            }
          },
          "metadata": {
            "tags": []
          }
        }
      ]
    },
    {
      "cell_type": "code",
      "metadata": {
        "id": "hdrAJlxDm5Rf",
        "colab_type": "code",
        "colab": {}
      },
      "source": [
        "pip install voila"
      ],
      "execution_count": 0,
      "outputs": []
    },
    {
      "cell_type": "code",
      "metadata": {
        "id": "-LK7Avb1483M",
        "colab_type": "code",
        "colab": {}
      },
      "source": [
        "# test trend on data \n",
        "import pandas as pd\n",
        "caiso_url = 'https://raw.githubusercontent.com/sy2657/representation_learning/master/caiso_jan2020_systemloadresource_tacnorth.csv'\n",
        "caiso_dataset = pd.read_csv(caiso_url)"
      ],
      "execution_count": 0,
      "outputs": []
    },
    {
      "cell_type": "code",
      "metadata": {
        "id": "ea6MyyVj54sC",
        "colab_type": "code",
        "outputId": "cbd03e81-6a65-4a87-f4c4-900d1ec537d5",
        "colab": {
          "base_uri": "https://localhost:8080/",
          "height": 197
        }
      },
      "source": [
        "caiso_dataset.head()"
      ],
      "execution_count": 0,
      "outputs": [
        {
          "output_type": "execute_result",
          "data": {
            "text/html": [
              "<div>\n",
              "<style scoped>\n",
              "    .dataframe tbody tr th:only-of-type {\n",
              "        vertical-align: middle;\n",
              "    }\n",
              "\n",
              "    .dataframe tbody tr th {\n",
              "        vertical-align: top;\n",
              "    }\n",
              "\n",
              "    .dataframe thead th {\n",
              "        text-align: right;\n",
              "    }\n",
              "</style>\n",
              "<table border=\"1\" class=\"dataframe\">\n",
              "  <thead>\n",
              "    <tr style=\"text-align: right;\">\n",
              "      <th></th>\n",
              "      <th>DateTime</th>\n",
              "      <th>iso</th>\n",
              "      <th>rolling_sum</th>\n",
              "      <th>rolling_mean</th>\n",
              "    </tr>\n",
              "  </thead>\n",
              "  <tbody>\n",
              "    <tr>\n",
              "      <th>0</th>\n",
              "      <td>2020-01-01 00:00:00</td>\n",
              "      <td>9282</td>\n",
              "      <td>NaN</td>\n",
              "      <td>NaN</td>\n",
              "    </tr>\n",
              "    <tr>\n",
              "      <th>1</th>\n",
              "      <td>2020-01-01 01:00:00</td>\n",
              "      <td>8912</td>\n",
              "      <td>NaN</td>\n",
              "      <td>NaN</td>\n",
              "    </tr>\n",
              "    <tr>\n",
              "      <th>2</th>\n",
              "      <td>2020-01-01 02:00:00</td>\n",
              "      <td>8678</td>\n",
              "      <td>26872.0</td>\n",
              "      <td>8957.333333</td>\n",
              "    </tr>\n",
              "    <tr>\n",
              "      <th>3</th>\n",
              "      <td>2020-01-01 03:00:00</td>\n",
              "      <td>8549</td>\n",
              "      <td>26139.0</td>\n",
              "      <td>8713.000000</td>\n",
              "    </tr>\n",
              "    <tr>\n",
              "      <th>4</th>\n",
              "      <td>2020-01-01 04:00:00</td>\n",
              "      <td>8540</td>\n",
              "      <td>25767.0</td>\n",
              "      <td>8589.000000</td>\n",
              "    </tr>\n",
              "  </tbody>\n",
              "</table>\n",
              "</div>"
            ],
            "text/plain": [
              "              DateTime   iso  rolling_sum  rolling_mean\n",
              "0  2020-01-01 00:00:00  9282          NaN           NaN\n",
              "1  2020-01-01 01:00:00  8912          NaN           NaN\n",
              "2  2020-01-01 02:00:00  8678      26872.0   8957.333333\n",
              "3  2020-01-01 03:00:00  8549      26139.0   8713.000000\n",
              "4  2020-01-01 04:00:00  8540      25767.0   8589.000000"
            ]
          },
          "metadata": {
            "tags": []
          },
          "execution_count": 16
        }
      ]
    },
    {
      "cell_type": "code",
      "metadata": {
        "id": "sNoZkhot5_E9",
        "colab_type": "code",
        "colab": {}
      },
      "source": [
        "arr = caiso_dataset['iso']\n",
        "s = pd.Series(arr)"
      ],
      "execution_count": 0,
      "outputs": []
    },
    {
      "cell_type": "code",
      "metadata": {
        "id": "szcutle4DJzq",
        "colab_type": "code",
        "outputId": "3f4ec373-0d92-40a8-a788-e0c6d4f99c40",
        "colab": {
          "base_uri": "https://localhost:8080/",
          "height": 34
        }
      },
      "source": [
        "len(arr)"
      ],
      "execution_count": 0,
      "outputs": [
        {
          "output_type": "execute_result",
          "data": {
            "text/plain": [
              "721"
            ]
          },
          "metadata": {
            "tags": []
          },
          "execution_count": 24
        }
      ]
    },
    {
      "cell_type": "code",
      "metadata": {
        "id": "gYAqkKG66DqU",
        "colab_type": "code",
        "colab": {}
      },
      "source": [
        "caiso_dataset['rolling_mean'] = s.rolling(3).mean()"
      ],
      "execution_count": 0,
      "outputs": []
    },
    {
      "cell_type": "code",
      "metadata": {
        "id": "ddFX0-1A6vME",
        "colab_type": "code",
        "colab": {}
      },
      "source": [
        "\n"
      ],
      "execution_count": 0,
      "outputs": []
    },
    {
      "cell_type": "code",
      "metadata": {
        "id": "s0LJifVnnDxE",
        "colab_type": "code",
        "outputId": "d30f2035-5f72-467c-81e3-e0b81fc5822f",
        "colab": {
          "base_uri": "https://localhost:8080/",
          "height": 371
        }
      },
      "source": [
        "# rolling sum -> trend\n",
        "\n",
        "# rolling mean -> trend \n",
        "#pip install dash\n",
        "\n",
        "windowperiod = 3 # input the window period\n",
        "\n",
        "caiso_dataset['rolling_sum'] = caiso_dataset.rolling(windowperiod).sum()\n",
        "\n",
        "#caiso_dataset['rolling_mean'] = caiso_dataset.rolling(windowperiod) \n",
        "\n"
      ],
      "execution_count": 0,
      "outputs": [
        {
          "output_type": "error",
          "ename": "NotImplementedError",
          "evalue": "ignored",
          "traceback": [
            "\u001b[0;31m---------------------------------------------------------------------------\u001b[0m",
            "\u001b[0;31mNotImplementedError\u001b[0m                       Traceback (most recent call last)",
            "\u001b[0;32m<ipython-input-12-02e036650849>\u001b[0m in \u001b[0;36m<module>\u001b[0;34m()\u001b[0m\n\u001b[1;32m      4\u001b[0m \u001b[0mcaiso_dataset\u001b[0m\u001b[0;34m[\u001b[0m\u001b[0;34m'rolling_sum'\u001b[0m\u001b[0;34m]\u001b[0m \u001b[0;34m=\u001b[0m \u001b[0mcaiso_dataset\u001b[0m\u001b[0;34m.\u001b[0m\u001b[0mrolling\u001b[0m\u001b[0;34m(\u001b[0m\u001b[0mwindowperiod\u001b[0m\u001b[0;34m)\u001b[0m\u001b[0;34m.\u001b[0m\u001b[0msum\u001b[0m\u001b[0;34m(\u001b[0m\u001b[0;34m)\u001b[0m\u001b[0;34m\u001b[0m\u001b[0;34m\u001b[0m\u001b[0m\n\u001b[1;32m      5\u001b[0m \u001b[0;34m\u001b[0m\u001b[0m\n\u001b[0;32m----> 6\u001b[0;31m \u001b[0mcaiso_dataset\u001b[0m\u001b[0;34m[\u001b[0m\u001b[0;34m'rolling_mean'\u001b[0m\u001b[0;34m]\u001b[0m \u001b[0;34m=\u001b[0m \u001b[0mcaiso_dataset\u001b[0m\u001b[0;34m.\u001b[0m\u001b[0mrolling\u001b[0m\u001b[0;34m(\u001b[0m\u001b[0mwindowperiod\u001b[0m\u001b[0;34m)\u001b[0m\u001b[0;34m\u001b[0m\u001b[0;34m\u001b[0m\u001b[0m\n\u001b[0m\u001b[1;32m      7\u001b[0m \u001b[0;34m\u001b[0m\u001b[0m\n",
            "\u001b[0;32m/usr/local/lib/python3.6/dist-packages/pandas/core/frame.py\u001b[0m in \u001b[0;36m__setitem__\u001b[0;34m(self, key, value)\u001b[0m\n\u001b[1;32m   2936\u001b[0m         \u001b[0;32melse\u001b[0m\u001b[0;34m:\u001b[0m\u001b[0;34m\u001b[0m\u001b[0;34m\u001b[0m\u001b[0m\n\u001b[1;32m   2937\u001b[0m             \u001b[0;31m# set column\u001b[0m\u001b[0;34m\u001b[0m\u001b[0;34m\u001b[0m\u001b[0;34m\u001b[0m\u001b[0m\n\u001b[0;32m-> 2938\u001b[0;31m             \u001b[0mself\u001b[0m\u001b[0;34m.\u001b[0m\u001b[0m_set_item\u001b[0m\u001b[0;34m(\u001b[0m\u001b[0mkey\u001b[0m\u001b[0;34m,\u001b[0m \u001b[0mvalue\u001b[0m\u001b[0;34m)\u001b[0m\u001b[0;34m\u001b[0m\u001b[0;34m\u001b[0m\u001b[0m\n\u001b[0m\u001b[1;32m   2939\u001b[0m \u001b[0;34m\u001b[0m\u001b[0m\n\u001b[1;32m   2940\u001b[0m     \u001b[0;32mdef\u001b[0m \u001b[0m_setitem_slice\u001b[0m\u001b[0;34m(\u001b[0m\u001b[0mself\u001b[0m\u001b[0;34m,\u001b[0m \u001b[0mkey\u001b[0m\u001b[0;34m,\u001b[0m \u001b[0mvalue\u001b[0m\u001b[0;34m)\u001b[0m\u001b[0;34m:\u001b[0m\u001b[0;34m\u001b[0m\u001b[0;34m\u001b[0m\u001b[0m\n",
            "\u001b[0;32m/usr/local/lib/python3.6/dist-packages/pandas/core/frame.py\u001b[0m in \u001b[0;36m_set_item\u001b[0;34m(self, key, value)\u001b[0m\n\u001b[1;32m   2998\u001b[0m \u001b[0;34m\u001b[0m\u001b[0m\n\u001b[1;32m   2999\u001b[0m         \u001b[0mself\u001b[0m\u001b[0;34m.\u001b[0m\u001b[0m_ensure_valid_index\u001b[0m\u001b[0;34m(\u001b[0m\u001b[0mvalue\u001b[0m\u001b[0;34m)\u001b[0m\u001b[0;34m\u001b[0m\u001b[0;34m\u001b[0m\u001b[0m\n\u001b[0;32m-> 3000\u001b[0;31m         \u001b[0mvalue\u001b[0m \u001b[0;34m=\u001b[0m \u001b[0mself\u001b[0m\u001b[0;34m.\u001b[0m\u001b[0m_sanitize_column\u001b[0m\u001b[0;34m(\u001b[0m\u001b[0mkey\u001b[0m\u001b[0;34m,\u001b[0m \u001b[0mvalue\u001b[0m\u001b[0;34m)\u001b[0m\u001b[0;34m\u001b[0m\u001b[0;34m\u001b[0m\u001b[0m\n\u001b[0m\u001b[1;32m   3001\u001b[0m         \u001b[0mNDFrame\u001b[0m\u001b[0;34m.\u001b[0m\u001b[0m_set_item\u001b[0m\u001b[0;34m(\u001b[0m\u001b[0mself\u001b[0m\u001b[0;34m,\u001b[0m \u001b[0mkey\u001b[0m\u001b[0;34m,\u001b[0m \u001b[0mvalue\u001b[0m\u001b[0;34m)\u001b[0m\u001b[0;34m\u001b[0m\u001b[0;34m\u001b[0m\u001b[0m\n\u001b[1;32m   3002\u001b[0m \u001b[0;34m\u001b[0m\u001b[0m\n",
            "\u001b[0;32m/usr/local/lib/python3.6/dist-packages/pandas/core/frame.py\u001b[0m in \u001b[0;36m_sanitize_column\u001b[0;34m(self, key, value, broadcast)\u001b[0m\n\u001b[1;32m   3631\u001b[0m             \u001b[0mvalue\u001b[0m \u001b[0;34m=\u001b[0m \u001b[0msanitize_index\u001b[0m\u001b[0;34m(\u001b[0m\u001b[0mvalue\u001b[0m\u001b[0;34m,\u001b[0m \u001b[0mself\u001b[0m\u001b[0;34m.\u001b[0m\u001b[0mindex\u001b[0m\u001b[0;34m,\u001b[0m \u001b[0mcopy\u001b[0m\u001b[0;34m=\u001b[0m\u001b[0;32mFalse\u001b[0m\u001b[0;34m)\u001b[0m\u001b[0;34m\u001b[0m\u001b[0;34m\u001b[0m\u001b[0m\n\u001b[1;32m   3632\u001b[0m \u001b[0;34m\u001b[0m\u001b[0m\n\u001b[0;32m-> 3633\u001b[0;31m         \u001b[0;32melif\u001b[0m \u001b[0misinstance\u001b[0m\u001b[0;34m(\u001b[0m\u001b[0mvalue\u001b[0m\u001b[0;34m,\u001b[0m \u001b[0mIndex\u001b[0m\u001b[0;34m)\u001b[0m \u001b[0;32mor\u001b[0m \u001b[0mis_sequence\u001b[0m\u001b[0;34m(\u001b[0m\u001b[0mvalue\u001b[0m\u001b[0;34m)\u001b[0m\u001b[0;34m:\u001b[0m\u001b[0;34m\u001b[0m\u001b[0;34m\u001b[0m\u001b[0m\n\u001b[0m\u001b[1;32m   3634\u001b[0m \u001b[0;34m\u001b[0m\u001b[0m\n\u001b[1;32m   3635\u001b[0m             \u001b[0;31m# turn me into an ndarray\u001b[0m\u001b[0;34m\u001b[0m\u001b[0;34m\u001b[0m\u001b[0;34m\u001b[0m\u001b[0m\n",
            "\u001b[0;32m/usr/local/lib/python3.6/dist-packages/pandas/core/dtypes/inference.py\u001b[0m in \u001b[0;36mis_sequence\u001b[0;34m(obj)\u001b[0m\n\u001b[1;32m    418\u001b[0m \u001b[0;34m\u001b[0m\u001b[0m\n\u001b[1;32m    419\u001b[0m     \u001b[0;32mtry\u001b[0m\u001b[0;34m:\u001b[0m\u001b[0;34m\u001b[0m\u001b[0;34m\u001b[0m\u001b[0m\n\u001b[0;32m--> 420\u001b[0;31m         \u001b[0miter\u001b[0m\u001b[0;34m(\u001b[0m\u001b[0mobj\u001b[0m\u001b[0;34m)\u001b[0m  \u001b[0;31m# Can iterate over it.\u001b[0m\u001b[0;34m\u001b[0m\u001b[0;34m\u001b[0m\u001b[0m\n\u001b[0m\u001b[1;32m    421\u001b[0m         \u001b[0mlen\u001b[0m\u001b[0;34m(\u001b[0m\u001b[0mobj\u001b[0m\u001b[0;34m)\u001b[0m  \u001b[0;31m# Has a length associated with it.\u001b[0m\u001b[0;34m\u001b[0m\u001b[0;34m\u001b[0m\u001b[0m\n\u001b[1;32m    422\u001b[0m         \u001b[0;32mreturn\u001b[0m \u001b[0;32mnot\u001b[0m \u001b[0misinstance\u001b[0m\u001b[0;34m(\u001b[0m\u001b[0mobj\u001b[0m\u001b[0;34m,\u001b[0m \u001b[0;34m(\u001b[0m\u001b[0mstr\u001b[0m\u001b[0;34m,\u001b[0m \u001b[0mbytes\u001b[0m\u001b[0;34m)\u001b[0m\u001b[0;34m)\u001b[0m\u001b[0;34m\u001b[0m\u001b[0;34m\u001b[0m\u001b[0m\n",
            "\u001b[0;32m/usr/local/lib/python3.6/dist-packages/pandas/core/window/rolling.py\u001b[0m in \u001b[0;36m__iter__\u001b[0;34m(self)\u001b[0m\n\u001b[1;32m    250\u001b[0m     \u001b[0;32mdef\u001b[0m \u001b[0m__iter__\u001b[0m\u001b[0;34m(\u001b[0m\u001b[0mself\u001b[0m\u001b[0;34m)\u001b[0m\u001b[0;34m:\u001b[0m\u001b[0;34m\u001b[0m\u001b[0;34m\u001b[0m\u001b[0m\n\u001b[1;32m    251\u001b[0m         \u001b[0murl\u001b[0m \u001b[0;34m=\u001b[0m \u001b[0;34m\"https://github.com/pandas-dev/pandas/issues/11704\"\u001b[0m\u001b[0;34m\u001b[0m\u001b[0;34m\u001b[0m\u001b[0m\n\u001b[0;32m--> 252\u001b[0;31m         \u001b[0;32mraise\u001b[0m \u001b[0mNotImplementedError\u001b[0m\u001b[0;34m(\u001b[0m\u001b[0;34mf\"See issue #11704 {url}\"\u001b[0m\u001b[0;34m)\u001b[0m\u001b[0;34m\u001b[0m\u001b[0;34m\u001b[0m\u001b[0m\n\u001b[0m\u001b[1;32m    253\u001b[0m \u001b[0;34m\u001b[0m\u001b[0m\n\u001b[1;32m    254\u001b[0m     \u001b[0;32mdef\u001b[0m \u001b[0m_prep_values\u001b[0m\u001b[0;34m(\u001b[0m\u001b[0mself\u001b[0m\u001b[0;34m,\u001b[0m \u001b[0mvalues\u001b[0m\u001b[0;34m:\u001b[0m \u001b[0mOptional\u001b[0m\u001b[0;34m[\u001b[0m\u001b[0mnp\u001b[0m\u001b[0;34m.\u001b[0m\u001b[0mndarray\u001b[0m\u001b[0;34m]\u001b[0m \u001b[0;34m=\u001b[0m \u001b[0;32mNone\u001b[0m\u001b[0;34m)\u001b[0m \u001b[0;34m->\u001b[0m \u001b[0mnp\u001b[0m\u001b[0;34m.\u001b[0m\u001b[0mndarray\u001b[0m\u001b[0;34m:\u001b[0m\u001b[0;34m\u001b[0m\u001b[0;34m\u001b[0m\u001b[0m\n",
            "\u001b[0;31mNotImplementedError\u001b[0m: See issue #11704 https://github.com/pandas-dev/pandas/issues/11704"
          ]
        }
      ]
    },
    {
      "cell_type": "code",
      "metadata": {
        "id": "uI5x1bVEt53E",
        "colab_type": "code",
        "outputId": "a947d628-1eb5-4c95-bbf4-04321f597735",
        "colab": {
          "base_uri": "https://localhost:8080/",
          "height": 123
        }
      },
      "source": [
        "# calculate trend\n",
        "from scipy.stats import linregress\n",
        "\n",
        "df1 = caiso_dataset # set dataframe \n",
        "\n",
        "# create trend \n",
        "trend_interval = 10\n",
        "\n",
        "# x is just [1,2,3,4,5]\n",
        "a= [1,2,3,4,5]\n",
        "a = list(range(1, trend_interval+1))\n",
        "\n",
        "div_by_trend = 0\n",
        "\n",
        "# array holding the trend\n",
        "array_trend = []\n",
        "temp_trend= []\n",
        "\n",
        "plot_trend = [] # array of pts \n",
        "temp_plot_trend = []\n",
        "\n",
        "for ind in df1.index: \n",
        "  if div_by_trend==trend_interval:\n",
        "    div_by_trend=1\n",
        "    # calculate slope\n",
        "    #print('a,', a)\n",
        "    #print('temptrend,', temp_trend)\n",
        "    trend = linregress(a, temp_trend)\n",
        "    a_extend = [trend[0]]*trend_interval \n",
        "    array_trend.extend(a_extend)\n",
        "    # calculate the pts to be plotted\n",
        "    yintercept = temp_trend[0]\n",
        "    temp_plot_trend.append(yintercept) \n",
        "    for j in range(1,trend_interval):\n",
        "      temp_plot_trend.append(yintercept+ trend[0]*j)\n",
        "    plot_trend.extend(temp_plot_trend)\n",
        "    temp_plot_trend=[]\n",
        "    temp_trend= []\n",
        "    temp_trend.append(df1['iso'][ind]) # change 'val' to 'iso' \n",
        "    continue\n",
        "  temp_trend.append(df1['iso'][ind])\n",
        "  div_by_trend = div_by_trend+1\n",
        "  \n",
        "# also add for the last set of values\n",
        "#for i in range(div_by_trend):\n",
        "last_a = list(range(1, div_by_trend+1))\n",
        "last_trend = linregress(last_a, temp_trend)\n",
        "last_extend = [last_trend[0]]*div_by_trend\n",
        "array_trend.extend(last_extend)\n",
        "# plot\n",
        "yintercept = temp_trend[0]\n",
        "temp_plot_trend.append(yintercept)\n",
        "for j in range(1, div_by_trend):\n",
        "  temp_plot_trend.append(yintercept+ trend[0]*j)\n",
        "plot_trend.extend(temp_plot_trend)"
      ],
      "execution_count": 0,
      "outputs": [
        {
          "output_type": "stream",
          "text": [
            "/usr/local/lib/python3.6/dist-packages/scipy/stats/_stats_mstats_common.py:130: RuntimeWarning: invalid value encountered in double_scalars\n",
            "  slope = r_num / ssxm\n",
            "/usr/local/lib/python3.6/dist-packages/scipy/stats/_stats_mstats_common.py:140: RuntimeWarning: invalid value encountered in sqrt\n",
            "  t = r * np.sqrt(df / ((1.0 - r + TINY)*(1.0 + r + TINY)))\n",
            "/usr/local/lib/python3.6/dist-packages/scipy/stats/_stats_mstats_common.py:142: RuntimeWarning: invalid value encountered in double_scalars\n",
            "  sterrest = np.sqrt((1 - r**2) * ssym / ssxm / df)\n"
          ],
          "name": "stderr"
        }
      ]
    },
    {
      "cell_type": "code",
      "metadata": {
        "id": "t04gmyX3DE7L",
        "colab_type": "code",
        "colab": {}
      },
      "source": [
        " ax = list(range(1, 722))\n"
      ],
      "execution_count": 0,
      "outputs": []
    },
    {
      "cell_type": "code",
      "metadata": {
        "id": "CS_HrDVdnSg7",
        "colab_type": "code",
        "colab": {}
      },
      "source": [
        ""
      ],
      "execution_count": 0,
      "outputs": []
    },
    {
      "cell_type": "code",
      "metadata": {
        "id": "_2x8fuNy8ecF",
        "colab_type": "code",
        "outputId": "e795a6ad-0f6e-4189-f4b7-bf665d0ff08d",
        "colab": {
          "base_uri": "https://localhost:8080/",
          "height": 267
        }
      },
      "source": [
        "import matplotlib.pyplot as plt\n",
        "\n",
        "plt.plot(ax[1:30], plot_trend[1:30])\n",
        "plt.plot(ax[1:30], arr[1:30])\n",
        "plt.show()"
      ],
      "execution_count": 0,
      "outputs": [
        {
          "output_type": "display_data",
          "data": {
            "image/png": "[encoded data removed]",
            "text/plain": [
              "<Figure size 432x288 with 1 Axes>"
            ]
          },
          "metadata": {
            "tags": [],
            "needs_background": "light"
          }
        }
      ]
    },
    {
      "cell_type": "code",
      "metadata": {
        "id": "QenC5RUGDVkP",
        "colab_type": "code",
        "outputId": "9516cf87-1312-4e34-bafb-06029753c4e5",
        "colab": {
          "base_uri": "https://localhost:8080/",
          "height": 1000
        }
      },
      "source": [
        "array_trend"
      ],
      "execution_count": 0,
      "outputs": [
        {
          "output_type": "execute_result",
          "data": {
            "text/plain": [
              "[-184.70000000000002,\n",
              " -184.70000000000002,\n",
              " -184.70000000000002,\n",
              " -184.70000000000002,\n",
              " -184.70000000000002,\n",
              " 197.4,\n",
              " 197.4,\n",
              " 197.4,\n",
              " 197.4,\n",
              " 197.4,\n",
              " -47.800000000000004,\n",
              " -47.800000000000004,\n",
              " -47.800000000000004,\n",
              " -47.800000000000004,\n",
              " -47.800000000000004,\n",
              " 556.5,\n",
              " 556.5,\n",
              " 556.5,\n",
              " 556.5,\n",
              " 556.5,\n",
              " -614.6,\n",
              " -614.6,\n",
              " -614.6,\n",
              " -614.6,\n",
              " -614.6,\n",
              " 164.10000000000002,\n",
              " 164.10000000000002,\n",
              " 164.10000000000002,\n",
              " 164.10000000000002,\n",
              " 164.10000000000002,\n",
              " -40.0,\n",
              " -40.0,\n",
              " -40.0,\n",
              " -40.0,\n",
              " -40.0,\n",
              " 47.6,\n",
              " 47.6,\n",
              " 47.6,\n",
              " 47.6,\n",
              " 47.6,\n",
              " 146.5,\n",
              " 146.5,\n",
              " 146.5,\n",
              " 146.5,\n",
              " 146.5,\n",
              " -630.9000000000001,\n",
              " -630.9000000000001,\n",
              " -630.9000000000001,\n",
              " -630.9000000000001,\n",
              " -630.9000000000001,\n",
              " 477.3,\n",
              " 477.3,\n",
              " 477.3,\n",
              " 477.3,\n",
              " 477.3,\n",
              " -264.3,\n",
              " -264.3,\n",
              " -264.3,\n",
              " -264.3,\n",
              " -264.3,\n",
              " 286.3,\n",
              " 286.3,\n",
              " 286.3,\n",
              " 286.3,\n",
              " 286.3,\n",
              " -303.8,\n",
              " -303.8,\n",
              " -303.8,\n",
              " -303.8,\n",
              " -303.8,\n",
              " -434.3,\n",
              " -434.3,\n",
              " -434.3,\n",
              " -434.3,\n",
              " -434.3,\n",
              " 307.3,\n",
              " 307.3,\n",
              " 307.3,\n",
              " 307.3,\n",
              " 307.3,\n",
              " -102.60000000000001,\n",
              " -102.60000000000001,\n",
              " -102.60000000000001,\n",
              " -102.60000000000001,\n",
              " -102.60000000000001,\n",
              " 490.90000000000003,\n",
              " 490.90000000000003,\n",
              " 490.90000000000003,\n",
              " 490.90000000000003,\n",
              " 490.90000000000003,\n",
              " -392.70000000000005,\n",
              " -392.70000000000005,\n",
              " -392.70000000000005,\n",
              " -392.70000000000005,\n",
              " -392.70000000000005,\n",
              " -284.7,\n",
              " -284.7,\n",
              " -284.7,\n",
              " -284.7,\n",
              " -284.7,\n",
              " 294.8,\n",
              " 294.8,\n",
              " 294.8,\n",
              " 294.8,\n",
              " 294.8,\n",
              " -67.0,\n",
              " -67.0,\n",
              " -67.0,\n",
              " -67.0,\n",
              " -67.0,\n",
              " 678.9000000000001,\n",
              " 678.9000000000001,\n",
              " 678.9000000000001,\n",
              " 678.9000000000001,\n",
              " 678.9000000000001,\n",
              " -589.1,\n",
              " -589.1,\n",
              " -589.1,\n",
              " -589.1,\n",
              " -589.1,\n",
              " -37.7,\n",
              " -37.7,\n",
              " -37.7,\n",
              " -37.7,\n",
              " -37.7,\n",
              " 354.90000000000003,\n",
              " 354.90000000000003,\n",
              " 354.90000000000003,\n",
              " 354.90000000000003,\n",
              " 354.90000000000003,\n",
              " -89.4,\n",
              " -89.4,\n",
              " -89.4,\n",
              " -89.4,\n",
              " -89.4,\n",
              " 531.8000000000001,\n",
              " 531.8000000000001,\n",
              " 531.8000000000001,\n",
              " 531.8000000000001,\n",
              " 531.8000000000001,\n",
              " -762.8000000000001,\n",
              " -762.8000000000001,\n",
              " -762.8000000000001,\n",
              " -762.8000000000001,\n",
              " -762.8000000000001,\n",
              " 190.60000000000002,\n",
              " 190.60000000000002,\n",
              " 190.60000000000002,\n",
              " 190.60000000000002,\n",
              " 190.60000000000002,\n",
              " -109.80000000000001,\n",
              " -109.80000000000001,\n",
              " -109.80000000000001,\n",
              " -109.80000000000001,\n",
              " -109.80000000000001,\n",
              " 88.5,\n",
              " 88.5,\n",
              " 88.5,\n",
              " 88.5,\n",
              " 88.5,\n",
              " 181.8,\n",
              " 181.8,\n",
              " 181.8,\n",
              " 181.8,\n",
              " 181.8,\n",
              " -643.8000000000001,\n",
              " -643.8000000000001,\n",
              " -643.8000000000001,\n",
              " -643.8000000000001,\n",
              " -643.8000000000001,\n",
              " 498.8,\n",
              " 498.8,\n",
              " 498.8,\n",
              " 498.8,\n",
              " 498.8,\n",
              " -228.10000000000002,\n",
              " -228.10000000000002,\n",
              " -228.10000000000002,\n",
              " -228.10000000000002,\n",
              " -228.10000000000002,\n",
              " 218.8,\n",
              " 218.8,\n",
              " 218.8,\n",
              " 218.8,\n",
              " 218.8,\n",
              " -296.6,\n",
              " -296.6,\n",
              " -296.6,\n",
              " -296.6,\n",
              " -296.6,\n",
              " -466.70000000000005,\n",
              " -466.70000000000005,\n",
              " -466.70000000000005,\n",
              " -466.70000000000005,\n",
              " -466.70000000000005,\n",
              " 709.7,\n",
              " 709.7,\n",
              " 709.7,\n",
              " 709.7,\n",
              " 709.7,\n",
              " -291.7,\n",
              " -291.7,\n",
              " -291.7,\n",
              " -291.7,\n",
              " -291.7,\n",
              " 501.3,\n",
              " 501.3,\n",
              " 501.3,\n",
              " 501.3,\n",
              " 501.3,\n",
              " -508.40000000000003,\n",
              " -508.40000000000003,\n",
              " -508.40000000000003,\n",
              " -508.40000000000003,\n",
              " -508.40000000000003,\n",
              " -250.4,\n",
              " -250.4,\n",
              " -250.4,\n",
              " -250.4,\n",
              " -250.4,\n",
              " 659.9000000000001,\n",
              " 659.9000000000001,\n",
              " 659.9000000000001,\n",
              " 659.9000000000001,\n",
              " 659.9000000000001,\n",
              " -216.8,\n",
              " -216.8,\n",
              " -216.8,\n",
              " -216.8,\n",
              " -216.8,\n",
              " 595.0,\n",
              " 595.0,\n",
              " 595.0,\n",
              " 595.0,\n",
              " 595.0,\n",
              " -622.6,\n",
              " -622.6,\n",
              " -622.6,\n",
              " -622.6,\n",
              " -622.6,\n",
              " -161.0,\n",
              " -161.0,\n",
              " -161.0,\n",
              " -161.0,\n",
              " -161.0,\n",
              " 266.2,\n",
              " 266.2,\n",
              " 266.2,\n",
              " 266.2,\n",
              " 266.2,\n",
              " -75.10000000000001,\n",
              " -75.10000000000001,\n",
              " -75.10000000000001,\n",
              " -75.10000000000001,\n",
              " -75.10000000000001,\n",
              " 508.70000000000005,\n",
              " 508.70000000000005,\n",
              " 508.70000000000005,\n",
              " 508.70000000000005,\n",
              " 508.70000000000005,\n",
              " -555.0,\n",
              " -555.0,\n",
              " -555.0,\n",
              " -555.0,\n",
              " -555.0,\n",
              " -10.100000000000001,\n",
              " -10.100000000000001,\n",
              " -10.100000000000001,\n",
              " -10.100000000000001,\n",
              " -10.100000000000001,\n",
              " 30.0,\n",
              " 30.0,\n",
              " 30.0,\n",
              " 30.0,\n",
              " 30.0,\n",
              " 132.1,\n",
              " 132.1,\n",
              " 132.1,\n",
              " 132.1,\n",
              " 132.1,\n",
              " 226.5,\n",
              " 226.5,\n",
              " 226.5,\n",
              " 226.5,\n",
              " 226.5,\n",
              " -486.0,\n",
              " -486.0,\n",
              " -486.0,\n",
              " -486.0,\n",
              " -486.0,\n",
              " 535.8000000000001,\n",
              " 535.8000000000001,\n",
              " 535.8000000000001,\n",
              " 535.8000000000001,\n",
              " 535.8000000000001,\n",
              " -277.0,\n",
              " -277.0,\n",
              " -277.0,\n",
              " -277.0,\n",
              " -277.0,\n",
              " 257.1,\n",
              " 257.1,\n",
              " 257.1,\n",
              " 257.1,\n",
              " 257.1,\n",
              " -281.90000000000003,\n",
              " -281.90000000000003,\n",
              " -281.90000000000003,\n",
              " -281.90000000000003,\n",
              " -281.90000000000003,\n",
              " -460.5,\n",
              " -460.5,\n",
              " -460.5,\n",
              " -460.5,\n",
              " -460.5,\n",
              " 759.8000000000001,\n",
              " 759.8000000000001,\n",
              " 759.8000000000001,\n",
              " 759.8000000000001,\n",
              " 759.8000000000001,\n",
              " -297.8,\n",
              " -297.8,\n",
              " -297.8,\n",
              " -297.8,\n",
              " -297.8,\n",
              " 505.70000000000005,\n",
              " 505.70000000000005,\n",
              " 505.70000000000005,\n",
              " 505.70000000000005,\n",
              " 505.70000000000005,\n",
              " -546.4,\n",
              " -546.4,\n",
              " -546.4,\n",
              " -546.4,\n",
              " -546.4,\n",
              " -250.4,\n",
              " -250.4,\n",
              " -250.4,\n",
              " -250.4,\n",
              " -250.4,\n",
              " 677.4000000000001,\n",
              " 677.4000000000001,\n",
              " 677.4000000000001,\n",
              " 677.4000000000001,\n",
              " 677.4000000000001,\n",
              " -205.0,\n",
              " -205.0,\n",
              " -205.0,\n",
              " -205.0,\n",
              " -205.0,\n",
              " 630.1,\n",
              " 630.1,\n",
              " 630.1,\n",
              " 630.1,\n",
              " 630.1,\n",
              " -717.1,\n",
              " -717.1,\n",
              " -717.1,\n",
              " -717.1,\n",
              " -717.1,\n",
              " -56.2,\n",
              " -56.2,\n",
              " -56.2,\n",
              " -56.2,\n",
              " -56.2,\n",
              " 381.3,\n",
              " 381.3,\n",
              " 381.3,\n",
              " 381.3,\n",
              " 381.3,\n",
              " -104.30000000000001,\n",
              " -104.30000000000001,\n",
              " -104.30000000000001,\n",
              " -104.30000000000001,\n",
              " -104.30000000000001,\n",
              " 482.20000000000005,\n",
              " 482.20000000000005,\n",
              " 482.20000000000005,\n",
              " 482.20000000000005,\n",
              " 482.20000000000005,\n",
              " -733.7,\n",
              " -733.7,\n",
              " -733.7,\n",
              " -733.7,\n",
              " -733.7,\n",
              " 178.60000000000002,\n",
              " 178.60000000000002,\n",
              " 178.60000000000002,\n",
              " 178.60000000000002,\n",
              " 178.60000000000002,\n",
              " -106.5,\n",
              " -106.5,\n",
              " -106.5,\n",
              " -106.5,\n",
              " -106.5,\n",
              " 53.6,\n",
              " 53.6,\n",
              " 53.6,\n",
              " 53.6,\n",
              " 53.6,\n",
              " 167.0,\n",
              " 167.0,\n",
              " 167.0,\n",
              " 167.0,\n",
              " 167.0,\n",
              " -571.1,\n",
              " -571.1,\n",
              " -571.1,\n",
              " -571.1,\n",
              " -571.1,\n",
              " 254.4,\n",
              " 254.4,\n",
              " 254.4,\n",
              " 254.4,\n",
              " 254.4,\n",
              " -171.4,\n",
              " -171.4,\n",
              " -171.4,\n",
              " -171.4,\n",
              " -171.4,\n",
              " 247.8,\n",
              " 247.8,\n",
              " 247.8,\n",
              " 247.8,\n",
              " 247.8,\n",
              " -179.20000000000002,\n",
              " -179.20000000000002,\n",
              " -179.20000000000002,\n",
              " -179.20000000000002,\n",
              " -179.20000000000002,\n",
              " -437.70000000000005,\n",
              " -437.70000000000005,\n",
              " -437.70000000000005,\n",
              " -437.70000000000005,\n",
              " -437.70000000000005,\n",
              " 257.3,\n",
              " 257.3,\n",
              " 257.3,\n",
              " 257.3,\n",
              " 257.3,\n",
              " -161.4,\n",
              " -161.4,\n",
              " -161.4,\n",
              " -161.4,\n",
              " -161.4,\n",
              " 619.0,\n",
              " 619.0,\n",
              " 619.0,\n",
              " 619.0,\n",
              " 619.0,\n",
              " -442.6,\n",
              " -442.6,\n",
              " -442.6,\n",
              " -442.6,\n",
              " -442.6,\n",
              " -210.3,\n",
              " -210.3,\n",
              " -210.3,\n",
              " -210.3,\n",
              " -210.3,\n",
              " 644.5,\n",
              " 644.5,\n",
              " 644.5,\n",
              " 644.5,\n",
              " 644.5,\n",
              " -177.0,\n",
              " -177.0,\n",
              " -177.0,\n",
              " -177.0,\n",
              " -177.0,\n",
              " 639.5,\n",
              " 639.5,\n",
              " 639.5,\n",
              " 639.5,\n",
              " 639.5,\n",
              " -696.0,\n",
              " -696.0,\n",
              " -696.0,\n",
              " -696.0,\n",
              " -696.0,\n",
              " -80.10000000000001,\n",
              " -80.10000000000001,\n",
              " -80.10000000000001,\n",
              " -80.10000000000001,\n",
              " -80.10000000000001,\n",
              " 360.0,\n",
              " 360.0,\n",
              " 360.0,\n",
              " 360.0,\n",
              " 360.0,\n",
              " -54.900000000000006,\n",
              " -54.900000000000006,\n",
              " -54.900000000000006,\n",
              " -54.900000000000006,\n",
              " -54.900000000000006,\n",
              " 426.0,\n",
              " 426.0,\n",
              " 426.0,\n",
              " 426.0,\n",
              " 426.0,\n",
              " -722.3000000000001,\n",
              " -722.3000000000001,\n",
              " -722.3000000000001,\n",
              " -722.3000000000001,\n",
              " -722.3000000000001,\n",
              " 205.5,\n",
              " 205.5,\n",
              " 205.5,\n",
              " 205.5,\n",
              " 205.5,\n",
              " -48.900000000000006,\n",
              " -48.900000000000006,\n",
              " -48.900000000000006,\n",
              " -48.900000000000006,\n",
              " -48.900000000000006,\n",
              " 59.7,\n",
              " 59.7,\n",
              " 59.7,\n",
              " 59.7,\n",
              " 59.7,\n",
              " 171.5,\n",
              " 171.5,\n",
              " 171.5,\n",
              " 171.5,\n",
              " 171.5,\n",
              " -624.0,\n",
              " -624.0,\n",
              " -624.0,\n",
              " -624.0,\n",
              " -624.0,\n",
              " 504.1,\n",
              " 504.1,\n",
              " 504.1,\n",
              " 504.1,\n",
              " 504.1,\n",
              " -266.7,\n",
              " -266.7,\n",
              " -266.7,\n",
              " -266.7,\n",
              " -266.7,\n",
              " 226.20000000000002,\n",
              " 226.20000000000002,\n",
              " 226.20000000000002,\n",
              " 226.20000000000002,\n",
              " 226.20000000000002,\n",
              " -282.1,\n",
              " -282.1,\n",
              " -282.1,\n",
              " -282.1,\n",
              " -282.1,\n",
              " -428.70000000000005,\n",
              " -428.70000000000005,\n",
              " -428.70000000000005,\n",
              " -428.70000000000005,\n",
              " -428.70000000000005,\n",
              " 726.2,\n",
              " 726.2,\n",
              " 726.2,\n",
              " 726.2,\n",
              " 726.2,\n",
              " -237.60000000000002,\n",
              " -237.60000000000002,\n",
              " -237.60000000000002,\n",
              " -237.60000000000002,\n",
              " -237.60000000000002,\n",
              " 395.3,\n",
              " 395.3,\n",
              " 395.3,\n",
              " 395.3,\n",
              " 395.3,\n",
              " -471.90000000000003,\n",
              " -471.90000000000003,\n",
              " -471.90000000000003,\n",
              " -471.90000000000003,\n",
              " -471.90000000000003,\n",
              " -317.1,\n",
              " -317.1,\n",
              " -317.1,\n",
              " -317.1,\n",
              " -317.1,\n",
              " 327.3,\n",
              " 327.3,\n",
              " 327.3,\n",
              " 327.3,\n",
              " 327.3,\n",
              " -126.2,\n",
              " -126.2,\n",
              " -126.2,\n",
              " -126.2,\n",
              " -126.2,\n",
              " 618.4000000000001,\n",
              " 618.4000000000001,\n",
              " 618.4000000000001,\n",
              " 618.4000000000001,\n",
              " 618.4000000000001,\n",
              " -530.2,\n",
              " -530.2,\n",
              " -530.2,\n",
              " -530.2,\n",
              " -530.2,\n",
              " -148.70000000000002,\n",
              " -148.70000000000002,\n",
              " -148.70000000000002,\n",
              " -148.70000000000002,\n",
              " -148.70000000000002,\n",
              " 216.0,\n",
              " 216.0,\n",
              " 216.0,\n",
              " 216.0,\n",
              " 216.0,\n",
              " 13.200000000000001,\n",
              " 13.200000000000001,\n",
              " 13.200000000000001,\n",
              " 13.200000000000001,\n",
              " 13.200000000000001,\n",
              " 492.20000000000005,\n",
              " 492.20000000000005,\n",
              " 492.20000000000005,\n",
              " 492.20000000000005,\n",
              " 492.20000000000005,\n",
              " -566.2,\n",
              " -566.2,\n",
              " -566.2,\n",
              " -566.2,\n",
              " -566.2,\n",
              " 202.0,\n",
              " 202.0,\n",
              " 202.0,\n",
              " 202.0,\n",
              " 202.0,\n",
              " -12.5,\n",
              " -12.5,\n",
              " -12.5,\n",
              " -12.5,\n",
              " -12.5,\n",
              " 64.3,\n",
              " 64.3,\n",
              " 64.3,\n",
              " 64.3,\n",
              " 64.3,\n",
              " 149.6,\n",
              " 149.6,\n",
              " 149.6,\n",
              " 149.6,\n",
              " 149.6,\n",
              " -582.0,\n",
              " -582.0,\n",
              " -582.0,\n",
              " -582.0,\n",
              " -582.0,\n",
              " 505.5,\n",
              " 505.5,\n",
              " 505.5,\n",
              " 505.5,\n",
              " 505.5,\n",
              " -286.3,\n",
              " -286.3,\n",
              " -286.3,\n",
              " -286.3,\n",
              " -286.3,\n",
              " 236.60000000000002,\n",
              " 236.60000000000002,\n",
              " 236.60000000000002,\n",
              " 236.60000000000002,\n",
              " 236.60000000000002,\n",
              " -260.3,\n",
              " -260.3,\n",
              " -260.3,\n",
              " -260.3,\n",
              " -260.3,\n",
              " -451.40000000000003,\n",
              " -451.40000000000003,\n",
              " -451.40000000000003,\n",
              " -451.40000000000003,\n",
              " -451.40000000000003,\n",
              " 754.2,\n",
              " 754.2,\n",
              " 754.2,\n",
              " 754.2,\n",
              " 754.2,\n",
              " -304.7,\n",
              " -304.7,\n",
              " -304.7,\n",
              " -304.7,\n",
              " -304.7,\n",
              " 481.70000000000005,\n",
              " 481.70000000000005,\n",
              " 481.70000000000005,\n",
              " 481.70000000000005,\n",
              " 481.70000000000005,\n",
              " -522.2,\n",
              " -522.2,\n",
              " -522.2,\n",
              " -522.2,\n",
              " -522.2,\n",
              " -276.1,\n",
              " -276.1,\n",
              " -276.1,\n",
              " -276.1,\n",
              " -276.1,\n",
              " 670.9000000000001,\n",
              " 670.9000000000001,\n",
              " 670.9000000000001,\n",
              " 670.9000000000001,\n",
              " 670.9000000000001,\n",
              " -184.70000000000002,\n",
              " -184.70000000000002,\n",
              " -184.70000000000002,\n",
              " -184.70000000000002,\n",
              " -184.70000000000002,\n",
              " 603.4,\n",
              " 603.4,\n",
              " 603.4,\n",
              " 603.4,\n",
              " 603.4,\n",
              " -664.5,\n",
              " -664.5,\n",
              " -664.5,\n",
              " -664.5,\n",
              " -664.5,\n",
              " nan]"
            ]
          },
          "metadata": {
            "tags": []
          },
          "execution_count": 19
        }
      ]
    },
    {
      "cell_type": "code",
      "metadata": {
        "id": "6jH-AXCU0cF3",
        "colab_type": "code",
        "colab": {}
      },
      "source": [
        "import pandas as pd \n",
        "df1 = pd.DataFrame(columns = ['time', 'val'])\n",
        "df1['val'] = [1,2,3,4,5, 6,7,8,9,11]\n",
        "\n",
        "#for ind in df1.index: \n",
        "#  print(df1['val'][ind])"
      ],
      "execution_count": 0,
      "outputs": []
    },
    {
      "cell_type": "code",
      "metadata": {
        "id": "Fku3vQpas7dK",
        "colab_type": "code",
        "cellView": "both",
        "colab": {}
      },
      "source": [
        "#@title linregress ex\n",
        "from scipy.stats import linregress\n",
        "a = [ 1,2,3, 4.5]\n",
        "#ab = linregress(a)\n",
        "\n",
        "ar =list(range(5))"
      ],
      "execution_count": 0,
      "outputs": []
    },
    {
      "cell_type": "code",
      "metadata": {
        "id": "yWtCc7Uhtc6P",
        "colab_type": "code",
        "outputId": "2104c169-c837-40d5-ef82-60601ebfa42c",
        "colab": {
          "base_uri": "https://localhost:8080/",
          "height": 34
        }
      },
      "source": [
        "ab[0]"
      ],
      "execution_count": 0,
      "outputs": [
        {
          "output_type": "execute_result",
          "data": {
            "text/plain": [
              "1.25"
            ]
          },
          "metadata": {
            "tags": []
          },
          "execution_count": 6
        }
      ]
    },
    {
      "cell_type": "code",
      "metadata": {
        "id": "kpNwIlXRrOqK",
        "colab_type": "code",
        "outputId": "f16b635a-4ce8-4da3-87d7-58dabf9ee0e3",
        "colab": {
          "base_uri": "https://localhost:8080/",
          "height": 34
        }
      },
      "source": [
        "#pip install dash-renderer\n",
        "#pip install dash-html-components\n",
        "pip install dash-core-components "
      ],
      "execution_count": 0,
      "outputs": [
        {
          "output_type": "stream",
          "text": [
            "Requirement already satisfied: dash-core-components in /usr/local/lib/python3.6/dist-packages (1.9.1)\n"
          ],
          "name": "stdout"
        }
      ]
    },
    {
      "cell_type": "code",
      "metadata": {
        "id": "PVfR0pxNsASE",
        "colab_type": "code",
        "colab": {}
      },
      "source": [
        "import plotly"
      ],
      "execution_count": 0,
      "outputs": []
    },
    {
      "cell_type": "code",
      "metadata": {
        "id": "zO3dnEbHsPcd",
        "colab_type": "code",
        "outputId": "a94379f7-1c82-402b-853f-1e4c9e4fb1fd",
        "colab": {
          "base_uri": "https://localhost:8080/",
          "height": 346
        }
      },
      "source": [
        "import dash\n",
        "import dash_core_components as dcc\n",
        "import dash_html_components as html \n"
      ],
      "execution_count": 0,
      "outputs": [
        {
          "output_type": "error",
          "ename": "ModuleNotFoundError",
          "evalue": "ignored",
          "traceback": [
            "\u001b[0;31m---------------------------------------------------------------------------\u001b[0m",
            "\u001b[0;31mModuleNotFoundError\u001b[0m                       Traceback (most recent call last)",
            "\u001b[0;32m<ipython-input-1-6d109a20b847>\u001b[0m in \u001b[0;36m<module>\u001b[0;34m()\u001b[0m\n\u001b[0;32m----> 1\u001b[0;31m \u001b[0;32mimport\u001b[0m \u001b[0mdash\u001b[0m\u001b[0;34m\u001b[0m\u001b[0;34m\u001b[0m\u001b[0m\n\u001b[0m\u001b[1;32m      2\u001b[0m \u001b[0;32mimport\u001b[0m \u001b[0mdash_core_components\u001b[0m \u001b[0;32mas\u001b[0m \u001b[0mdcc\u001b[0m\u001b[0;34m\u001b[0m\u001b[0;34m\u001b[0m\u001b[0m\n\u001b[1;32m      3\u001b[0m \u001b[0;32mimport\u001b[0m \u001b[0mdash_html_components\u001b[0m \u001b[0;32mas\u001b[0m \u001b[0mhtml\u001b[0m\u001b[0;34m\u001b[0m\u001b[0;34m\u001b[0m\u001b[0m\n",
            "\u001b[0;31mModuleNotFoundError\u001b[0m: No module named 'dash'",
            "",
            "\u001b[0;31m---------------------------------------------------------------------------\u001b[0;32m\nNOTE: If your import is failing due to a missing package, you can\nmanually install dependencies using either !pip or !apt.\n\nTo view examples of installing some common dependencies, click the\n\"Open Examples\" button below.\n\u001b[0;31m---------------------------------------------------------------------------\u001b[0m\n"
          ]
        }
      ]
    },
    {
      "cell_type": "code",
      "metadata": {
        "id": "tkPOWLGrw-5a",
        "colab_type": "code",
        "outputId": "e49be8e3-6cde-42a0-e0a2-14bafa787472",
        "colab": {
          "base_uri": "https://localhost:8080/",
          "height": 34
        }
      },
      "source": [
        "%%writefile my_app1.py\n",
        "\n",
        "import dash\n",
        "import dash_core_components as dcc\n",
        "import dash_html_components as html\n",
        "\n",
        "app1 = dash.Dash()\n",
        "\n",
        "app1.layout = html.Div(children = [html.H1('dash tutor.'),\n",
        "    dcc.Graph(id ='example', \n",
        "              figure = {\n",
        "                  'data':[{'x':[1,2,3,4,5], 'y':[5,4,3,2,1], 'type':'line', 'name':'boats'},\n",
        "                          {'x':[1,2,3,4,5], 'y':[5,4,3,2,1], 'type':'bar', 'name':'cats'}],\n",
        "                        'layout': {\n",
        "                            'title':'Basic dash ex. '\n",
        "                        }\n",
        "              })\n",
        "] )\n",
        "\n",
        "if __name__ == '__main__':\n",
        "  app1.run_server(debug=True)\n"
      ],
      "execution_count": 0,
      "outputs": [
        {
          "output_type": "stream",
          "text": [
            "Writing my_app1.py\n"
          ],
          "name": "stdout"
        }
      ]
    },
    {
      "cell_type": "code",
      "metadata": {
        "id": "gS7nlyysTjYS",
        "colab_type": "code",
        "outputId": "e503daa3-6fe2-4bd9-fab0-0c26e4fe3072",
        "colab": {
          "base_uri": "https://localhost:8080/",
          "height": 34
        }
      },
      "source": [
        "pip install dash-renderer"
      ],
      "execution_count": 0,
      "outputs": [
        {
          "output_type": "stream",
          "text": [
            "Requirement already satisfied: dash-renderer in /usr/local/lib/python3.6/dist-packages (1.2.3)\n"
          ],
          "name": "stdout"
        }
      ]
    },
    {
      "cell_type": "code",
      "metadata": {
        "id": "MvWKdy6IUNkq",
        "colab_type": "code",
        "outputId": "3a9e740c-6dcb-4a3c-83d6-174f35ac157f",
        "colab": {
          "base_uri": "https://localhost:8080/",
          "height": 338
        }
      },
      "source": [
        "# required \n",
        "pip install dash==1.8.0"
      ],
      "execution_count": 0,
      "outputs": [
        {
          "output_type": "stream",
          "text": [
            "Requirement already satisfied: dash==1.8.0 in /usr/local/lib/python3.6/dist-packages (1.8.0)\n",
            "Requirement already satisfied: flask-compress in /usr/local/lib/python3.6/dist-packages (from dash==1.8.0) (1.5.0)\n",
            "Requirement already satisfied: plotly in /usr/local/lib/python3.6/dist-packages (from dash==1.8.0) (4.4.1)\n",
            "Requirement already satisfied: dash-table==4.6.0 in /usr/local/lib/python3.6/dist-packages (from dash==1.8.0) (4.6.0)\n",
            "Requirement already satisfied: dash-core-components==1.7.0 in /usr/local/lib/python3.6/dist-packages (from dash==1.8.0) (1.7.0)\n",
            "Requirement already satisfied: dash-html-components==1.0.2 in /usr/local/lib/python3.6/dist-packages (from dash==1.8.0) (1.0.2)\n",
            "Requirement already satisfied: dash-renderer==1.2.3 in /usr/local/lib/python3.6/dist-packages (from dash==1.8.0) (1.2.3)\n",
            "Requirement already satisfied: future in /usr/local/lib/python3.6/dist-packages (from dash==1.8.0) (0.16.0)\n",
            "Requirement already satisfied: Flask>=1.0.2 in /usr/local/lib/python3.6/dist-packages (from dash==1.8.0) (1.1.2)\n",
            "Requirement already satisfied: brotli in /usr/local/lib/python3.6/dist-packages (from flask-compress->dash==1.8.0) (1.0.7)\n",
            "Requirement already satisfied: retrying>=1.3.3 in /usr/local/lib/python3.6/dist-packages (from plotly->dash==1.8.0) (1.3.3)\n",
            "Requirement already satisfied: six in /usr/local/lib/python3.6/dist-packages (from plotly->dash==1.8.0) (1.12.0)\n",
            "Requirement already satisfied: Werkzeug>=0.15 in /usr/local/lib/python3.6/dist-packages (from Flask>=1.0.2->dash==1.8.0) (1.0.1)\n",
            "Requirement already satisfied: Jinja2>=2.10.1 in /usr/local/lib/python3.6/dist-packages (from Flask>=1.0.2->dash==1.8.0) (2.11.2)\n",
            "Requirement already satisfied: click>=5.1 in /usr/local/lib/python3.6/dist-packages (from Flask>=1.0.2->dash==1.8.0) (7.1.2)\n",
            "Requirement already satisfied: itsdangerous>=0.24 in /usr/local/lib/python3.6/dist-packages (from Flask>=1.0.2->dash==1.8.0) (1.1.0)\n",
            "Requirement already satisfied: MarkupSafe>=0.23 in /usr/local/lib/python3.6/dist-packages (from Jinja2>=2.10.1->Flask>=1.0.2->dash==1.8.0) (1.1.1)\n"
          ],
          "name": "stdout"
        }
      ]
    },
    {
      "cell_type": "code",
      "metadata": {
        "id": "_jAzFiq5Pr7m",
        "colab_type": "code",
        "outputId": "ab2fb78f-14aa-4415-af07-f2d0cf241cb7",
        "colab": {
          "base_uri": "https://localhost:8080/",
          "height": 176
        }
      },
      "source": [
        "!python my_app1.py"
      ],
      "execution_count": 0,
      "outputs": [
        {
          "output_type": "stream",
          "text": [
            "Running on http://127.0.0.1:8050/\n",
            "Debugger PIN: 999-314-989\n",
            " * Serving Flask app \"my_app1\" (lazy loading)\n",
            " * Environment: production\n",
            "\u001b[31m   WARNING: This is a development server. Do not use it in a production deployment.\u001b[0m\n",
            "\u001b[2m   Use a production WSGI server instead.\u001b[0m\n",
            " * Debug mode: on\n",
            "Running on http://127.0.0.1:8050/\n",
            "Debugger PIN: 646-814-211\n"
          ],
          "name": "stdout"
        }
      ]
    },
    {
      "cell_type": "code",
      "metadata": {
        "id": "q8eolD-e0Un_",
        "colab_type": "code",
        "outputId": "b47b181a-580a-4662-81b9-9f411af5d20d",
        "colab": {
          "base_uri": "https://localhost:8080/",
          "height": 382
        }
      },
      "source": [
        "from dash.dependencies import Input, Output\n",
        "\n",
        "app2 = dash.Dash()\n",
        "\n",
        "app2.layout = dhtml.Div(children=[\n",
        "   dcc.Input(id = 'input', value='Enter something', type='text'),\n",
        "   dhtml.Div(id='output')                                  \n",
        "])\n",
        "# wrapper\n",
        "@app2.callback(\n",
        "    Output(component_id ='output', component_property='children'), \n",
        "    [Input(component_id ='input', component_property ='value')]\n",
        ")\n",
        "\n",
        "def update_value(input_data):\n",
        "  #return \"Input: {}\".format(input_data) \n",
        "  try:\n",
        "    return str(float(input_data)**2)\n",
        "  except:\n",
        "    return \"some error\""
      ],
      "execution_count": 0,
      "outputs": [
        {
          "output_type": "error",
          "ename": "ModuleNotFoundError",
          "evalue": "ignored",
          "traceback": [
            "\u001b[0;31m---------------------------------------------------------------------------\u001b[0m",
            "\u001b[0;31mModuleNotFoundError\u001b[0m                       Traceback (most recent call last)",
            "\u001b[0;32m<ipython-input-1-755638b3ae3c>\u001b[0m in \u001b[0;36m<module>\u001b[0;34m()\u001b[0m\n\u001b[0;32m----> 1\u001b[0;31m \u001b[0;32mfrom\u001b[0m \u001b[0mdash\u001b[0m\u001b[0;34m.\u001b[0m\u001b[0mdependencies\u001b[0m \u001b[0;32mimport\u001b[0m \u001b[0mInput\u001b[0m\u001b[0;34m,\u001b[0m \u001b[0mOutput\u001b[0m\u001b[0;34m\u001b[0m\u001b[0;34m\u001b[0m\u001b[0m\n\u001b[0m\u001b[1;32m      2\u001b[0m \u001b[0;34m\u001b[0m\u001b[0m\n\u001b[1;32m      3\u001b[0m \u001b[0mapp2\u001b[0m \u001b[0;34m=\u001b[0m \u001b[0mdash\u001b[0m\u001b[0;34m.\u001b[0m\u001b[0mDash\u001b[0m\u001b[0;34m(\u001b[0m\u001b[0;34m)\u001b[0m\u001b[0;34m\u001b[0m\u001b[0;34m\u001b[0m\u001b[0m\n\u001b[1;32m      4\u001b[0m \u001b[0;34m\u001b[0m\u001b[0m\n\u001b[1;32m      5\u001b[0m app2.layout = dhtml.Div(children=[\n",
            "\u001b[0;31mModuleNotFoundError\u001b[0m: No module named 'dash'",
            "",
            "\u001b[0;31m---------------------------------------------------------------------------\u001b[0;32m\nNOTE: If your import is failing due to a missing package, you can\nmanually install dependencies using either !pip or !apt.\n\nTo view examples of installing some common dependencies, click the\n\"Open Examples\" button below.\n\u001b[0;31m---------------------------------------------------------------------------\u001b[0m\n"
          ]
        }
      ]
    },
    {
      "cell_type": "code",
      "metadata": {
        "id": "f0RWwukFplkT",
        "colab_type": "code",
        "colab": {}
      },
      "source": [
        "import datetime\n",
        "\n",
        "# load dataframe"
      ],
      "execution_count": 0,
      "outputs": []
    },
    {
      "cell_type": "code",
      "metadata": {
        "id": "dT9QQ0b3L9oP",
        "colab_type": "code",
        "colab": {}
      },
      "source": [
        "#pip install jupyterlab-dash"
      ],
      "execution_count": 0,
      "outputs": []
    },
    {
      "cell_type": "code",
      "metadata": {
        "id": "CJH2xnxLMFaA",
        "colab_type": "code",
        "colab": {}
      },
      "source": [
        "import jupyterlab_dash\n",
        "import dash\n",
        "import dash_html_components as html"
      ],
      "execution_count": 0,
      "outputs": []
    },
    {
      "cell_type": "code",
      "metadata": {
        "id": "Vn3cdrN9N4NG",
        "colab_type": "code",
        "colab": {}
      },
      "source": [
        "get_ipython().system_raw('./ngrok http 8050 &')\n",
        "\n",
        "### Get the public URL where you can access the Dash app. Copy this URL.\n",
        "!curl -s http://localhost:4040/api/tunnels | python3 -c \"import sys, json; print(json.load(sys.stdin)['tunnels'][0]['public_url'])\""
      ],
      "execution_count": 0,
      "outputs": []
    },
    {
      "cell_type": "code",
      "metadata": {
        "id": "pqdqq9CsMNFd",
        "colab_type": "code",
        "colab": {}
      },
      "source": [
        "viewer = jupyterlab_dash.AppViewer()\n",
        "\n",
        "app= dash.Dash(\"hi\")\n",
        "app.layout = html.Div('Hello World')\n",
        "\n",
        "viewer.show(app)"
      ],
      "execution_count": 0,
      "outputs": []
    },
    {
      "cell_type": "code",
      "metadata": {
        "id": "HDm3Oy1zOOya",
        "colab_type": "code",
        "colab": {}
      },
      "source": [
        "#!pip install dash\n",
        "#!pip install colour\n",
        "#!pip install jupyter_plotly_dash\n",
        "#!pip install jupyterlab\n",
        "#!pip install \"jupyterlab>=1.0\" jupyterlab-dash==0.1.0a3\n",
        "\n",
        "#!wget https://bin.equinox.io/c/4VmDzA7iaHb/ngrok-stable-linux-amd64.zip\n",
        "#!unzip ngrok-stable-linux-amd64.zip"
      ],
      "execution_count": 0,
      "outputs": []
    },
    {
      "cell_type": "code",
      "metadata": {
        "id": "v0iwkqlpOCQW",
        "colab_type": "code",
        "outputId": "c6226790-6ccb-4f13-f666-4aec6df576d0",
        "colab": {
          "base_uri": "https://localhost:8080/",
          "height": 70
        }
      },
      "source": [
        "get_ipython().system_raw('./ngrok http 8050 &')\n",
        "\n",
        "### Get the public URL where you can access the Dash app. Copy this URL.\n",
        "!curl -s http://localhost:4040/api/tunnels | python3 -c \"import sys, json; print(json.load(sys.stdin)['tunnels'][0]['public_url'])\""
      ],
      "execution_count": 0,
      "outputs": [
        {
          "output_type": "stream",
          "text": [
            "Traceback (most recent call last):\n",
            "  File \"<string>\", line 1, in <module>\n",
            "IndexError: list index out of range\n"
          ],
          "name": "stdout"
        }
      ]
    },
    {
      "cell_type": "code",
      "metadata": {
        "id": "2YjmXRvs0wLD",
        "colab_type": "code",
        "outputId": "661948a1-0294-4392-a0c5-cf77b7a9ff84",
        "colab": {
          "base_uri": "https://localhost:8080/",
          "height": 961
        }
      },
      "source": [
        "# required \n",
        "pip install dash==1.8.0"
      ],
      "execution_count": 0,
      "outputs": [
        {
          "output_type": "stream",
          "text": [
            "Collecting dash==1.8.0\n",
            "\u001b[?25l  Downloading https://files.pythonhosted.org/packages/92/6f/c9ab661b5de4fc8017c18c5734a04bea67f8f59b59c3f8923fb9d64afe93/dash-1.8.0.tar.gz (64kB)\n",
            "\r\u001b[K     |█████                           | 10kB 16.6MB/s eta 0:00:01\r\u001b[K     |██████████▏                     | 20kB 1.7MB/s eta 0:00:01\r\u001b[K     |███████████████▎                | 30kB 2.3MB/s eta 0:00:01\r\u001b[K     |████████████████████▍           | 40kB 1.7MB/s eta 0:00:01\r\u001b[K     |█████████████████████████▌      | 51kB 1.9MB/s eta 0:00:01\r\u001b[K     |██████████████████████████████▋ | 61kB 2.2MB/s eta 0:00:01\r\u001b[K     |████████████████████████████████| 71kB 2.1MB/s \n",
            "\u001b[?25hRequirement already satisfied: Flask>=1.0.2 in /usr/local/lib/python3.6/dist-packages (from dash==1.8.0) (1.1.2)\n",
            "Collecting flask-compress\n",
            "  Downloading https://files.pythonhosted.org/packages/a0/96/cd684c1ffe97b513303b5bfd4bbfb4114c5f4a5ea8a737af6fd813273df8/Flask-Compress-1.5.0.tar.gz\n",
            "Requirement already satisfied: plotly in /usr/local/lib/python3.6/dist-packages (from dash==1.8.0) (4.4.1)\n",
            "Collecting dash_renderer==1.2.3\n",
            "\u001b[?25l  Downloading https://files.pythonhosted.org/packages/ab/5b/658abf6ec5287e87f8d4457af86c8d3b66a80dcc6af8acf46f9a011da98e/dash_renderer-1.2.3.tar.gz (1.1MB)\n",
            "\u001b[K     |████████████████████████████████| 1.1MB 7.6MB/s \n",
            "\u001b[?25hCollecting dash-core-components==1.7.0\n",
            "\u001b[?25l  Downloading https://files.pythonhosted.org/packages/86/51/393059083bb0277f95553e44db874e75a7ecfdda1364ca6d9870ebe676dc/dash_core_components-1.7.0.tar.gz (3.3MB)\n",
            "\u001b[K     |████████████████████████████████| 3.3MB 32.4MB/s \n",
            "\u001b[?25hCollecting dash-html-components==1.0.2\n",
            "\u001b[?25l  Downloading https://files.pythonhosted.org/packages/b4/9e/76988b02d09268495218639ad45dbfafe7dec8a52961278aeedaffb638ea/dash_html_components-1.0.2.tar.gz (187kB)\n",
            "\u001b[K     |████████████████████████████████| 194kB 43.7MB/s \n",
            "\u001b[?25hCollecting dash-table==4.6.0\n",
            "\u001b[?25l  Downloading https://files.pythonhosted.org/packages/48/e9/78aab443337f5e71dbb51738ac6ee603171230255fca0d150dd29ef0ea55/dash_table-4.6.0.tar.gz (1.8MB)\n",
            "\u001b[K     |████████████████████████████████| 1.8MB 43.3MB/s \n",
            "\u001b[?25hRequirement already satisfied: future in /usr/local/lib/python3.6/dist-packages (from dash==1.8.0) (0.16.0)\n",
            "Requirement already satisfied: Werkzeug>=0.15 in /usr/local/lib/python3.6/dist-packages (from Flask>=1.0.2->dash==1.8.0) (1.0.1)\n",
            "Requirement already satisfied: itsdangerous>=0.24 in /usr/local/lib/python3.6/dist-packages (from Flask>=1.0.2->dash==1.8.0) (1.1.0)\n",
            "Requirement already satisfied: click>=5.1 in /usr/local/lib/python3.6/dist-packages (from Flask>=1.0.2->dash==1.8.0) (7.1.2)\n",
            "Requirement already satisfied: Jinja2>=2.10.1 in /usr/local/lib/python3.6/dist-packages (from Flask>=1.0.2->dash==1.8.0) (2.11.2)\n",
            "Collecting brotli\n",
            "\u001b[?25l  Downloading https://files.pythonhosted.org/packages/f4/68/60a220454dc5083c6d59b41aa90bb1c96fad62a0abf3a33e0ef64b38638a/Brotli-1.0.7-cp36-cp36m-manylinux1_x86_64.whl (352kB)\n",
            "\u001b[K     |████████████████████████████████| 358kB 38.7MB/s \n",
            "\u001b[?25hRequirement already satisfied: retrying>=1.3.3 in /usr/local/lib/python3.6/dist-packages (from plotly->dash==1.8.0) (1.3.3)\n",
            "Requirement already satisfied: six in /usr/local/lib/python3.6/dist-packages (from plotly->dash==1.8.0) (1.12.0)\n",
            "Requirement already satisfied: MarkupSafe>=0.23 in /usr/local/lib/python3.6/dist-packages (from Jinja2>=2.10.1->Flask>=1.0.2->dash==1.8.0) (1.1.1)\n",
            "Building wheels for collected packages: dash, flask-compress, dash-renderer, dash-core-components, dash-html-components, dash-table\n",
            "  Building wheel for dash (setup.py) ... \u001b[?25l\u001b[?25hdone\n",
            "  Created wheel for dash: filename=dash-1.8.0-cp36-none-any.whl size=71494 sha256=a5aced5f515ac322eb77500632457afc36f4ac37ba844c7202c785a77b034571\n",
            "  Stored in directory: /root/.cache/pip/wheels/ab/18/4f/810b70747c57b8dd0432a8801bd3a2f44bb7ed59a8b1947eca\n",
            "  Building wheel for flask-compress (setup.py) ... \u001b[?25l\u001b[?25hdone\n",
            "  Created wheel for flask-compress: filename=Flask_Compress-1.5.0-cp36-none-any.whl size=5273 sha256=556465aa800525630930460b0b0835d95932075f6b99e5c76feedd2df5ce14c9\n",
            "  Stored in directory: /root/.cache/pip/wheels/f7/e9/e4/5afc286be7c87461375e33152558415dfeb0c8f5af3b50e742\n",
            "  Building wheel for dash-renderer (setup.py) ... \u001b[?25l\u001b[?25hdone\n",
            "  Created wheel for dash-renderer: filename=dash_renderer-1.2.3-cp36-none-any.whl size=1146786 sha256=d60936ea941cce3739c7030f0363e19333a0ecbcd777e6b5bdd35fdeffbda0b3\n",
            "  Stored in directory: /root/.cache/pip/wheels/13/d8/04/14101d6c609890aa5bf850f142c93d9348deecd704dc7424fc\n",
            "  Building wheel for dash-core-components (setup.py) ... \u001b[?25l\u001b[?25hdone\n",
            "  Created wheel for dash-core-components: filename=dash_core_components-1.7.0-cp36-none-any.whl size=3381127 sha256=bd007c8b54ab39e6562f3b5f9103cc08e5cb85a116d0b851077bace4d414e063\n",
            "  Stored in directory: /root/.cache/pip/wheels/c9/66/36/d1dad9c51a7bca4b8e719b3e322fe23a3c4ea238c5621c76fb\n",
            "  Building wheel for dash-html-components (setup.py) ... \u001b[?25l\u001b[?25hdone\n",
            "  Created wheel for dash-html-components: filename=dash_html_components-1.0.2-cp36-none-any.whl size=427903 sha256=51d185152f92462ea1ff0ea987099251ab6db6918eb317be657e60c5af74992c\n",
            "  Stored in directory: /root/.cache/pip/wheels/59/6d/79/e8fbded6c6102c00ef0d58a278a488d913d30c51ae95dbef90\n",
            "  Building wheel for dash-table (setup.py) ... \u001b[?25l\u001b[?25hdone\n",
            "  Created wheel for dash-table: filename=dash_table-4.6.0-cp36-none-any.whl size=1774478 sha256=4c2e21986aa153a16ac62241665409addc9bb1620bd5d0ac7072a194e3ab8da6\n",
            "  Stored in directory: /root/.cache/pip/wheels/19/75/9b/3ee8716c87d804c80755616e09e2a845999ecd40ea70662e87\n",
            "Successfully built dash flask-compress dash-renderer dash-core-components dash-html-components dash-table\n",
            "Installing collected packages: brotli, flask-compress, dash-renderer, dash-core-components, dash-html-components, dash-table, dash\n",
            "Successfully installed brotli-1.0.7 dash-1.8.0 dash-core-components-1.7.0 dash-html-components-1.0.2 dash-renderer-1.2.3 dash-table-4.6.0 flask-compress-1.5.0\n"
          ],
          "name": "stdout"
        }
      ]
    },
    {
      "cell_type": "code",
      "metadata": {
        "id": "V-E1cyQ9O6Aq",
        "colab_type": "code",
        "outputId": "95699923-90f5-4bb1-97e8-dffc887975b5",
        "colab": {
          "base_uri": "https://localhost:8080/",
          "height": 247
        }
      },
      "source": [
        "# do this after pip install dash \n",
        "!wget https://bin.equinox.io/c/4VmDzA7iaHb/ngrok-stable-linux-amd64.zip\n",
        "!unzip ngrok-stable-linux-amd64.zip\n",
        "\n",
        "### Run ngrok to tunnel Dash app port 8050 to the outside world. \n",
        "### This command runs in the background.\n",
        "get_ipython().system_raw('./ngrok http 8050 &')\n"
      ],
      "execution_count": 0,
      "outputs": [
        {
          "output_type": "stream",
          "text": [
            "--2020-05-06 19:18:23--  https://bin.equinox.io/c/4VmDzA7iaHb/ngrok-stable-linux-amd64.zip\n",
            "Resolving bin.equinox.io (bin.equinox.io)... 34.192.215.160, 52.73.120.139, 3.95.144.123, ...\n",
            "Connecting to bin.equinox.io (bin.equinox.io)|34.192.215.160|:443... connected.\n",
            "HTTP request sent, awaiting response... 200 OK\n",
            "Length: 13773305 (13M) [application/octet-stream]\n",
            "Saving to: ‘ngrok-stable-linux-amd64.zip’\n",
            "\n",
            "\r          ngrok-sta   0%[                    ]       0  --.-KB/s               \r         ngrok-stab  75%[==============>     ]   9.94M  49.7MB/s               \rngrok-stable-linux- 100%[===================>]  13.13M  54.3MB/s    in 0.2s    \n",
            "\n",
            "2020-05-06 19:18:24 (54.3 MB/s) - ‘ngrok-stable-linux-amd64.zip’ saved [13773305/13773305]\n",
            "\n",
            "Archive:  ngrok-stable-linux-amd64.zip\n",
            "  inflating: ngrok                   \n"
          ],
          "name": "stdout"
        }
      ]
    },
    {
      "cell_type": "code",
      "metadata": {
        "id": "CzmiD5I0SFRT",
        "colab_type": "code",
        "outputId": "74c6317d-9d03-455e-ba51-515961ab7e02",
        "cellView": "both",
        "colab": {
          "base_uri": "https://localhost:8080/",
          "height": 382
        }
      },
      "source": [
        "#@title\n",
        "pip install dash\n",
        "### Get the public URL where you can access the Dash app. Copy this URL.\n",
        "#! curl -s http://localhost:4040/api/tunnels | python3 -c \\\n",
        "#    \"import sys, json; print(json.load(sys.stdin)['tunnels'][0]['public_url'])\"\n",
        "\n",
        "### Install Dash\n",
        "\n",
        "#!pip install dash==0.31.1  # The core dash backend\n",
        "#!pip install dash-html-components==0.13.2  # HTML components\n",
        "#!pip install dash-core-components==0.39.0  # Supercharged components\n",
        "#!pip install dash-table==3.1.7"
      ],
      "execution_count": 0,
      "outputs": [
        {
          "output_type": "error",
          "ename": "ModuleNotFoundError",
          "evalue": "ignored",
          "traceback": [
            "\u001b[0;31m---------------------------------------------------------------------------\u001b[0m",
            "\u001b[0;31mModuleNotFoundError\u001b[0m                       Traceback (most recent call last)",
            "\u001b[0;32m<ipython-input-2-d95fa0d0c857>\u001b[0m in \u001b[0;36m<module>\u001b[0;34m()\u001b[0m\n\u001b[0;32m----> 1\u001b[0;31m \u001b[0;32mimport\u001b[0m \u001b[0mdash\u001b[0m\u001b[0;34m\u001b[0m\u001b[0;34m\u001b[0m\u001b[0m\n\u001b[0m\u001b[1;32m      2\u001b[0m \u001b[0;31m### Get the public URL where you can access the Dash app. Copy this URL.\u001b[0m\u001b[0;34m\u001b[0m\u001b[0;34m\u001b[0m\u001b[0;34m\u001b[0m\u001b[0m\n\u001b[1;32m      3\u001b[0m \u001b[0;31m#! curl -s http://localhost:4040/api/tunnels | python3 -c \\\u001b[0m\u001b[0;34m\u001b[0m\u001b[0;34m\u001b[0m\u001b[0;34m\u001b[0m\u001b[0m\n\u001b[1;32m      4\u001b[0m \u001b[0;31m#    \"import sys, json; print(json.load(sys.stdin)['tunnels'][0]['public_url'])\"\u001b[0m\u001b[0;34m\u001b[0m\u001b[0;34m\u001b[0m\u001b[0;34m\u001b[0m\u001b[0m\n\u001b[1;32m      5\u001b[0m \u001b[0;34m\u001b[0m\u001b[0m\n",
            "\u001b[0;31mModuleNotFoundError\u001b[0m: No module named 'dash'",
            "",
            "\u001b[0;31m---------------------------------------------------------------------------\u001b[0;32m\nNOTE: If your import is failing due to a missing package, you can\nmanually install dependencies using either !pip or !apt.\n\nTo view examples of installing some common dependencies, click the\n\"Open Examples\" button below.\n\u001b[0;31m---------------------------------------------------------------------------\u001b[0m\n"
          ]
        }
      ]
    },
    {
      "cell_type": "code",
      "metadata": {
        "id": "dF54eUh2PHNk",
        "colab_type": "code",
        "outputId": "861a613d-8ee3-4c49-c644-ebedd9048040",
        "colab": {
          "base_uri": "https://localhost:8080/",
          "height": 34
        }
      },
      "source": [
        "# do this after install above\n",
        "! curl -s http://localhost:4040/api/tunnels | python3 -c \\\n",
        "    \"import sys, json; print(json.load(sys.stdin)['tunnels'][0]['public_url'])\""
      ],
      "execution_count": 0,
      "outputs": [
        {
          "output_type": "stream",
          "text": [
            "http://c44e1742.ngrok.io\n"
          ],
          "name": "stdout"
        }
      ]
    },
    {
      "cell_type": "code",
      "metadata": {
        "id": "_hqtbYzZ4UoD",
        "colab_type": "code",
        "colab": {}
      },
      "source": [
        "# synthetic generation of time series"
      ],
      "execution_count": 0,
      "outputs": []
    },
    {
      "cell_type": "code",
      "metadata": {
        "id": "bljSXqgHvzwN",
        "colab_type": "code",
        "colab": {}
      },
      "source": [
        "# sample dataframe\n",
        "import pandas as pd \n",
        "df1 = pd.DataFrame(columns = ['time', 'val'])\n",
        "df1['val'] = [1,2,3,4,5, 6,7,8,9,11]"
      ],
      "execution_count": 0,
      "outputs": []
    },
    {
      "cell_type": "code",
      "metadata": {
        "id": "YZ9CEQSpv3qt",
        "colab_type": "code",
        "outputId": "cbefa631-d259-404b-90c3-452c8dac1234",
        "colab": {
          "base_uri": "https://localhost:8080/",
          "height": 212
        }
      },
      "source": [
        "df1.val"
      ],
      "execution_count": 0,
      "outputs": [
        {
          "output_type": "execute_result",
          "data": {
            "text/plain": [
              "0     1\n",
              "1     2\n",
              "2     3\n",
              "3     4\n",
              "4     5\n",
              "5     6\n",
              "6     7\n",
              "7     8\n",
              "8     9\n",
              "9    11\n",
              "Name: val, dtype: int64"
            ]
          },
          "metadata": {
            "tags": []
          },
          "execution_count": 16
        }
      ]
    },
    {
      "cell_type": "markdown",
      "metadata": {
        "id": "zadTH_T-0j_-",
        "colab_type": "text"
      },
      "source": [
        "html code  experimenting : "
      ]
    },
    {
      "cell_type": "code",
      "metadata": {
        "id": "KHzDdQF-2ZS9",
        "colab_type": "code",
        "outputId": "7c3c3129-6e94-4651-d6fb-9082bf910ed8",
        "colab": {
          "base_uri": "https://localhost:8080/",
          "height": 34
        }
      },
      "source": [
        "# dynamic graph app\n",
        "%%writefile my_app2.py\n",
        "\n",
        "import dash\n",
        "import dash_core_components as dcc\n",
        "import dash_html_components as html\n",
        "\n",
        "from dash.dependencies import Input, Output \n",
        "\n",
        "import pandas as pd \n",
        "\n",
        "\n",
        "\n",
        "#df1 = pd.DataFrame(columns = ['time', 'val'])\n",
        "#df1['val'] = [1,2,3,4,5, 6,7,8,9,11]\n",
        "\n",
        "\n",
        "\n",
        "caiso_url = 'https://raw.githubusercontent.com/sy2657/representation_learning/master/caiso_jan2020_systemloadresource_tacnorth.csv'\n",
        "caiso_dataset = pd.read_csv(caiso_url)\n",
        "\n",
        "caiso_dataset=caiso_dataset.rename(columns={\"sys_load_rsrc (TAC_NORTH) (california_iso)\": \"iso\"})\n",
        "\n",
        "df1 = caiso_dataset\n",
        "\n",
        "appdynamic = dash.Dash()\n",
        "\n",
        "colors = {\n",
        "    'background': '#E5DBA3',\n",
        "    'text': '#56D85D',\n",
        "    'text2': '#194380'\n",
        "}\n",
        "\n",
        "appdynamic.layout = html.Div(style={'backgroundColor': colors['background']}, children=[html.H1(children='hello dash', style={\n",
        "            'textAlign': 'center',\n",
        "            'color': colors['text']\n",
        "        }), html.Div(children='web application for python'), \n",
        "            html.Label('Dropdown'),\n",
        "    dcc.Dropdown(\n",
        "        options=[\n",
        "            {'label': 'New York City', 'value': 'NYC'},\n",
        "            {'label': u'Montréal', 'value': 'MTL'},\n",
        "            {'label': 'San Francisco', 'value': 'SF'}\n",
        "        ],\n",
        "        value='MTL'\n",
        "    ), html.Label('Text Input'),\n",
        "    dcc.Input(value='enter window value (int)', type='text'), # convert to number\n",
        "\n",
        "                                       dcc.Graph(id='example-graph', \n",
        "                                                 figure = {\n",
        "                                                     'data': [ {'x': df1.DateTime, 'y':df1.iso, 'type':'line', 'name':'stock' } ],\n",
        "                                                     'layout': {\n",
        "                                                         \n",
        "                                                     }\n",
        "                                                 })\n",
        "                                       ])\n",
        "\n",
        "# call back for type of data (region)\n",
        "@appdynamic.callback()\n",
        "\n",
        "@appdynamic.callback(\n",
        "    Output(component_id='output-graph', component_property='children'),\n",
        "    [Input(component_id='input'), component_property='value']\n",
        ")\n",
        "\n",
        "def update_graph(input_data):\n",
        "\n",
        "if __name__ == '__main__':\n",
        "    appdynamic.run_server(debug=True)\n"
      ],
      "execution_count": 0,
      "outputs": [
        {
          "output_type": "stream",
          "text": [
            "Overwriting my_app2.py\n"
          ],
          "name": "stdout"
        }
      ]
    },
    {
      "cell_type": "code",
      "metadata": {
        "id": "UGiUZ7w7rYun",
        "colab_type": "code",
        "outputId": "83b0a1ab-2352-4476-889b-89e9e10eac89",
        "colab": {
          "base_uri": "https://localhost:8080/",
          "height": 550
        }
      },
      "source": [
        "!python my_app2.py "
      ],
      "execution_count": 0,
      "outputs": [
        {
          "output_type": "stream",
          "text": [
            "Running on http://127.0.0.1:8050/\n",
            "Debugger PIN: 310-192-048\n",
            " * Serving Flask app \"my_app2\" (lazy loading)\n",
            " * Environment: production\n",
            "\u001b[31m   WARNING: This is a development server. Do not use it in a production deployment.\u001b[0m\n",
            "\u001b[2m   Use a production WSGI server instead.\u001b[0m\n",
            " * Debug mode: on\n",
            "Traceback (most recent call last):\n",
            "  File \"/content/my_app2.py\", line 2, in <module>\n",
            "    import dash\n",
            "  File \"/usr/local/lib/python3.6/dist-packages/dash/__init__.py\", line 1, in <module>\n",
            "    from .dash import Dash, no_update  # noqa: F401\n",
            "  File \"/usr/local/lib/python3.6/dist-packages/dash/dash.py\", line 23, in <module>\n",
            "    import plotly\n",
            "  File \"/usr/local/lib/python3.6/dist-packages/plotly/__init__.py\", line 30, in <module>\n",
            "    from plotly import (\n",
            "  File \"/usr/local/lib/python3.6/dist-packages/plotly/graph_objs/__init__.py\", line 98093, in <module>\n",
            "    from plotly.graph_objs import histogram2dcontour\n",
            "  File \"/usr/local/lib/python3.6/dist-packages/plotly/graph_objs/histogram2dcontour/__init__.py\", line 3823, in <module>\n",
            "    from plotly.graph_objs.histogram2dcontour import colorbar\n",
            "  File \"/usr/local/lib/python3.6/dist-packages/plotly/graph_objs/histogram2dcontour/colorbar/__init__.py\", line 723, in <module>\n",
            "    from plotly.graph_objs.histogram2dcontour.colorbar import title\n",
            "  File \"<frozen importlib._bootstrap>\", line 971, in _find_and_load\n",
            "  File \"<frozen importlib._bootstrap>\", line 951, in _find_and_load_unlocked\n",
            "  File \"<frozen importlib._bootstrap>\", line 894, in _find_spec\n",
            "  File \"<frozen importlib._bootstrap_external>\", line 1157, in find_spec\n",
            "  File \"<frozen importlib._bootstrap_external>\", line 1129, in _get_spec\n",
            "  File \"<frozen importlib._bootstrap_external>\", line 1245, in find_spec\n",
            "  File \"<frozen importlib._bootstrap_external>\", line 1285, in _fill_cache\n",
            "KeyboardInterrupt\n"
          ],
          "name": "stdout"
        }
      ]
    },
    {
      "cell_type": "code",
      "metadata": {
        "id": "yjry3-9aU8kj",
        "colab_type": "code",
        "colab": {}
      },
      "source": [
        ""
      ],
      "execution_count": 0,
      "outputs": []
    },
    {
      "cell_type": "code",
      "metadata": {
        "id": "iMzP5bbkwG-0",
        "colab_type": "code",
        "outputId": "e0c9a99c-e439-46ae-c8c1-d49f7d3f9f9f",
        "colab": {
          "base_uri": "https://localhost:8080/",
          "height": 34
        }
      },
      "source": [
        "# dyn graph app \n",
        "\n",
        "# dynamic graph app\n",
        "%%writefile my_app3.py\n",
        "\n",
        "import dash\n",
        "import dash_core_components as dcc\n",
        "import dash_html_components as html\n",
        "\n",
        "from dash.dependencies import Input, Output \n",
        "\n",
        "import pandas as pd \n",
        "import matplotlib.pyplot as plt \n",
        "import base64\n",
        "\n",
        "#df1 = pd.DataFrame(columns = ['time', 'val'])\n",
        "#df1['val'] = [1,2,3,4,5, 6,7,8,9,11]\n",
        "\n",
        "def fig_to_uri(in_fig, close_all=True, **save_args):\n",
        "    # type: (plt.Figure) -> str\n",
        "    \"\"\"\n",
        "    Save a figure as a URI\n",
        "    :param in_fig:\n",
        "    :return:\n",
        "    \"\"\"\n",
        "    out_img = BytesIO()\n",
        "    in_fig.savefig(out_img, format='png', **save_args)\n",
        "    if close_all:\n",
        "        in_fig.clf()\n",
        "        plt.close('all')\n",
        "    out_img.seek(0)  # rewind file\n",
        "    encoded = base64.b64encode(out_img.read()).decode(\"ascii\").replace(\"\\n\", \"\")\n",
        "    return \"data:image/png;base64,{}\".format(encoded)\n",
        "\n",
        "\n",
        "caiso_url = 'https://raw.githubusercontent.com/sy2657/representation_learning/master/caiso_jan2020_systemloadresource_tacnorth.csv'\n",
        "caiso_dataset = pd.read_csv(caiso_url)\n",
        "\n",
        "df1 = caiso_dataset\n",
        "\n",
        "appdynamic3 = dash.Dash()\n",
        "\n",
        "colors = {\n",
        "    'background': '#E5DBA3',\n",
        "    'text': '#56D85D',\n",
        "    'text2': '#194380'\n",
        "}\n",
        "\n",
        "appdynamic3.layout = html.Div(style={'backgroundColor': colors['background']}, children=[html.H1(children='hello dash', style={\n",
        "            'textAlign': 'center',\n",
        "            'color': colors['text']\n",
        "        }), html.Div(children='web application for python'), \n",
        "            html.Label('Dropdown to pick region'),\n",
        "    dcc.Dropdown(\n",
        "        id='regoption',\n",
        "        options=[\n",
        "            {'label':'California', 'value': 'CA'},\n",
        "            {'label': 'New York ', 'value': 'NY'}, # value: 'NYC'\n",
        "            {'label': 'Southwest', 'value': 'SW'},\n",
        "            {'label': 'Montréal', 'value': 'MTL'},\n",
        "            {'label': 'San Francisco', 'value': 'SF'}\n",
        "        ],\n",
        "        value='region'\n",
        "    ), \n",
        "    html.Label('Text Input'),\n",
        "\n",
        "    dcc.Input(id='input', value='enter window value (int)', type='text'), # convert to number\n",
        "    html.Div(id= 'output=graph')\n",
        "                                       ])\n",
        "\n",
        "# call back for type of data (region)\n",
        "#@appdynamic3.callback()\n",
        "#def update_dataset():\n",
        "\n",
        "@appdynamic3.callback(\n",
        "    Output(component_id='output-graph', component_property='children'),\n",
        "    [Input(component_id='input')]\n",
        ")\n",
        "\n",
        "def update_graph(input_data): # pred length, batch size, epochs \n",
        "  print(\"input:\",input_data)\n",
        "  from gluonts.model.deepar import DeepAREstimator\n",
        "  from gluonts.trainer import Trainer\n",
        "  from gluonts.dataset.common import ListDataset\n",
        "  firsttimestamp = df1['DateTime'][0]\n",
        "  # training \n",
        "  training_data = ListDataset([{\"start\": firsttimestamp, \"target\": df1.iso.values}], freq = \"1H\")\n",
        "  # test dataset\n",
        "  test_df = df1[200:250] # choose a range\n",
        "  test_firsttimestamp = test_df['DateTime'][0]\n",
        "  test_data = ListDataset([{\"start\": test_firsttimestamp, \"target\": test_df.iso.values}], freq=\"1H\")\n",
        "  # run model \n",
        "  estimator = DeepAREstimator(freq=\"1H\", prediction_length=input_data, trainer=Trainer(epochs=10,batch_size=10))\n",
        "  predictor = estimator.train(training_data=training_data)\n",
        "\n",
        "  # accuracy and predict\n",
        "  from gluonts.evaluation.backtest import make_evaluation_predictions\n",
        "  deepare_forecast_it, deepare_ts_it = make_evaluation_predictions(dataset=test_data, predictor=predictor, num_samples=20)\n",
        "  deepare_forecasts = list(deepare_forecast_it)\n",
        "  deepare_tss = list(deepare_ts_it)\n",
        "  d_ts_entry = deepare_tss[0]\n",
        "  d_forecast_entry= deepare_forecasts[0]\n",
        "  # try random graph \n",
        "  fig, ax1 = plt.subplots(1,1)\n",
        "  np.random.seed(len(input_value))\n",
        "  ax1.matshow(np.random.uniform(-1,1, size = (12, 10)))\n",
        "  ax1.set_title(input_value)\n",
        "  out_url = fig_to_uri(fig)\n",
        "  return out_url\n",
        "\n",
        "\n",
        "\n",
        "if __name__ == '__main__':\n",
        "    appdynamic.run_server(debug=True)\n"
      ],
      "execution_count": 0,
      "outputs": [
        {
          "output_type": "stream",
          "text": [
            "Overwriting my_app3.py\n"
          ],
          "name": "stdout"
        }
      ]
    },
    {
      "cell_type": "code",
      "metadata": {
        "id": "K5HKOmOvWahd",
        "colab_type": "code",
        "outputId": "1d819e1b-183b-42c0-b22b-1721124868c3",
        "colab": {
          "base_uri": "https://localhost:8080/",
          "height": 87
        }
      },
      "source": [
        "!python my_app3.py"
      ],
      "execution_count": 0,
      "outputs": [
        {
          "output_type": "stream",
          "text": [
            "Traceback (most recent call last):\n",
            "  File \"my_app3.py\", line 73, in <module>\n",
            "    [Input(component_id='input')]\n",
            "TypeError: __init__() missing 1 required positional argument: 'component_property'\n"
          ],
          "name": "stdout"
        }
      ]
    },
    {
      "cell_type": "code",
      "metadata": {
        "id": "VVhb1lTMXP7R",
        "colab_type": "code",
        "colab": {}
      },
      "source": [
        ""
      ],
      "execution_count": 0,
      "outputs": []
    },
    {
      "cell_type": "code",
      "metadata": {
        "id": "P3cqg8qnXkWV",
        "colab_type": "code",
        "outputId": "0c6724f1-2b12-4b2f-add7-ce124d7da671",
        "colab": {
          "base_uri": "https://localhost:8080/",
          "height": 34
        }
      },
      "source": [
        "%%writefile my_app4.py\n",
        "import dash\n",
        "import dash_core_components as dcc\n",
        "import dash_html_components as html\n",
        "from dash.dependencies import Input, Output\n",
        "\n",
        "import pandas as pd \n",
        "import matplotlib.pyplot as plt \n",
        "#import base64\n",
        "import numpy as np \n",
        "#from io import BytesIO \n",
        "import plotly.tools as tls \n",
        "\n",
        "df1 = pd.DataFrame(columns = ['time', 'val1', 'val2'])\n",
        "df1['time'] = [1,2,3,4,5,6,7,8,9,10]\n",
        "df1['val1'] = [1,2,3,4,5, 6,7,8,9,11]\n",
        "df1['val2'] = [11,12,23,2,9, 16,3,5,9,3]\n",
        "\n",
        "app = dash.Dash('multiple_lines')\n",
        "\n",
        "app.layout = html.Div([\n",
        "    dcc.Input(id='my-id', value=5, type='number'),\n",
        "    dcc.Graph(id='graph_energy')\n",
        "])\n",
        "\n",
        "\n",
        "@app.callback(\n",
        "    Output(component_id='graph_energy', component_property='figure'), # component_property='children'\n",
        "    [Input(component_id='my-id', component_property='value')]\n",
        ")\n",
        "def update_graph(input_value):\n",
        "  fig = tls.make_subplots(rows=2, cols= 1, shared_xaxes=True)\n",
        "  fig['layout']['margin'] = {'l':30, 'r':10, 'b':50, 't':25}\n",
        "  fig.append_trace({'x': df1.time, 'y':df1.val1, 'type': 'scatter', 'name':'values1'},1,1)\n",
        "  fig.append_trace({'x': df1.time, 'y': df1.val2, 'type':'scatter', 'name':'values2'},1,1)\n",
        "  return fig   \n",
        "\n",
        "\n",
        "if __name__ == '__main__':\n",
        "    app.run_server(debug=True)"
      ],
      "execution_count": 0,
      "outputs": [
        {
          "output_type": "stream",
          "text": [
            "Overwriting my_app4.py\n"
          ],
          "name": "stdout"
        }
      ]
    },
    {
      "cell_type": "code",
      "metadata": {
        "id": "52sbMcEd4BHa",
        "colab_type": "code",
        "outputId": "74ac3ac4-0bef-4bb1-e88d-e0f6f9e6a425",
        "colab": {
          "base_uri": "https://localhost:8080/",
          "height": 247
        }
      },
      "source": [
        "!python my_app4.py"
      ],
      "execution_count": 0,
      "outputs": [
        {
          "output_type": "stream",
          "text": [
            "Running on http://127.0.0.1:8050/\n",
            "Debugger PIN: 187-507-663\n",
            " * Serving Flask app \"multiple_lines\" (lazy loading)\n",
            " * Environment: production\n",
            "\u001b[31m   WARNING: This is a development server. Do not use it in a production deployment.\u001b[0m\n",
            "\u001b[2m   Use a production WSGI server instead.\u001b[0m\n",
            " * Debug mode: on\n",
            "Running on http://127.0.0.1:8050/\n",
            "Debugger PIN: 348-229-796\n",
            "/usr/local/lib/python3.6/dist-packages/plotly/tools.py:465: DeprecationWarning:\n",
            "\n",
            "plotly.tools.make_subplots is deprecated, please use plotly.subplots.make_subplots instead\n",
            "\n"
          ],
          "name": "stdout"
        }
      ]
    },
    {
      "cell_type": "code",
      "metadata": {
        "id": "TCyPDn9g4EuB",
        "colab_type": "code",
        "outputId": "15028e0e-c1d5-43cb-f1d9-f0f8d825b0c8",
        "colab": {
          "base_uri": "https://localhost:8080/",
          "height": 311
        }
      },
      "source": [
        "#import matplotlib.pyplot as plt\n",
        "#plt.plot(10)\n",
        "#plt.show()\n",
        "import gluonts"
      ],
      "execution_count": 0,
      "outputs": [
        {
          "output_type": "error",
          "ename": "ModuleNotFoundError",
          "evalue": "ignored",
          "traceback": [
            "\u001b[0;31m---------------------------------------------------------------------------\u001b[0m",
            "\u001b[0;31mModuleNotFoundError\u001b[0m                       Traceback (most recent call last)",
            "\u001b[0;32m<ipython-input-1-98e5854f4bff>\u001b[0m in \u001b[0;36m<module>\u001b[0;34m()\u001b[0m\n\u001b[0;32m----> 1\u001b[0;31m \u001b[0;32mimport\u001b[0m \u001b[0mgluonts\u001b[0m\u001b[0;34m\u001b[0m\u001b[0;34m\u001b[0m\u001b[0m\n\u001b[0m",
            "\u001b[0;31mModuleNotFoundError\u001b[0m: No module named 'gluonts'",
            "",
            "\u001b[0;31m---------------------------------------------------------------------------\u001b[0;32m\nNOTE: If your import is failing due to a missing package, you can\nmanually install dependencies using either !pip or !apt.\n\nTo view examples of installing some common dependencies, click the\n\"Open Examples\" button below.\n\u001b[0;31m---------------------------------------------------------------------------\u001b[0m\n"
          ]
        }
      ]
    },
    {
      "cell_type": "code",
      "metadata": {
        "id": "aZ4TbmkgMbZ9",
        "colab_type": "code",
        "outputId": "01ff4dae-3b4e-4461-be7d-6ec93a2efcec",
        "colab": {
          "base_uri": "https://localhost:8080/",
          "height": 34
        }
      },
      "source": [
        "%%writefile my_app5.py\n",
        "import dash\n",
        "import dash_core_components as dcc\n",
        "import dash_html_components as html\n",
        "from dash.dependencies import Input, Output\n",
        "\n",
        "import pandas as pd \n",
        "\n",
        "df1 = pd.DataFrame(columns = ['time', 'val1', 'val2'])\n",
        "df1['time'] = [1,2,3,4,5,6,7,8,9,10]\n",
        "df1['val1'] = [1,2,3,4,5, 6,7,8,9,11]\n",
        "df1['val2'] = [11,12,23,2,9, 16,3,5,9,3]\n",
        "\n",
        "app = dash.Dash()\n",
        "\n",
        "app.layout= html.Div(children = [\n",
        "                                 html.Div(children=\"Energy forecasting\"),\n",
        "                                 dcc.Input(id='input', value=5, type='number'),\n",
        "                                 html.Div(id='output-graph'), # time series and predictions (and conf. intervals )\n",
        "                                 html.Div(id='output-graph2'),# another output graph for trend\n",
        "                                 html.Div(id='output-graph3') # output graph for hour of day \n",
        "                                 # display recommended power consumption \n",
        "])\n",
        "\n",
        "@app.callback(\n",
        "    Output(component_id='output-graph', component_property='children'),\n",
        "    [Input(component_id ='input', component_property='value')]\n",
        ")\n",
        "\n",
        "def update_graph(input_data):\n",
        "  return dcc.Graph(id='ex-graph',\n",
        "                   figure = {\n",
        "                       'data': [{'x': df1.time, 'y': df1.val1, 'type':'line', 'name':'values1' },\n",
        "                                {'x': df1.time, 'y': df1.val2, 'type':'line', 'name':'values2'}],\n",
        "                       'layout':{'title': input_data}\n",
        "                   })\n",
        "  \n",
        "if __name__=='__main__':\n",
        "  app.run_server(debug=True)"
      ],
      "execution_count": 0,
      "outputs": [
        {
          "output_type": "stream",
          "text": [
            "Writing my_app5.py\n"
          ],
          "name": "stdout"
        }
      ]
    },
    {
      "cell_type": "code",
      "metadata": {
        "id": "-p1WA9V9bfk-",
        "colab_type": "code",
        "outputId": "daa440b0-b4ed-433f-9e31-542c203ebf7a",
        "colab": {
          "base_uri": "https://localhost:8080/",
          "height": 176
        }
      },
      "source": [
        "!python my_app5.py"
      ],
      "execution_count": 0,
      "outputs": [
        {
          "output_type": "stream",
          "text": [
            "Running on http://127.0.0.1:8050/\n",
            "Debugger PIN: 347-393-071\n",
            " * Serving Flask app \"my_app5\" (lazy loading)\n",
            " * Environment: production\n",
            "\u001b[31m   WARNING: This is a development server. Do not use it in a production deployment.\u001b[0m\n",
            "\u001b[2m   Use a production WSGI server instead.\u001b[0m\n",
            " * Debug mode: on\n",
            "Running on http://127.0.0.1:8050/\n",
            "Debugger PIN: 426-361-172\n"
          ],
          "name": "stdout"
        }
      ]
    },
    {
      "cell_type": "code",
      "metadata": {
        "id": "rWMhrBRC4Nko",
        "colab_type": "code",
        "colab": {}
      },
      "source": [
        "#!pip install mxnet\n",
        "#pip install gluonts"
      ],
      "execution_count": 0,
      "outputs": []
    },
    {
      "cell_type": "code",
      "metadata": {
        "id": "fCpjCGR9BM6K",
        "colab_type": "code",
        "colab": {
          "base_uri": "https://localhost:8080/",
          "height": 961
        },
        "outputId": "781a3d47-8eb8-46e0-a0c5-997c1b3a723e"
      },
      "source": [
        "pip install dash==1.8.0"
      ],
      "execution_count": 8,
      "outputs": [
        {
          "output_type": "stream",
          "text": [
            "Collecting dash==1.8.0\n",
            "\u001b[?25l  Downloading https://files.pythonhosted.org/packages/92/6f/c9ab661b5de4fc8017c18c5734a04bea67f8f59b59c3f8923fb9d64afe93/dash-1.8.0.tar.gz (64kB)\n",
            "\r\u001b[K     |█████                           | 10kB 20.4MB/s eta 0:00:01\r\u001b[K     |██████████▏                     | 20kB 1.7MB/s eta 0:00:01\r\u001b[K     |███████████████▎                | 30kB 2.3MB/s eta 0:00:01\r\u001b[K     |████████████████████▍           | 40kB 2.5MB/s eta 0:00:01\r\u001b[K     |█████████████████████████▌      | 51kB 2.0MB/s eta 0:00:01\r\u001b[K     |██████████████████████████████▋ | 61kB 2.3MB/s eta 0:00:01\r\u001b[K     |████████████████████████████████| 71kB 2.0MB/s \n",
            "\u001b[?25hRequirement already satisfied: Flask>=1.0.2 in /usr/local/lib/python3.6/dist-packages (from dash==1.8.0) (1.1.2)\n",
            "Collecting flask-compress\n",
            "  Downloading https://files.pythonhosted.org/packages/a0/96/cd684c1ffe97b513303b5bfd4bbfb4114c5f4a5ea8a737af6fd813273df8/Flask-Compress-1.5.0.tar.gz\n",
            "Requirement already satisfied: plotly in /usr/local/lib/python3.6/dist-packages (from dash==1.8.0) (4.4.1)\n",
            "Collecting dash_renderer==1.2.3\n",
            "\u001b[?25l  Downloading https://files.pythonhosted.org/packages/ab/5b/658abf6ec5287e87f8d4457af86c8d3b66a80dcc6af8acf46f9a011da98e/dash_renderer-1.2.3.tar.gz (1.1MB)\n",
            "\u001b[K     |████████████████████████████████| 1.1MB 6.8MB/s \n",
            "\u001b[?25hCollecting dash-core-components==1.7.0\n",
            "\u001b[?25l  Downloading https://files.pythonhosted.org/packages/86/51/393059083bb0277f95553e44db874e75a7ecfdda1364ca6d9870ebe676dc/dash_core_components-1.7.0.tar.gz (3.3MB)\n",
            "\u001b[K     |████████████████████████████████| 3.3MB 16.2MB/s \n",
            "\u001b[?25hCollecting dash-html-components==1.0.2\n",
            "\u001b[?25l  Downloading https://files.pythonhosted.org/packages/b4/9e/76988b02d09268495218639ad45dbfafe7dec8a52961278aeedaffb638ea/dash_html_components-1.0.2.tar.gz (187kB)\n",
            "\u001b[K     |████████████████████████████████| 194kB 33.6MB/s \n",
            "\u001b[?25hCollecting dash-table==4.6.0\n",
            "\u001b[?25l  Downloading https://files.pythonhosted.org/packages/48/e9/78aab443337f5e71dbb51738ac6ee603171230255fca0d150dd29ef0ea55/dash_table-4.6.0.tar.gz (1.8MB)\n",
            "\u001b[K     |████████████████████████████████| 1.8MB 34.4MB/s \n",
            "\u001b[?25hRequirement already satisfied: future in /usr/local/lib/python3.6/dist-packages (from dash==1.8.0) (0.16.0)\n",
            "Requirement already satisfied: Jinja2>=2.10.1 in /usr/local/lib/python3.6/dist-packages (from Flask>=1.0.2->dash==1.8.0) (2.11.2)\n",
            "Requirement already satisfied: itsdangerous>=0.24 in /usr/local/lib/python3.6/dist-packages (from Flask>=1.0.2->dash==1.8.0) (1.1.0)\n",
            "Requirement already satisfied: click>=5.1 in /usr/local/lib/python3.6/dist-packages (from Flask>=1.0.2->dash==1.8.0) (7.1.2)\n",
            "Requirement already satisfied: Werkzeug>=0.15 in /usr/local/lib/python3.6/dist-packages (from Flask>=1.0.2->dash==1.8.0) (1.0.1)\n",
            "Collecting brotli\n",
            "\u001b[?25l  Downloading https://files.pythonhosted.org/packages/f4/68/60a220454dc5083c6d59b41aa90bb1c96fad62a0abf3a33e0ef64b38638a/Brotli-1.0.7-cp36-cp36m-manylinux1_x86_64.whl (352kB)\n",
            "\u001b[K     |████████████████████████████████| 358kB 46.2MB/s \n",
            "\u001b[?25hRequirement already satisfied: retrying>=1.3.3 in /usr/local/lib/python3.6/dist-packages (from plotly->dash==1.8.0) (1.3.3)\n",
            "Requirement already satisfied: six in /usr/local/lib/python3.6/dist-packages (from plotly->dash==1.8.0) (1.12.0)\n",
            "Requirement already satisfied: MarkupSafe>=0.23 in /usr/local/lib/python3.6/dist-packages (from Jinja2>=2.10.1->Flask>=1.0.2->dash==1.8.0) (1.1.1)\n",
            "Building wheels for collected packages: dash, flask-compress, dash-renderer, dash-core-components, dash-html-components, dash-table\n",
            "  Building wheel for dash (setup.py) ... \u001b[?25l\u001b[?25hdone\n",
            "  Created wheel for dash: filename=dash-1.8.0-cp36-none-any.whl size=71494 sha256=fd26f417395b4f5b75265fb0c79a00157ce2c00ce65747910da154e1ff165c43\n",
            "  Stored in directory: /root/.cache/pip/wheels/ab/18/4f/810b70747c57b8dd0432a8801bd3a2f44bb7ed59a8b1947eca\n",
            "  Building wheel for flask-compress (setup.py) ... \u001b[?25l\u001b[?25hdone\n",
            "  Created wheel for flask-compress: filename=Flask_Compress-1.5.0-cp36-none-any.whl size=5273 sha256=4946e5bba17c3424c8422517f61e0d02f9b4adffdc31f62a8df4f0875c4da79d\n",
            "  Stored in directory: /root/.cache/pip/wheels/f7/e9/e4/5afc286be7c87461375e33152558415dfeb0c8f5af3b50e742\n",
            "  Building wheel for dash-renderer (setup.py) ... \u001b[?25l\u001b[?25hdone\n",
            "  Created wheel for dash-renderer: filename=dash_renderer-1.2.3-cp36-none-any.whl size=1146786 sha256=c5626ccfd6e12b2433b7e80cbf09a55be628618977de59596492d9ca641a7a3a\n",
            "  Stored in directory: /root/.cache/pip/wheels/13/d8/04/14101d6c609890aa5bf850f142c93d9348deecd704dc7424fc\n",
            "  Building wheel for dash-core-components (setup.py) ... \u001b[?25l\u001b[?25hdone\n",
            "  Created wheel for dash-core-components: filename=dash_core_components-1.7.0-cp36-none-any.whl size=3381127 sha256=8787db9b289885dfb6a7a00592e77f03e1b19cd96163e9148b5cfbc4c2faeca9\n",
            "  Stored in directory: /root/.cache/pip/wheels/c9/66/36/d1dad9c51a7bca4b8e719b3e322fe23a3c4ea238c5621c76fb\n",
            "  Building wheel for dash-html-components (setup.py) ... \u001b[?25l\u001b[?25hdone\n",
            "  Created wheel for dash-html-components: filename=dash_html_components-1.0.2-cp36-none-any.whl size=427903 sha256=c54beab2ee399d9683791fe24c896dda1cc4ea12a51251db29653daf2fe97751\n",
            "  Stored in directory: /root/.cache/pip/wheels/59/6d/79/e8fbded6c6102c00ef0d58a278a488d913d30c51ae95dbef90\n",
            "  Building wheel for dash-table (setup.py) ... \u001b[?25l\u001b[?25hdone\n",
            "  Created wheel for dash-table: filename=dash_table-4.6.0-cp36-none-any.whl size=1774478 sha256=4d09a928dd04012a8e9127d47862267c0a915361639c0fb1ca4c71ee619ef153\n",
            "  Stored in directory: /root/.cache/pip/wheels/19/75/9b/3ee8716c87d804c80755616e09e2a845999ecd40ea70662e87\n",
            "Successfully built dash flask-compress dash-renderer dash-core-components dash-html-components dash-table\n",
            "Installing collected packages: brotli, flask-compress, dash-renderer, dash-core-components, dash-html-components, dash-table, dash\n",
            "Successfully installed brotli-1.0.7 dash-1.8.0 dash-core-components-1.7.0 dash-html-components-1.0.2 dash-renderer-1.2.3 dash-table-4.6.0 flask-compress-1.5.0\n"
          ],
          "name": "stdout"
        }
      ]
    },
    {
      "cell_type": "code",
      "metadata": {
        "id": "mBOvHAWh4jAX",
        "colab_type": "code",
        "outputId": "c5a6070d-16f4-4516-bd9c-98897685d0b3",
        "colab": {
          "base_uri": "https://localhost:8080/",
          "height": 133
        }
      },
      "source": [
        "#pip install pydantic==1.4\n",
        "#pip install python-dateutil==2.8.1\n",
        "pip install dash==1.8.0"
      ],
      "execution_count": 7,
      "outputs": [
        {
          "output_type": "error",
          "ename": "SyntaxError",
          "evalue": "ignored",
          "traceback": [
            "\u001b[0;36m  File \u001b[0;32m\"<ipython-input-7-93ad973a3b7e>\"\u001b[0;36m, line \u001b[0;32m3\u001b[0m\n\u001b[0;31m    pip install dash==1.8.0\u001b[0m\n\u001b[0m              ^\u001b[0m\n\u001b[0;31mSyntaxError\u001b[0m\u001b[0;31m:\u001b[0m invalid syntax\n"
          ]
        }
      ]
    },
    {
      "cell_type": "code",
      "metadata": {
        "id": "P7USs0Gb5U6x",
        "colab_type": "code",
        "outputId": "096cfb93-0594-4a9d-f3fc-bfd1c4d63b88",
        "colab": {
          "base_uri": "https://localhost:8080/",
          "height": 247
        }
      },
      "source": [
        "# do this after pip install dash \n",
        "!wget https://bin.equinox.io/c/4VmDzA7iaHb/ngrok-stable-linux-amd64.zip\n",
        "!unzip ngrok-stable-linux-amd64.zip\n",
        "\n",
        "### Run ngrok to tunnel Dash app port 8050 to the outside world. \n",
        "### This command runs in the background.\n",
        "get_ipython().system_raw('./ngrok http 8050 &')\n"
      ],
      "execution_count": 1,
      "outputs": [
        {
          "output_type": "stream",
          "text": [
            "--2020-05-16 00:19:57--  https://bin.equinox.io/c/4VmDzA7iaHb/ngrok-stable-linux-amd64.zip\n",
            "Resolving bin.equinox.io (bin.equinox.io)... 3.90.94.177, 54.159.115.94, 52.203.131.51, ...\n",
            "Connecting to bin.equinox.io (bin.equinox.io)|3.90.94.177|:443... connected.\n",
            "HTTP request sent, awaiting response... 200 OK\n",
            "Length: 13773305 (13M) [application/octet-stream]\n",
            "Saving to: ‘ngrok-stable-linux-amd64.zip’\n",
            "\n",
            "ngrok-stable-linux- 100%[===================>]  13.13M  12.9MB/s    in 1.0s    \n",
            "\n",
            "2020-05-16 00:19:58 (12.9 MB/s) - ‘ngrok-stable-linux-amd64.zip’ saved [13773305/13773305]\n",
            "\n",
            "Archive:  ngrok-stable-linux-amd64.zip\n",
            "  inflating: ngrok                   \n"
          ],
          "name": "stdout"
        }
      ]
    },
    {
      "cell_type": "code",
      "metadata": {
        "id": "uqGa0jUm5FkB",
        "colab_type": "code",
        "outputId": "fa5512cd-f9b4-4b9c-9f36-6c1631e4cab5",
        "colab": {
          "base_uri": "https://localhost:8080/",
          "height": 34
        }
      },
      "source": [
        "# do this after install above\n",
        "! curl -s http://localhost:4040/api/tunnels | python3 -c \\\n",
        "    \"import sys, json; print(json.load(sys.stdin)['tunnels'][0]['public_url'])\""
      ],
      "execution_count": 2,
      "outputs": [
        {
          "output_type": "stream",
          "text": [
            "https://6d23870c.ngrok.io\n"
          ],
          "name": "stdout"
        }
      ]
    },
    {
      "cell_type": "code",
      "metadata": {
        "id": "kiElxa2ebjby",
        "colab_type": "code",
        "outputId": "669b655f-0444-496e-8d1c-ac038d248a5b",
        "colab": {
          "base_uri": "https://localhost:8080/",
          "height": 34
        }
      },
      "source": [
        "%%writefile my_app6.py\n",
        "import dash\n",
        "import dash_core_components as dcc\n",
        "import dash_html_components as html\n",
        "from dash.dependencies import Input, Output\n",
        "\n",
        "import pandas as pd \n",
        "\n",
        "import gluonts\n",
        "import mxnet \n",
        "\n",
        "from gluonts.model.deepar import DeepAREstimator\n",
        "from gluonts.trainer import Trainer\n",
        "\n",
        "from gluonts.model.simple_feedforward import SimpleFeedForwardEstimator\n",
        "\n",
        "from gluonts.evaluation.backtest import make_evaluation_predictions\n",
        "\n",
        "#caiso_url = 'https://raw.githubusercontent.com/sy2657/representation_learning/master/caiso_jan2020_systemloadresource_tacnorth.csv'\n",
        "ne_url ='https://raw.githubusercontent.com/sy2657/representation_learning/master/neweng_jan2020.csv'\n",
        "edataset = pd.read_csv(ne_url) # energy dataset\n",
        "#normalize\n",
        "normalized = edataset\n",
        "# normalize new eng dataframe\n",
        "emax = edataset['iso'].max()\n",
        "\n",
        "emin = edataset['iso'].min()\n",
        "\n",
        "normalized['iso'] = (edataset['iso'] - emin)/(emax - emin)\n",
        "\n",
        "a = list(range(722))\n",
        "\n",
        "from gluonts.dataset.common import ListDataset\n",
        "\n",
        "datestart = edataset['DateTime'][0] \n",
        "\n",
        "norm_training_data = ListDataset([{\"start\":datestart, \"target\": normalized.iso.values}], freq = \"1H\")\n",
        "\n",
        "app = dash.Dash()\n",
        "\n",
        "app.layout= html.Div(children = [\n",
        "                                 html.Div(children=\"Energy forecasting\"),\n",
        "                                 dcc.Input(id='input', value=5, type='number', placeholder=\"prediction length\"),\n",
        "                                 dcc.Input(id='input-day', value=5, type='number', placeholder=\"day of month\"), # choose start date and hour \n",
        "                                 dcc.Input(id='input-hour', value=1, type='number', placeholder=\"starting hour of day\"),\n",
        "                                 # dropdown of region -> use this input to multiple callbacks \n",
        "                                 html.Div(id='output-graph'), # time series and predictions (and conf. intervals )\n",
        "                                 html.Div(id='output-graph2'),# another output graph for trend\n",
        "                                 html.Div(id='output-graph3') # output graph for hour of day \n",
        "                                 # display recommended power consumption \n",
        "])\n",
        "\n",
        "@app.callback(\n",
        "    Output(component_id='output-graph', component_property='children'),\n",
        "    [Input(component_id ='input', component_property='value'),\n",
        "     Input(component_id ='input-day', component_property='value'), # input_data2\n",
        "     Input(component_id ='input-hour', component_property='value')] # input_data3\n",
        ")\n",
        "\n",
        "def update_graph(input_data, input_data2, input_data3):\n",
        "  # gluonts \n",
        "  # determine row with the approp. day and hour \n",
        "  for index, row in edataset.iterrows():\n",
        "    date_time = row['DateTime']\n",
        "    iso_val = row['iso']\n",
        "    split_date_time = date_time.split()\n",
        "    split_date_time1 = split_date_time[1]\n",
        "    hour_min_sec = split_date_time1.split(\":\")\n",
        "    #print(\"hour min sec\", hour_min_sec)\n",
        "    hour= float(hour_min_sec[0])\n",
        "    # determine day \n",
        "    dat = split_date_time[0]\n",
        "    dat1 = dat.split(\"-\")\n",
        "    day = float(dat1[1])\n",
        "    if day == input_data2 and hour == input_data3:\n",
        "      test_index = index\n",
        "\n",
        "      break\n",
        "  # test series \n",
        "  norm_test = normalized[test_index: test_index+input_data]\n",
        "  norm_test_dataset = ListDataset([{\"start\": date_time, \"target\": norm_test.iso.values}], freq = \"1H\")\n",
        "  # model 1 \n",
        "  estimator1 = DeepAREstimator(freq=\"1H\", prediction_length=input_data, trainer=Trainer(epochs=10,batch_size=10))\n",
        "  predictor1 = estimator1.train(training_data=norm_training_data) \n",
        "  deepare_forecast_it, deepare_ts_it = make_evaluation_predictions(dataset=norm_test_dataset, predictor=predictor1, num_samples=10) \n",
        "  deepare_forecasts = list(deepare_forecast_it)\n",
        "  deepare_tss = list(deepare_ts_it)\n",
        "  dm = deepare_forecasts[0].mean\n",
        "  #df = deepare_forecasts[0].quantile(0.5) \n",
        "  return dcc.Graph(id='ex-graph',\n",
        "                   figure = {\n",
        "                       'data': [{'x': normalized.DateTime, 'y': normalized.iso, 'type':'line', 'name':'orig. time series values' },\n",
        "                                {'x': norm_test_dataset.DateTime, 'y': dm, 'type':'line', 'name':'prediction'}],\n",
        "                       'layout':{'title': 'DeepARE prediction'}\n",
        "                   })\n",
        "  \n",
        "if __name__=='__main__':\n",
        "  app.run_server(debug=True)"
      ],
      "execution_count": 0,
      "outputs": [
        {
          "output_type": "stream",
          "text": [
            "Writing my_app6.py\n"
          ],
          "name": "stdout"
        }
      ]
    },
    {
      "cell_type": "code",
      "metadata": {
        "id": "MlEYQR0s5j7l",
        "colab_type": "code",
        "outputId": "da947c41-e567-4a15-cdd3-724e375f13aa",
        "colab": {
          "base_uri": "https://localhost:8080/",
          "height": 354
        }
      },
      "source": [
        "!python my_app6.py"
      ],
      "execution_count": 0,
      "outputs": [
        {
          "output_type": "stream",
          "text": [
            "INFO:root:Using CPU\n",
            "INFO:root:Using CPU\n",
            "INFO:numexpr.utils:NumExpr defaulting to 2 threads.\n",
            "Running on http://127.0.0.1:8050/\n",
            "INFO:__main__:Running on http://127.0.0.1:8050/\n",
            "Debugger PIN: 548-941-763\n",
            "INFO:__main__:Debugger PIN: 548-941-763\n",
            " * Serving Flask app \"my_app6\" (lazy loading)\n",
            " * Environment: production\n",
            "\u001b[31m   WARNING: This is a development server. Do not use it in a production deployment.\u001b[0m\n",
            "\u001b[2m   Use a production WSGI server instead.\u001b[0m\n",
            " * Debug mode: on\n",
            "INFO:root:Using CPU\n",
            "INFO:root:Using CPU\n",
            "INFO:numexpr.utils:NumExpr defaulting to 2 threads.\n",
            "Running on http://127.0.0.1:8050/\n",
            "INFO:__main__:Running on http://127.0.0.1:8050/\n",
            "Debugger PIN: 612-918-197\n",
            "INFO:__main__:Debugger PIN: 612-918-197\n"
          ],
          "name": "stdout"
        }
      ]
    },
    {
      "cell_type": "code",
      "metadata": {
        "id": "NRkdWCt5kH6l",
        "colab_type": "code",
        "colab": {}
      },
      "source": [
        "\n",
        "# model 2 \n",
        "  estimator_simple = SimpleFeedForwardEstimator(\n",
        "    prediction_length = input_data,\n",
        "    context_length = 100,\n",
        "    freq=\"1H\",\n",
        "    trainer= Trainer(ctx=\"cpu\", epochs=5, learning_rate=1e-3, hybridize=True, num_batches_per_epoch=50))\n",
        "  predictor_simple = estimator_simple.train(norm_training_data)"
      ],
      "execution_count": 0,
      "outputs": []
    },
    {
      "cell_type": "code",
      "metadata": {
        "id": "z1mxte0ESyr5",
        "colab_type": "code",
        "outputId": "9f3fac5a-78fe-4b4f-e5b3-2e97ce02828a",
        "colab": {
          "resources": {
            "http://localhost:8080/nbextensions/google.colab/files.js": {
              "data": "Ly8gQ29weXJpZ2h0IDIwMTcgR29vZ2xlIExMQwovLwovLyBMaWNlbnNlZCB1bmRlciB0aGUgQXBhY2hlIExpY2Vuc2UsIFZlcnNpb24gMi4wICh0aGUgIkxpY2Vuc2UiKTsKLy8geW91IG1heSBub3QgdXNlIHRoaXMgZmlsZSBleGNlcHQgaW4gY29tcGxpYW5jZSB3aXRoIHRoZSBMaWNlbnNlLgovLyBZb3UgbWF5IG9idGFpbiBhIGNvcHkgb2YgdGhlIExpY2Vuc2UgYXQKLy8KLy8gICAgICBodHRwOi8vd3d3LmFwYWNoZS5vcmcvbGljZW5zZXMvTElDRU5TRS0yLjAKLy8KLy8gVW5sZXNzIHJlcXVpcmVkIGJ5IGFwcGxpY2FibGUgbGF3IG9yIGFncmVlZCB0byBpbiB3cml0aW5nLCBzb2Z0d2FyZQovLyBkaXN0cmlidXRlZCB1bmRlciB0aGUgTGljZW5zZSBpcyBkaXN0cmlidXRlZCBvbiBhbiAiQVMgSVMiIEJBU0lTLAovLyBXSVRIT1VUIFdBUlJBTlRJRVMgT1IgQ09ORElUSU9OUyBPRiBBTlkgS0lORCwgZWl0aGVyIGV4cHJlc3Mgb3IgaW1wbGllZC4KLy8gU2VlIHRoZSBMaWNlbnNlIGZvciB0aGUgc3BlY2lmaWMgbGFuZ3VhZ2UgZ292ZXJuaW5nIHBlcm1pc3Npb25zIGFuZAovLyBsaW1pdGF0aW9ucyB1bmRlciB0aGUgTGljZW5zZS4KCi8qKgogKiBAZmlsZW92ZXJ2aWV3IEhlbHBlcnMgZm9yIGdvb2dsZS5jb2xhYiBQeXRob24gbW9kdWxlLgogKi8KKGZ1bmN0aW9uKHNjb3BlKSB7CmZ1bmN0aW9uIHNwYW4odGV4dCwgc3R5bGVBdHRyaWJ1dGVzID0ge30pIHsKICBjb25zdCBlbGVtZW50ID0gZG9jdW1lbnQuY3JlYXRlRWxlbWVudCgnc3BhbicpOwogIGVsZW1lbnQudGV4dENvbnRlbnQgPSB0ZXh0OwogIGZvciAoY29uc3Qga2V5IG9mIE9iamVjdC5rZXlzKHN0eWxlQXR0cmlidXRlcykpIHsKICAgIGVsZW1lbnQuc3R5bGVba2V5XSA9IHN0eWxlQXR0cmlidXRlc1trZXldOwogIH0KICByZXR1cm4gZWxlbWVudDsKfQoKLy8gTWF4IG51bWJlciBvZiBieXRlcyB3aGljaCB3aWxsIGJlIHVwbG9hZGVkIGF0IGEgdGltZS4KY29uc3QgTUFYX1BBWUxPQURfU0laRSA9IDEwMCAqIDEwMjQ7Ci8vIE1heCBhbW91bnQgb2YgdGltZSB0byBibG9jayB3YWl0aW5nIGZvciB0aGUgdXNlci4KY29uc3QgRklMRV9DSEFOR0VfVElNRU9VVF9NUyA9IDMwICogMTAwMDsKCmZ1bmN0aW9uIF91cGxvYWRGaWxlcyhpbnB1dElkLCBvdXRwdXRJZCkgewogIGNvbnN0IHN0ZXBzID0gdXBsb2FkRmlsZXNTdGVwKGlucHV0SWQsIG91dHB1dElkKTsKICBjb25zdCBvdXRwdXRFbGVtZW50ID0gZG9jdW1lbnQuZ2V0RWxlbWVudEJ5SWQob3V0cHV0SWQpOwogIC8vIENhY2hlIHN0ZXBzIG9uIHRoZSBvdXRwdXRFbGVtZW50IHRvIG1ha2UgaXQgYXZhaWxhYmxlIGZvciB0aGUgbmV4dCBjYWxsCiAgLy8gdG8gdXBsb2FkRmlsZXNDb250aW51ZSBmcm9tIFB5dGhvbi4KICBvdXRwdXRFbGVtZW50LnN0ZXBzID0gc3RlcHM7CgogIHJldHVybiBfdXBsb2FkRmlsZXNDb250aW51ZShvdXRwdXRJZCk7Cn0KCi8vIFRoaXMgaXMgcm91Z2hseSBhbiBhc3luYyBnZW5lcmF0b3IgKG5vdCBzdXBwb3J0ZWQgaW4gdGhlIGJyb3dzZXIgeWV0KSwKLy8gd2hlcmUgdGhlcmUgYXJlIG11bHRpcGxlIGFzeW5jaHJvbm91cyBzdGVwcyBhbmQgdGhlIFB5dGhvbiBzaWRlIGlzIGdvaW5nCi8vIHRvIHBvbGwgZm9yIGNvbXBsZXRpb24gb2YgZWFjaCBzdGVwLgovLyBUaGlzIHVzZXMgYSBQcm9taXNlIHRvIGJsb2NrIHRoZSBweXRob24gc2lkZSBvbiBjb21wbGV0aW9uIG9mIGVhY2ggc3RlcCwKLy8gdGhlbiBwYXNzZXMgdGhlIHJlc3VsdCBvZiB0aGUgcHJldmlvdXMgc3RlcCBhcyB0aGUgaW5wdXQgdG8gdGhlIG5leHQgc3RlcC4KZnVuY3Rpb24gX3VwbG9hZEZpbGVzQ29udGludWUob3V0cHV0SWQpIHsKICBjb25zdCBvdXRwdXRFbGVtZW50ID0gZG9jdW1lbnQuZ2V0RWxlbWVudEJ5SWQob3V0cHV0SWQpOwogIGNvbnN0IHN0ZXBzID0gb3V0cHV0RWxlbWVudC5zdGVwczsKCiAgY29uc3QgbmV4dCA9IHN0ZXBzLm5leHQob3V0cHV0RWxlbWVudC5sYXN0UHJvbWlzZVZhbHVlKTsKICByZXR1cm4gUHJvbWlzZS5yZXNvbHZlKG5leHQudmFsdWUucHJvbWlzZSkudGhlbigodmFsdWUpID0+IHsKICAgIC8vIENhY2hlIHRoZSBsYXN0IHByb21pc2UgdmFsdWUgdG8gbWFrZSBpdCBhdmFpbGFibGUgdG8gdGhlIG5leHQKICAgIC8vIHN0ZXAgb2YgdGhlIGdlbmVyYXRvci4KICAgIG91dHB1dEVsZW1lbnQubGFzdFByb21pc2VWYWx1ZSA9IHZhbHVlOwogICAgcmV0dXJuIG5leHQudmFsdWUucmVzcG9uc2U7CiAgfSk7Cn0KCi8qKgogKiBHZW5lcmF0b3IgZnVuY3Rpb24gd2hpY2ggaXMgY2FsbGVkIGJldHdlZW4gZWFjaCBhc3luYyBzdGVwIG9mIHRoZSB1cGxvYWQKICogcHJvY2Vzcy4KICogQHBhcmFtIHtzdHJpbmd9IGlucHV0SWQgRWxlbWVudCBJRCBvZiB0aGUgaW5wdXQgZmlsZSBwaWNrZXIgZWxlbWVudC4KICogQHBhcmFtIHtzdHJpbmd9IG91dHB1dElkIEVsZW1lbnQgSUQgb2YgdGhlIG91dHB1dCBkaXNwbGF5LgogKiBAcmV0dXJuIHshSXRlcmFibGU8IU9iamVjdD59IEl0ZXJhYmxlIG9mIG5leHQgc3RlcHMuCiAqLwpmdW5jdGlvbiogdXBsb2FkRmlsZXNTdGVwKGlucHV0SWQsIG91dHB1dElkKSB7CiAgY29uc3QgaW5wdXRFbGVtZW50ID0gZG9jdW1lbnQuZ2V0RWxlbWVudEJ5SWQoaW5wdXRJZCk7CiAgaW5wdXRFbGVtZW50LmRpc2FibGVkID0gZmFsc2U7CgogIGNvbnN0IG91dHB1dEVsZW1lbnQgPSBkb2N1bWVudC5nZXRFbGVtZW50QnlJZChvdXRwdXRJZCk7CiAgb3V0cHV0RWxlbWVudC5pbm5lckhUTUwgPSAnJzsKCiAgY29uc3QgcGlja2VkUHJvbWlzZSA9IG5ldyBQcm9taXNlKChyZXNvbHZlKSA9PiB7CiAgICBpbnB1dEVsZW1lbnQuYWRkRXZlbnRMaXN0ZW5lcignY2hhbmdlJywgKGUpID0+IHsKICAgICAgcmVzb2x2ZShlLnRhcmdldC5maWxlcyk7CiAgICB9KTsKICB9KTsKCiAgY29uc3QgY2FuY2VsID0gZG9jdW1lbnQuY3JlYXRlRWxlbWVudCgnYnV0dG9uJyk7CiAgaW5wdXRFbGVtZW50LnBhcmVudEVsZW1lbnQuYXBwZW5kQ2hpbGQoY2FuY2VsKTsKICBjYW5jZWwudGV4dENvbnRlbnQgPSAnQ2FuY2VsIHVwbG9hZCc7CiAgY29uc3QgY2FuY2VsUHJvbWlzZSA9IG5ldyBQcm9taXNlKChyZXNvbHZlKSA9PiB7CiAgICBjYW5jZWwub25jbGljayA9ICgpID0+IHsKICAgICAgcmVzb2x2ZShudWxsKTsKICAgIH07CiAgfSk7CgogIC8vIENhbmNlbCB1cGxvYWQgaWYgdXNlciBoYXNuJ3QgcGlja2VkIGFueXRoaW5nIGluIHRpbWVvdXQuCiAgY29uc3QgdGltZW91dFByb21pc2UgPSBuZXcgUHJvbWlzZSgocmVzb2x2ZSkgPT4gewogICAgc2V0VGltZW91dCgoKSA9PiB7CiAgICAgIHJlc29sdmUobnVsbCk7CiAgICB9LCBGSUxFX0NIQU5HRV9USU1FT1VUX01TKTsKICB9KTsKCiAgLy8gV2FpdCBmb3IgdGhlIHVzZXIgdG8gcGljayB0aGUgZmlsZXMuCiAgY29uc3QgZmlsZXMgPSB5aWVsZCB7CiAgICBwcm9taXNlOiBQcm9taXNlLnJhY2UoW3BpY2tlZFByb21pc2UsIHRpbWVvdXRQcm9taXNlLCBjYW5jZWxQcm9taXNlXSksCiAgICByZXNwb25zZTogewogICAgICBhY3Rpb246ICdzdGFydGluZycsCiAgICB9CiAgfTsKCiAgaWYgKCFmaWxlcykgewogICAgcmV0dXJuIHsKICAgICAgcmVzcG9uc2U6IHsKICAgICAgICBhY3Rpb246ICdjb21wbGV0ZScsCiAgICAgIH0KICAgIH07CiAgfQoKICBjYW5jZWwucmVtb3ZlKCk7CgogIC8vIERpc2FibGUgdGhlIGlucHV0IGVsZW1lbnQgc2luY2UgZnVydGhlciBwaWNrcyBhcmUgbm90IGFsbG93ZWQuCiAgaW5wdXRFbGVtZW50LmRpc2FibGVkID0gdHJ1ZTsKCiAgZm9yIChjb25zdCBmaWxlIG9mIGZpbGVzKSB7CiAgICBjb25zdCBsaSA9IGRvY3VtZW50LmNyZWF0ZUVsZW1lbnQoJ2xpJyk7CiAgICBsaS5hcHBlbmQoc3BhbihmaWxlLm5hbWUsIHtmb250V2VpZ2h0OiAnYm9sZCd9KSk7CiAgICBsaS5hcHBlbmQoc3BhbigKICAgICAgICBgKCR7ZmlsZS50eXBlIHx8ICduL2EnfSkgLSAke2ZpbGUuc2l6ZX0gYnl0ZXMsIGAgKwogICAgICAgIGBsYXN0IG1vZGlmaWVkOiAkewogICAgICAgICAgICBmaWxlLmxhc3RNb2RpZmllZERhdGUgPyBmaWxlLmxhc3RNb2RpZmllZERhdGUudG9Mb2NhbGVEYXRlU3RyaW5nKCkgOgogICAgICAgICAgICAgICAgICAgICAgICAgICAgICAgICAgICAnbi9hJ30gLSBgKSk7CiAgICBjb25zdCBwZXJjZW50ID0gc3BhbignMCUgZG9uZScpOwogICAgbGkuYXBwZW5kQ2hpbGQocGVyY2VudCk7CgogICAgb3V0cHV0RWxlbWVudC5hcHBlbmRDaGlsZChsaSk7CgogICAgY29uc3QgZmlsZURhdGFQcm9taXNlID0gbmV3IFByb21pc2UoKHJlc29sdmUpID0+IHsKICAgICAgY29uc3QgcmVhZGVyID0gbmV3IEZpbGVSZWFkZXIoKTsKICAgICAgcmVhZGVyLm9ubG9hZCA9IChlKSA9PiB7CiAgICAgICAgcmVzb2x2ZShlLnRhcmdldC5yZXN1bHQpOwogICAgICB9OwogICAgICByZWFkZXIucmVhZEFzQXJyYXlCdWZmZXIoZmlsZSk7CiAgICB9KTsKICAgIC8vIFdhaXQgZm9yIHRoZSBkYXRhIHRvIGJlIHJlYWR5LgogICAgbGV0IGZpbGVEYXRhID0geWllbGQgewogICAgICBwcm9taXNlOiBmaWxlRGF0YVByb21pc2UsCiAgICAgIHJlc3BvbnNlOiB7CiAgICAgICAgYWN0aW9uOiAnY29udGludWUnLAogICAgICB9CiAgICB9OwoKICAgIC8vIFVzZSBhIGNodW5rZWQgc2VuZGluZyB0byBhdm9pZCBtZXNzYWdlIHNpemUgbGltaXRzLiBTZWUgYi82MjExNTY2MC4KICAgIGxldCBwb3NpdGlvbiA9IDA7CiAgICB3aGlsZSAocG9zaXRpb24gPCBmaWxlRGF0YS5ieXRlTGVuZ3RoKSB7CiAgICAgIGNvbnN0IGxlbmd0aCA9IE1hdGgubWluKGZpbGVEYXRhLmJ5dGVMZW5ndGggLSBwb3NpdGlvbiwgTUFYX1BBWUxPQURfU0laRSk7CiAgICAgIGNvbnN0IGNodW5rID0gbmV3IFVpbnQ4QXJyYXkoZmlsZURhdGEsIHBvc2l0aW9uLCBsZW5ndGgpOwogICAgICBwb3NpdGlvbiArPSBsZW5ndGg7CgogICAgICBjb25zdCBiYXNlNjQgPSBidG9hKFN0cmluZy5mcm9tQ2hhckNvZGUuYXBwbHkobnVsbCwgY2h1bmspKTsKICAgICAgeWllbGQgewogICAgICAgIHJlc3BvbnNlOiB7CiAgICAgICAgICBhY3Rpb246ICdhcHBlbmQnLAogICAgICAgICAgZmlsZTogZmlsZS5uYW1lLAogICAgICAgICAgZGF0YTogYmFzZTY0LAogICAgICAgIH0sCiAgICAgIH07CiAgICAgIHBlcmNlbnQudGV4dENvbnRlbnQgPQogICAgICAgICAgYCR7TWF0aC5yb3VuZCgocG9zaXRpb24gLyBmaWxlRGF0YS5ieXRlTGVuZ3RoKSAqIDEwMCl9JSBkb25lYDsKICAgIH0KICB9CgogIC8vIEFsbCBkb25lLgogIHlpZWxkIHsKICAgIHJlc3BvbnNlOiB7CiAgICAgIGFjdGlvbjogJ2NvbXBsZXRlJywKICAgIH0KICB9Owp9CgpzY29wZS5nb29nbGUgPSBzY29wZS5nb29nbGUgfHwge307CnNjb3BlLmdvb2dsZS5jb2xhYiA9IHNjb3BlLmdvb2dsZS5jb2xhYiB8fCB7fTsKc2NvcGUuZ29vZ2xlLmNvbGFiLl9maWxlcyA9IHsKICBfdXBsb2FkRmlsZXMsCiAgX3VwbG9hZEZpbGVzQ29udGludWUsCn07Cn0pKHNlbGYpOwo=",
              "ok": true,
              "headers": [
                [
                  "content-type",
                  "application/javascript"
                ]
              ],
              "status": 200,
              "status_text": ""
            }
          },
          "base_uri": "https://localhost:8080/",
          "height": 72
        }
      },
      "source": [
        "from google.colab import files\n",
        "\n",
        "uploaded = files.upload()\n",
        "\n",
        "#p = pd.read_csv(\"NewEnglandNov19WindSolar.csv\")\n",
        "#p.head()"
      ],
      "execution_count": 0,
      "outputs": [
        {
          "output_type": "display_data",
          "data": {
            "text/html": [
              "\n",
              "     <input type=\"file\" id=\"files-3d004f73-03f4-4930-b18e-a8e1cbc7e763\" name=\"files[]\" multiple disabled />\n",
              "     <output id=\"result-3d004f73-03f4-4930-b18e-a8e1cbc7e763\">\n",
              "      Upload widget is only available when the cell has been executed in the\n",
              "      current browser session. Please rerun this cell to enable.\n",
              "      </output>\n",
              "      <script src=\"/nbextensions/google.colab/files.js\"></script> "
            ],
            "text/plain": [
              "<IPython.core.display.HTML object>"
            ]
          },
          "metadata": {
            "tags": []
          }
        },
        {
          "output_type": "stream",
          "text": [
            "Saving NewEnglandNov19WindSolar.csv to NewEnglandNov19WindSolar.csv\n"
          ],
          "name": "stdout"
        }
      ]
    },
    {
      "cell_type": "code",
      "metadata": {
        "id": "_U-EK2x1UJWw",
        "colab_type": "code",
        "colab": {}
      },
      "source": [
        ""
      ],
      "execution_count": 0,
      "outputs": []
    },
    {
      "cell_type": "code",
      "metadata": {
        "id": "K5VOhYJXko42",
        "colab_type": "code",
        "colab": {}
      },
      "source": [
        "import pandas as pd\n",
        "purl ='https://raw.githubusercontent.com/sy2657/representation_learning/master/deepareNewEngNov201index100to150csv9len30'\n",
        "predictions = pd.read_csv(purl)\n"
      ],
      "execution_count": 0,
      "outputs": []
    },
    {
      "cell_type": "code",
      "metadata": {
        "id": "tNPxiW32vngP",
        "colab_type": "code",
        "colab": {}
      },
      "source": [
        "#task : save predictions based on triplet loss "
      ],
      "execution_count": 0,
      "outputs": []
    },
    {
      "cell_type": "code",
      "metadata": {
        "id": "CQwpfFytmKay",
        "colab_type": "code",
        "colab": {}
      },
      "source": [
        ""
      ],
      "execution_count": 0,
      "outputs": []
    },
    {
      "cell_type": "code",
      "metadata": {
        "id": "WPRSlhd9lnW0",
        "colab_type": "code",
        "colab": {}
      },
      "source": [
        "\n",
        "normalized = edataset\n",
        "# normalize new eng dataframe\n",
        "emax = edataset['iso'].max()\n",
        "\n",
        "emin = edataset['iso'].min()\n",
        "\n",
        "normalized['iso'] = (edataset['iso'] - emin)/(emax - emin)\n"
      ],
      "execution_count": 0,
      "outputs": []
    },
    {
      "cell_type": "code",
      "metadata": {
        "id": "Xa8Jz-Yl6PD1",
        "colab_type": "code",
        "outputId": "5f1c6cbf-149b-42b7-ee62-9528ed41721f",
        "colab": {
          "base_uri": "https://localhost:8080/",
          "height": 34
        }
      },
      "source": [
        "%%writefile my_app7.py\n",
        "import dash\n",
        "import dash_core_components as dcc\n",
        "import dash_html_components as html\n",
        "from dash.dependencies import Input, Output\n",
        "\n",
        "import pandas as pd \n",
        "\n",
        "import gluonts\n",
        "import mxnet \n",
        "\n",
        "from gluonts.model.deepar import DeepAREstimator\n",
        "from gluonts.trainer import Trainer\n",
        "\n",
        "from gluonts.model.simple_feedforward import SimpleFeedForwardEstimator\n",
        "\n",
        "from gluonts.evaluation.backtest import make_evaluation_predictions\n",
        "\n",
        "caiso_url = 'https://raw.githubusercontent.com/sy2657/representation_learning/master/caiso_jan2020_systemloadresource_tacnorth.csv'\n",
        "#ne_url ='https://raw.githubusercontent.com/sy2657/representation_learning/master/neweng_jan2020.csv'\n",
        "\n",
        "ne_url = 'https://raw.githubusercontent.com/sy2657/representation_learning/master/NewEnglandNov19WindSolar.csv'\n",
        "edataset = pd.read_csv(ne_url) # energy dataset\n",
        "\n",
        "purl1 ='https://raw.githubusercontent.com/sy2657/representation_learning/master/deepareNewEngNov201index100to150csv9len30'\n",
        "predictions1 = pd.read_csv(purl1)\n",
        "\n",
        "apredictions1 = predictions1['iso']\n",
        "\n",
        "#newengland = 'NewEnglandNov19WindSolar.csv'\n",
        "#neweng_dataset = pd.read_csv(newengland)\n",
        "#neweng_dataset =neweng_dataset.rename(columns={\"ws_forecast (sum) (california_iso)\": \"iso\"})\n",
        "#edataset = neweng_dataset\n",
        "\n",
        "#normalize\n",
        "\n",
        "emax = edataset['iso'].max()\n",
        "#print(ne_max)\n",
        "emin = edataset['iso'].min()\n",
        "\n",
        "elen = len(edataset)\n",
        "a = list(range(elen))\n",
        "\n",
        "from gluonts.dataset.common import ListDataset\n",
        "\n",
        "datestart = edataset['DateTime'][0] \n",
        "\n",
        "training_data = ListDataset([{\"start\":datestart, \"target\": edataset.iso.values}], freq = \"1H\")\n",
        "#norm_training_data = ListDataset([{\"start\":datestart, \"target\": normalized.iso.values}], freq = \"1H\")\n",
        "\n",
        "app = dash.Dash()\n",
        "\n",
        "app.layout= html.Div(children = [\n",
        "                                 html.Div(children=\"Energy forecasting\"),\n",
        "                                 html.Div([ html.P('Enter (custom) prediction length, day of month, and starting hour')]),\n",
        "                                 dcc.Input(id='input', value=30, type='number', placeholder=\"prediction length\"),\n",
        "                                 dcc.Input(id='input-day', value=15, type='number', placeholder=\"day of month\"), # choose start date and hour \n",
        "                                 dcc.Input(id='input-hour', value=11, type='number', placeholder=\"starting hour of day\"),\n",
        "                                 dcc.RadioItems(id='chooseregion', options = [{'label':'California', 'value':'ca'}, {'label':'New England', 'value':'ne'}], value='ne'),\n",
        "                                 # dropdown of region -> use this input to multiple callbacks \n",
        "                                 html.Div(id='output-graph'), # time series and predictions (and conf. intervals \n",
        "                                 dcc.Checklist(id='hier', options=[{'label':'early morning', 'value':'earlymorning'},\n",
        "                                               {'label':'morning', 'value': 'morning'},\n",
        "                                               {'label':'afternoon', 'value':'afternoon'},\n",
        "                                               {'label':'evening', 'value':'evening'}], value=['morning']),\n",
        "                                 html.Div(id='output-graph3'), # output graph for hour of day \n",
        "                                 # input for trend: window size \n",
        "                                 dcc.Input(id='input-window', value=3, type='number', placeholder =\"trend window length\"),\n",
        "                                 html.Div(id='output-graph2')# another output graph for trend\n",
        "                                 # display recommended power consumption \n",
        "])\n",
        "\n",
        "\n",
        "\n",
        "@app.callback(Output(component_id = 'output-graph3', component_property='children'),\n",
        "              [Input(component_id='hier', component_property='value'), Input(component_id='chooseregion', component_property='value')])\n",
        "def update_hour_graph(input_values, reg_value):\n",
        "  if reg_value=='ca':\n",
        "    edataset2 =  pd.read_csv(caiso_url)\n",
        "  if reg_value=='ne':\n",
        "    edataset2 = pd.read_csv(ne_url)\n",
        "  morning_iso = []\n",
        "  afternoon_iso = []\n",
        "  evening_iso = []\n",
        "  earlymorning_iso = []\n",
        "  dtime = []\n",
        "  nanarray = []\n",
        "  for index, row in edataset2.iterrows():\n",
        "    date_time = row['DateTime']\n",
        "    iso_val = row['iso']\n",
        "    split_date_time = date_time.split()\n",
        "    split_date_time1 = split_date_time[1]\n",
        "    hour_min_sec = split_date_time1.split(\":\")\n",
        "    hour= float(hour_min_sec[0])\n",
        "    dtime.append(date_time)\n",
        "    nanarray.append(float('nan'))\n",
        "    if 0 <= hour < 6:\n",
        "      earlymorning_iso.append(iso_val)\n",
        "      morning_iso.append(float('nan'))\n",
        "      afternoon_iso.append(float('nan'))\n",
        "      evening_iso.append(float('nan'))\n",
        "    if 6 <= hour <12:\n",
        "      morning_iso.append(iso_val)\n",
        "      afternoon_iso.append(float('nan'))\n",
        "      evening_iso.append(float('nan'))\n",
        "      earlymorning_iso.append(float('nan'))\n",
        "    if 12 <= hour < 18:\n",
        "      afternoon_iso.append(iso_val)\n",
        "      morning_iso.append(float('nan'))\n",
        "      evening_iso.append(float('nan'))\n",
        "      earlymorning_iso.append(float('nan'))\n",
        "    if 18 <= hour < 24:\n",
        "      evening_iso.append(iso_val)\n",
        "      afternoon_iso.append(float('nan'))\n",
        "      morning_iso.append(float('nan'))\n",
        "      earlymorning_iso.append(float('nan'))\n",
        "  max_lim = 300\n",
        "  min_lim = 100\n",
        "  ivalues = input_values\n",
        "  if 'earlymorning' not in ivalues:\n",
        "    earlymorning_iso = nanarray\n",
        "  if 'morning' not in ivalues:\n",
        "    morning_iso = nanarray\n",
        "  if 'afternoon' not in ivalues:\n",
        "    afternoon_iso = nanarray\n",
        "  if 'evening' not in ivalues:\n",
        "    evening_iso = nanarray\n",
        "  return dcc.Graph(id='ex-graph3',\n",
        "                   figure = {\n",
        "                       'data': [{'x': dtime[min_lim:max_lim], 'y': earlymorning_iso[min_lim:max_lim], 'type':'line', 'name':'early morning' },\n",
        "                                {'x': dtime[min_lim:max_lim], 'y': morning_iso[min_lim:max_lim], 'type': 'line', 'name':' morning'},\n",
        "                                {'x': dtime[min_lim:max_lim], 'y': afternoon_iso[min_lim:max_lim], 'type': 'line', 'name':'afternoon'},\n",
        "                                {'x': dtime[min_lim:max_lim], 'y': evening_iso[min_lim:max_lim], 'type': 'line', 'name': 'evening'}],\n",
        "                       'layout':{'title': 'Hier. time series divided by hour of day'}\n",
        "                   })\n",
        "  \n",
        "# trend update\n",
        "@app.callback(Output(component_id = 'output-graph2', component_property='children'),\n",
        "              [Input(component_id='input-window', component_property='value')])\n",
        "\n",
        "def update_trend_graph(input_win):\n",
        "  arr = edataset['iso']\n",
        "  s = pd.Series(arr)\n",
        "  edataset['rolling_mean'] = s.rolling(input_win).mean()\n",
        "  from scipy.stats import linregress\n",
        "  trend_interval = 5 \n",
        "  a = list(range(1, trend_interval+1))\n",
        "  div_by_trend = 0\n",
        "  # array holding the trend\n",
        "  array_trend = []\n",
        "  temp_trend= []\n",
        "  plot_trend = [] # array of pts \n",
        "  temp_plot_trend = []\n",
        "  for ind in edataset.index:\n",
        "    if div_by_trend==trend_interval:\n",
        "      div_by_trend=1\n",
        "      # calculate slope\n",
        "      trend = linregress(a, temp_trend)\n",
        "      a_extend = [trend[0]]*trend_interval \n",
        "      array_trend.extend(a_extend)\n",
        "      # calculate the pts to be plotted\n",
        "      yintercept = temp_trend[0]\n",
        "      temp_plot_trend.append(yintercept) \n",
        "      for j in range(1,trend_interval):\n",
        "        temp_plot_trend.append(yintercept+ trend[0]*j)\n",
        "      plot_trend.extend(temp_plot_trend)\n",
        "      temp_plot_trend=[]\n",
        "      temp_trend= []\n",
        "      temp_trend.append(edataset['rolling_mean'][ind]) # change 'iso' to rollingmean \n",
        "      continue\n",
        "    temp_trend.append(edataset['rolling_mean'][ind])\n",
        "    div_by_trend = div_by_trend+1\n",
        "  # last set of values\n",
        "  last_a = list(range(1, div_by_trend+1))\n",
        "  last_trend = linregress(last_a, temp_trend)\n",
        "  last_extend = [last_trend[0]]*div_by_trend\n",
        "  array_trend.extend(last_extend)\n",
        "  # plot\n",
        "  yintercept = temp_trend[0]\n",
        "  temp_plot_trend.append(yintercept)\n",
        "  for j in range(1, div_by_trend):\n",
        "    temp_plot_trend.append(yintercept+ last_trend[0]*j)\n",
        "  plot_trend.extend(temp_plot_trend)\n",
        "  return html.Div(dcc.Graph(id='ex-graph2',\n",
        "                   figure = {\n",
        "                       'data': [{'x': edataset.DateTime[1:30], 'y': edataset.iso[1:30], 'type':'line', 'name':'orig. time series values' },\n",
        "                                {'x': edataset.DateTime[1:30], 'y': plot_trend[1:30], 'type': 'line', 'name':'trend lines '}],\n",
        "                       'layout':{'title': 'DeepARE prediction'}\n",
        "                   }))\n",
        "\n",
        "  \n",
        "\n",
        "@app.callback(\n",
        "    Output(component_id='output-graph', component_property='children'),\n",
        "    [Input(component_id ='input', component_property ='value'),\n",
        "     Input(component_id ='input-day', component_property='value'), # input_data2\n",
        "     Input(component_id ='input-hour', component_property= 'value') # input_data3\n",
        "]\n",
        ")\n",
        "\n",
        "def update_graph(input_data, input_data2, input_data3):\n",
        "  # gluonts \n",
        "  test_index = 0 \n",
        "  ex_day = 15\n",
        "  ex_hour = 11\n",
        "  for index, row in edataset.iterrows():\n",
        "    date_time = row['DateTime']\n",
        "    iso_val = row['iso']\n",
        "    split_date_time = date_time.split()\n",
        "    split_date_time1 = split_date_time[1]\n",
        "    hour_min_sec = split_date_time1.split(\":\")\n",
        "    #print(\"hour min sec\", hour_min_sec)\n",
        "    hour= float(hour_min_sec[0])\n",
        "    # determine day \n",
        "    dat = split_date_time[0]\n",
        "    dat1 = dat.split(\"-\")\n",
        "    day = float(dat1[1])\n",
        "    if day == ex_day and hour == ex_hour:\n",
        "      test_index = index\n",
        "      break\n",
        "  # test series \n",
        "  #norm_test = normalized[test_index: test_index+input_data]\n",
        "  #norm_test_dataset = ListDataset([{\"start\": date_time, \"target\": norm_test.iso.values}], freq = \"1H\")\n",
        "  test_dataset = edataset[test_index:test_index + 50]\n",
        "  testing_data = ListDataset([{\"start\": date_time, \"target\": test_dataset.iso.values}], freq = \"1H\")\n",
        "  estimator1 = DeepAREstimator(freq=\"1H\", prediction_length=input_data, trainer=Trainer(epochs=10,batch_size=10))\n",
        "  predictor1 = estimator1.train(training_data= training_data) \n",
        "  deepare_forecast_it, deepare_ts_it = make_evaluation_predictions(dataset=testing_data, predictor=predictor1, num_samples=10) \n",
        "  deepare_forecasts = list(deepare_forecast_it)\n",
        "  deepare_tss = list(deepare_ts_it)\n",
        "  dm = deepare_forecasts[0].mean\n",
        "  # rescale them to the values \n",
        "  # first normalize \n",
        "  normdm = []\n",
        "  origdm =[]\n",
        "  dmin= min(dm)\n",
        "  dmax = max(dm)\n",
        "  den = dmax- dmin\n",
        "  dlen = len(dm)\n",
        "  for i in range(0, dlen):\n",
        "    dval =(dm[i]- dmin)/float(den)\n",
        "    normdm.append((dm[i]- dmin)/float(den))\n",
        "    #then rescale\n",
        "    origval = dval*(emax-emin) + emin\n",
        "    origdm.append(origval)\n",
        "  \n",
        "  return html.Div(dcc.Graph(id='ex-graph',\n",
        "                   figure = {\n",
        "                       'data': [{'x': edataset.DateTime, 'y': edataset.iso, 'type':'line', 'name':'orig. time series values' },\n",
        "                                {'x': edataset.DateTime[100:130], 'y': origdm, 'type': 'line', 'name':'prediction in test series'}],\n",
        "                       'layout':{'title': 'DeepARE prediction'}\n",
        "                   }))\n",
        "\n",
        "# update graph: simple feedforward method\n",
        "  \n",
        "if __name__=='__main__':\n",
        "  app.run_server(debug=True)"
      ],
      "execution_count": 3,
      "outputs": [
        {
          "output_type": "stream",
          "text": [
            "Writing my_app7.py\n"
          ],
          "name": "stdout"
        }
      ]
    },
    {
      "cell_type": "code",
      "metadata": {
        "id": "kyA0sG8r9XAn",
        "colab_type": "code",
        "outputId": "d4c28881-911c-4b90-fb82-94aaa32f31d8",
        "colab": {
          "base_uri": "https://localhost:8080/",
          "height": 34
        }
      },
      "source": [
        ""
      ],
      "execution_count": 0,
      "outputs": [
        {
          "output_type": "execute_result",
          "data": {
            "text/plain": [
              "[4, 5]"
            ]
          },
          "metadata": {
            "tags": []
          },
          "execution_count": 15
        }
      ]
    },
    {
      "cell_type": "code",
      "metadata": {
        "id": "0Pmre78o7zQ0",
        "colab_type": "code",
        "outputId": "650222c4-4ce7-424e-ba36-ea1caf4adda7",
        "colab": {
          "base_uri": "https://localhost:8080/",
          "height": 264
        }
      },
      "source": [
        "import matplotlib.pyplot as plt\n",
        "import pandas as pd\n",
        "a = list(range(719))\n",
        "ne_url ='https://raw.githubusercontent.com/sy2657/representation_learning/master/neweng_jan2020.csv'\n",
        "edataset = pd.read_csv(ne_url) \n",
        "\n",
        "#print(len(edataset))\n",
        "plt.plot(a, edataset['iso'])\n",
        "plt.show()\n"
      ],
      "execution_count": 0,
      "outputs": [
        {
          "output_type": "display_data",
          "data": {
            "image/png": "[encoded data removed]",
            "text/plain": [
              "<Figure size 432x288 with 1 Axes>"
            ]
          },
          "metadata": {
            "tags": [],
            "needs_background": "light"
          }
        }
      ]
    },
    {
      "cell_type": "code",
      "metadata": {
        "id": "-LwOVqz26bDc",
        "colab_type": "code",
        "outputId": "27ad5b62-ae02-41dd-8a80-c2d598aef96b",
        "colab": {
          "base_uri": "https://localhost:8080/",
          "height": 87
        }
      },
      "source": [
        "!python my_app7.py"
      ],
      "execution_count": 4,
      "outputs": [
        {
          "output_type": "stream",
          "text": [
            "Traceback (most recent call last):\n",
            "  File \"my_app7.py\", line 1, in <module>\n",
            "    import dash\n",
            "ModuleNotFoundError: No module named 'dash'\n"
          ],
          "name": "stdout"
        }
      ]
    },
    {
      "cell_type": "code",
      "metadata": {
        "id": "WRVmQwaGnDHT",
        "colab_type": "code",
        "colab": {}
      },
      "source": [
        "# try individually "
      ],
      "execution_count": 0,
      "outputs": []
    }
  ]
}
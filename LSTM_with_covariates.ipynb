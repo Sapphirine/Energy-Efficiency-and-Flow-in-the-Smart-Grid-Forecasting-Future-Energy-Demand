{
  "nbformat": 4,
  "nbformat_minor": 0,
  "metadata": {
    "colab": {
      "name": "LSTM_with_covariates.ipynb",
      "provenance": [],
      "collapsed_sections": []
    },
    "kernelspec": {
      "name": "python3",
      "display_name": "Python 3"
    }
  },
  "cells": [
    {
      "cell_type": "markdown",
      "metadata": {
        "id": "iizaey74IaSj",
        "colab_type": "text"
      },
      "source": [
        "LSTM model with covariates structured into it"
      ]
    },
    {
      "cell_type": "code",
      "metadata": {
        "id": "u2esntU1E62u",
        "colab_type": "code",
        "outputId": "437bec55-d29e-44f4-cd6e-38fc0dfc7a20",
        "colab": {
          "base_uri": "https://localhost:8080/",
          "height": 125
        }
      },
      "source": [
        "from google.colab import drive\n",
        "drive.mount('/content/gdrive')"
      ],
      "execution_count": 1,
      "outputs": [
        {
          "output_type": "stream",
          "text": [
            "Go to this URL in a browser: https://accounts.google.com/o/oauth2/auth?client_id=947318989803-6bn6qk8qdgf4n4g3pfee6491hc0brc4i.apps.googleusercontent.com&redirect_uri=urn%3aietf%3awg%3aoauth%3a2.0%3aoob&response_type=code&scope=email%20https%3a%2f%2fwww.googleapis.com%2fauth%2fdocs.test%20https%3a%2f%2fwww.googleapis.com%2fauth%2fdrive%20https%3a%2f%2fwww.googleapis.com%2fauth%2fdrive.photos.readonly%20https%3a%2f%2fwww.googleapis.com%2fauth%2fpeopleapi.readonly\n",
            "\n",
            "Enter your authorization code:\n",
            "··········\n",
            "Mounted at /content/gdrive\n"
          ],
          "name": "stdout"
        }
      ]
    },
    {
      "cell_type": "code",
      "metadata": {
        "id": "MWvBA8A6E8px",
        "colab_type": "code",
        "outputId": "25179d97-b9b5-401b-a475-34f6b39b4853",
        "colab": {
          "base_uri": "https://localhost:8080/",
          "height": 34
        }
      },
      "source": [
        "%cd '/content/gdrive/My Drive'"
      ],
      "execution_count": 2,
      "outputs": [
        {
          "output_type": "stream",
          "text": [
            "/content/gdrive/My Drive\n"
          ],
          "name": "stdout"
        }
      ]
    },
    {
      "cell_type": "code",
      "metadata": {
        "id": "KMY27CFBGWOt",
        "colab_type": "code",
        "colab": {}
      },
      "source": [
        "import pandas as pd\n",
        "caisofile= 'CaisoJan19March19windsolarAvg.csv'\n",
        "caiso_dataset = pd.read_csv(caisofile)\n"
      ],
      "execution_count": 0,
      "outputs": []
    },
    {
      "cell_type": "code",
      "metadata": {
        "id": "dbbNq9xpFEWr",
        "colab_type": "code",
        "outputId": "1bba8d5e-2893-4c0b-ce14-8cdc483ed574",
        "colab": {
          "base_uri": "https://localhost:8080/",
          "height": 197
        }
      },
      "source": [
        "caiso_dataset.head()"
      ],
      "execution_count": 0,
      "outputs": [
        {
          "output_type": "execute_result",
          "data": {
            "text/html": [
              "<div>\n",
              "<style scoped>\n",
              "    .dataframe tbody tr th:only-of-type {\n",
              "        vertical-align: middle;\n",
              "    }\n",
              "\n",
              "    .dataframe tbody tr th {\n",
              "        vertical-align: top;\n",
              "    }\n",
              "\n",
              "    .dataframe thead th {\n",
              "        text-align: right;\n",
              "    }\n",
              "</style>\n",
              "<table border=\"1\" class=\"dataframe\">\n",
              "  <thead>\n",
              "    <tr style=\"text-align: right;\">\n",
              "      <th></th>\n",
              "      <th>DateTime</th>\n",
              "      <th>level</th>\n",
              "    </tr>\n",
              "  </thead>\n",
              "  <tbody>\n",
              "    <tr>\n",
              "      <th>0</th>\n",
              "      <td>2019-01-01 00:00:00</td>\n",
              "      <td>-2.333</td>\n",
              "    </tr>\n",
              "    <tr>\n",
              "      <th>1</th>\n",
              "      <td>2019-01-01 01:00:00</td>\n",
              "      <td>-2.333</td>\n",
              "    </tr>\n",
              "    <tr>\n",
              "      <th>2</th>\n",
              "      <td>2019-01-01 02:00:00</td>\n",
              "      <td>-2.333</td>\n",
              "    </tr>\n",
              "    <tr>\n",
              "      <th>3</th>\n",
              "      <td>2019-01-01 03:00:00</td>\n",
              "      <td>-2.667</td>\n",
              "    </tr>\n",
              "    <tr>\n",
              "      <th>4</th>\n",
              "      <td>2019-01-01 04:00:00</td>\n",
              "      <td>-3.000</td>\n",
              "    </tr>\n",
              "  </tbody>\n",
              "</table>\n",
              "</div>"
            ],
            "text/plain": [
              "              DateTime  level\n",
              "0  2019-01-01 00:00:00 -2.333\n",
              "1  2019-01-01 01:00:00 -2.333\n",
              "2  2019-01-01 02:00:00 -2.333\n",
              "3  2019-01-01 03:00:00 -2.667\n",
              "4  2019-01-01 04:00:00 -3.000"
            ]
          },
          "metadata": {
            "tags": []
          },
          "execution_count": 5
        }
      ]
    },
    {
      "cell_type": "code",
      "metadata": {
        "id": "27I3l0adFIP-",
        "colab_type": "code",
        "colab": {}
      },
      "source": [
        "caiso_dataset = caiso_dataset.rename(columns={'ws_forecast (avg) (california_iso)': 'level'})"
      ],
      "execution_count": 0,
      "outputs": []
    },
    {
      "cell_type": "code",
      "metadata": {
        "id": "3bJuygd5Fqyn",
        "colab_type": "code",
        "outputId": "5b078ad8-d663-4a99-bfcc-5f9dde04ca96",
        "colab": {
          "base_uri": "https://localhost:8080/",
          "height": 282
        }
      },
      "source": [
        "caiso_dataset.plot()"
      ],
      "execution_count": 0,
      "outputs": [
        {
          "output_type": "execute_result",
          "data": {
            "text/plain": [
              "<matplotlib.axes._subplots.AxesSubplot at 0x7f83d3680748>"
            ]
          },
          "metadata": {
            "tags": []
          },
          "execution_count": 7
        },
        {
          "output_type": "display_data",
          "data": {
            "image/png": "[encoded data removed]",
            "text/plain": [
              "<Figure size 432x288 with 1 Axes>"
            ]
          },
          "metadata": {
            "tags": []
          }
        }
      ]
    },
    {
      "cell_type": "code",
      "metadata": {
        "id": "Kq7sauc4F6lj",
        "colab_type": "code",
        "outputId": "13a5e37f-1aac-4a5e-b0fa-9fd509eddcbe",
        "colab": {
          "base_uri": "https://localhost:8080/",
          "height": 34
        }
      },
      "source": [
        "import numpy as np\n",
        "np.max(caiso_dataset['level'])\n",
        "# max in order to normalize the prediction accuracy"
      ],
      "execution_count": 0,
      "outputs": [
        {
          "output_type": "execute_result",
          "data": {
            "text/plain": [
              "3017.0"
            ]
          },
          "metadata": {
            "tags": []
          },
          "execution_count": 13
        }
      ]
    },
    {
      "cell_type": "code",
      "metadata": {
        "id": "PXsTaTtAMVwD",
        "colab_type": "code",
        "colab": {}
      },
      "source": [
        "caiso_seq =  caiso_dataset['level']"
      ],
      "execution_count": 0,
      "outputs": []
    },
    {
      "cell_type": "code",
      "metadata": {
        "id": "pr42XMVyM08R",
        "colab_type": "code",
        "colab": {}
      },
      "source": [
        "from numpy import *"
      ],
      "execution_count": 0,
      "outputs": []
    },
    {
      "cell_type": "code",
      "metadata": {
        "id": "uDfWgnaALdri",
        "colab_type": "code",
        "colab": {}
      },
      "source": [
        "\n",
        "# split univar seq into lagged samples\n",
        "# nsteps is the lag value\n",
        "\n",
        "def split_seq(sequence, nsteps):\n",
        "  X, y = list(), list()\n",
        "  for i in range(len(sequence)):\n",
        "    # find end of pattern\n",
        "    end_patt = i + nsteps\n",
        "    if end_patt > len(sequence)-1:\n",
        "      break\n",
        "    seq_x = sequence[i:end_patt]\n",
        "    seq_y = sequence[end_patt]\n",
        "    X.append(seq_x)\n",
        "    y.append(seq_y)\n",
        "    \n",
        "  return array(X), array(y)"
      ],
      "execution_count": 0,
      "outputs": []
    },
    {
      "cell_type": "code",
      "metadata": {
        "id": "JXZsaMe3Mr2M",
        "colab_type": "code",
        "colab": {}
      },
      "source": [
        "caiso_X, caiso_y = split_seq(caiso_seq, 3) # lag value: 3"
      ],
      "execution_count": 0,
      "outputs": []
    },
    {
      "cell_type": "markdown",
      "metadata": {
        "id": "BsKC9s1YCnZc",
        "colab_type": "text"
      },
      "source": [
        "https://machinelearningmastery.com/how-to-develop-lstm-models-for-time-series-forecasting/"
      ]
    },
    {
      "cell_type": "markdown",
      "metadata": {
        "id": "BPoSz1fkKBIb",
        "colab_type": "text"
      },
      "source": [
        "LSTM # 1 \n"
      ]
    },
    {
      "cell_type": "code",
      "metadata": {
        "id": "4KonQppfKAaP",
        "colab_type": "code",
        "colab": {}
      },
      "source": [
        "from keras.models import Sequential\n",
        "from keras.layers import Dense, Activation\n",
        "from keras.layers import LSTM\n",
        "\n",
        "# vanilla LSTM\n",
        "nsteps = 1\n",
        "nfeatures = 3\n",
        "model = Sequential()\n",
        "#model.add(LSTM(50, activation='relu', input_shape=(nfeatures, nsteps))) : for method with train_test_split \n",
        "model.add(LSTM(50, activation='relu', input_shape=(nsteps, nfeatures)))\n",
        "model.add(Dense(1))\n",
        "model.compile(optimizer='adam', loss='mse')"
      ],
      "execution_count": 0,
      "outputs": []
    },
    {
      "cell_type": "code",
      "metadata": {
        "id": "XzLtWVgUlT-d",
        "colab_type": "code",
        "colab": {}
      },
      "source": [
        "X_train, X_test, y_train, y_test = train_test_split(caiso_X, caiso_y, test_size=0.3)"
      ],
      "execution_count": 0,
      "outputs": []
    },
    {
      "cell_type": "code",
      "metadata": {
        "id": "7_J_Ud0rlf6T",
        "colab_type": "code",
        "colab": {}
      },
      "source": [
        "X_train = np.reshape(X_train, (X_train.shape[0], 1, X_train.shape[1]))\n",
        "X_test = np.reshape(X_test, (X_test.shape[0], 1, X_test.shape[1]))"
      ],
      "execution_count": 0,
      "outputs": []
    },
    {
      "cell_type": "code",
      "metadata": {
        "id": "C04KOeUtl4yD",
        "colab_type": "code",
        "colab": {}
      },
      "source": [
        "# vanilla LSTM, diff. dimensions\n",
        "from keras.models import Sequential\n",
        "from keras.layers import Dense, Activation\n",
        "from keras.layers import LSTM\n",
        "\n",
        "# vanilla LSTM\n",
        "nsteps = 3\n",
        "nfeatures = 1\n",
        "vanillamodel = Sequential()\n",
        "#model.add(LSTM(50, activation='relu', input_shape=(nfeatures, nsteps))) : for method with train_test_split \n",
        "vanillamodel.add(LSTM(50, activation='relu', input_shape=(nsteps, nfeatures)))\n",
        "vanillamodel.add(Dense(1))\n",
        "vanillamodel.compile(optimizer='adam', loss='mse')"
      ],
      "execution_count": 0,
      "outputs": []
    },
    {
      "cell_type": "code",
      "metadata": {
        "id": "OGXtsd4bLP2W",
        "colab_type": "code",
        "outputId": "fe6b716a-263a-48ea-f7ab-23290961a76c",
        "colab": {
          "base_uri": "https://localhost:8080/",
          "height": 390
        }
      },
      "source": [
        "Xs = caiso_X\n",
        "ys = caiso_y\n",
        "nfeatures= 1 \n",
        "# reshape X \n",
        "Xs = Xs.reshape((Xs.shape[0], Xs.shape[1], nfeatures))\n",
        "vanillamodel.fit(Xs, ys, epochs=10)"
      ],
      "execution_count": 57,
      "outputs": [
        {
          "output_type": "stream",
          "text": [
            "Epoch 1/10\n",
            "1412/1412 [==============================] - 0s 229us/step - loss: 1030839.8985\n",
            "Epoch 2/10\n",
            "1412/1412 [==============================] - 0s 80us/step - loss: 587568.3038\n",
            "Epoch 3/10\n",
            "1412/1412 [==============================] - 0s 78us/step - loss: 197879.5349\n",
            "Epoch 4/10\n",
            "1412/1412 [==============================] - 0s 73us/step - loss: 131623.1443\n",
            "Epoch 5/10\n",
            "1412/1412 [==============================] - 0s 81us/step - loss: 93741.6869\n",
            "Epoch 6/10\n",
            "1412/1412 [==============================] - 0s 77us/step - loss: 74618.1548\n",
            "Epoch 7/10\n",
            "1412/1412 [==============================] - 0s 75us/step - loss: 51830.4922\n",
            "Epoch 8/10\n",
            "1412/1412 [==============================] - 0s 75us/step - loss: 55257.7074\n",
            "Epoch 9/10\n",
            "1412/1412 [==============================] - 0s 74us/step - loss: 53370.5585\n",
            "Epoch 10/10\n",
            "1412/1412 [==============================] - 0s 74us/step - loss: 38042.0971\n"
          ],
          "name": "stdout"
        },
        {
          "output_type": "execute_result",
          "data": {
            "text/plain": [
              "<keras.callbacks.callbacks.History at 0x7f2740445668>"
            ]
          },
          "metadata": {
            "tags": []
          },
          "execution_count": 57
        }
      ]
    },
    {
      "cell_type": "code",
      "metadata": {
        "id": "VaPu0dKC9VYy",
        "colab_type": "code",
        "colab": {}
      },
      "source": [
        "# demonstrate prediction\n",
        "x_input = array([70, 80, 90]) #100, 110, 120, 130, 140\n",
        "x_input = x_input.reshape((1, nsteps,nfeatures))\n",
        "yhat = model.predict(x_input)"
      ],
      "execution_count": 0,
      "outputs": []
    },
    {
      "cell_type": "code",
      "metadata": {
        "id": "kPpAdpTQNVbe",
        "colab_type": "code",
        "outputId": "1a6cd199-fe55-4870-c776-2fe078c3183e",
        "colab": {
          "base_uri": "https://localhost:8080/",
          "height": 34
        }
      },
      "source": [
        "yhat"
      ],
      "execution_count": 43,
      "outputs": [
        {
          "output_type": "execute_result",
          "data": {
            "text/plain": [
              "array([[1.438202]], dtype=float32)"
            ]
          },
          "metadata": {
            "tags": []
          },
          "execution_count": 43
        }
      ]
    },
    {
      "cell_type": "code",
      "metadata": {
        "id": "00InHeeSN12p",
        "colab_type": "code",
        "outputId": "1a45d9c9-caaf-44a0-a6ab-85a48e9dec2b",
        "colab": {
          "base_uri": "https://localhost:8080/",
          "height": 34
        }
      },
      "source": [
        "root_mean_squared_error(1168.61,2109)"
      ],
      "execution_count": 0,
      "outputs": [
        {
          "output_type": "execute_result",
          "data": {
            "text/plain": [
              "940.3900000000001"
            ]
          },
          "metadata": {
            "tags": []
          },
          "execution_count": 32
        }
      ]
    },
    {
      "cell_type": "markdown",
      "metadata": {
        "id": "0NueUxZwOw74",
        "colab_type": "text"
      },
      "source": [
        "error of forecasted \n",
        "https://machinelearningmastery.com/time-series-forecasting-performance-measures-with-python/\n",
        "\n",
        "https://arxiv.org/pdf/1809.03006.pdf\n"
      ]
    },
    {
      "cell_type": "code",
      "metadata": {
        "id": "PMrsPUQIOrE3",
        "colab_type": "code",
        "outputId": "166318c6-0aeb-4b49-fd9e-0fe515ef8ad5",
        "colab": {
          "base_uri": "https://localhost:8080/",
          "height": 34
        }
      },
      "source": [
        "940.39/3017 # normalize the error"
      ],
      "execution_count": 0,
      "outputs": [
        {
          "output_type": "execute_result",
          "data": {
            "text/plain": [
              "0.31169705004971826"
            ]
          },
          "metadata": {
            "tags": []
          },
          "execution_count": 33
        }
      ]
    },
    {
      "cell_type": "code",
      "metadata": {
        "id": "mfUrl4ZznpN_",
        "colab_type": "code",
        "colab": {}
      },
      "source": [
        "import numpy as np\n",
        "def root_mean_squared_error(y_true, y_pred):\n",
        "  return np.sqrt(np.mean(np.square(y_pred - y_true)))"
      ],
      "execution_count": 0,
      "outputs": []
    },
    {
      "cell_type": "markdown",
      "metadata": {
        "id": "P2EGZJAkNCXl",
        "colab_type": "text"
      },
      "source": [
        "keras: set weights for ea layer:\n",
        "\n",
        "set_weights(weights)"
      ]
    },
    {
      "cell_type": "markdown",
      "metadata": {
        "id": "DCmfajPnAk__",
        "colab_type": "text"
      },
      "source": [
        "LSTM #2 : Stacked LSTM\n",
        "\n",
        "Multiple hidden LSTM layers can be stacked one on top of another = stacked LSTM"
      ]
    },
    {
      "cell_type": "markdown",
      "metadata": {
        "id": "2rwMEGRbGBgz",
        "colab_type": "text"
      },
      "source": [
        "More LSTM parameters: (https://keras.io/layers/recurrent/)\n",
        "\n",
        "use_bias: Boolean, whether the layer uses a bias vector \\\\\n",
        "kernel_initializer  \\\\\n",
        "recurrent_initializer \\\\\n",
        "bias_initializer \\\\\n",
        "unit_forget_bias \\\\\n",
        "\n",
        "kernel_constraint, recurrent_constraint \\\\\n",
        "bias_constraint: Constraint function applied to the bias vector (see constraints).\n",
        "\n",
        "dropout: Float between 0 and 1. Fraction of the units to drop for the linear transformation of the inputs.\n",
        "\n",
        "return_sequences: Boolean. Whether to return the last output in the output sequence, or the full sequence.\n",
        "\n"
      ]
    },
    {
      "cell_type": "code",
      "metadata": {
        "id": "kqzvzLIVAm0F",
        "colab_type": "code",
        "outputId": "fb020ef2-6092-4fe9-dd84-c2b7eead75dd",
        "colab": {
          "base_uri": "https://localhost:8080/",
          "height": 407
        }
      },
      "source": [
        "stacked_model = Sequential()\n",
        "\n",
        "nunits = 50\n",
        "n_steps= 3\n",
        "n_features=1\n",
        "# LSTM ( units,activation, recurrent_activation)\n",
        "# recurrent_activation: Activation function to use for the recurrent step (see activations). Default: hard sigmoid (hard_sigmoid\n",
        "stacked_model.add(LSTM(nunits, activation='relu', return_sequences=True, input_shape=(n_steps, n_features)))\n",
        "stacked_model.add(LSTM(nunits, activation='relu'))\n",
        "stacked_model.add(Dense(1))\n",
        "stacked_model.compile(optimizer='adam', loss='mse')\n",
        "\n",
        "# fit model\n",
        "model.fit(X_train, y_train, validation_data=(X_test, y_test), epochs=10)\n",
        "\n",
        "# prediction sample demonstration\n",
        "x_input = array([70, 80, 90])\n",
        "x_input = x_input.reshape((1, n_features, n_steps))\n",
        "yhat = model.predict(x_input, verbose=0)\n",
        "print(yhat)\n"
      ],
      "execution_count": 54,
      "outputs": [
        {
          "output_type": "stream",
          "text": [
            "Train on 988 samples, validate on 424 samples\n",
            "Epoch 1/10\n",
            "988/988 [==============================] - 0s 61us/step - loss: 27196.4596 - val_loss: 39177.7670\n",
            "Epoch 2/10\n",
            "988/988 [==============================] - 0s 70us/step - loss: 28198.2364 - val_loss: 40617.9303\n",
            "Epoch 3/10\n",
            "988/988 [==============================] - 0s 59us/step - loss: 28286.8205 - val_loss: 43789.8749\n",
            "Epoch 4/10\n",
            "988/988 [==============================] - 0s 58us/step - loss: 30830.5209 - val_loss: 45440.3045\n",
            "Epoch 5/10\n",
            "988/988 [==============================] - 0s 59us/step - loss: 37042.5545 - val_loss: 37127.3047\n",
            "Epoch 6/10\n",
            "988/988 [==============================] - 0s 60us/step - loss: 30452.2900 - val_loss: 47600.5764\n",
            "Epoch 7/10\n",
            "988/988 [==============================] - 0s 70us/step - loss: 33270.3755 - val_loss: 46640.5881\n",
            "Epoch 8/10\n",
            "988/988 [==============================] - 0s 59us/step - loss: 28126.2247 - val_loss: 39480.5425\n",
            "Epoch 9/10\n",
            "988/988 [==============================] - 0s 57us/step - loss: 28892.1070 - val_loss: 43221.1311\n",
            "Epoch 10/10\n",
            "988/988 [==============================] - 0s 58us/step - loss: 30029.4683 - val_loss: 51100.1923\n",
            "[[93.01688]]\n"
          ],
          "name": "stdout"
        }
      ]
    },
    {
      "cell_type": "markdown",
      "metadata": {
        "id": "Nz-syDWyJm2q",
        "colab_type": "text"
      },
      "source": [
        "covariate method 3: try to put it in the last layer  of LSTM\n",
        "\n",
        "Documentation from https://keras.io/getting-started/functional-api-guide/\n",
        "\n",
        "\n"
      ]
    },
    {
      "cell_type": "code",
      "metadata": {
        "id": "Q5N1juOjPq46",
        "colab_type": "code",
        "colab": {}
      },
      "source": [
        "from keras.models import Sequential\n",
        "from keras.layers import Dense, Activation\n",
        "from keras.layers import LSTM\n",
        "from keras.layers import Input, Embedding, LSTM, Dense\n",
        "from keras.models import Model\n",
        "\n",
        "# vanilla LSTM\n",
        "nsteps = 3\n",
        "nfeatures = 1\n",
        "model = Sequential()\n",
        "#model.add(LSTM(50, activation='relu', input_shape=(nfeatures, nsteps))) : for method with train_test_split \n",
        "model.add(LSTM(50, activation='relu', input_shape=(nsteps, nfeatures)))\n",
        "model.add(Dense(1))\n",
        "\n",
        "# sequence of 3 numbers\n",
        "main_input = Input(shape=(3,), dtype='float32', name='main_input')\n",
        "# embedding layer encodes input sequence into seq of d-diml vectors\n",
        "d = 50\n",
        "x_emb = Embedding(output_dim=d, input_dim=3000, input_length=3)(main_input)\n",
        "lstm_out = LSTM(50)(x_emb)\n",
        "\n",
        "auxiliary_output = Dense(1, activation='sigmoid', name='aux_output')(lstm_out)\n",
        "\n",
        "# auxiliary_input is covariates                                                             \n",
        "auxiliary_input= Input(shape=(3,), name='aux_input')\n",
        "\n",
        "layer_aux = keras.layers.concatenate([lstm_out, auxiliary_input])\n",
        "\n",
        "\n",
        "# We stack a deep densely-connected network on top\n",
        "x = Dense(64, activation='relu')(layer_aux)\n",
        "x = Dense(64, activation='relu')(x)\n",
        "x = Dense(64, activation='relu')(x)\n",
        "\n",
        "# And finally we add the main logistic regression layer\n",
        "main_output = Dense(1, activation='sigmoid', name='main_output')(x)\n",
        "\n",
        "model = Model(inputs=[main_input, auxiliary_input], outputs=[main_output, auxiliary_output])\n",
        "\n",
        "model.compile(optimizer='rmsprop', loss='binary_crossentropy', loss_weights=[1., 0.2])\n",
        "#model.compile(optimizer='adam', loss='mse')\n"
      ],
      "execution_count": 0,
      "outputs": []
    },
    {
      "cell_type": "markdown",
      "metadata": {
        "id": "G9SWQWLinsP_",
        "colab_type": "text"
      },
      "source": [
        "bidirectional LsTm\n"
      ]
    },
    {
      "cell_type": "code",
      "metadata": {
        "id": "cL0C_6-7nvp-",
        "colab_type": "code",
        "colab": {
          "base_uri": "https://localhost:8080/",
          "height": 407
        },
        "outputId": "d69f4c8d-fda8-4c22-b413-914e6b83dfb7"
      },
      "source": [
        "from keras.layers import Bidirectional\n",
        "bidir_model = Sequential()\n",
        "n_steps=1\n",
        "n_features =3\n",
        "bidir_model.add(Bidirectional(LSTM(10, activation='relu'), input_shape=(n_steps, n_features)))\n",
        "bidir_model.add(Dense(1))\n",
        "bidir_model.compile(optimizer='adam', loss='mse')\n",
        "\n",
        "\n",
        "# fit model\n",
        "bidir_model.fit(X_train, y_train, validation_data=(X_test, y_test), epochs=10)\n",
        "\n",
        "\n",
        "# prediction sample demonstration\n",
        "x_input = array([70, 80, 90])\n",
        "x_input = x_input.reshape((1, n_steps, n_features))\n",
        "yhat = bidir_model.predict(x_input, verbose=0)\n",
        "print(yhat)\n"
      ],
      "execution_count": 41,
      "outputs": [
        {
          "output_type": "stream",
          "text": [
            "Train on 988 samples, validate on 424 samples\n",
            "Epoch 1/10\n",
            "988/988 [==============================] - 1s 571us/step - loss: 781457.4899 - val_loss: 675370.7406\n",
            "Epoch 2/10\n",
            "988/988 [==============================] - 0s 76us/step - loss: 662117.2315 - val_loss: 552152.1663\n",
            "Epoch 3/10\n",
            "988/988 [==============================] - 0s 74us/step - loss: 543855.9997 - val_loss: 437261.3691\n",
            "Epoch 4/10\n",
            "988/988 [==============================] - 0s 75us/step - loss: 431340.4677 - val_loss: 327326.3449\n",
            "Epoch 5/10\n",
            "988/988 [==============================] - 0s 76us/step - loss: 316356.7516 - val_loss: 212985.2282\n",
            "Epoch 6/10\n",
            "988/988 [==============================] - 0s 72us/step - loss: 179729.5179 - val_loss: 151361.4872\n",
            "Epoch 7/10\n",
            "988/988 [==============================] - 0s 72us/step - loss: 126581.8124 - val_loss: 95367.7286\n",
            "Epoch 8/10\n",
            "988/988 [==============================] - 0s 73us/step - loss: 107348.6276 - val_loss: 108042.3497\n",
            "Epoch 9/10\n",
            "988/988 [==============================] - 0s 74us/step - loss: 93654.7557 - val_loss: 83137.7218\n",
            "Epoch 10/10\n",
            "988/988 [==============================] - 0s 73us/step - loss: 85627.2178 - val_loss: 76682.5028\n",
            "[[80.12668]]\n"
          ],
          "name": "stdout"
        }
      ]
    },
    {
      "cell_type": "code",
      "metadata": {
        "id": "LNisFpzjkDBc",
        "colab_type": "code",
        "colab": {}
      },
      "source": [
        ""
      ],
      "execution_count": 0,
      "outputs": []
    }
  ]
}